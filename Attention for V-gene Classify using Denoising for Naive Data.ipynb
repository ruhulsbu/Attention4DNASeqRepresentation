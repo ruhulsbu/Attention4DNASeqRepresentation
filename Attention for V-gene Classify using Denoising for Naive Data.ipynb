{
 "cells": [
  {
   "cell_type": "code",
   "execution_count": 1,
   "metadata": {
    "collapsed": false
   },
   "outputs": [
    {
     "name": "stderr",
     "output_type": "stream",
     "text": [
      "Using TensorFlow backend.\n"
     ]
    }
   ],
   "source": [
    "import os, sys\n",
    "import random, h5py\n",
    "import numpy as np\n",
    "import keras\n",
    "from keras.models import Sequential\n",
    "from keras.layers import Embedding\n",
    "from keras.layers import Dense\n",
    "from keras.layers import Flatten\n",
    "from keras.layers.recurrent import LSTM\n",
    "from keras.layers import Dropout\n",
    "from keras.layers import Activation\n",
    "from keras.optimizers import SGD\n",
    "\n",
    "#Initialize the Program\n",
    "alphabet = \"NACGT.\"\n",
    "vocab_size = 6\n",
    "batch_size = 1000\n",
    "embedding_size = 4\n",
    "time_steps = 101\n",
    "category = 2\n",
    "char_to_int = dict((c, i) for i, c in enumerate(alphabet))\n",
    "int_to_char = dict((i, c) for i, c in enumerate(alphabet))\n"
   ]
  },
  {
   "cell_type": "code",
   "execution_count": 2,
   "metadata": {
    "collapsed": true
   },
   "outputs": [],
   "source": [
    "def reverse_complement(sequence):\n",
    "    retseq = ''\n",
    "    for k in range(len(sequence)-1, -1, -1):\n",
    "        if sequence[k] == 'A':\n",
    "            retseq = retseq + 'T'\n",
    "        elif sequence[k] == 'T':\n",
    "            retseq = retseq + 'A'\n",
    "        elif sequence[k] == 'C':\n",
    "            retseq = retseq + 'G'\n",
    "        elif sequence[k] == 'G':\n",
    "            retseq = retseq + 'C'\n",
    "        else:\n",
    "            retseq = retseq + sequence[k]\n",
    "\n",
    "    \"\"\"\n",
    "    print(\"Revese:\")\n",
    "    print(sequence)\n",
    "    print(retseq)\n",
    "    print()\n",
    "    \"\"\"\n",
    "    return retseq\n"
   ]
  },
  {
   "cell_type": "code",
   "execution_count": 3,
   "metadata": {
    "collapsed": false
   },
   "outputs": [
    {
     "name": "stdout",
     "output_type": "stream",
     "text": [
      "Preprocessing Data:\n",
      "200000 507 200000\n",
      "200000 58\n"
     ]
    }
   ],
   "source": [
    "print(\"Preprocessing Data:\")\n",
    "file_read = open(\"../imgtvgene_sequence_classification/naive.txt\")\n",
    "\n",
    "source_sequence = []\n",
    "target_sequence = []\n",
    "\n",
    "max_count = 200000\n",
    "max_source_len = 0\n",
    "\n",
    "vgene_tag = []\n",
    "vgene_dic = {}\n",
    "vgenes = 0\n",
    "\n",
    "count = 0\n",
    "\n",
    "line = file_read.readline()\n",
    "for line in file_read:\n",
    "    split = line.strip().split(\" \")\n",
    "    #print(split)\n",
    "    \n",
    "    try:\n",
    "        source = [char_to_int[x] for x in split[2][1:-1]]\n",
    "        if max_source_len < len(source):\n",
    "            max_source_len = len(source)\n",
    "\n",
    "        seq = [char_to_int[x] for x in split[3][1:-1] if x in \"NACGT\"]\n",
    "        target = [x * int(i < len(seq)) for (i, x) in enumerate(source)]\n",
    "        \n",
    "        assert(len(target) == len(source))\n",
    "    except:\n",
    "        print(\"Exceptions\")\n",
    "        continue\n",
    "        \n",
    "    source_sequence.append(source)\n",
    "    target_sequence.append(target)\n",
    "    \n",
    "    vgene_name = split[-1][1:-1].split(\"*\")[0]\n",
    "    #* for Gene /- for Family /No Split for Allele\n",
    "    if not vgene_name in vgene_dic:\n",
    "        vgene_dic[vgene_name] = vgenes\n",
    "        vgenes += 1\n",
    "    vgene_tag.append(vgene_dic[vgene_name])\n",
    "    \n",
    "    count += 1\n",
    "    #print(split[1], vgene_name)\n",
    "    if count == max_count:\n",
    "        break\n",
    "    \n",
    "print(len(source_sequence), max_source_len, len(target_sequence))\n",
    "print(len(vgene_tag), vgenes)\n"
   ]
  },
  {
   "cell_type": "code",
   "execution_count": 4,
   "metadata": {
    "collapsed": false
   },
   "outputs": [
    {
     "data": {
      "image/png": "[encoded data removed]",
      "text/plain": [
       "<matplotlib.figure.Figure at 0x7f86a1d88588>"
      ]
     },
     "metadata": {},
     "output_type": "display_data"
    }
   ],
   "source": [
    "import matplotlib.pyplot as plt\n",
    "\n",
    "plt.hist(vgene_tag)\n",
    "plt.show()\n",
    "\n"
   ]
  },
  {
   "cell_type": "code",
   "execution_count": 5,
   "metadata": {
    "collapsed": false
   },
   "outputs": [
    {
     "data": {
      "text/plain": [
       "array([2, 1, 1, 3, 4, 3, 2, 1, 3, 2, 4, 3, 3, 4, 3, 3, 1, 3, 4, 2, 4, 3,\n",
       "       3, 3, 3, 3, 1, 3, 3, 2, 3, 4, 3, 3, 4, 2, 2, 1, 3, 2, 2, 4, 3, 3,\n",
       "       3, 1, 3, 3, 4, 2, 2, 2, 4, 3, 1, 3, 1, 2, 4, 2, 4, 2, 2, 4, 3, 4,\n",
       "       3, 2, 1, 3, 2, 2, 4, 2, 4, 3, 3, 1, 4, 4, 2, 1, 2, 2, 4, 4, 2, 1,\n",
       "       3, 4, 1, 3, 2, 4, 1, 4, 3, 3, 2, 1, 4, 3, 2, 1, 2, 4, 3, 3, 3, 4,\n",
       "       2, 2, 3, 2, 2, 1, 3, 3, 2, 4, 2, 2, 1, 3, 3, 2, 1, 1, 3, 3, 3, 3,\n",
       "       2, 4, 3, 3, 1, 3, 4, 3, 3, 3, 4, 3, 3, 2, 1, 3, 4, 4, 1, 4, 1, 4,\n",
       "       2, 1, 4, 1, 4, 3, 1, 4, 3, 3, 1, 1, 3, 4, 1, 1, 4, 1, 1, 1, 4, 1,\n",
       "       2, 4, 1, 4, 3, 2, 1, 3, 1, 2, 4, 2, 2, 3, 4, 3, 1, 1, 3, 3, 3, 2,\n",
       "       2, 3, 1, 4, 4, 2, 1, 2, 2, 1, 4, 2, 4, 2, 2, 1, 3, 1, 3, 1, 2, 1,\n",
       "       1, 4, 4, 2, 2, 1, 1, 3, 1, 1, 2, 1, 2, 3, 2, 4, 3, 4, 1, 4, 2, 4,\n",
       "       3, 2, 1, 1, 1, 4, 3, 1, 1, 2, 1, 3, 2, 2, 4, 3, 1, 3, 1, 3, 2, 4,\n",
       "       3, 1, 3, 3, 1, 2, 1, 2, 3, 3, 2, 4, 3, 4, 3, 4, 1, 4, 4, 1, 2, 4,\n",
       "       3, 4, 3, 2, 3, 1, 1, 1, 3, 1, 4, 1, 1, 1, 2, 4, 1, 1, 4, 1, 3, 4,\n",
       "       3, 3, 3, 1, 3, 2, 4, 1, 2, 4, 3, 3, 1, 3, 2, 3, 4, 3, 3, 1, 1, 2,\n",
       "       4, 3, 3, 4, 4, 2, 3, 1, 2, 2, 2, 2, 4, 3, 3, 3, 3, 2, 2, 1, 3, 3,\n",
       "       3, 1, 1, 2, 2, 2, 4, 3, 3, 4, 2, 1, 2, 2, 3, 4, 2, 4, 2, 2, 4, 2,\n",
       "       1, 3])"
      ]
     },
     "execution_count": 5,
     "metadata": {},
     "output_type": "execute_result"
    }
   ],
   "source": [
    "np.array(source)"
   ]
  },
  {
   "cell_type": "code",
   "execution_count": 6,
   "metadata": {
    "collapsed": false
   },
   "outputs": [
    {
     "data": {
      "text/plain": [
       "array([2, 1, 1, 3, 4, 3, 2, 1, 3, 2, 4, 3, 3, 4, 3, 3, 1, 3, 4, 2, 4, 3,\n",
       "       3, 3, 3, 3, 1, 3, 3, 2, 3, 4, 3, 3, 4, 2, 2, 1, 3, 2, 2, 4, 3, 3,\n",
       "       3, 1, 3, 3, 4, 2, 2, 2, 4, 3, 1, 3, 1, 2, 4, 2, 4, 2, 2, 4, 3, 4,\n",
       "       3, 2, 1, 3, 2, 2, 4, 2, 4, 3, 3, 1, 4, 4, 2, 1, 2, 2, 4, 4, 2, 1,\n",
       "       3, 4, 1, 3, 2, 4, 1, 4, 3, 3, 2, 1, 4, 3, 2, 1, 2, 4, 3, 3, 3, 4,\n",
       "       2, 2, 3, 2, 2, 1, 3, 3, 2, 4, 2, 2, 1, 3, 3, 2, 1, 1, 3, 3, 3, 3,\n",
       "       2, 4, 3, 3, 1, 3, 4, 3, 3, 3, 4, 3, 3, 2, 1, 3, 4, 4, 1, 4, 1, 4,\n",
       "       2, 1, 4, 1, 4, 3, 1, 4, 3, 3, 1, 1, 3, 4, 1, 1, 4, 1, 1, 1, 4, 1,\n",
       "       2, 4, 1, 4, 3, 2, 1, 3, 1, 2, 4, 2, 2, 3, 4, 3, 1, 1, 3, 3, 3, 2,\n",
       "       2, 3, 1, 4, 4, 2, 1, 2, 2, 1, 4, 2, 4, 2, 2, 1, 3, 1, 3, 1, 2, 1,\n",
       "       1, 4, 4, 2, 2, 1, 1, 3, 1, 1, 2, 1, 2, 3, 2, 4, 3, 4, 1, 4, 2, 4,\n",
       "       3, 2, 1, 1, 1, 4, 3, 1, 1, 2, 1, 3, 2, 2, 4, 3, 1, 3, 1, 3, 2, 4,\n",
       "       3, 1, 3, 3, 1, 2, 1, 2, 3, 3, 2, 4, 3, 4, 3, 4, 1, 4, 4, 1, 2, 4,\n",
       "       3, 4, 3, 2, 3, 1, 1, 1, 3, 1, 0, 0, 0, 0, 0, 0, 0, 0, 0, 0, 0, 0,\n",
       "       0, 0, 0, 0, 0, 0, 0, 0, 0, 0, 0, 0, 0, 0, 0, 0, 0, 0, 0, 0, 0, 0,\n",
       "       0, 0, 0, 0, 0, 0, 0, 0, 0, 0, 0, 0, 0, 0, 0, 0, 0, 0, 0, 0, 0, 0,\n",
       "       0, 0, 0, 0, 0, 0, 0, 0, 0, 0, 0, 0, 0, 0, 0, 0, 0, 0, 0, 0, 0, 0,\n",
       "       0, 0])"
      ]
     },
     "execution_count": 6,
     "metadata": {},
     "output_type": "execute_result"
    }
   ],
   "source": [
    "np.array(target)"
   ]
  },
  {
   "cell_type": "code",
   "execution_count": 7,
   "metadata": {
    "collapsed": false
   },
   "outputs": [
    {
     "name": "stdout",
     "output_type": "stream",
     "text": [
      "200000 200000 200000\n",
      "(200000, 507) (200000, 58) (200000, 507)\n"
     ]
    }
   ],
   "source": [
    "from keras.utils import to_categorical\n",
    "from keras.preprocessing.sequence import pad_sequences\n",
    "\n",
    "source_data = pad_sequences(source_sequence, maxlen=max_source_len, padding='post', value=0)\n",
    "classes = to_categorical(vgene_tag)\n",
    "target_data = pad_sequences(target_sequence, maxlen=max_source_len, padding='post', value=0)\n",
    "\n",
    "print(len(source_sequence), len(vgene_tag), len(target_sequence))\n",
    "print(source_data.shape, classes.shape, target_data.shape)"
   ]
  },
  {
   "cell_type": "code",
   "execution_count": 8,
   "metadata": {
    "collapsed": false
   },
   "outputs": [
    {
     "data": {
      "text/plain": [
       "array([2, 1, 3, 3, 4, 1, 2, 1, 3, 2, 4, 3, 2, 1, 3, 3, 1, 3, 4, 2, 3, 3,\n",
       "       3, 2, 2, 2, 1, 3, 3, 1, 2, 4, 3, 3, 4, 3, 1, 1, 3, 2, 2, 4, 4, 2,\n",
       "       3, 3, 1, 2, 1, 2, 2, 2, 4, 3, 4, 2, 2, 2, 4, 2, 1, 2, 2, 4, 3, 2,\n",
       "       3, 2, 4, 3, 4, 2, 4, 2, 4, 3, 3, 4, 4, 1, 2, 4, 2, 2, 1, 4, 2, 1,\n",
       "       3, 2, 1, 3, 4, 1, 3, 4, 1, 1, 2, 4, 3, 3, 4, 3, 3, 3, 3, 2, 4, 3,\n",
       "       3, 1, 4, 2, 2, 3, 3, 2, 1, 3, 2, 2, 2, 2, 2, 1, 3, 3, 3, 1, 1, 3,\n",
       "       3, 3, 1, 2, 4, 3, 3, 1, 3, 4, 3, 3, 1, 4, 4, 3, 3, 3, 4, 1, 2, 1,\n",
       "       4, 2, 4, 1, 4, 4, 1, 4, 1, 3, 4, 3, 3, 3, 1, 3, 2, 1, 2, 2, 4, 1,\n",
       "       2, 4, 1, 2, 1, 1, 2, 2, 2, 3, 4, 2, 2, 2, 4, 2, 1, 1, 3, 1, 3, 4,\n",
       "       2, 3, 1, 3, 4, 2, 1, 2, 2, 1, 4, 3, 4, 2, 1, 3, 4, 1, 3, 1, 2, 1,\n",
       "       2, 3, 4, 2, 2, 1, 1, 3, 1, 1, 2, 2, 1, 3, 4, 4, 2, 4, 2, 2, 2, 4,\n",
       "       3, 1, 1, 3, 2, 4, 3, 1, 3, 2, 4, 2, 4, 3, 4, 3, 1, 2, 2, 3, 2, 2,\n",
       "       3, 4, 3, 3, 1, 2, 1, 2, 3, 3, 2, 2, 3, 4, 3, 4, 1, 4, 4, 1, 2, 4,\n",
       "       3, 4, 3, 2, 3, 1, 3, 1, 1, 1, 1, 3, 3, 4, 1, 2, 4, 2, 3, 2, 3, 3,\n",
       "       3, 3, 3, 1, 4, 2, 2, 4, 4, 2, 3, 1, 4, 2, 4, 2, 4, 3, 3, 3, 3, 2,\n",
       "       2, 3, 4, 3, 3, 2, 1, 2, 2, 2, 4, 3, 3, 4, 2, 1, 2, 4, 3, 4, 2, 4,\n",
       "       2, 2, 4, 2, 1, 3, 0, 0, 0, 0, 0, 0, 0, 0, 0, 0, 0, 0, 0, 0, 0, 0,\n",
       "       0, 0, 0, 0, 0, 0, 0, 0, 0, 0, 0, 0, 0, 0, 0, 0, 0, 0, 0, 0, 0, 0,\n",
       "       0, 0, 0, 0, 0, 0, 0, 0, 0, 0, 0, 0, 0, 0, 0, 0, 0, 0, 0, 0, 0, 0,\n",
       "       0, 0, 0, 0, 0, 0, 0, 0, 0, 0, 0, 0, 0, 0, 0, 0, 0, 0, 0, 0, 0, 0,\n",
       "       0, 0, 0, 0, 0, 0, 0, 0, 0, 0, 0, 0, 0, 0, 0, 0, 0, 0, 0, 0, 0, 0,\n",
       "       0, 0, 0, 0, 0, 0, 0, 0, 0, 0, 0, 0, 0, 0, 0, 0, 0, 0, 0, 0, 0, 0,\n",
       "       0, 0, 0, 0, 0, 0, 0, 0, 0, 0, 0, 0, 0, 0, 0, 0, 0, 0, 0, 0, 0, 0,\n",
       "       0], dtype=int32)"
      ]
     },
     "execution_count": 8,
     "metadata": {},
     "output_type": "execute_result"
    }
   ],
   "source": [
    "source_data[0]"
   ]
  },
  {
   "cell_type": "code",
   "execution_count": 9,
   "metadata": {
    "collapsed": false
   },
   "outputs": [
    {
     "data": {
      "text/plain": [
       "array([2, 1, 3, 3, 4, 1, 2, 1, 3, 2, 4, 3, 2, 1, 3, 3, 1, 3, 4, 2, 3, 3,\n",
       "       3, 2, 2, 2, 1, 3, 3, 1, 2, 4, 3, 3, 4, 3, 1, 1, 3, 2, 2, 4, 4, 2,\n",
       "       3, 3, 1, 2, 1, 2, 2, 2, 4, 3, 4, 2, 2, 2, 4, 2, 1, 2, 2, 4, 3, 2,\n",
       "       3, 2, 4, 3, 4, 2, 4, 2, 4, 3, 3, 4, 4, 1, 2, 4, 2, 2, 1, 4, 2, 1,\n",
       "       3, 2, 1, 3, 4, 1, 3, 4, 1, 1, 2, 4, 3, 3, 4, 3, 3, 3, 3, 2, 4, 3,\n",
       "       3, 1, 4, 2, 2, 3, 3, 2, 1, 3, 2, 2, 2, 2, 2, 1, 3, 3, 3, 1, 1, 3,\n",
       "       3, 3, 1, 2, 4, 3, 3, 1, 3, 4, 3, 3, 1, 4, 4, 3, 3, 3, 4, 1, 2, 1,\n",
       "       4, 2, 4, 1, 4, 4, 1, 4, 1, 3, 4, 3, 3, 3, 1, 3, 2, 1, 2, 2, 4, 1,\n",
       "       2, 4, 1, 2, 1, 1, 2, 2, 2, 3, 4, 2, 2, 2, 4, 2, 1, 1, 3, 1, 3, 4,\n",
       "       2, 3, 1, 3, 4, 2, 1, 2, 2, 1, 4, 3, 4, 2, 1, 3, 4, 1, 3, 1, 2, 1,\n",
       "       2, 3, 4, 2, 2, 1, 1, 3, 1, 1, 2, 2, 1, 3, 4, 4, 2, 4, 2, 2, 2, 4,\n",
       "       3, 1, 1, 3, 2, 4, 3, 1, 3, 2, 4, 2, 4, 3, 4, 3, 1, 2, 2, 3, 2, 2,\n",
       "       3, 4, 3, 3, 1, 2, 1, 2, 3, 3, 2, 2, 3, 4, 3, 4, 1, 4, 4, 1, 2, 4,\n",
       "       3, 4, 3, 2, 3, 1, 3, 1, 1, 1, 0, 0, 0, 0, 0, 0, 0, 0, 0, 0, 0, 0,\n",
       "       0, 0, 0, 0, 0, 0, 0, 0, 0, 0, 0, 0, 0, 0, 0, 0, 0, 0, 0, 0, 0, 0,\n",
       "       0, 0, 0, 0, 0, 0, 0, 0, 0, 0, 0, 0, 0, 0, 0, 0, 0, 0, 0, 0, 0, 0,\n",
       "       0, 0, 0, 0, 0, 0, 0, 0, 0, 0, 0, 0, 0, 0, 0, 0, 0, 0, 0, 0, 0, 0,\n",
       "       0, 0, 0, 0, 0, 0, 0, 0, 0, 0, 0, 0, 0, 0, 0, 0, 0, 0, 0, 0, 0, 0,\n",
       "       0, 0, 0, 0, 0, 0, 0, 0, 0, 0, 0, 0, 0, 0, 0, 0, 0, 0, 0, 0, 0, 0,\n",
       "       0, 0, 0, 0, 0, 0, 0, 0, 0, 0, 0, 0, 0, 0, 0, 0, 0, 0, 0, 0, 0, 0,\n",
       "       0, 0, 0, 0, 0, 0, 0, 0, 0, 0, 0, 0, 0, 0, 0, 0, 0, 0, 0, 0, 0, 0,\n",
       "       0, 0, 0, 0, 0, 0, 0, 0, 0, 0, 0, 0, 0, 0, 0, 0, 0, 0, 0, 0, 0, 0,\n",
       "       0, 0, 0, 0, 0, 0, 0, 0, 0, 0, 0, 0, 0, 0, 0, 0, 0, 0, 0, 0, 0, 0,\n",
       "       0], dtype=int32)"
      ]
     },
     "execution_count": 9,
     "metadata": {},
     "output_type": "execute_result"
    }
   ],
   "source": [
    "target_data[0]"
   ]
  },
  {
   "cell_type": "code",
   "execution_count": 10,
   "metadata": {
    "collapsed": false
   },
   "outputs": [
    {
     "name": "stdout",
     "output_type": "stream",
     "text": [
      "4 4\n",
      "[[0. 0. 1. 0. 0. 0.]\n",
      " [0. 1. 0. 0. 0. 0.]\n",
      " [0. 0. 0. 1. 0. 0.]\n",
      " ...\n",
      " [1. 0. 0. 0. 0. 0.]\n",
      " [1. 0. 0. 0. 0. 0.]\n",
      " [1. 0. 0. 0. 0. 0.]]\n",
      "[[0. 0. 1. 0. 0. 0.]\n",
      " [0. 1. 0. 0. 0. 0.]\n",
      " [0. 0. 0. 1. 0. 0.]\n",
      " ...\n",
      " [1. 0. 0. 0. 0. 0.]\n",
      " [1. 0. 0. 0. 0. 0.]\n",
      " [1. 0. 0. 0. 0. 0.]]\n"
     ]
    }
   ],
   "source": [
    "def one_hot_encode(sequence, n_unique):\n",
    "    encoding = np.zeros((len(sequence), n_unique))\n",
    "    \n",
    "    for i in range(len(sequence)):\n",
    "        encoding[i][sequence[i]] = 1\n",
    "    \n",
    "    return encoding\n",
    "\n",
    "print(max(source_data[0]), max(target_data[0]))\n",
    "print(one_hot_encode(source_data[0], vocab_size))\n",
    "print(one_hot_encode(target_data[0], vocab_size))"
   ]
  },
  {
   "cell_type": "code",
   "execution_count": 11,
   "metadata": {
    "collapsed": false
   },
   "outputs": [
    {
     "name": "stdout",
     "output_type": "stream",
     "text": [
      "(200000, 507, 5)\n"
     ]
    }
   ],
   "source": [
    "source_encoded = np.array([one_hot_encode(seq, vocab_size-1) for seq in source_data[:]])\n",
    "print(source_encoded.shape)\n",
    "    "
   ]
  },
  {
   "cell_type": "code",
   "execution_count": 12,
   "metadata": {
    "collapsed": false
   },
   "outputs": [
    {
     "data": {
      "text/plain": [
       "array([[0., 0., 1., 0., 0.],\n",
       "       [0., 1., 0., 0., 0.],\n",
       "       [0., 0., 0., 1., 0.],\n",
       "       ...,\n",
       "       [1., 0., 0., 0., 0.],\n",
       "       [1., 0., 0., 0., 0.],\n",
       "       [1., 0., 0., 0., 0.]])"
      ]
     },
     "execution_count": 12,
     "metadata": {},
     "output_type": "execute_result"
    }
   ],
   "source": [
    "source_encoded[0]"
   ]
  },
  {
   "cell_type": "code",
   "execution_count": 13,
   "metadata": {
    "collapsed": false
   },
   "outputs": [
    {
     "name": "stdout",
     "output_type": "stream",
     "text": [
      "(200000, 507, 5)\n"
     ]
    }
   ],
   "source": [
    "target_encoded = np.array([one_hot_encode(seq, vocab_size-1) for seq in target_data[:]])\n",
    "print(target_encoded.shape)\n",
    "    "
   ]
  },
  {
   "cell_type": "code",
   "execution_count": 14,
   "metadata": {
    "collapsed": false
   },
   "outputs": [
    {
     "data": {
      "text/plain": [
       "array([[0., 0., 1., 0., 0.],\n",
       "       [0., 1., 0., 0., 0.],\n",
       "       [0., 0., 0., 1., 0.],\n",
       "       ...,\n",
       "       [1., 0., 0., 0., 0.],\n",
       "       [1., 0., 0., 0., 0.],\n",
       "       [1., 0., 0., 0., 0.]])"
      ]
     },
     "execution_count": 14,
     "metadata": {},
     "output_type": "execute_result"
    }
   ],
   "source": [
    "target_encoded[0]"
   ]
  },
  {
   "cell_type": "code",
   "execution_count": 15,
   "metadata": {
    "collapsed": false
   },
   "outputs": [
    {
     "data": {
      "text/plain": [
       "array([[1., 0., 0., ..., 0., 0., 0.],\n",
       "       [0., 1., 0., ..., 0., 0., 0.],\n",
       "       [0., 1., 0., ..., 0., 0., 0.],\n",
       "       ...,\n",
       "       [0., 0., 0., ..., 0., 0., 0.],\n",
       "       [0., 0., 0., ..., 0., 0., 0.],\n",
       "       [0., 0., 0., ..., 0., 0., 0.]])"
      ]
     },
     "execution_count": 15,
     "metadata": {},
     "output_type": "execute_result"
    }
   ],
   "source": [
    "classes"
   ]
  },
  {
   "cell_type": "code",
   "execution_count": 16,
   "metadata": {
    "collapsed": false
   },
   "outputs": [
    {
     "name": "stdout",
     "output_type": "stream",
     "text": [
      "200000.0 200000\n"
     ]
    }
   ],
   "source": [
    "print(sum(sum(classes[:])), len(classes))"
   ]
  },
  {
   "cell_type": "markdown",
   "metadata": {},
   "source": [
    "# Baseline Model"
   ]
  },
  {
   "cell_type": "code",
   "execution_count": 17,
   "metadata": {
    "collapsed": false
   },
   "outputs": [],
   "source": [
    "# define the encoder-decoder model\n",
    "def baseline_model(n_timesteps_in, n_features, n_classes):\n",
    "    model = Sequential()\n",
    "    #model.add(LSTM(5, input_shape=(n_timesteps_in, n_features), return_sequences=True))\n",
    "    #model.add(LSTM(150, return_sequences=True))\n",
    "    model.add(Flatten(input_shape=(n_timesteps_in, n_features)))\n",
    "    \n",
    "    model.add(Dropout(0.25))\n",
    "    model.add(Dense(1024, activation='relu'))\n",
    "    model.add(Dropout(0.25))\n",
    "    model.add(Dense(512, activation='relu'))\n",
    "    model.add(Dropout(0.25))\n",
    "    model.add(Dense(256, activation='relu'))\n",
    "    model.add(Dropout(0.25))\n",
    "    \n",
    "    model.add(Dense(n_classes, activation='softmax'))\n",
    "    model.compile(loss='categorical_crossentropy', optimizer='adam', metrics=['acc'])\n",
    "    model.summary()\n",
    "    return model\n"
   ]
  },
  {
   "cell_type": "code",
   "execution_count": 18,
   "metadata": {
    "collapsed": false,
    "scrolled": true
   },
   "outputs": [
    {
     "name": "stdout",
     "output_type": "stream",
     "text": [
      "Train...\n",
      "_________________________________________________________________\n",
      "Layer (type)                 Output Shape              Param #   \n",
      "=================================================================\n",
      "flatten_1 (Flatten)          (None, 2535)              0         \n",
      "_________________________________________________________________\n",
      "dropout_1 (Dropout)          (None, 2535)              0         \n",
      "_________________________________________________________________\n",
      "dense_1 (Dense)              (None, 1024)              2596864   \n",
      "_________________________________________________________________\n",
      "dropout_2 (Dropout)          (None, 1024)              0         \n",
      "_________________________________________________________________\n",
      "dense_2 (Dense)              (None, 512)               524800    \n",
      "_________________________________________________________________\n",
      "dropout_3 (Dropout)          (None, 512)               0         \n",
      "_________________________________________________________________\n",
      "dense_3 (Dense)              (None, 256)               131328    \n",
      "_________________________________________________________________\n",
      "dropout_4 (Dropout)          (None, 256)               0         \n",
      "_________________________________________________________________\n",
      "dense_4 (Dense)              (None, 58)                14906     \n",
      "=================================================================\n",
      "Total params: 3,267,898\n",
      "Trainable params: 3,267,898\n",
      "Non-trainable params: 0\n",
      "_________________________________________________________________\n",
      "Train on 100000 samples, validate on 100000 samples\n",
      "Epoch 1/3\n",
      " - 56s - loss: 0.1434 - acc: 0.9602 - val_loss: 0.1734 - val_acc: 0.9617\n",
      "Epoch 2/3\n",
      " - 55s - loss: 0.0315 - acc: 0.9915 - val_loss: 0.1557 - val_acc: 0.9673\n",
      "Epoch 3/3\n",
      " - 55s - loss: 0.0261 - acc: 0.9929 - val_loss: 0.1464 - val_acc: 0.9761\n",
      "\n"
     ]
    },
    {
     "data": {
      "text/plain": [
       "<keras.callbacks.History at 0x7f86072d3710>"
      ]
     },
     "execution_count": 18,
     "metadata": {},
     "output_type": "execute_result"
    }
   ],
   "source": [
    "from random import randint\n",
    "from numpy import array\n",
    "from numpy import argmax\n",
    "from numpy import array_equal\n",
    "from keras.models import Sequential\n",
    "from keras.layers import LSTM\n",
    "from keras.layers import Dense\n",
    "from keras.layers import TimeDistributed\n",
    "from keras.layers import RepeatVector\n",
    "from custom_recurrents import AttentionDecoder\n",
    "from keras_tqdm import TQDMNotebookCallback\n",
    "\n",
    "print('Train...')\n",
    "\n",
    "train_data_size = 100000\n",
    "test_source_len = max_source_len\n",
    "model = baseline_model(test_source_len, vocab_size-1, len(classes[0]))\n",
    "\n",
    "model.fit(target_encoded[:train_data_size, :test_source_len, :], \\\n",
    "          classes[:train_data_size], callbacks=[TQDMNotebookCallback()], \\\n",
    "          validation_data=(source_encoded[train_data_size:, :test_source_len, :], \\\n",
    "          classes[train_data_size:]), batch_size=100, epochs=3, verbose=2)"
   ]
  },
  {
   "cell_type": "markdown",
   "metadata": {},
   "source": [
    "# Attention Layer"
   ]
  },
  {
   "cell_type": "code",
   "execution_count": 19,
   "metadata": {
    "collapsed": false
   },
   "outputs": [],
   "source": [
    "MAX_LEN = max_source_len # maximum sequence length\n",
    "DIM_ENC = 5 # dimension of a one-hot encoded vector (e.g., 4 (sequence) x 4 (structure) = 16)\n",
    "DIM_LSTM1 = 16\n",
    "DIM_LSTM2 = 16\n",
    "DIM_DENSE1 = 256\n",
    "DMI_DENSE2 = 128\n",
    "N_CLASSES = len(classes[0])"
   ]
  },
  {
   "cell_type": "code",
   "execution_count": 20,
   "metadata": {
    "collapsed": false
   },
   "outputs": [],
   "source": [
    "from keras.layers import Input\n",
    "from keras.layers import Embedding\n",
    "from keras.layers import Masking\n",
    "from keras.layers import Reshape, Dense\n",
    "from keras.models import Model\n",
    "from deepMiRGene import SoftAttention\n",
    "\n",
    "# define the encoder-decoder with attention model\n",
    "def attention_model(MAX_LEN, N_CLASSES, DIM_ENC=5, \\\n",
    "                    DIM_LSTM1=16, DIM_LSTM2=16, \\\n",
    "                    DIM_DENSE1=256, DMI_DENSE2=128):\n",
    "    \n",
    "    inputs = Input(shape=(MAX_LEN,DIM_ENC), name='inputs')\n",
    "    msk = Masking(mask_value=0)(inputs)\n",
    "    lstm1 = LSTM(DIM_LSTM1, return_sequences=True, dropout=0.1, recurrent_dropout=0.1)(msk)\n",
    "    lstm2 = LSTM(DIM_LSTM2, return_sequences=True, dropout=0.1, recurrent_dropout=0.1)(lstm1)\n",
    "\n",
    "    att, pv = SoftAttention(lstm2)(lstm2)\n",
    "\n",
    "    do1 = Dropout(0.1)(att)\n",
    "    dense1 = Dense(DIM_DENSE1,activation='sigmoid')(do1)\n",
    "    do2 = Dropout(0.1)(dense1)\n",
    "    dense2 = Dense(DMI_DENSE2,activation='sigmoid')(do2)\n",
    "    outputs = Dense(N_CLASSES,activation='softmax')(dense2)\n",
    "\n",
    "    model=Model(outputs=outputs, inputs=inputs)\n",
    "    model.compile(optimizer='adam', loss='categorical_crossentropy', metrics=['acc'])\n",
    "    model.summary()\n",
    "    return model\n",
    "\n",
    "\n"
   ]
  },
  {
   "cell_type": "code",
   "execution_count": 21,
   "metadata": {
    "collapsed": false
   },
   "outputs": [
    {
     "name": "stdout",
     "output_type": "stream",
     "text": [
      "Train...\n",
      "Mask:  Tensor(\"masking_1/Any_1:0\", shape=(?, 507), dtype=bool)\n",
      "Cast:  Tensor(\"soft_attention_1/Cast:0\", shape=(?, 507), dtype=float32)\n",
      "Return PT\n",
      "Vector:  Tensor(\"soft_attention_1/mul_1:0\", shape=(?, 507), dtype=float32)\n",
      "Vector:  Tensor(\"soft_attention_1/ExpandDims:0\", shape=(?, 507, 1), dtype=float32)\n",
      "Object:  Tensor(\"lstm_2/transpose_2:0\", shape=(?, ?, 16), dtype=float32) (None, 507, 16)\n",
      "_________________________________________________________________\n",
      "Layer (type)                 Output Shape              Param #   \n",
      "=================================================================\n",
      "inputs (InputLayer)          (None, 507, 5)            0         \n",
      "_________________________________________________________________\n",
      "masking_1 (Masking)          (None, 507, 5)            0         \n",
      "_________________________________________________________________\n",
      "lstm_1 (LSTM)                (None, 507, 16)           1408      \n",
      "_________________________________________________________________\n",
      "lstm_2 (LSTM)                (None, 507, 16)           2112      \n",
      "_________________________________________________________________\n",
      "soft_attention_1 (SoftAttent [(None, 8112), (None, 507 17        \n",
      "_________________________________________________________________\n",
      "dropout_5 (Dropout)          (None, 8112)              0         \n",
      "_________________________________________________________________\n",
      "dense_5 (Dense)              (None, 256)               2076928   \n",
      "_________________________________________________________________\n",
      "dropout_6 (Dropout)          (None, 256)               0         \n",
      "_________________________________________________________________\n",
      "dense_6 (Dense)              (None, 128)               32896     \n",
      "_________________________________________________________________\n",
      "dense_7 (Dense)              (None, 58)                7482      \n",
      "=================================================================\n",
      "Total params: 2,120,843\n",
      "Trainable params: 2,120,843\n",
      "Non-trainable params: 0\n",
      "_________________________________________________________________\n",
      "Train on 100000 samples, validate on 100000 samples\n",
      "Epoch 1/10\n",
      " - 1433s - loss: 1.6397 - acc: 0.5694 - val_loss: 0.3578 - val_acc: 0.8954\n",
      "Epoch 2/10\n",
      " - 1386s - loss: 0.3868 - acc: 0.9049 - val_loss: 0.1686 - val_acc: 0.9538\n",
      "Epoch 3/10\n",
      " - 1386s - loss: 0.1719 - acc: 0.9587 - val_loss: 0.1822 - val_acc: 0.9484\n",
      "Epoch 4/10\n",
      " - 1379s - loss: 0.1097 - acc: 0.9737 - val_loss: 0.1306 - val_acc: 0.9629\n",
      "Epoch 5/10\n",
      " - 1384s - loss: 0.0790 - acc: 0.9815 - val_loss: 0.1308 - val_acc: 0.9624\n",
      "Epoch 6/10\n",
      " - 1386s - loss: 0.0620 - acc: 0.9854 - val_loss: 0.2249 - val_acc: 0.9402\n",
      "Epoch 7/10\n",
      " - 1477s - loss: 0.0507 - acc: 0.9883 - val_loss: 0.1376 - val_acc: 0.9660\n",
      "Epoch 8/10\n",
      " - 1418s - loss: 0.0439 - acc: 0.9900 - val_loss: 0.1555 - val_acc: 0.9543\n",
      "Epoch 9/10\n",
      " - 1438s - loss: 0.0384 - acc: 0.9910 - val_loss: 0.1007 - val_acc: 0.9724\n",
      "Epoch 10/10\n",
      " - 1459s - loss: 0.0336 - acc: 0.9921 - val_loss: 0.0698 - val_acc: 0.9746\n",
      "\n"
     ]
    },
    {
     "data": {
      "text/plain": [
       "<keras.callbacks.History at 0x7f839c671f28>"
      ]
     },
     "execution_count": 21,
     "metadata": {},
     "output_type": "execute_result"
    }
   ],
   "source": [
    "from random import randint\n",
    "from numpy import array\n",
    "from numpy import argmax\n",
    "from numpy import array_equal\n",
    "from keras.models import Sequential\n",
    "from keras.layers import LSTM\n",
    "from keras.layers import Dense\n",
    "from keras.layers import TimeDistributed\n",
    "from keras.layers import RepeatVector\n",
    "from custom_recurrents import AttentionDecoder\n",
    "from keras_tqdm import TQDMNotebookCallback\n",
    "\n",
    "print('Train...')\n",
    "\n",
    "train_data_size = 100000\n",
    "test_source_len = max_source_len\n",
    "model = attention_model(MAX_LEN, N_CLASSES)\n",
    "\n",
    "model.fit(target_encoded[:train_data_size, :test_source_len, :], \\\n",
    "          classes[:train_data_size], callbacks=[TQDMNotebookCallback()], \\\n",
    "          validation_data=(source_encoded[train_data_size:, :test_source_len, :], \\\n",
    "          classes[train_data_size:]), batch_size=100, epochs=10, verbose=2)"
   ]
  },
  {
   "cell_type": "code",
   "execution_count": null,
   "metadata": {
    "collapsed": true
   },
   "outputs": [],
   "source": []
  }
 ],
 "metadata": {
  "kernelspec": {
   "display_name": "Python 3",
   "language": "python",
   "name": "python3"
  },
  "language_info": {
   "codemirror_mode": {
    "name": "ipython",
    "version": 3
   },
   "file_extension": ".py",
   "mimetype": "text/x-python",
   "name": "python",
   "nbconvert_exporter": "python",
   "pygments_lexer": "ipython3",
   "version": "3.6.0"
  },
  "widgets": {
   "state": {
    "1b0b4914d4db40399bbb1b449244605d": {
     "views": [
      {
       "cell_index": 18
      }
     ]
    },
    "2b62b25b03624c18a5a348f16ad3866d": {
     "views": [
      {
       "cell_index": 23
      }
     ]
    },
    "6dc078e6b8d24262bc918e5875539df4": {
     "views": [
      {
       "cell_index": 22
      }
     ]
    }
   },
   "version": "1.2.0"
  }
 },
 "nbformat": 4,
 "nbformat_minor": 2
}
