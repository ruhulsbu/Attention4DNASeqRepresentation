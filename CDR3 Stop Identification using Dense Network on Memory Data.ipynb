{
 "cells": [
  {
   "cell_type": "code",
   "execution_count": 1,
   "metadata": {
    "collapsed": false
   },
   "outputs": [
    {
     "name": "stderr",
     "output_type": "stream",
     "text": [
      "Using TensorFlow backend.\n"
     ]
    }
   ],
   "source": [
    "import os, sys\n",
    "import random, h5py\n",
    "import numpy as np\n",
    "import keras\n",
    "from keras.models import Sequential\n",
    "from keras.layers import Embedding\n",
    "from keras.layers import Dense\n",
    "from keras.layers import Dropout\n",
    "from keras.layers import Activation\n",
    "from keras.optimizers import SGD\n",
    "\n",
    "#Initialize the Program\n",
    "alphabet = \"NACGT.\"\n",
    "vocab_size = 6\n",
    "batch_size = 1000\n",
    "embedding_size = 5\n",
    "time_steps = 101\n",
    "category = 2\n",
    "\n",
    "char_to_int = dict((c, i) for i, c in enumerate(alphabet))\n",
    "int_to_char = dict((i, c) for i, c in enumerate(alphabet))\n"
   ]
  },
  {
   "cell_type": "code",
   "execution_count": 2,
   "metadata": {
    "collapsed": true
   },
   "outputs": [],
   "source": [
    "def reverse_complement(sequence):\n",
    "    retseq = ''\n",
    "    for k in range(len(sequence)-1, -1, -1):\n",
    "        if sequence[k] == 'A':\n",
    "            retseq = retseq + 'T'\n",
    "        elif sequence[k] == 'T':\n",
    "            retseq = retseq + 'A'\n",
    "        elif sequence[k] == 'C':\n",
    "            retseq = retseq + 'G'\n",
    "        elif sequence[k] == 'G':\n",
    "            retseq = retseq + 'C'\n",
    "        else:\n",
    "            retseq = retseq + sequence[k]\n",
    "\n",
    "    \"\"\"\n",
    "    print(\"Revese:\")\n",
    "    print(sequence)\n",
    "    print(retseq)\n",
    "    print()\n",
    "    \"\"\"\n",
    "    return retseq\n"
   ]
  },
  {
   "cell_type": "code",
   "execution_count": 3,
   "metadata": {
    "collapsed": false
   },
   "outputs": [
    {
     "name": "stdout",
     "output_type": "stream",
     "text": [
      "(100000,) (100000,)\n",
      "526 201\n",
      "\n",
      "(100000,) (100000,)\n",
      "73112 61\n"
     ]
    }
   ],
   "source": [
    "file_read = open(\"../imgtvgene_sequence_classification/mem.txt\")\n",
    "\n",
    "given_sequence = []\n",
    "given_cdr3 = []\n",
    "\n",
    "source_sequence = []\n",
    "target_sequence = []\n",
    "\n",
    "cluster_tag = []\n",
    "cluster_dic = {}\n",
    "classes = 0\n",
    "\n",
    "vgene_tag = []\n",
    "vgene_dic = {}\n",
    "vgenes = 0\n",
    "\n",
    "count = 0\n",
    "max_count = 100000\n",
    "\n",
    "max_source = 0\n",
    "max_target = 0\n",
    "\n",
    "line = file_read.readline()\n",
    "for line in file_read:\n",
    "    split = line.strip().split(\" \")\n",
    "    #print(split)\n",
    "    \n",
    "    given_sequence.append(split[2][1:-1])\n",
    "    given_cdr3.append(split[-2][1:-1])\n",
    "    \n",
    "    if not split[1] in cluster_dic:\n",
    "        classes += 1\n",
    "        cluster_dic[split[1]] = classes\n",
    "    cluster_tag.append(split[1])\n",
    "    \n",
    "    source = [char_to_int[x] for x in split[2][1:-1]]\n",
    "    source_sequence.append(source)\n",
    "    if max_source < len(source):\n",
    "        max_source = len(source)\n",
    "    \n",
    "    target = [char_to_int[x] for x in split[-2][1:-1]]\n",
    "    target_sequence.append(target)\n",
    "    if max_target < len(target):\n",
    "        max_target = len(target)\n",
    "    \n",
    "    vgene_name = split[-1][1:-1].split(\"*\")[0]\n",
    "    if not vgene_name in vgene_dic:\n",
    "        vgene_dic[vgene_name] = vgenes\n",
    "        vgenes += 1\n",
    "    vgene_tag.append(vgene_dic[vgene_name])\n",
    "    \n",
    "    count += 1\n",
    "    \n",
    "    #print(split[1], vgene_name)\n",
    "    if count == max_count:\n",
    "        break\n",
    "    \n",
    "source_sequence = np.array(source_sequence)\n",
    "target_sequence = np.array(target_sequence)\n",
    "\n",
    "cluster_tag = np.array(cluster_tag)\n",
    "vgene_tag = np.array(vgene_tag)\n",
    "\n",
    "print(source_sequence.shape, target_sequence.shape)\n",
    "print(max_source, max_target)\n",
    "print()\n",
    "print(cluster_tag.shape, vgene_tag.shape)\n",
    "print(classes, vgenes)\n"
   ]
  },
  {
   "cell_type": "markdown",
   "metadata": {},
   "source": [
    "# Stop Index Identification"
   ]
  },
  {
   "cell_type": "code",
   "execution_count": 4,
   "metadata": {
    "collapsed": false
   },
   "outputs": [],
   "source": [
    "x_data = []\n",
    "y_data = []\n",
    "random = []\n",
    "for k in range(max_count):\n",
    "    end_ind = given_sequence[k].find(given_cdr3[k]) + len(given_cdr3[k]) - 1\n",
    "    x_data.append(source_sequence[k][end_ind-10:end_ind+10])\n",
    "    y_data.append(1)\n",
    "    \n",
    "    #random_ind = np.random.randint(low=0, high=st_ind-10, size=None)\n",
    "    while True:\n",
    "        random_ind = np.random.randint(low=0, \\\n",
    "                                   high=len(given_sequence[k]), \\\n",
    "                                   size=None)\n",
    "    \n",
    "        if not random_ind == end_ind:\n",
    "            break\n",
    "        \n",
    "    x_data.append(source_sequence[k][random_ind-10:random_ind+10])\n",
    "    y_data.append(0)\n",
    "    random.append(random_ind)\n",
    "    \n",
    "x_data = np.array(x_data)\n",
    "y_data = np.array(y_data)\n",
    "random = np.array(random)"
   ]
  },
  {
   "cell_type": "code",
   "execution_count": 5,
   "metadata": {
    "collapsed": false
   },
   "outputs": [
    {
     "name": "stdout",
     "output_type": "stream",
     "text": [
      "train, eval, test =  (120000, 160000, 200000)\n",
      "(120000, 20) (120000,)\n",
      "(40000, 20) (40000,)\n",
      "(40000, 20) (40000,)\n"
     ]
    }
   ],
   "source": [
    "from keras.utils import to_categorical\n",
    "from keras.preprocessing.sequence import pad_sequences\n",
    "\n",
    "x_data = pad_sequences(x_data, maxlen=20, value=0)\n",
    "\n",
    "train_index = int((len(x_data) / batch_size) * 0.60 * batch_size)\n",
    "eval_index = train_index + int((len(x_data) / batch_size) * 0.20 * batch_size)\n",
    "test_index = eval_index + int((len(x_data) / batch_size) * 0.20 * batch_size)\n",
    "print(\"train, eval, test = \", (train_index, eval_index, test_index))\n",
    "\n",
    "x_train = x_data[0:train_index]\n",
    "y_train = y_data[0:train_index]\n",
    "\n",
    "x_eval = x_data[train_index:eval_index]\n",
    "y_eval = y_data[train_index:eval_index]\n",
    "\n",
    "x_test = x_data[eval_index:test_index]\n",
    "y_test = y_data[eval_index:test_index]\n",
    "\n",
    "print(x_train.shape, y_train.shape)\n",
    "print(x_eval.shape, y_eval.shape)\n",
    "print(x_test.shape, y_test.shape)"
   ]
  },
  {
   "cell_type": "code",
   "execution_count": 6,
   "metadata": {
    "collapsed": false
   },
   "outputs": [
    {
     "name": "stdout",
     "output_type": "stream",
     "text": [
      "[1 2 1 4 3 3 1 2 3 4 2 4 3 3 3 3 2 1 1 1] 1\n",
      "[1 2 4 2 4 2 1 4 4 2 4 2 2 1 1 4 2 2 4 1] 0\n",
      "[ 87  39 305 ... 345 292 214]\n"
     ]
    }
   ],
   "source": [
    "print(x_train[0], y_train[0])\n",
    "print(x_train[1], y_train[1])\n",
    "print(random)"
   ]
  },
  {
   "cell_type": "code",
   "execution_count": 7,
   "metadata": {
    "collapsed": false
   },
   "outputs": [
    {
     "name": "stdout",
     "output_type": "stream",
     "text": [
      "_________________________________________________________________\n",
      "Layer (type)                 Output Shape              Param #   \n",
      "=================================================================\n",
      "main_input (InputLayer)      (None, 20)                0         \n",
      "_________________________________________________________________\n",
      "embedding (Embedding)        (None, 20, 5)             30        \n",
      "_________________________________________________________________\n",
      "reshape_1 (Reshape)          (None, 100)               0         \n",
      "_________________________________________________________________\n",
      "fstlayer (Dense)             (None, 64)                6464      \n",
      "_________________________________________________________________\n",
      "dropout_1 (Dropout)          (None, 64)                0         \n",
      "_________________________________________________________________\n",
      "midlayer (Dense)             (None, 32)                2080      \n",
      "_________________________________________________________________\n",
      "dropout_2 (Dropout)          (None, 32)                0         \n",
      "_________________________________________________________________\n",
      "finlayer (Dense)             (None, 16)                528       \n",
      "_________________________________________________________________\n",
      "dropout_3 (Dropout)          (None, 16)                0         \n",
      "_________________________________________________________________\n",
      "output (Dense)               (None, 1)                 17        \n",
      "=================================================================\n",
      "Total params: 9,119\n",
      "Trainable params: 9,119\n",
      "Non-trainable params: 0\n",
      "_________________________________________________________________\n"
     ]
    }
   ],
   "source": [
    "from keras.layers import Input, Embedding\n",
    "from keras.layers import Reshape, Dense\n",
    "from keras.models import Model\n",
    "\n",
    "input_source = Input(shape=(20,), \\\n",
    "                     dtype='int32', name='main_input')\n",
    "embedding = Embedding(input_dim=vocab_size, \\\n",
    "                      output_dim=embedding_size, \\\n",
    "                      input_length=20, \\\n",
    "                      name='embedding')(input_source)\n",
    "\n",
    "reshape_layer = Reshape((20*embedding_size,))(embedding)\n",
    "\n",
    "dense_layer_first = Dense(64, activation='relu', \\\n",
    "                        name='fstlayer')(reshape_layer)\n",
    "dense_layer_first = Dropout(0.25)(dense_layer_first)\n",
    "\n",
    "dense_layer_mid = Dense(32, activation='relu', \\\n",
    "                        name='midlayer')(dense_layer_first)\n",
    "dense_layer_mid = Dropout(0.25)(dense_layer_mid)\n",
    "\n",
    "dense_layer = Dense(16, activation='relu', \\\n",
    "                    name='finlayer')(dense_layer_mid)\n",
    "dense_layer = Dropout(0.25)(dense_layer)\n",
    "\n",
    "dense_output = Dense(1, activation='sigmoid', \\\n",
    "                     name='output')(dense_layer)#reshape_layer\n",
    "\n",
    "model = Model(inputs=[input_source], outputs=[dense_output])\n",
    "model.compile(loss='binary_crossentropy',\n",
    "              optimizer='adam',\n",
    "              metrics=['accuracy'])\n",
    "\n",
    "model.summary()"
   ]
  },
  {
   "cell_type": "code",
   "execution_count": 8,
   "metadata": {
    "collapsed": false,
    "scrolled": true
   },
   "outputs": [
    {
     "name": "stdout",
     "output_type": "stream",
     "text": [
      "Train...\n",
      "Train on 120000 samples, validate on 40000 samples\n",
      "Epoch 1/20\n",
      " - 1s - loss: 0.2346 - acc: 0.9383 - val_loss: 0.0049 - val_acc: 0.9986\n",
      "Epoch 2/20\n",
      " - 1s - loss: 0.0111 - acc: 0.9976 - val_loss: 0.0036 - val_acc: 0.9991\n",
      "Epoch 3/20\n",
      " - 1s - loss: 0.0076 - acc: 0.9984 - val_loss: 0.0033 - val_acc: 0.9993\n",
      "Epoch 4/20\n",
      " - 1s - loss: 0.0062 - acc: 0.9988 - val_loss: 0.0030 - val_acc: 0.9994\n",
      "Epoch 5/20\n",
      " - 1s - loss: 0.0056 - acc: 0.9989 - val_loss: 0.0031 - val_acc: 0.9993\n",
      "Epoch 6/20\n",
      " - 1s - loss: 0.0051 - acc: 0.9991 - val_loss: 0.0030 - val_acc: 0.9995\n",
      "Epoch 7/20\n",
      " - 1s - loss: 0.0047 - acc: 0.9991 - val_loss: 0.0030 - val_acc: 0.9994\n",
      "Epoch 8/20\n",
      " - 1s - loss: 0.0046 - acc: 0.9993 - val_loss: 0.0029 - val_acc: 0.9995\n",
      "Epoch 9/20\n",
      " - 1s - loss: 0.0041 - acc: 0.9993 - val_loss: 0.0031 - val_acc: 0.9994\n",
      "Epoch 10/20\n",
      " - 1s - loss: 0.0043 - acc: 0.9993 - val_loss: 0.0029 - val_acc: 0.9993\n",
      "Epoch 11/20\n",
      " - 1s - loss: 0.0036 - acc: 0.9994 - val_loss: 0.0030 - val_acc: 0.9994\n",
      "Epoch 12/20\n",
      " - 1s - loss: 0.0034 - acc: 0.9995 - val_loss: 0.0031 - val_acc: 0.9993\n",
      "Epoch 13/20\n",
      " - 1s - loss: 0.0035 - acc: 0.9994 - val_loss: 0.0031 - val_acc: 0.9993\n",
      "Epoch 14/20\n",
      " - 1s - loss: 0.0031 - acc: 0.9996 - val_loss: 0.0031 - val_acc: 0.9994\n",
      "Epoch 15/20\n",
      " - 1s - loss: 0.0032 - acc: 0.9995 - val_loss: 0.0032 - val_acc: 0.9993\n",
      "Epoch 16/20\n",
      " - 1s - loss: 0.0033 - acc: 0.9995 - val_loss: 0.0030 - val_acc: 0.9995\n",
      "Epoch 17/20\n",
      " - 1s - loss: 0.0030 - acc: 0.9996 - val_loss: 0.0029 - val_acc: 0.9995\n",
      "Epoch 18/20\n",
      " - 1s - loss: 0.0027 - acc: 0.9996 - val_loss: 0.0034 - val_acc: 0.9994\n",
      "Epoch 19/20\n",
      " - 1s - loss: 0.0028 - acc: 0.9996 - val_loss: 0.0032 - val_acc: 0.9994\n",
      "Epoch 20/20\n",
      " - 1s - loss: 0.0026 - acc: 0.9997 - val_loss: 0.0031 - val_acc: 0.9994\n",
      "\n",
      "[0.003520206311077345, 0.9991750091314315]\n"
     ]
    }
   ],
   "source": [
    "from keras_tqdm import TQDMNotebookCallback\n",
    "print('Train...')\n",
    "\n",
    "history = model.fit(x_train, y_train, \\\n",
    "          validation_data=(x_eval, y_eval), \\\n",
    "          epochs=20, shuffle=True, batch_size=1000, \\\n",
    "           callbacks=[TQDMNotebookCallback()], verbose=2)\n",
    "score = model.evaluate(x_test, y_test, \\\n",
    "                       batch_size=1000, verbose=2)\n",
    "print(score)"
   ]
  },
  {
   "cell_type": "code",
   "execution_count": 9,
   "metadata": {
    "collapsed": false
   },
   "outputs": [
    {
     "name": "stdout",
     "output_type": "stream",
     "text": [
      "dict_keys(['val_loss', 'val_acc', 'loss', 'acc'])\n"
     ]
    },
    {
     "data": {
      "image/png": "[encoded data removed]",
      "text/plain": [
       "<matplotlib.figure.Figure at 0x7f4770185518>"
      ]
     },
     "metadata": {},
     "output_type": "display_data"
    },
    {
     "data": {
      "image/png": "[encoded data removed]",
      "text/plain": [
       "<matplotlib.figure.Figure at 0x7f476dd83748>"
      ]
     },
     "metadata": {},
     "output_type": "display_data"
    }
   ],
   "source": [
    "import matplotlib.pyplot as plt\n",
    "# list all data in history\n",
    "print(history.history.keys())\n",
    "# summarize history for accuracy\n",
    "plt.plot(history.history['acc'])\n",
    "plt.plot(history.history['val_acc'])\n",
    "plt.title('model accuracy')\n",
    "plt.ylabel('accuracy')\n",
    "plt.xlabel('epoch')\n",
    "plt.legend(['train', 'eval'], loc='upper left')\n",
    "plt.show()\n",
    "# summarize history for loss\n",
    "plt.plot(history.history['loss'])\n",
    "plt.plot(history.history['val_loss'])\n",
    "plt.title('model loss')\n",
    "plt.ylabel('loss')\n",
    "plt.xlabel('epoch')\n",
    "plt.legend(['train', 'eval'], loc='upper left')\n",
    "plt.show()"
   ]
  },
  {
   "cell_type": "code",
   "execution_count": 57,
   "metadata": {
    "collapsed": false
   },
   "outputs": [],
   "source": [
    "x_data = []\n",
    "y_data = []\n",
    "for k in range(max_count):\n",
    "    end_ind = given_sequence[k].find(given_cdr3[k]) + len(given_cdr3[k]) - 1\n",
    "    try:\n",
    "        assert(len(source_sequence[k][end_ind-10:end_ind+10]) == 20)\n",
    "        x_data.append(source_sequence[k][end_ind-10:end_ind+10])\n",
    "        y_data.append(1)\n",
    "    except:\n",
    "        continue\n",
    "    \n",
    "    for i in range(0, 100):\n",
    "        random_ind = np.random.randint(low=0, \\\n",
    "                                       high=end_ind-1, \\\n",
    "                                       size=None)\n",
    "        \n",
    "        if not len(source_sequence[k][random_ind:random_ind+20]) == 20:\n",
    "            continue\n",
    "        x_data.append(source_sequence[k][random_ind:random_ind+20])\n",
    "        y_data.append(0)\n",
    "        assert(len(x_data[-1]) == 20)\n",
    "        \n",
    "    for i in range(0, 5):\n",
    "        try:\n",
    "            random_ind = np.random.randint(low=end_ind+1, \\\n",
    "                                       high=len(given_sequence[k])-20, \\\n",
    "                                       size=None)\n",
    "        except:\n",
    "            continue\n",
    "            \n",
    "        if not len(source_sequence[k][random_ind:random_ind+20]) == 20:\n",
    "            continue\n",
    "        x_data.append(source_sequence[k][random_ind:random_ind+20])\n",
    "        y_data.append(0)\n",
    "        assert(len(x_data[-1]) == 20)\n",
    "        \n"
   ]
  },
  {
   "cell_type": "code",
   "execution_count": 61,
   "metadata": {
    "collapsed": false
   },
   "outputs": [
    {
     "name": "stdout",
     "output_type": "stream",
     "text": [
      "10599325 20 10599325\n",
      "(10599325, 20) (10599325,)\n",
      "[0.043356684373682376, 0.9969078244923135]\n"
     ]
    }
   ],
   "source": [
    "print(len(x_data), len(x_data[0]), len(y_data))\n",
    "x_data = np.array(x_data)\n",
    "y_data = np.array(y_data)\n",
    "print(x_data.shape, y_data.shape)\n",
    "\n",
    "score = model.evaluate(x_data, y_data, \\\n",
    "                       batch_size=1000, verbose=2)\n",
    "print(score)"
   ]
  },
  {
   "cell_type": "code",
   "execution_count": 62,
   "metadata": {
    "collapsed": false
   },
   "outputs": [
    {
     "name": "stdout",
     "output_type": "stream",
     "text": [
      "             precision    recall  f1-score   support\n",
      "\n",
      "          0       1.00      1.00      1.00  10499331\n",
      "          1       0.75      1.00      0.86     99994\n",
      "\n",
      "avg / total       1.00      1.00      1.00  10599325\n",
      "\n",
      "Accuracy:  0.9969078219603607\n"
     ]
    }
   ],
   "source": [
    "from sklearn.metrics import confusion_matrix, classification_report\n",
    "\n",
    "y_predict = model.predict(x_data)\n",
    "print(classification_report(y_true=y_data, y_pred=np.round(y_predict)))\n",
    "result = [int(y_predict[i] >= 0.50) for i in range(len(y_predict))]\n",
    "#print(len(result), len(y_test))\n",
    "print(\"Accuracy: \", (1.0 * np.sum(np.equal(result, y_data)) / len(y_data)))"
   ]
  },
  {
   "cell_type": "code",
   "execution_count": 63,
   "metadata": {
    "collapsed": false
   },
   "outputs": [
    {
     "data": {
      "image/png": "[encoded data removed]",
      "text/plain": [
       "<matplotlib.figure.Figure at 0x7f44631c5dd8>"
      ]
     },
     "metadata": {},
     "output_type": "display_data"
    }
   ],
   "source": [
    "import matplotlib.pyplot as plt\n",
    "plt.hist(y_predict)\n",
    "plt.show()"
   ]
  },
  {
   "cell_type": "code",
   "execution_count": null,
   "metadata": {
    "collapsed": true
   },
   "outputs": [],
   "source": []
  }
 ],
 "metadata": {
  "kernelspec": {
   "display_name": "Python 3",
   "language": "python",
   "name": "python3"
  },
  "language_info": {
   "codemirror_mode": {
    "name": "ipython",
    "version": 3
   },
   "file_extension": ".py",
   "mimetype": "text/x-python",
   "name": "python",
   "nbconvert_exporter": "python",
   "pygments_lexer": "ipython3",
   "version": "3.6.0"
  }
 },
 "nbformat": 4,
 "nbformat_minor": 2
}
