{
 "cells": [
  {
   "cell_type": "code",
   "execution_count": 1,
   "metadata": {
    "collapsed": false
   },
   "outputs": [
    {
     "name": "stderr",
     "output_type": "stream",
     "text": [
      "Using TensorFlow backend.\n"
     ]
    }
   ],
   "source": [
    "from random import randint\n",
    "from numpy import array\n",
    "from numpy import argmax\n",
    "from numpy import array_equal\n",
    "from keras.models import Sequential\n",
    "from keras.layers import LSTM\n",
    "from keras.layers import Dense\n",
    "from keras.layers import TimeDistributed\n",
    "from keras.layers import RepeatVector\n",
    "from custom_recurrents import AttentionDecoder\n",
    "\n",
    "# generate a sequence of random integers\n",
    "def generate_sequence(length, n_unique):\n",
    "\treturn [randint(0, n_unique-1) for _ in range(length)]\n",
    "\n",
    "# one hot encode sequence\n",
    "def one_hot_encode(sequence, n_unique):\n",
    "\tencoding = list()\n",
    "\tfor value in sequence:\n",
    "\t\tvector = [0 for _ in range(n_unique)]\n",
    "\t\tvector[value] = 1\n",
    "\t\tencoding.append(vector)\n",
    "\treturn array(encoding)\n",
    "\n",
    "# decode a one hot encoded string\n",
    "def one_hot_decode(encoded_seq):\n",
    "\treturn [argmax(vector) for vector in encoded_seq]\n",
    "\n",
    "# prepare data for the LSTM\n",
    "def get_pair(n_in, n_out, cardinality):\n",
    "\t# generate random sequence\n",
    "\tsequence_in = generate_sequence(n_in, cardinality)\n",
    "\tsequence_out = sequence_in[:n_out] + [0 for _ in range(n_in-n_out)]\n",
    "\t# one hot encode\n",
    "\tX = one_hot_encode(sequence_in, cardinality)\n",
    "\ty = one_hot_encode(sequence_out, cardinality)\n",
    "\t# reshape as 3D\n",
    "\tX = X.reshape((1, X.shape[0], X.shape[1]))\n",
    "\ty = y.reshape((1, y.shape[0], y.shape[1]))\n",
    "\treturn X,y\n",
    "\n",
    "# define the encoder-decoder model\n",
    "def baseline_model(n_timesteps_in, n_features):\n",
    "\tmodel = Sequential()\n",
    "\tmodel.add(LSTM(150, input_shape=(n_timesteps_in, n_features)))\n",
    "\tmodel.add(RepeatVector(n_timesteps_in))\n",
    "\tmodel.add(LSTM(150, return_sequences=True))\n",
    "\tmodel.add(TimeDistributed(Dense(n_features, activation='softmax')))\n",
    "\tmodel.compile(loss='categorical_crossentropy', optimizer='adam', metrics=['acc'])\n",
    "\treturn model\n",
    "\n",
    "# define the encoder-decoder with attention model\n",
    "def attention_model(n_timesteps_in, n_features):\n",
    "\tmodel = Sequential()\n",
    "\tmodel.add(LSTM(150, input_shape=(n_timesteps_in, n_features), return_sequences=True))\n",
    "\tmodel.add(AttentionDecoder(150, n_features))\n",
    "\tmodel.compile(loss='categorical_crossentropy', optimizer='adam', metrics=['acc'])\n",
    "\treturn model\n",
    "\n",
    "# train and evaluate a model, return accuracy\n",
    "def train_evaluate_model(model, n_timesteps_in, n_timesteps_out, n_features):\n",
    "\t# train LSTM\n",
    "\tfor epoch in range(5000):\n",
    "\t\t# generate new random sequence\n",
    "\t\tX,y = get_pair(n_timesteps_in, n_timesteps_out, n_features)\n",
    "\t\t# fit model for one epoch on this sequence\n",
    "\t\tmodel.fit(X, y, epochs=1, verbose=0)\n",
    "\t# evaluate LSTM\n",
    "\ttotal, correct = 100, 0\n",
    "\tfor _ in range(total):\n",
    "\t\tX,y = get_pair(n_timesteps_in, n_timesteps_out, n_features)\n",
    "\t\tyhat = model.predict(X, verbose=0)\n",
    "\t\tif array_equal(one_hot_decode(y[0]), one_hot_decode(yhat[0])):\n",
    "\t\t\tcorrect += 1\n",
    "\treturn float(correct)/float(total)*100.0\n"
   ]
  },
  {
   "cell_type": "code",
   "execution_count": 2,
   "metadata": {
    "collapsed": false
   },
   "outputs": [
    {
     "name": "stdout",
     "output_type": "stream",
     "text": [
      "Encoder-Decoder Model\n",
      "23.0\n",
      "15.0\n",
      "17.0\n",
      "17.0\n",
      "16.0\n",
      "22.0\n",
      "18.0\n",
      "19.0\n",
      "15.0\n",
      "12.0\n",
      "Mean Accuracy: 17.40%\n",
      "Encoder-Decoder With Attention Model\n",
      "96.0\n",
      "96.0\n",
      "95.0\n",
      "98.0\n",
      "96.0\n",
      "94.0\n",
      "94.0\n",
      "98.0\n",
      "95.0\n",
      "98.0\n",
      "Mean Accuracy: 96.00%\n"
     ]
    }
   ],
   "source": [
    "# configure problem\n",
    "n_features = 50\n",
    "n_timesteps_in = 5\n",
    "n_timesteps_out = 2\n",
    "n_repeats = 10\n",
    "# evaluate encoder-decoder model\n",
    "print('Encoder-Decoder Model')\n",
    "results = list()\n",
    "for _ in range(n_repeats):\n",
    "\tmodel = baseline_model(n_timesteps_in, n_features)\n",
    "\taccuracy = train_evaluate_model(model, n_timesteps_in, n_timesteps_out, n_features)\n",
    "\tresults.append(accuracy)\n",
    "\tprint(accuracy)\n",
    "print('Mean Accuracy: %.2f%%' % (sum(results)/float(n_repeats)))\n",
    "# evaluate encoder-decoder with attention model\n",
    "print('Encoder-Decoder With Attention Model')\n",
    "results = list()\n",
    "for _ in range(n_repeats):\n",
    "\tmodel = attention_model(n_timesteps_in, n_features)\n",
    "\taccuracy = train_evaluate_model(model, n_timesteps_in, n_timesteps_out, n_features)\n",
    "\tresults.append(accuracy)\n",
    "\tprint(accuracy)\n",
    "print('Mean Accuracy: %.2f%%' % (sum(results)/float(n_repeats)))"
   ]
  },
  {
   "cell_type": "code",
   "execution_count": 3,
   "metadata": {
    "collapsed": false
   },
   "outputs": [
    {
     "name": "stdout",
     "output_type": "stream",
     "text": [
      "_________________________________________________________________\n",
      "Layer (type)                 Output Shape              Param #   \n",
      "=================================================================\n",
      "lstm_31 (LSTM)               (None, 150)               120600    \n",
      "_________________________________________________________________\n",
      "repeat_vector_11 (RepeatVect (None, 5, 150)            0         \n",
      "_________________________________________________________________\n",
      "lstm_32 (LSTM)               (None, 5, 150)            180600    \n",
      "_________________________________________________________________\n",
      "time_distributed_11 (TimeDis (None, 5, 50)             7550      \n",
      "=================================================================\n",
      "Total params: 308,750\n",
      "Trainable params: 308,750\n",
      "Non-trainable params: 0\n",
      "_________________________________________________________________\n"
     ]
    }
   ],
   "source": [
    "model = baseline_model(n_timesteps_in, n_features)\n",
    "model.summary()"
   ]
  },
  {
   "cell_type": "code",
   "execution_count": 4,
   "metadata": {
    "collapsed": false
   },
   "outputs": [
    {
     "name": "stdout",
     "output_type": "stream",
     "text": [
      "_________________________________________________________________\n",
      "Layer (type)                 Output Shape              Param #   \n",
      "=================================================================\n",
      "lstm_33 (LSTM)               (None, 5, 150)            120600    \n",
      "_________________________________________________________________\n",
      "AttentionDecoder (AttentionD (None, 5, 50)             243300    \n",
      "=================================================================\n",
      "Total params: 363,900\n",
      "Trainable params: 363,900\n",
      "Non-trainable params: 0\n",
      "_________________________________________________________________\n"
     ]
    }
   ],
   "source": [
    "model = attention_model(n_timesteps_in, n_features)\n",
    "model.summary()"
   ]
  },
  {
   "cell_type": "code",
   "execution_count": 5,
   "metadata": {
    "collapsed": false
   },
   "outputs": [
    {
     "name": "stdout",
     "output_type": "stream",
     "text": [
      "5 2 50\n"
     ]
    }
   ],
   "source": [
    "print(n_timesteps_in, n_timesteps_out, n_features)"
   ]
  },
  {
   "cell_type": "code",
   "execution_count": 6,
   "metadata": {
    "collapsed": false
   },
   "outputs": [
    {
     "name": "stdout",
     "output_type": "stream",
     "text": [
      "(1, 5, 50) (1, 5, 50)\n"
     ]
    }
   ],
   "source": [
    "X,y = get_pair(n_timesteps_in, n_timesteps_out, n_features)\n",
    "print(X.shape, y.shape)"
   ]
  },
  {
   "cell_type": "code",
   "execution_count": null,
   "metadata": {
    "collapsed": true
   },
   "outputs": [],
   "source": []
  }
 ],
 "metadata": {
  "kernelspec": {
   "display_name": "Python 3",
   "language": "python",
   "name": "python3"
  },
  "language_info": {
   "codemirror_mode": {
    "name": "ipython",
    "version": 3
   },
   "file_extension": ".py",
   "mimetype": "text/x-python",
   "name": "python",
   "nbconvert_exporter": "python",
   "pygments_lexer": "ipython3",
   "version": "3.6.0"
  }
 },
 "nbformat": 4,
 "nbformat_minor": 2
}
