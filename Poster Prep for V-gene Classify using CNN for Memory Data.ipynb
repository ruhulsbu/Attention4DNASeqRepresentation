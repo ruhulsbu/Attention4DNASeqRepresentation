{
 "cells": [
  {
   "cell_type": "code",
   "execution_count": 17,
   "metadata": {
    "collapsed": false
   },
   "outputs": [],
   "source": [
    "import os, sys\n",
    "import random, h5py\n",
    "import numpy as np\n",
    "import keras\n",
    "from keras.models import Sequential\n",
    "from keras.layers import Embedding\n",
    "from keras.layers import Dense\n",
    "from keras.layers.recurrent import LSTM\n",
    "from keras.layers import Dropout\n",
    "from keras.layers import Activation\n",
    "from keras.optimizers import SGD\n",
    "\n",
    "#Initialize the Program\n",
    "alphabet = \"NACGT.\"\n",
    "vocab_size = 6\n",
    "batch_size = 1000\n",
    "embedding_size = 5\n",
    "time_steps = 101\n",
    "category = 2\n",
    "char_to_int = dict((c, i) for i, c in enumerate(alphabet))\n",
    "int_to_char = dict((i, c) for i, c in enumerate(alphabet))\n"
   ]
  },
  {
   "cell_type": "code",
   "execution_count": 18,
   "metadata": {
    "collapsed": true
   },
   "outputs": [],
   "source": [
    "def reverse_complement(sequence):\n",
    "    retseq = ''\n",
    "    for k in range(len(sequence)-1, -1, -1):\n",
    "        if sequence[k] == 'A':\n",
    "            retseq = retseq + 'T'\n",
    "        elif sequence[k] == 'T':\n",
    "            retseq = retseq + 'A'\n",
    "        elif sequence[k] == 'C':\n",
    "            retseq = retseq + 'G'\n",
    "        elif sequence[k] == 'G':\n",
    "            retseq = retseq + 'C'\n",
    "        else:\n",
    "            retseq = retseq + sequence[k]\n",
    "\n",
    "    \"\"\"\n",
    "    print(\"Revese:\")\n",
    "    print(sequence)\n",
    "    print(retseq)\n",
    "    print()\n",
    "    \"\"\"\n",
    "    return retseq\n"
   ]
  },
  {
   "cell_type": "code",
   "execution_count": 19,
   "metadata": {
    "collapsed": false
   },
   "outputs": [
    {
     "name": "stdout",
     "output_type": "stream",
     "text": [
      "(288774,) 526\n",
      "(288774,) 63\n"
     ]
    }
   ],
   "source": [
    "file_read = open(\"../imgtvgene_sequence_classification/mem.txt\")\n",
    "\n",
    "source_sequence = []\n",
    "max_count = 300000\n",
    "max_source_len = 0\n",
    "\n",
    "vgene_tag = []\n",
    "vgene_dic = {}\n",
    "vgenes = 0\n",
    "\n",
    "count = 0\n",
    "\n",
    "line = file_read.readline()\n",
    "for line in file_read:\n",
    "    split = line.strip().split(\" \")\n",
    "    #print(split)\n",
    "    \n",
    "    source = [char_to_int[x] for x in split[2][1:-1]]\n",
    "    source_sequence.append(source)\n",
    "    if max_source_len < len(source):\n",
    "        max_source_len = len(source)\n",
    "    \n",
    "    vgene_name = split[-1][1:-1].split(\"*\")[0]\n",
    "    #* for Chromosome /- for Family /No Split for Allele\n",
    "    if not vgene_name in vgene_dic:\n",
    "        vgene_dic[vgene_name] = vgenes\n",
    "        vgenes += 1\n",
    "    vgene_tag.append(vgene_dic[vgene_name])\n",
    "    \n",
    "    count += 1\n",
    "    #print(split[1], vgene_name)\n",
    "    if count == max_count:\n",
    "        break\n",
    "    \n",
    "source_sequence = np.array(source_sequence)\n",
    "vgene_tag = np.array(vgene_tag)\n",
    "\n",
    "print(source_sequence.shape, max_source_len)\n",
    "print(vgene_tag.shape, vgenes)\n"
   ]
  },
  {
   "cell_type": "code",
   "execution_count": 20,
   "metadata": {
    "collapsed": false
   },
   "outputs": [
    {
     "data": {
      "image/png": "[encoded data removed]",
      "text/plain": [
       "<matplotlib.figure.Figure at 0x7f9ed46fc470>"
      ]
     },
     "metadata": {},
     "output_type": "display_data"
    }
   ],
   "source": [
    "import matplotlib.pyplot as plt\n",
    "\n",
    "plt.hist(vgene_tag)\n",
    "plt.show()"
   ]
  },
  {
   "cell_type": "code",
   "execution_count": 21,
   "metadata": {
    "collapsed": false
   },
   "outputs": [
    {
     "name": "stdout",
     "output_type": "stream",
     "text": [
      "train, eval, test =  (231019, 288773, 346527)\n",
      "(231019, 526) (231019, 63)\n",
      "(57754, 526) (57754, 63)\n",
      "(1, 526) (1, 63)\n"
     ]
    }
   ],
   "source": [
    "from keras.utils import to_categorical\n",
    "from keras.preprocessing.sequence import pad_sequences\n",
    "\n",
    "x_data = pad_sequences(source_sequence, maxlen=max_source_len, value=0)\n",
    "y_data = to_categorical(vgene_tag)\n",
    "\n",
    "train_index = int((len(x_data) / batch_size) * 0.80 * batch_size)\n",
    "eval_index = train_index + int((len(x_data) / batch_size) * 0.20 * batch_size)\n",
    "test_index = eval_index + int((len(x_data) / batch_size) * 0.20 * batch_size)\n",
    "print(\"train, eval, test = \", (train_index, eval_index, test_index))\n",
    "\n",
    "x_train = x_data[0:train_index]\n",
    "y_train = y_data[0:train_index]\n",
    "\n",
    "x_eval = x_data[train_index:eval_index]\n",
    "y_eval = y_data[train_index:eval_index]\n",
    "\n",
    "x_test = x_data[eval_index:test_index]\n",
    "y_test = y_data[eval_index:test_index]\n",
    "\n",
    "print(x_train.shape, y_train.shape)\n",
    "print(x_eval.shape, y_eval.shape)\n",
    "print(x_test.shape, y_test.shape)"
   ]
  },
  {
   "cell_type": "markdown",
   "metadata": {},
   "source": [
    "# Deep Network with CNN Layer"
   ]
  },
  {
   "cell_type": "code",
   "execution_count": 24,
   "metadata": {
    "collapsed": false
   },
   "outputs": [
    {
     "name": "stdout",
     "output_type": "stream",
     "text": [
      "_________________________________________________________________\n",
      "Layer (type)                 Output Shape              Param #   \n",
      "=================================================================\n",
      "main_input (InputLayer)      (None, 526)               0         \n",
      "_________________________________________________________________\n",
      "embedding (Embedding)        (None, 526, 5)            30        \n",
      "_________________________________________________________________\n",
      "conv1d_13 (Conv1D)           (None, 526, 16)           256       \n",
      "_________________________________________________________________\n",
      "conv1d_14 (Conv1D)           (None, 526, 16)           784       \n",
      "_________________________________________________________________\n",
      "max_pooling1d_7 (MaxPooling1 (None, 175, 16)           0         \n",
      "_________________________________________________________________\n",
      "dropout_25 (Dropout)         (None, 175, 16)           0         \n",
      "_________________________________________________________________\n",
      "flatten_1 (Flatten)          (None, 2800)              0         \n",
      "_________________________________________________________________\n",
      "fstlayer (Dense)             (None, 512)               1434112   \n",
      "_________________________________________________________________\n",
      "dropout_26 (Dropout)         (None, 512)               0         \n",
      "_________________________________________________________________\n",
      "midlayer (Dense)             (None, 128)               65664     \n",
      "_________________________________________________________________\n",
      "dropout_27 (Dropout)         (None, 128)               0         \n",
      "_________________________________________________________________\n",
      "finlayer (Dense)             (None, 64)                8256      \n",
      "_________________________________________________________________\n",
      "dropout_28 (Dropout)         (None, 64)                0         \n",
      "_________________________________________________________________\n",
      "output (Dense)               (None, 63)                4095      \n",
      "=================================================================\n",
      "Total params: 1,513,197\n",
      "Trainable params: 1,513,197\n",
      "Non-trainable params: 0\n",
      "_________________________________________________________________\n"
     ]
    }
   ],
   "source": [
    "from keras.layers import Input\n",
    "from keras.layers import Embedding\n",
    "from keras.layers import Reshape\n",
    "from keras.layers import Dense\n",
    "from keras.models import Model\n",
    "from keras.layers import Conv1D\n",
    "from keras.layers import Flatten\n",
    "from keras.layers import MaxPooling1D\n",
    "\n",
    "\n",
    "embedding_size = 5\n",
    "conv_unit = 16\n",
    "pool_len = 3\n",
    "\n",
    "input_source = Input(shape=(max_source_len,), \\\n",
    "                     dtype='int32', name='main_input')\n",
    "embedding = Embedding(input_dim=vocab_size, \\\n",
    "                      output_dim=embedding_size, \\\n",
    "                      input_length=max_source_len, \\\n",
    "                      name='embedding')(input_source)\n",
    "\n",
    "conv_layer = Conv1D(conv_unit, 3, activation='relu', padding='same')(embedding)\n",
    "conv_layer = Conv1D(conv_unit, 3, activation='relu', padding='same')(conv_layer)\n",
    "pool_layer = MaxPooling1D(pool_len)(conv_layer)\n",
    "conv_layer = Dropout(0.25)(pool_layer)\n",
    "\n",
    "reshape_layer = Flatten()(conv_layer)\n",
    "\n",
    "dense_layer_first = Dense(512, activation='relu', \\\n",
    "                        name='fstlayer')(reshape_layer)\n",
    "dense_layer_first = Dropout(0.25)(dense_layer_first)\n",
    "\n",
    "dense_layer_mid = Dense(128, activation='relu', \\\n",
    "                        name='midlayer')(dense_layer_first)\n",
    "dense_layer_mid = Dropout(0.25)(dense_layer_mid)\n",
    "\n",
    "dense_layer = Dense(64, activation='relu', \\\n",
    "                    name='finlayer')(dense_layer_mid)\n",
    "dense_layer = Dropout(0.25)(dense_layer)\n",
    "\n",
    "dense_output = Dense(vgenes, activation='softmax', \\\n",
    "                     name='output')(dense_layer)\n",
    "\n",
    "model = Model(inputs=[input_source], outputs=[dense_output])\n",
    "model.compile(loss='categorical_crossentropy',\n",
    "              optimizer='adam',\n",
    "              metrics=['accuracy'])\n",
    "\n",
    "model.summary()"
   ]
  },
  {
   "cell_type": "code",
   "execution_count": 25,
   "metadata": {
    "collapsed": false,
    "scrolled": true
   },
   "outputs": [
    {
     "name": "stdout",
     "output_type": "stream",
     "text": [
      "Train...\n",
      "Train on 231019 samples, validate on 57754 samples\n",
      "Epoch 1/50\n",
      " - 78s - loss: 2.9389 - acc: 0.2176 - val_loss: 1.5844 - val_acc: 0.4853\n",
      "Epoch 2/50\n",
      " - 77s - loss: 1.3074 - acc: 0.5773 - val_loss: 0.7482 - val_acc: 0.7505\n",
      "Epoch 3/50\n",
      " - 76s - loss: 0.7708 - acc: 0.7474 - val_loss: 0.4403 - val_acc: 0.8434\n",
      "Epoch 4/50\n",
      " - 76s - loss: 0.5421 - acc: 0.8236 - val_loss: 0.3185 - val_acc: 0.8812\n",
      "Epoch 5/50\n",
      " - 76s - loss: 0.4287 - acc: 0.8619 - val_loss: 0.2528 - val_acc: 0.9005\n",
      "Epoch 6/50\n",
      " - 76s - loss: 0.3582 - acc: 0.8845 - val_loss: 0.2324 - val_acc: 0.9098\n",
      "Epoch 7/50\n",
      " - 76s - loss: 0.3142 - acc: 0.9002 - val_loss: 0.2049 - val_acc: 0.9162\n",
      "Epoch 8/50\n",
      " - 76s - loss: 0.2830 - acc: 0.9098 - val_loss: 0.1922 - val_acc: 0.9194\n",
      "Epoch 9/50\n",
      " - 76s - loss: 0.2646 - acc: 0.9157 - val_loss: 0.1804 - val_acc: 0.9231\n",
      "Epoch 10/50\n",
      " - 76s - loss: 0.2401 - acc: 0.9231 - val_loss: 0.1772 - val_acc: 0.9248\n",
      "Epoch 11/50\n",
      " - 76s - loss: 0.2318 - acc: 0.9264 - val_loss: 0.1583 - val_acc: 0.9334\n",
      "Epoch 12/50\n",
      " - 76s - loss: 0.2143 - acc: 0.9318 - val_loss: 0.1546 - val_acc: 0.9352\n",
      "Epoch 13/50\n",
      " - 76s - loss: 0.2050 - acc: 0.9349 - val_loss: 0.1425 - val_acc: 0.9399\n",
      "Epoch 14/50\n",
      " - 76s - loss: 0.1937 - acc: 0.9384 - val_loss: 0.1429 - val_acc: 0.9376\n",
      "Epoch 15/50\n",
      " - 75s - loss: 0.1846 - acc: 0.9410 - val_loss: 0.1330 - val_acc: 0.9421\n",
      "Epoch 16/50\n",
      " - 75s - loss: 0.1783 - acc: 0.9426 - val_loss: 0.1325 - val_acc: 0.9442\n",
      "Epoch 17/50\n",
      " - 76s - loss: 0.1702 - acc: 0.9454 - val_loss: 0.1245 - val_acc: 0.9472\n",
      "Epoch 18/50\n",
      " - 76s - loss: 0.1683 - acc: 0.9458 - val_loss: 0.1205 - val_acc: 0.9469\n",
      "Epoch 19/50\n",
      " - 75s - loss: 0.1632 - acc: 0.9474 - val_loss: 0.1179 - val_acc: 0.9460\n",
      "Epoch 20/50\n",
      " - 76s - loss: 0.1633 - acc: 0.9475 - val_loss: 0.1237 - val_acc: 0.9453\n",
      "Epoch 21/50\n",
      " - 75s - loss: 0.1558 - acc: 0.9494 - val_loss: 0.1181 - val_acc: 0.9464\n",
      "Epoch 22/50\n",
      " - 75s - loss: 0.1539 - acc: 0.9504 - val_loss: 0.1090 - val_acc: 0.9500\n",
      "Epoch 23/50\n",
      " - 76s - loss: 0.1463 - acc: 0.9519 - val_loss: 0.1077 - val_acc: 0.9498\n",
      "Epoch 24/50\n",
      " - 75s - loss: 0.1427 - acc: 0.9531 - val_loss: 0.1155 - val_acc: 0.9472\n",
      "Epoch 25/50\n",
      " - 76s - loss: 0.1420 - acc: 0.9533 - val_loss: 0.1045 - val_acc: 0.9520\n",
      "Epoch 26/50\n",
      " - 95s - loss: 0.1367 - acc: 0.9549 - val_loss: 0.1064 - val_acc: 0.9504\n",
      "Epoch 27/50\n",
      " - 145s - loss: 0.1344 - acc: 0.9557 - val_loss: 0.1042 - val_acc: 0.9511\n",
      "Epoch 28/50\n",
      " - 152s - loss: 0.1315 - acc: 0.9566 - val_loss: 0.0979 - val_acc: 0.9546\n",
      "Epoch 29/50\n",
      " - 150s - loss: 0.1289 - acc: 0.9574 - val_loss: 0.1095 - val_acc: 0.9504\n",
      "Epoch 30/50\n",
      " - 139s - loss: 0.1290 - acc: 0.9571 - val_loss: 0.1061 - val_acc: 0.9504\n",
      "Epoch 31/50\n",
      " - 141s - loss: 0.1308 - acc: 0.9569 - val_loss: 0.1056 - val_acc: 0.9520\n",
      "Epoch 32/50\n",
      " - 148s - loss: 0.1219 - acc: 0.9597 - val_loss: 0.1076 - val_acc: 0.9520\n",
      "Epoch 33/50\n",
      " - 144s - loss: 0.1194 - acc: 0.9603 - val_loss: 0.0973 - val_acc: 0.9559\n",
      "Epoch 34/50\n",
      " - 137s - loss: 0.1192 - acc: 0.9601 - val_loss: 0.0964 - val_acc: 0.9570\n",
      "Epoch 35/50\n",
      " - 142s - loss: 0.1187 - acc: 0.9611 - val_loss: 0.1019 - val_acc: 0.9534\n",
      "Epoch 36/50\n",
      " - 152s - loss: 0.1155 - acc: 0.9612 - val_loss: 0.0966 - val_acc: 0.9610\n",
      "Epoch 37/50\n",
      " - 151s - loss: 0.1145 - acc: 0.9619 - val_loss: 0.1039 - val_acc: 0.9524\n",
      "Epoch 38/50\n",
      " - 135s - loss: 0.1148 - acc: 0.9620 - val_loss: 0.0911 - val_acc: 0.9619\n",
      "Epoch 39/50\n",
      " - 158s - loss: 0.1109 - acc: 0.9626 - val_loss: 0.0897 - val_acc: 0.9634\n",
      "Epoch 40/50\n",
      " - 76s - loss: 0.1077 - acc: 0.9639 - val_loss: 0.0935 - val_acc: 0.9590\n",
      "Epoch 41/50\n",
      " - 75s - loss: 0.1076 - acc: 0.9643 - val_loss: 0.0871 - val_acc: 0.9649\n",
      "Epoch 42/50\n",
      " - 75s - loss: 0.1058 - acc: 0.9650 - val_loss: 0.1003 - val_acc: 0.9539\n",
      "Epoch 43/50\n",
      " - 75s - loss: 0.1067 - acc: 0.9645 - val_loss: 0.0938 - val_acc: 0.9586\n",
      "Epoch 44/50\n",
      " - 75s - loss: 0.1012 - acc: 0.9660 - val_loss: 0.0900 - val_acc: 0.9633\n",
      "Epoch 45/50\n",
      " - 75s - loss: 0.1015 - acc: 0.9661 - val_loss: 0.0852 - val_acc: 0.9681\n",
      "Epoch 46/50\n",
      " - 74s - loss: 0.0998 - acc: 0.9663 - val_loss: 0.0886 - val_acc: 0.9631\n",
      "Epoch 47/50\n",
      " - 75s - loss: 0.0985 - acc: 0.9674 - val_loss: 0.0886 - val_acc: 0.9649\n",
      "Epoch 48/50\n",
      " - 76s - loss: 0.0996 - acc: 0.9667 - val_loss: 0.0934 - val_acc: 0.9609\n",
      "Epoch 49/50\n",
      " - 77s - loss: 0.0990 - acc: 0.9672 - val_loss: 0.0839 - val_acc: 0.9682\n",
      "Epoch 50/50\n",
      " - 76s - loss: 0.0982 - acc: 0.9674 - val_loss: 0.0828 - val_acc: 0.9694\n",
      "[0.007685795892030001, 1.0]\n"
     ]
    }
   ],
   "source": [
    "from keras_tqdm import TQDMNotebookCallback\n",
    "print('Train...')\n",
    "\n",
    "history = model.fit(x_train, y_train, \\\n",
    "          validation_data=(x_eval, y_eval), \\\n",
    "          epochs=50, shuffle=True, batch_size=1000, \\\n",
    "           callbacks=[TQDMNotebookCallback()], verbose=2)\n",
    "score = model.evaluate(x_test, y_test, \\\n",
    "                       batch_size=1000, verbose=2)\n",
    "print(score)"
   ]
  },
  {
   "cell_type": "code",
   "execution_count": 26,
   "metadata": {
    "collapsed": false
   },
   "outputs": [
    {
     "name": "stdout",
     "output_type": "stream",
     "text": [
      "dict_keys(['val_loss', 'val_acc', 'loss', 'acc'])\n",
      "51 51\n"
     ]
    },
    {
     "data": {
      "image/png": "[encoded data removed]",
      "text/plain": [
       "<matplotlib.figure.Figure at 0x7f9af97fc390>"
      ]
     },
     "metadata": {},
     "output_type": "display_data"
    }
   ],
   "source": [
    "import matplotlib.pyplot as plt\n",
    "# list all data in history\n",
    "print(history.history.keys())\n",
    "# summarize history for accuracy\n",
    "train = history.history['acc']\n",
    "valid = history.history['val_acc']\n",
    "\n",
    "x = [0.] + train[1:] + [train[-1]]\n",
    "y = [0.] + valid[:-1] + [valid[-1]]\n",
    "print(len(x), len(y))\n",
    "\n",
    "plt.figure(figsize=(8, 6))\n",
    "plt.plot(x)\n",
    "plt.plot(y)\n",
    "plt.title('model accuracy')\n",
    "plt.ylabel('accuracy')\n",
    "plt.xlabel('epoch')\n",
    "plt.legend(['Train', 'Test'], loc='lower right')\n",
    "plt.show()\n"
   ]
  },
  {
   "cell_type": "code",
   "execution_count": 27,
   "metadata": {
    "collapsed": false
   },
   "outputs": [
    {
     "name": "stdout",
     "output_type": "stream",
     "text": [
      "[0.04106923093236384, 0.9856219729515114]\n",
      "[0.04106923093236384, 0.9856219729515114] 135.87773752212524\n",
      "9.024760867878825\n"
     ]
    }
   ],
   "source": [
    "score = model.evaluate(x_data, y_data, \\\n",
    "                       batch_size=1000, verbose=2)\n",
    "print(score)\n",
    "\n",
    "import time\n",
    "\n",
    "start = time.time()\n",
    "score = model.evaluate(x_data, y_data, \\\n",
    "                       batch_size=1000, verbose=2)\n",
    "end = time.time()\n",
    "\n",
    "print(score, end-start)\n",
    "\n",
    "print(100000*26.0611629486084/len(x_data))"
   ]
  },
  {
   "cell_type": "code",
   "execution_count": null,
   "metadata": {
    "collapsed": true
   },
   "outputs": [],
   "source": []
  }
 ],
 "metadata": {
  "kernelspec": {
   "display_name": "Python 3",
   "language": "python",
   "name": "python3"
  },
  "language_info": {
   "codemirror_mode": {
    "name": "ipython",
    "version": 3
   },
   "file_extension": ".py",
   "mimetype": "text/x-python",
   "name": "python",
   "nbconvert_exporter": "python",
   "pygments_lexer": "ipython3",
   "version": "3.6.0"
  },
  "widgets": {
   "state": {
    "1fd21a3e2ee9458189612cd41352c82c": {
     "views": [
      {
       "cell_index": 9
      }
     ]
    },
    "60da2e58457e4758a53362e10f42d43a": {
     "views": [
      {
       "cell_index": 9
      }
     ]
    }
   },
   "version": "1.2.0"
  }
 },
 "nbformat": 4,
 "nbformat_minor": 2
}
