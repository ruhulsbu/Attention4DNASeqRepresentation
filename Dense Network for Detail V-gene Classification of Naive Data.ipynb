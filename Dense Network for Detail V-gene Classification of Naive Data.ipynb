{
 "cells": [
  {
   "cell_type": "code",
   "execution_count": 6,
   "metadata": {
    "collapsed": false
   },
   "outputs": [],
   "source": [
    "import os, sys\n",
    "import random, h5py\n",
    "import numpy as np\n",
    "import keras\n",
    "from keras.models import Sequential\n",
    "from keras.layers import Embedding\n",
    "from keras.layers import Dense\n",
    "from keras.layers.recurrent import LSTM \n",
    "from keras.layers import Dropout\n",
    "from keras.layers import Activation\n",
    "from keras.optimizers import SGD\n",
    "\n",
    "#Initialize the Program\n",
    "alphabet = \"NACGT.\"\n",
    "vocab_size = 6\n",
    "batch_size = 1000\n",
    "embedding_size = 5\n",
    "time_steps = 101\n",
    "category = 2\n",
    "max_data_size = 100000\n",
    "char_to_int = dict((c, i) for i, c in enumerate(alphabet))\n",
    "int_to_char = dict((i, c) for i, c in enumerate(alphabet))\n"
   ]
  },
  {
   "cell_type": "code",
   "execution_count": 2,
   "metadata": {
    "collapsed": true
   },
   "outputs": [],
   "source": [
    "def reverse_complement(sequence):\n",
    "    retseq = ''\n",
    "    for k in range(len(sequence)-1, -1, -1):\n",
    "        if sequence[k] == 'A':\n",
    "            retseq = retseq + 'T'\n",
    "        elif sequence[k] == 'T':\n",
    "            retseq = retseq + 'A'\n",
    "        elif sequence[k] == 'C':\n",
    "            retseq = retseq + 'G'\n",
    "        elif sequence[k] == 'G':\n",
    "            retseq = retseq + 'C'\n",
    "        else:\n",
    "            retseq = retseq + sequence[k]\n",
    "\n",
    "    \"\"\"\n",
    "    print(\"Revese:\")\n",
    "    print(sequence)\n",
    "    print(retseq)\n",
    "    print()\n",
    "    \"\"\"\n",
    "    return retseq\n"
   ]
  },
  {
   "cell_type": "code",
   "execution_count": 3,
   "metadata": {
    "collapsed": false
   },
   "outputs": [
    {
     "name": "stdout",
     "output_type": "stream",
     "text": [
      "(1000000,) (1000000,)\n",
      "526 207\n",
      "\n",
      "(1000000,) (1000000,)\n",
      "203966 213\n"
     ]
    }
   ],
   "source": [
    "file_read = open(\"../imgtvgene_sequence_classification/naive.txt\")\n",
    "\n",
    "source_sequence = []\n",
    "target_sequence = []\n",
    "\n",
    "cluster_tag = []\n",
    "cluster_dic = {}\n",
    "classes = 0\n",
    "\n",
    "vgene_tag = []\n",
    "vgene_dic = {}\n",
    "vgenes = 0\n",
    "\n",
    "count = 0\n",
    "max_count = 1000000\n",
    "\n",
    "max_source = 0\n",
    "max_target = 0\n",
    "\n",
    "line = file_read.readline()\n",
    "for line in file_read:\n",
    "    split = line.strip().split(\" \")\n",
    "    #print(split)\n",
    "    \n",
    "    if not split[1] in cluster_dic:\n",
    "        classes += 1\n",
    "        cluster_dic[split[1]] = classes\n",
    "    cluster_tag.append(split[1])\n",
    "    \n",
    "    source = [char_to_int[x] for x in split[2][1:-1]]\n",
    "    source_sequence.append(source)\n",
    "    if max_source < len(source):\n",
    "        max_source = len(source)\n",
    "    \n",
    "    target = [char_to_int[x] for x in split[-2][1:-1]]\n",
    "    target_sequence.append(target)\n",
    "    if max_target < len(target):\n",
    "        max_target = len(target)\n",
    "    \n",
    "    vgene_name = split[-1][1:-1]#.split(\"*\")[0]\n",
    "    if not vgene_name in vgene_dic:\n",
    "        vgene_dic[vgene_name] = vgenes\n",
    "        vgenes += 1\n",
    "    vgene_tag.append(vgene_dic[vgene_name])\n",
    "    \n",
    "    count += 1\n",
    "    \n",
    "    #print(split[1], vgene_name)\n",
    "    if count == max_count:\n",
    "        break\n",
    "    \n",
    "source_sequence = np.array(source_sequence)\n",
    "target_sequence = np.array(target_sequence)\n",
    "\n",
    "cluster_tag = np.array(cluster_tag)\n",
    "vgene_tag = np.array(vgene_tag)\n",
    "\n",
    "print(source_sequence.shape, target_sequence.shape)\n",
    "print(max_source, max_target)\n",
    "print()\n",
    "print(cluster_tag.shape, vgene_tag.shape)\n",
    "print(classes, vgenes)\n"
   ]
  },
  {
   "cell_type": "code",
   "execution_count": 4,
   "metadata": {
    "collapsed": false
   },
   "outputs": [
    {
     "name": "stdout",
     "output_type": "stream",
     "text": [
      "train, eval, test =  (600000, 800000, 1000000)\n",
      "(600000, 526) (600000, 213)\n",
      "(200000, 526) (200000, 213)\n",
      "(200000, 526) (200000, 213)\n"
     ]
    }
   ],
   "source": [
    "from keras.utils import to_categorical\n",
    "from keras.preprocessing.sequence import pad_sequences\n",
    "\n",
    "x_data = pad_sequences(source_sequence, maxlen=max_source, value=0)\n",
    "y_data = to_categorical(vgene_tag)\n",
    "\n",
    "train_index = int((len(x_data) / batch_size) * 0.60 * batch_size)\n",
    "eval_index = train_index + int((len(x_data) / batch_size) * 0.20 * batch_size)\n",
    "test_index = eval_index + int((len(x_data) / batch_size) * 0.20 * batch_size)\n",
    "print(\"train, eval, test = \", (train_index, eval_index, test_index))\n",
    "\n",
    "x_train = x_data[0:train_index]\n",
    "y_train = y_data[0:train_index]\n",
    "\n",
    "x_eval = x_data[train_index:eval_index]\n",
    "y_eval = y_data[train_index:eval_index]\n",
    "\n",
    "x_test = x_data[eval_index:test_index]\n",
    "y_test = y_data[eval_index:test_index]\n",
    "\n",
    "print(x_train.shape, y_train.shape)\n",
    "print(x_eval.shape, y_eval.shape)\n",
    "print(x_test.shape, y_test.shape)"
   ]
  },
  {
   "cell_type": "code",
   "execution_count": 19,
   "metadata": {
    "collapsed": false
   },
   "outputs": [
    {
     "name": "stdout",
     "output_type": "stream",
     "text": [
      "_________________________________________________________________\n",
      "Layer (type)                 Output Shape              Param #   \n",
      "=================================================================\n",
      "main_input (InputLayer)      (None, 526)               0         \n",
      "_________________________________________________________________\n",
      "embedding (Embedding)        (None, 526, 5)            30        \n",
      "_________________________________________________________________\n",
      "lstm_9 (LSTM)                (None, 526, 5)            220       \n",
      "_________________________________________________________________\n",
      "dropout_29 (Dropout)         (None, 526, 5)            0         \n",
      "_________________________________________________________________\n",
      "reshape_9 (Reshape)          (None, 2630)              0         \n",
      "_________________________________________________________________\n",
      "fstlayer (Dense)             (None, 1024)              2694144   \n",
      "_________________________________________________________________\n",
      "dropout_30 (Dropout)         (None, 1024)              0         \n",
      "_________________________________________________________________\n",
      "midlayer (Dense)             (None, 128)               131200    \n",
      "_________________________________________________________________\n",
      "dropout_31 (Dropout)         (None, 128)               0         \n",
      "_________________________________________________________________\n",
      "finlayer (Dense)             (None, 64)                8256      \n",
      "_________________________________________________________________\n",
      "dropout_32 (Dropout)         (None, 64)                0         \n",
      "_________________________________________________________________\n",
      "output (Dense)               (None, 213)               13845     \n",
      "=================================================================\n",
      "Total params: 2,847,695\n",
      "Trainable params: 2,847,695\n",
      "Non-trainable params: 0\n",
      "_________________________________________________________________\n"
     ]
    }
   ],
   "source": [
    "from keras.layers import Input, Embedding\n",
    "from keras.layers import Reshape, Dense\n",
    "from keras.models import Model\n",
    "\n",
    "input_source = Input(shape=(max_source,), \\\n",
    "                     dtype='int32', name='main_input')\n",
    "embedding = Embedding(input_dim=vocab_size, \\\n",
    "                      output_dim=embedding_size, \\\n",
    "                      input_length=max_source, \\\n",
    "                      name='embedding')(input_source)\n",
    "\n",
    "lstm_layer = LSTM(5, return_sequences=True)(embedding)\n",
    "lstm_layer = Dropout(0.25)(lstm_layer)\n",
    "reshape_layer = Reshape((max_source*5,))(lstm_layer)\n",
    "\n",
    "dense_layer_first = Dense(1024, activation='relu', \\\n",
    "                        name='fstlayer')(reshape_layer)\n",
    "dense_layer_first = Dropout(0.25)(dense_layer_first)\n",
    "\n",
    "dense_layer_mid = Dense(128, activation='relu', \\\n",
    "                        name='midlayer')(dense_layer_first)\n",
    "dense_layer_mid = Dropout(0.25)(dense_layer_mid)\n",
    "\n",
    "dense_layer = Dense(64, activation='relu', \\\n",
    "                    name='finlayer')(dense_layer_mid)\n",
    "dense_layer = Dropout(0.25)(dense_layer)\n",
    "\n",
    "dense_output = Dense(vgenes, activation='softmax', \\\n",
    "                     name='output')(dense_layer)\n",
    "\n",
    "model = Model(inputs=[input_source], outputs=[dense_output])\n",
    "model.compile(loss='categorical_crossentropy',\n",
    "              optimizer='adam',\n",
    "              metrics=['accuracy'])\n",
    "\n",
    "model.summary()"
   ]
  },
  {
   "cell_type": "code",
   "execution_count": null,
   "metadata": {
    "collapsed": true
   },
   "outputs": [],
   "source": []
  },
  {
   "cell_type": "code",
   "execution_count": 20,
   "metadata": {
    "collapsed": false
   },
   "outputs": [
    {
     "name": "stdout",
     "output_type": "stream",
     "text": [
      "Train...\n",
      "Train on 600000 samples, validate on 200000 samples\n",
      "Epoch 1/20\n",
      "\n"
     ]
    },
    {
     "name": "stderr",
     "output_type": "stream",
     "text": [
      "Exception in thread Thread-4:\n",
      "Traceback (most recent call last):\n",
      "  File \"/home/moamin/anaconda3/lib/python3.6/threading.py\", line 916, in _bootstrap_inner\n",
      "    self.run()\n",
      "  File \"/home/moamin/anaconda3/lib/python3.6/site-packages/tqdm/_tqdm.py\", line 144, in run\n",
      "    for instance in self.tqdm_cls._instances:\n",
      "  File \"/home/moamin/anaconda3/lib/python3.6/_weakrefset.py\", line 60, in __iter__\n",
      "    for itemref in self.data:\n",
      "RuntimeError: Set changed size during iteration\n",
      "\n"
     ]
    },
    {
     "name": "stdout",
     "output_type": "stream",
     "text": [
      " - 466s - loss: 1.5244 - acc: 0.6104 - val_loss: 0.4381 - val_acc: 0.8823\n",
      "Epoch 2/20\n",
      " - 458s - loss: 0.4256 - acc: 0.8742 - val_loss: 0.3274 - val_acc: 0.9044\n",
      "Epoch 3/20\n",
      " - 466s - loss: 0.3283 - acc: 0.9044 - val_loss: 0.2970 - val_acc: 0.9162\n",
      "Epoch 4/20\n",
      " - 462s - loss: 0.2758 - acc: 0.9205 - val_loss: 0.2546 - val_acc: 0.9221\n",
      "Epoch 5/20\n",
      " - 467s - loss: 0.2388 - acc: 0.9313 - val_loss: 0.2471 - val_acc: 0.9275\n",
      "Epoch 6/20\n",
      " - 466s - loss: 0.2112 - acc: 0.9402 - val_loss: 0.2007 - val_acc: 0.9454\n",
      "Epoch 7/20\n",
      " - 447s - loss: 0.1854 - acc: 0.9488 - val_loss: 0.1591 - val_acc: 0.9540\n",
      "Epoch 8/20\n",
      " - 407s - loss: 0.1677 - acc: 0.9546 - val_loss: 0.1617 - val_acc: 0.9629\n",
      "Epoch 9/20\n",
      " - 406s - loss: 0.1538 - acc: 0.9586 - val_loss: 0.1417 - val_acc: 0.9595\n",
      "Epoch 10/20\n",
      " - 406s - loss: 0.1444 - acc: 0.9613 - val_loss: 0.1273 - val_acc: 0.9644\n",
      "Epoch 11/20\n",
      " - 405s - loss: 0.1333 - acc: 0.9641 - val_loss: 0.1424 - val_acc: 0.9663\n",
      "Epoch 12/20\n",
      " - 405s - loss: 0.1263 - acc: 0.9663 - val_loss: 0.1135 - val_acc: 0.9688\n",
      "Epoch 13/20\n",
      " - 406s - loss: 0.1215 - acc: 0.9673 - val_loss: 0.1394 - val_acc: 0.9677\n",
      "Epoch 14/20\n",
      " - 405s - loss: 0.1155 - acc: 0.9690 - val_loss: 0.1184 - val_acc: 0.9691\n",
      "Epoch 15/20\n",
      " - 406s - loss: 0.1126 - acc: 0.9695 - val_loss: 0.1050 - val_acc: 0.9704\n",
      "Epoch 16/20\n",
      " - 406s - loss: 0.1074 - acc: 0.9711 - val_loss: 0.1215 - val_acc: 0.9684\n",
      "Epoch 17/20\n",
      " - 404s - loss: 0.1060 - acc: 0.9714 - val_loss: 0.1186 - val_acc: 0.9689\n",
      "Epoch 18/20\n",
      " - 402s - loss: 0.1021 - acc: 0.9726 - val_loss: 0.1158 - val_acc: 0.9706\n",
      "Epoch 19/20\n",
      " - 404s - loss: 0.1003 - acc: 0.9732 - val_loss: 0.0805 - val_acc: 0.9796\n",
      "Epoch 20/20\n",
      " - 408s - loss: 0.0954 - acc: 0.9745 - val_loss: 0.1280 - val_acc: 0.9702\n",
      "[0.22574032593984156, 0.9610600006580353]\n"
     ]
    }
   ],
   "source": [
    "from keras_tqdm import TQDMNotebookCallback\n",
    "print('Train...')\n",
    "\n",
    "history = model.fit(x_train, y_train, \\\n",
    "          validation_data=(x_eval, y_eval), \\\n",
    "          epochs=20, shuffle=True, batch_size=1000, \\\n",
    "           callbacks=[TQDMNotebookCallback()], verbose=2)\n",
    "score = model.evaluate(x_test, y_test, \\\n",
    "                       batch_size=1000, verbose=2)\n",
    "print(score)"
   ]
  },
  {
   "cell_type": "code",
   "execution_count": 21,
   "metadata": {
    "collapsed": false
   },
   "outputs": [
    {
     "name": "stdout",
     "output_type": "stream",
     "text": [
      "dict_keys(['val_loss', 'val_acc', 'loss', 'acc'])\n"
     ]
    },
    {
     "data": {
      "image/png": "[encoded data removed]",
      "text/plain": [
       "<matplotlib.figure.Figure at 0x7f7ec5afaa90>"
      ]
     },
     "metadata": {},
     "output_type": "display_data"
    },
    {
     "data": {
      "image/png": "[encoded data removed]",
      "text/plain": [
       "<matplotlib.figure.Figure at 0x7f7ebd8de320>"
      ]
     },
     "metadata": {},
     "output_type": "display_data"
    }
   ],
   "source": [
    "import matplotlib.pyplot as plt\n",
    "# list all data in history\n",
    "print(history.history.keys())\n",
    "# summarize history for accuracy\n",
    "plt.plot(history.history['acc'])\n",
    "plt.plot(history.history['val_acc'])\n",
    "plt.title('model accuracy')\n",
    "plt.ylabel('accuracy')\n",
    "plt.xlabel('epoch')\n",
    "plt.legend(['train', 'eval'], loc='upper left')\n",
    "plt.show()\n",
    "# summarize history for loss\n",
    "plt.plot(history.history['loss'])\n",
    "plt.plot(history.history['val_loss'])\n",
    "plt.title('model loss')\n",
    "plt.ylabel('loss')\n",
    "plt.xlabel('epoch')\n",
    "plt.legend(['train', 'eval'], loc='upper left')\n",
    "plt.show()"
   ]
  },
  {
   "cell_type": "markdown",
   "metadata": {},
   "source": [
    "# Simple Layer"
   ]
  },
  {
   "cell_type": "code",
   "execution_count": 10,
   "metadata": {
    "collapsed": false
   },
   "outputs": [
    {
     "name": "stdout",
     "output_type": "stream",
     "text": [
      "_________________________________________________________________\n",
      "Layer (type)                 Output Shape              Param #   \n",
      "=================================================================\n",
      "main_input (InputLayer)      (None, 526)               0         \n",
      "_________________________________________________________________\n",
      "embedding (Embedding)        (None, 526, 5)            30        \n",
      "_________________________________________________________________\n",
      "reshape_2 (Reshape)          (None, 2630)              0         \n",
      "_________________________________________________________________\n",
      "fstlayer (Dense)             (None, 1024)              2694144   \n",
      "_________________________________________________________________\n",
      "dropout_4 (Dropout)          (None, 1024)              0         \n",
      "_________________________________________________________________\n",
      "midlayer (Dense)             (None, 128)               131200    \n",
      "_________________________________________________________________\n",
      "dropout_5 (Dropout)          (None, 128)               0         \n",
      "_________________________________________________________________\n",
      "finlayer (Dense)             (None, 64)                8256      \n",
      "_________________________________________________________________\n",
      "dropout_6 (Dropout)          (None, 64)                0         \n",
      "_________________________________________________________________\n",
      "output (Dense)               (None, 213)               13845     \n",
      "=================================================================\n",
      "Total params: 2,847,475\n",
      "Trainable params: 2,847,475\n",
      "Non-trainable params: 0\n",
      "_________________________________________________________________\n"
     ]
    }
   ],
   "source": [
    "from keras.layers import Input, Embedding\n",
    "from keras.layers import Reshape, Dense\n",
    "from keras.models import Model\n",
    "\n",
    "input_source = Input(shape=(max_source,), \\\n",
    "                     dtype='int32', name='main_input')\n",
    "embedding = Embedding(input_dim=vocab_size, \\\n",
    "                      output_dim=embedding_size, \\\n",
    "                      input_length=max_source, \\\n",
    "                      name='embedding')(input_source)\n",
    "\n",
    "reshape_layer = Reshape((max_source*embedding_size,))(embedding)\n",
    "dense_layer_first = Dense(1024, activation='relu', \\\n",
    "                        name='fstlayer')(reshape_layer)\n",
    "dense_layer_first = Dropout(0.25)(dense_layer_first)\n",
    "\n",
    "dense_layer_mid = Dense(128, activation='relu', \\\n",
    "                        name='midlayer')(dense_layer_first)\n",
    "dense_layer_mid = Dropout(0.25)(dense_layer_mid)\n",
    "\n",
    "dense_layer = Dense(64, activation='relu', \\\n",
    "                    name='finlayer')(dense_layer_mid)\n",
    "dense_layer = Dropout(0.25)(dense_layer)\n",
    "\n",
    "dense_output = Dense(vgenes, activation='softmax', \\\n",
    "                     name='output')(dense_layer)\n",
    "\n",
    "model = Model(inputs=[input_source], outputs=[dense_output])\n",
    "model.compile(loss='categorical_crossentropy',\n",
    "              optimizer='adam',\n",
    "              metrics=['accuracy'])\n",
    "\n",
    "model.summary()"
   ]
  },
  {
   "cell_type": "code",
   "execution_count": null,
   "metadata": {
    "collapsed": true
   },
   "outputs": [],
   "source": []
  },
  {
   "cell_type": "code",
   "execution_count": 11,
   "metadata": {
    "collapsed": false,
    "scrolled": true
   },
   "outputs": [
    {
     "name": "stdout",
     "output_type": "stream",
     "text": [
      "Train...\n",
      "Train on 600000 samples, validate on 200000 samples\n",
      "Epoch 1/20\n",
      " - 88s - loss: 1.3643 - acc: 0.6373 - val_loss: 0.4119 - val_acc: 0.8561\n",
      "Epoch 2/20\n",
      " - 87s - loss: 0.3632 - acc: 0.8804 - val_loss: 0.2970 - val_acc: 0.8916\n",
      "Epoch 3/20\n",
      " - 86s - loss: 0.2622 - acc: 0.9135 - val_loss: 0.2218 - val_acc: 0.9196\n",
      "Epoch 4/20\n",
      " - 86s - loss: 0.2094 - acc: 0.9320 - val_loss: 0.1908 - val_acc: 0.9368\n",
      "Epoch 5/20\n",
      " - 86s - loss: 0.1766 - acc: 0.9430 - val_loss: 0.1691 - val_acc: 0.9454\n",
      "Epoch 6/20\n",
      " - 86s - loss: 0.1562 - acc: 0.9500 - val_loss: 0.1637 - val_acc: 0.9448\n",
      "Epoch 7/20\n",
      " - 86s - loss: 0.1400 - acc: 0.9551 - val_loss: 0.1374 - val_acc: 0.9597\n",
      "Epoch 8/20\n",
      " - 86s - loss: 0.1281 - acc: 0.9590 - val_loss: 0.1364 - val_acc: 0.9564\n",
      "Epoch 9/20\n",
      " - 86s - loss: 0.1206 - acc: 0.9617 - val_loss: 0.1353 - val_acc: 0.9587\n",
      "Epoch 10/20\n",
      " - 87s - loss: 0.1128 - acc: 0.9644 - val_loss: 0.1315 - val_acc: 0.9627\n",
      "Epoch 11/20\n",
      " - 86s - loss: 0.1043 - acc: 0.9675 - val_loss: 0.1277 - val_acc: 0.9654\n",
      "Epoch 12/20\n",
      " - 86s - loss: 0.0994 - acc: 0.9691 - val_loss: 0.1199 - val_acc: 0.9673\n",
      "Epoch 13/20\n",
      " - 86s - loss: 0.0946 - acc: 0.9709 - val_loss: 0.1310 - val_acc: 0.9639\n",
      "Epoch 14/20\n",
      " - 87s - loss: 0.0914 - acc: 0.9720 - val_loss: 0.1162 - val_acc: 0.9695\n",
      "Epoch 15/20\n",
      " - 86s - loss: 0.0872 - acc: 0.9733 - val_loss: 0.1185 - val_acc: 0.9706\n",
      "Epoch 16/20\n",
      " - 87s - loss: 0.0829 - acc: 0.9749 - val_loss: 0.1185 - val_acc: 0.9691\n",
      "Epoch 17/20\n",
      " - 87s - loss: 0.0805 - acc: 0.9754 - val_loss: 0.1145 - val_acc: 0.9725\n",
      "Epoch 18/20\n",
      " - 87s - loss: 0.0774 - acc: 0.9768 - val_loss: 0.1121 - val_acc: 0.9721\n",
      "Epoch 19/20\n",
      " - 86s - loss: 0.0757 - acc: 0.9771 - val_loss: 0.1100 - val_acc: 0.9726\n",
      "Epoch 20/20\n",
      " - 87s - loss: 0.0743 - acc: 0.9778 - val_loss: 0.1128 - val_acc: 0.9729\n",
      "\n",
      "[0.24112182392389514, 0.9673149973154068]\n"
     ]
    }
   ],
   "source": [
    "from keras_tqdm import TQDMNotebookCallback\n",
    "print('Train...')\n",
    "\n",
    "history = model.fit(x_train, y_train, \\\n",
    "          validation_data=(x_eval, y_eval), \\\n",
    "          epochs=20, shuffle=True, batch_size=1000, \\\n",
    "           callbacks=[TQDMNotebookCallback()], verbose=2)\n",
    "score = model.evaluate(x_test, y_test, \\\n",
    "                       batch_size=1000, verbose=2)\n",
    "print(score)"
   ]
  },
  {
   "cell_type": "markdown",
   "metadata": {},
   "source": [
    "# Allele Level Classification"
   ]
  },
  {
   "cell_type": "code",
   "execution_count": 12,
   "metadata": {
    "collapsed": false
   },
   "outputs": [
    {
     "name": "stdout",
     "output_type": "stream",
     "text": [
      "dict_keys(['val_loss', 'val_acc', 'loss', 'acc'])\n"
     ]
    },
    {
     "data": {
      "image/png": "[encoded data removed]",
      "text/plain": [
       "<matplotlib.figure.Figure at 0x7faf12f2fba8>"
      ]
     },
     "metadata": {},
     "output_type": "display_data"
    },
    {
     "data": {
      "image/png": "[encoded data removed]",
      "text/plain": [
       "<matplotlib.figure.Figure at 0x7faf12fc89b0>"
      ]
     },
     "metadata": {},
     "output_type": "display_data"
    }
   ],
   "source": [
    "import matplotlib.pyplot as plt\n",
    "# list all data in history\n",
    "print(history.history.keys())\n",
    "# summarize history for accuracy\n",
    "plt.plot(history.history['acc'])\n",
    "plt.plot(history.history['val_acc'])\n",
    "plt.title('model accuracy')\n",
    "plt.ylabel('accuracy')\n",
    "plt.xlabel('epoch')\n",
    "plt.legend(['train', 'eval'], loc='upper left')\n",
    "plt.show()\n",
    "# summarize history for loss\n",
    "plt.plot(history.history['loss'])\n",
    "plt.plot(history.history['val_loss'])\n",
    "plt.title('model loss')\n",
    "plt.ylabel('loss')\n",
    "plt.xlabel('epoch')\n",
    "plt.legend(['train', 'eval'], loc='upper left')\n",
    "plt.show()"
   ]
  },
  {
   "cell_type": "markdown",
   "metadata": {},
   "source": [
    "# Chromosome Level Classification"
   ]
  },
  {
   "cell_type": "code",
   "execution_count": 7,
   "metadata": {
    "collapsed": false
   },
   "outputs": [
    {
     "name": "stdout",
     "output_type": "stream",
     "text": [
      "dict_keys(['val_loss', 'val_acc', 'loss', 'acc'])\n"
     ]
    },
    {
     "data": {
      "image/png": "[encoded data removed]",
      "text/plain": [
       "<matplotlib.figure.Figure at 0x7faf3523acc0>"
      ]
     },
     "metadata": {},
     "output_type": "display_data"
    },
    {
     "data": {
      "image/png": "[encoded data removed]",
      "text/plain": [
       "<matplotlib.figure.Figure at 0x7faf32a8aef0>"
      ]
     },
     "metadata": {},
     "output_type": "display_data"
    }
   ],
   "source": [
    "import matplotlib.pyplot as plt\n",
    "# list all data in history\n",
    "print(history.history.keys())\n",
    "# summarize history for accuracy\n",
    "plt.plot(history.history['acc'])\n",
    "plt.plot(history.history['val_acc'])\n",
    "plt.title('model accuracy')\n",
    "plt.ylabel('accuracy')\n",
    "plt.xlabel('epoch')\n",
    "plt.legend(['train', 'eval'], loc='upper left')\n",
    "plt.show()\n",
    "# summarize history for loss\n",
    "plt.plot(history.history['loss'])\n",
    "plt.plot(history.history['val_loss'])\n",
    "plt.title('model loss')\n",
    "plt.ylabel('loss')\n",
    "plt.xlabel('epoch')\n",
    "plt.legend(['train', 'eval'], loc='upper left')\n",
    "plt.show()"
   ]
  },
  {
   "cell_type": "code",
   "execution_count": 8,
   "metadata": {
    "collapsed": false
   },
   "outputs": [],
   "source": [
    "layer_name = \"finlayer\"\n",
    "intermediate_layer_model = Model(inputs=model.input,\n",
    "                                 outputs=model.get_layer(layer_name).get_output_at(0))\n",
    "intermediate_output = intermediate_layer_model.predict(x_test)\n"
   ]
  },
  {
   "cell_type": "code",
   "execution_count": null,
   "metadata": {
    "collapsed": true
   },
   "outputs": [],
   "source": [
    "from sklearn.manifold import TSNE\n",
    "st_index = int(len(intermediate_output) / 2) - 5000\n",
    "end_index = st_index + 10000\n",
    "twod_embeddings = TSNE(n_components=2).fit_transform(intermediate_output[:])\n",
    "print(twod_embeddings.shape)"
   ]
  },
  {
   "cell_type": "code",
   "execution_count": null,
   "metadata": {
    "collapsed": true
   },
   "outputs": [],
   "source": []
  }
 ],
 "metadata": {
  "kernelspec": {
   "display_name": "Python 3",
   "language": "python",
   "name": "python3"
  },
  "language_info": {
   "codemirror_mode": {
    "name": "ipython",
    "version": 3
   },
   "file_extension": ".py",
   "mimetype": "text/x-python",
   "name": "python",
   "nbconvert_exporter": "python",
   "pygments_lexer": "ipython3",
   "version": "3.6.0"
  },
  "widgets": {
   "state": {
    "3b04a3800ccc4b2eac0d9089ae6d5b0f": {
     "views": [
      {
       "cell_index": 6
      }
     ]
    },
    "6e52e0f0375a4e06a719c777d3e46570": {
     "views": [
      {
       "cell_index": 6
      }
     ]
    },
    "c1bbf1f6dd7448fea9e18e3f4a9adc69": {
     "views": [
      {
       "cell_index": 6
      }
     ]
    }
   },
   "version": "1.2.0"
  }
 },
 "nbformat": 4,
 "nbformat_minor": 2
}
