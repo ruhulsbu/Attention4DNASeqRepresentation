{
 "cells": [
  {
   "cell_type": "code",
   "execution_count": 1,
   "metadata": {
    "collapsed": false
   },
   "outputs": [
    {
     "name": "stderr",
     "output_type": "stream",
     "text": [
      "Using TensorFlow backend.\n"
     ]
    }
   ],
   "source": [
    "import os, sys\n",
    "import random, h5py\n",
    "import numpy as np\n",
    "import keras\n",
    "from keras.models import Sequential\n",
    "from keras.layers import Embedding\n",
    "from keras.layers import Dense\n",
    "from keras.layers import Dropout\n",
    "from keras.layers import Activation\n",
    "from keras.optimizers import SGD\n",
    "\n",
    "#Initialize the Program\n",
    "alphabet = \"NACGT.\"\n",
    "vocab_size = 6\n",
    "batch_size = 1000\n",
    "embedding_size = 5\n",
    "time_steps = 101\n",
    "category = 2\n",
    "\n",
    "char_to_int = dict((c, i) for i, c in enumerate(alphabet))\n",
    "int_to_char = dict((i, c) for i, c in enumerate(alphabet))\n"
   ]
  },
  {
   "cell_type": "code",
   "execution_count": 2,
   "metadata": {
    "collapsed": true
   },
   "outputs": [],
   "source": [
    "def reverse_complement(sequence):\n",
    "    retseq = ''\n",
    "    for k in range(len(sequence)-1, -1, -1):\n",
    "        if sequence[k] == 'A':\n",
    "            retseq = retseq + 'T'\n",
    "        elif sequence[k] == 'T':\n",
    "            retseq = retseq + 'A'\n",
    "        elif sequence[k] == 'C':\n",
    "            retseq = retseq + 'G'\n",
    "        elif sequence[k] == 'G':\n",
    "            retseq = retseq + 'C'\n",
    "        else:\n",
    "            retseq = retseq + sequence[k]\n",
    "\n",
    "    \"\"\"\n",
    "    print(\"Revese:\")\n",
    "    print(sequence)\n",
    "    print(retseq)\n",
    "    print()\n",
    "    \"\"\"\n",
    "    return retseq\n"
   ]
  },
  {
   "cell_type": "code",
   "execution_count": 3,
   "metadata": {
    "collapsed": false
   },
   "outputs": [
    {
     "name": "stdout",
     "output_type": "stream",
     "text": [
      "200000 200000 200000\n"
     ]
    }
   ],
   "source": [
    "file_read = open(\"../imgtvgene_sequence_classification/mem.txt\")\n",
    "\n",
    "source_sequence = []\n",
    "target_sequence = []\n",
    "\n",
    "vgene_tag = []\n",
    "vgene_dic = {}\n",
    "vgenes = 0\n",
    "\n",
    "count = 0\n",
    "max_count = 200000\n",
    "\n",
    "line = file_read.readline()\n",
    "for line in file_read:\n",
    "    split = line.strip().split(\" \")\n",
    "    #print(split)\n",
    "    \n",
    "    source = [char_to_int[x] for x in split[2][1:-1]]\n",
    "    source_sequence.append(source)\n",
    "    \n",
    "    seq = [char_to_int[x] for x in split[3][1:-1] if x in \"NACGT\"]\n",
    "    target = source[:len(seq)]\n",
    "    target_sequence.append(target)\n",
    "\n",
    "    \n",
    "    vgene_name = split[-1][1:-1].split(\"*\")[0]\n",
    "    if not vgene_name in vgene_dic:\n",
    "        vgene_dic[vgene_name] = vgenes\n",
    "        vgenes += 1\n",
    "    vgene_tag.append(vgene_dic[vgene_name])\n",
    "    \n",
    "    count += 1\n",
    "    \n",
    "    #print(split[1], vgene_name)\n",
    "    if count == max_count:\n",
    "        break\n",
    "    \n",
    "\n",
    "print(len(source_sequence), len(target_sequence), len(vgene_tag))\n"
   ]
  },
  {
   "cell_type": "markdown",
   "metadata": {},
   "source": [
    "# Stop Index Identification"
   ]
  },
  {
   "cell_type": "code",
   "execution_count": 4,
   "metadata": {
    "collapsed": false
   },
   "outputs": [],
   "source": [
    "x_data = []\n",
    "y_data = []\n",
    "random = []\n",
    "\n",
    "for k in range(max_count):\n",
    "    end_ind = len(target_sequence[k]) - 1\n",
    "    x_data.append(source_sequence[k][end_ind-10:end_ind+10])\n",
    "    y_data.append(1)\n",
    "    \n",
    "    #random_ind = np.random.randint(low=0, high=st_ind-10, size=None)\n",
    "    while True:\n",
    "        random_ind = np.random.randint(low=0, \\\n",
    "                                   high=len(source_sequence[k]), \\\n",
    "                                   size=None)\n",
    "    \n",
    "        if not random_ind == end_ind:\n",
    "            break\n",
    "        \n",
    "    x_data.append(source_sequence[k][random_ind-10:random_ind+10])\n",
    "    y_data.append(0)\n",
    "    random.append(random_ind)\n",
    "    \n",
    "x_data = np.array(x_data)\n",
    "y_data = np.array(y_data)\n",
    "random = np.array(random)"
   ]
  },
  {
   "cell_type": "code",
   "execution_count": 5,
   "metadata": {
    "collapsed": false
   },
   "outputs": [
    {
     "name": "stdout",
     "output_type": "stream",
     "text": [
      "Source: \n",
      "[2, 1, 3, 3, 4, 2, 1, 2, 2, 4, 4, 3, 1, 1, 3, 3, 1, 3, 4, 2, 4, 3, 3, 4, 2, 2, 4, 3, 4, 3, 2, 4, 3, 3, 4, 3, 1, 1, 1, 2, 2, 2, 1, 1, 1, 2, 1, 3, 1, 2, 2, 2, 4, 2, 1, 2, 3, 2, 4, 3, 1, 2, 2, 4, 3, 2, 1, 2, 2, 4, 4, 2, 4, 2, 4, 2, 1, 1, 2, 4, 2, 4, 2, 1, 4, 4, 2, 4, 2, 2, 1, 1, 4, 2, 2, 4, 1, 3, 1, 4, 4, 3, 3, 3, 4, 3, 4, 2, 1, 3, 2, 4, 3, 3, 1, 4, 2, 2, 3, 4, 2, 1, 3, 2, 2, 2, 2, 2, 1, 3, 3, 3, 1, 1, 3, 3, 2, 2, 2, 4, 3, 3, 1, 3, 4, 3, 3, 2, 4, 4, 3, 2, 1, 2, 1, 2, 1, 4, 4, 4, 4, 4, 4, 2, 3, 1, 1, 4, 3, 1, 2, 3, 1, 3, 1, 1, 1, 4, 2, 2, 4, 1, 2, 1, 3, 2, 1, 2, 1, 4, 2, 4, 2, 4, 3, 1, 3, 3, 1, 3, 2, 1, 3, 3, 2, 4, 2, 1, 2, 2, 1, 4, 2, 4, 2, 2, 1, 1, 3, 3, 1, 2, 1, 2, 2, 4, 2, 4, 1, 1, 1, 1, 3, 2, 2, 1, 3, 3, 4, 3, 3, 4, 2, 2, 4, 3, 1, 2, 2, 2, 4, 3, 1, 2, 2, 1, 1, 4, 3, 4, 3, 3, 3, 2, 2, 2, 4, 3, 4, 3, 3, 1, 2, 1, 2, 1, 3, 2, 2, 1, 2, 1, 4, 1, 4, 4, 1, 2, 4, 3, 4, 3, 2, 1, 4, 3, 3, 3, 3, 3, 4, 2, 4, 3, 4, 2, 2, 2, 1, 3, 4, 4, 1, 1, 4, 3, 3, 3, 4, 1, 2, 4, 1, 2, 4, 1, 2, 4, 1, 2, 4, 1, 2, 1, 4, 3, 3, 1, 2, 3, 4, 2, 4, 3, 3, 3, 3, 2, 1, 1, 1, 3, 3, 3, 1, 2, 2, 3, 2, 3, 3, 4, 2, 1, 2, 2, 3, 4, 2, 4, 2, 3, 4, 2, 1]\n",
      "Target: \n",
      "[2, 1, 3, 3, 4, 2, 1, 2, 2, 4, 4, 3, 1, 1, 3, 3, 1, 3, 4, 2, 4, 3, 3, 4, 2, 2, 4, 3, 4, 3, 2, 4, 3, 3, 4, 3, 1, 1, 1, 2, 2, 2, 1, 1, 1, 2, 1, 3, 1, 2, 2, 2, 4, 2, 1, 2, 3, 2, 4, 3, 1, 2, 2, 4, 3, 2, 1, 2, 2, 4, 4, 2, 4, 2, 4, 2, 1, 1, 2, 4, 2, 4, 2, 1, 4, 4, 2, 4, 2, 2, 1, 1, 4, 2, 2, 4, 1, 3, 1, 4, 4, 3, 3, 3, 4, 3, 4, 2, 1, 3, 2, 4, 3, 3, 1, 4, 2, 2, 3, 4, 2, 1, 3, 2, 2, 2, 2, 2, 1, 3, 3, 3, 1, 1, 3, 3, 2, 2, 2, 4, 3, 3, 1, 3, 4, 3, 3, 2, 4, 4, 3, 2, 1, 2, 1, 2, 1, 4, 4, 4, 4, 4, 4, 2, 3, 1, 1, 4, 3, 1, 2, 3, 1, 3, 1, 1, 1, 4, 2, 2, 4, 1, 2, 1, 3, 2, 1, 2, 1, 4, 2, 4, 2, 4, 3, 1, 3, 3, 1, 3, 2, 1, 3, 3, 2, 4, 2, 1, 2, 2, 1, 4, 2, 4, 2, 2, 1, 1, 3, 3, 1, 2, 1, 2, 2, 4, 2, 4, 1, 1, 1, 1, 3, 2, 2, 1, 3, 3, 4, 3, 3, 4, 2, 2, 4, 3, 1, 2, 2, 2, 4, 3, 1, 2, 2, 1, 1, 4, 3, 4, 3, 3, 3, 2, 2, 2, 4, 3, 4, 3, 3, 1, 2, 1, 2, 1, 3, 2, 2, 1, 2, 1, 4, 1, 4, 4, 1, 2, 4, 3, 4, 3, 2, 1, 4, 3, 3, 3, 3, 3, 4]\n",
      "X: \n",
      "[4, 3, 2, 1, 4, 3, 3, 3, 3, 3, 4, 2, 4, 3, 4, 2, 2, 2, 1, 3]\n",
      "Y: \n",
      "1\n"
     ]
    }
   ],
   "source": [
    "print(\"Source: \")\n",
    "print(source_sequence[0])\n",
    "print(\"Target: \")\n",
    "print(target_sequence[0])\n",
    "print(\"X: \")\n",
    "print(x_data[0])\n",
    "print(\"Y: \")\n",
    "print(y_data[0])"
   ]
  },
  {
   "cell_type": "code",
   "execution_count": 6,
   "metadata": {
    "collapsed": false
   },
   "outputs": [
    {
     "name": "stdout",
     "output_type": "stream",
     "text": [
      "Source: \n",
      "[2, 1, 3, 3, 4, 2, 1, 2, 2, 4, 4, 3, 1, 1, 3, 3, 1, 3, 4, 2, 4, 3, 3, 4, 2, 2, 4, 3, 4, 3, 2, 4, 3, 3, 4, 3, 1, 1, 1, 2, 2, 2, 1, 1, 1, 2, 1, 3, 1, 2, 2, 2, 4, 2, 1, 2, 3, 2, 4, 3, 1, 2, 2, 4, 3, 2, 1, 2, 2, 4, 4, 2, 4, 2, 4, 2, 1, 1, 2, 4, 2, 4, 2, 1, 4, 4, 2, 4, 2, 2, 1, 1, 4, 2, 2, 4, 1, 3, 1, 4, 4, 3, 3, 3, 4, 3, 4, 2, 1, 3, 2, 4, 3, 3, 1, 4, 2, 2, 3, 4, 2, 1, 3, 2, 2, 2, 2, 2, 1, 3, 3, 3, 1, 1, 3, 3, 2, 2, 2, 4, 3, 3, 1, 3, 4, 3, 3, 2, 4, 4, 3, 2, 1, 2, 1, 2, 1, 4, 4, 4, 4, 4, 4, 2, 3, 1, 1, 4, 3, 1, 2, 3, 1, 3, 1, 1, 1, 4, 2, 2, 4, 1, 2, 1, 3, 2, 1, 2, 1, 4, 2, 4, 2, 4, 3, 1, 3, 3, 1, 3, 2, 1, 3, 3, 2, 4, 2, 1, 2, 2, 1, 4, 2, 4, 2, 2, 1, 1, 3, 3, 1, 2, 1, 2, 2, 4, 2, 4, 1, 1, 1, 1, 3, 2, 2, 1, 3, 3, 4, 3, 3, 4, 2, 2, 4, 3, 1, 2, 2, 2, 4, 3, 1, 2, 2, 1, 1, 4, 3, 4, 3, 3, 3, 2, 2, 2, 4, 3, 4, 3, 3, 1, 2, 1, 2, 1, 3, 2, 2, 1, 2, 1, 4, 1, 4, 4, 1, 2, 4, 3, 4, 3, 2, 1, 4, 3, 3, 3, 3, 3, 4, 2, 4, 3, 4, 2, 2, 2, 1, 3, 4, 4, 1, 1, 4, 3, 3, 3, 4, 1, 2, 4, 1, 2, 4, 1, 2, 4, 1, 2, 4, 1, 2, 1, 4, 3, 3, 1, 2, 3, 4, 2, 4, 3, 3, 3, 3, 2, 1, 1, 1, 3, 3, 3, 1, 2, 2, 3, 2, 3, 3, 4, 2, 1, 2, 2, 3, 4, 2, 4, 2, 3, 4, 2, 1]\n",
      "Target: \n",
      "[2, 1, 3, 3, 4, 2, 1, 2, 2, 4, 4, 3, 1, 1, 3, 3, 1, 3, 4, 2, 4, 3, 3, 4, 2, 2, 4, 3, 4, 3, 2, 4, 3, 3, 4, 3, 1, 1, 1, 2, 2, 2, 1, 1, 1, 2, 1, 3, 1, 2, 2, 2, 4, 2, 1, 2, 3, 2, 4, 3, 1, 2, 2, 4, 3, 2, 1, 2, 2, 4, 4, 2, 4, 2, 4, 2, 1, 1, 2, 4, 2, 4, 2, 1, 4, 4, 2, 4, 2, 2, 1, 1, 4, 2, 2, 4, 1, 3, 1, 4, 4, 3, 3, 3, 4, 3, 4, 2, 1, 3, 2, 4, 3, 3, 1, 4, 2, 2, 3, 4, 2, 1, 3, 2, 2, 2, 2, 2, 1, 3, 3, 3, 1, 1, 3, 3, 2, 2, 2, 4, 3, 3, 1, 3, 4, 3, 3, 2, 4, 4, 3, 2, 1, 2, 1, 2, 1, 4, 4, 4, 4, 4, 4, 2, 3, 1, 1, 4, 3, 1, 2, 3, 1, 3, 1, 1, 1, 4, 2, 2, 4, 1, 2, 1, 3, 2, 1, 2, 1, 4, 2, 4, 2, 4, 3, 1, 3, 3, 1, 3, 2, 1, 3, 3, 2, 4, 2, 1, 2, 2, 1, 4, 2, 4, 2, 2, 1, 1, 3, 3, 1, 2, 1, 2, 2, 4, 2, 4, 1, 1, 1, 1, 3, 2, 2, 1, 3, 3, 4, 3, 3, 4, 2, 2, 4, 3, 1, 2, 2, 2, 4, 3, 1, 2, 2, 1, 1, 4, 3, 4, 3, 3, 3, 2, 2, 2, 4, 3, 4, 3, 3, 1, 2, 1, 2, 1, 3, 2, 2, 1, 2, 1, 4, 1, 4, 4, 1, 2, 4, 3, 4, 3, 2, 1, 4, 3, 3, 3, 3, 3, 4]\n",
      "X: \n",
      "[1, 2, 4, 1, 2, 4, 1, 2, 4, 1, 2, 4, 1, 2, 1, 4, 3, 3, 1, 2]\n",
      "Y: \n",
      "0 329\n"
     ]
    }
   ],
   "source": [
    "print(\"Source: \")\n",
    "print(source_sequence[0])\n",
    "print(\"Target: \")\n",
    "print(target_sequence[0])\n",
    "print(\"X: \")\n",
    "print(x_data[1])\n",
    "print(\"Y: \")\n",
    "print(y_data[1], random[0])"
   ]
  },
  {
   "cell_type": "code",
   "execution_count": 7,
   "metadata": {
    "collapsed": false
   },
   "outputs": [
    {
     "name": "stdout",
     "output_type": "stream",
     "text": [
      "train, eval, test =  (240000, 320000, 400000)\n",
      "(240000, 20) (240000,)\n",
      "(80000, 20) (80000,)\n",
      "(80000, 20) (80000,)\n"
     ]
    }
   ],
   "source": [
    "from keras.utils import to_categorical\n",
    "from keras.preprocessing.sequence import pad_sequences\n",
    "\n",
    "x_data = pad_sequences(x_data, maxlen=20, value=0, padding='post')\n",
    "\n",
    "train_index = int((len(x_data) / batch_size) * 0.60 * batch_size)\n",
    "eval_index = train_index + int((len(x_data) / batch_size) * 0.20 * batch_size)\n",
    "test_index = eval_index + int((len(x_data) / batch_size) * 0.20 * batch_size)\n",
    "print(\"train, eval, test = \", (train_index, eval_index, test_index))\n",
    "\n",
    "x_train = x_data[0:train_index]\n",
    "y_train = y_data[0:train_index]\n",
    "\n",
    "x_eval = x_data[train_index:eval_index]\n",
    "y_eval = y_data[train_index:eval_index]\n",
    "\n",
    "x_test = x_data[eval_index:test_index]\n",
    "y_test = y_data[eval_index:test_index]\n",
    "\n",
    "print(x_train.shape, y_train.shape)\n",
    "print(x_eval.shape, y_eval.shape)\n",
    "print(x_test.shape, y_test.shape)"
   ]
  },
  {
   "cell_type": "code",
   "execution_count": 8,
   "metadata": {
    "collapsed": false
   },
   "outputs": [
    {
     "name": "stdout",
     "output_type": "stream",
     "text": [
      "[4 3 2 1 4 3 3 3 3 3 4 2 4 3 4 2 2 2 1 3] 1\n",
      "[1 2 4 1 2 4 1 2 4 1 2 4 1 2 1 4 3 3 1 2] 0\n"
     ]
    }
   ],
   "source": [
    "print(x_train[0], y_train[0])\n",
    "print(x_train[1], y_train[1])"
   ]
  },
  {
   "cell_type": "markdown",
   "metadata": {},
   "source": [
    "# Baseline Network"
   ]
  },
  {
   "cell_type": "code",
   "execution_count": 9,
   "metadata": {
    "collapsed": false
   },
   "outputs": [
    {
     "name": "stdout",
     "output_type": "stream",
     "text": [
      "_________________________________________________________________\n",
      "Layer (type)                 Output Shape              Param #   \n",
      "=================================================================\n",
      "main_input (InputLayer)      (None, 20)                0         \n",
      "_________________________________________________________________\n",
      "embedding (Embedding)        (None, 20, 5)             30        \n",
      "_________________________________________________________________\n",
      "reshape_1 (Reshape)          (None, 100)               0         \n",
      "_________________________________________________________________\n",
      "fstlayer (Dense)             (None, 64)                6464      \n",
      "_________________________________________________________________\n",
      "dropout_1 (Dropout)          (None, 64)                0         \n",
      "_________________________________________________________________\n",
      "midlayer (Dense)             (None, 32)                2080      \n",
      "_________________________________________________________________\n",
      "dropout_2 (Dropout)          (None, 32)                0         \n",
      "_________________________________________________________________\n",
      "finlayer (Dense)             (None, 16)                528       \n",
      "_________________________________________________________________\n",
      "dropout_3 (Dropout)          (None, 16)                0         \n",
      "_________________________________________________________________\n",
      "output (Dense)               (None, 1)                 17        \n",
      "=================================================================\n",
      "Total params: 9,119\n",
      "Trainable params: 9,119\n",
      "Non-trainable params: 0\n",
      "_________________________________________________________________\n"
     ]
    }
   ],
   "source": [
    "from keras.layers import Input, Embedding\n",
    "from keras.layers import Reshape, Dense\n",
    "from keras.models import Model\n",
    "\n",
    "input_source = Input(shape=(20,), \\\n",
    "                     dtype='int32', name='main_input')\n",
    "embedding = Embedding(input_dim=vocab_size, \\\n",
    "                      output_dim=embedding_size, \\\n",
    "                      input_length=20, \\\n",
    "                      name='embedding')(input_source)\n",
    "\n",
    "reshape_layer = Reshape((20*embedding_size,))(embedding)\n",
    "\n",
    "dense_layer_first = Dense(64, activation='relu', \\\n",
    "                        name='fstlayer')(reshape_layer)\n",
    "dense_layer_first = Dropout(0.25)(dense_layer_first)\n",
    "\n",
    "dense_layer_mid = Dense(32, activation='relu', \\\n",
    "                        name='midlayer')(dense_layer_first)\n",
    "dense_layer_mid = Dropout(0.25)(dense_layer_mid)\n",
    "\n",
    "dense_layer = Dense(16, activation='relu', \\\n",
    "                    name='finlayer')(dense_layer_mid)\n",
    "dense_layer = Dropout(0.25)(dense_layer)\n",
    "\n",
    "dense_output = Dense(1, activation='sigmoid', \\\n",
    "                     name='output')(dense_layer)#reshape_layer\n",
    "\n",
    "model = Model(inputs=[input_source], outputs=[dense_output])\n",
    "model.compile(loss='binary_crossentropy',\n",
    "              optimizer='adam',\n",
    "              metrics=['accuracy'])\n",
    "\n",
    "model.summary()"
   ]
  },
  {
   "cell_type": "code",
   "execution_count": 10,
   "metadata": {
    "collapsed": false,
    "scrolled": true
   },
   "outputs": [
    {
     "name": "stdout",
     "output_type": "stream",
     "text": [
      "Train...\n",
      "Train on 240000 samples, validate on 80000 samples\n",
      "Epoch 1/20\n",
      " - 3s - loss: 0.2855 - acc: 0.8978 - val_loss: 0.1306 - val_acc: 0.9567\n",
      "Epoch 2/20\n",
      " - 2s - loss: 0.1367 - acc: 0.9578 - val_loss: 0.0922 - val_acc: 0.9708\n",
      "Epoch 3/20\n",
      " - 2s - loss: 0.1132 - acc: 0.9665 - val_loss: 0.0823 - val_acc: 0.9755\n",
      "Epoch 4/20\n",
      " - 2s - loss: 0.1034 - acc: 0.9699 - val_loss: 0.0771 - val_acc: 0.9767\n",
      "Epoch 5/20\n",
      " - 2s - loss: 0.0961 - acc: 0.9718 - val_loss: 0.0745 - val_acc: 0.9774\n",
      "Epoch 6/20\n",
      " - 2s - loss: 0.0920 - acc: 0.9730 - val_loss: 0.0712 - val_acc: 0.9781\n",
      "Epoch 7/20\n",
      " - 2s - loss: 0.0893 - acc: 0.9734 - val_loss: 0.0698 - val_acc: 0.9780\n",
      "Epoch 8/20\n",
      " - 2s - loss: 0.0872 - acc: 0.9741 - val_loss: 0.0684 - val_acc: 0.9782\n",
      "Epoch 9/20\n",
      " - 2s - loss: 0.0847 - acc: 0.9747 - val_loss: 0.0672 - val_acc: 0.9786\n",
      "Epoch 10/20\n",
      " - 2s - loss: 0.0830 - acc: 0.9749 - val_loss: 0.0659 - val_acc: 0.9789\n",
      "Epoch 11/20\n",
      " - 2s - loss: 0.0820 - acc: 0.9750 - val_loss: 0.0663 - val_acc: 0.9789\n",
      "Epoch 12/20\n",
      " - 2s - loss: 0.0812 - acc: 0.9754 - val_loss: 0.0658 - val_acc: 0.9791\n",
      "Epoch 13/20\n",
      " - 2s - loss: 0.0798 - acc: 0.9758 - val_loss: 0.0655 - val_acc: 0.9789\n",
      "Epoch 14/20\n",
      " - 2s - loss: 0.0790 - acc: 0.9763 - val_loss: 0.0654 - val_acc: 0.9790\n",
      "Epoch 15/20\n",
      " - 2s - loss: 0.0787 - acc: 0.9759 - val_loss: 0.0644 - val_acc: 0.9791\n",
      "Epoch 16/20\n",
      " - 2s - loss: 0.0771 - acc: 0.9763 - val_loss: 0.0641 - val_acc: 0.9794\n",
      "Epoch 17/20\n",
      " - 2s - loss: 0.0769 - acc: 0.9762 - val_loss: 0.0643 - val_acc: 0.9794\n",
      "Epoch 18/20\n",
      " - 2s - loss: 0.0764 - acc: 0.9761 - val_loss: 0.0642 - val_acc: 0.9794\n",
      "Epoch 19/20\n",
      " - 2s - loss: 0.0752 - acc: 0.9765 - val_loss: 0.0640 - val_acc: 0.9795\n",
      "Epoch 20/20\n",
      " - 2s - loss: 0.0748 - acc: 0.9768 - val_loss: 0.0637 - val_acc: 0.9796\n",
      "\n",
      "[0.0704898131545633, 0.9780375011265278]\n"
     ]
    }
   ],
   "source": [
    "from keras_tqdm import TQDMNotebookCallback\n",
    "print('Train...')\n",
    "\n",
    "history = model.fit(x_train, y_train, \\\n",
    "          validation_data=(x_eval, y_eval), \\\n",
    "          epochs=20, shuffle=True, batch_size=1000, \\\n",
    "           callbacks=[TQDMNotebookCallback()], verbose=2)\n",
    "score = model.evaluate(x_test, y_test, \\\n",
    "                       batch_size=1000, verbose=2)\n",
    "print(score)"
   ]
  },
  {
   "cell_type": "code",
   "execution_count": 11,
   "metadata": {
    "collapsed": false
   },
   "outputs": [
    {
     "name": "stdout",
     "output_type": "stream",
     "text": [
      "dict_keys(['val_loss', 'val_acc', 'loss', 'acc'])\n"
     ]
    },
    {
     "data": {
      "image/png": "[encoded data removed]",
      "text/plain": [
       "<matplotlib.figure.Figure at 0x7f4f710276a0>"
      ]
     },
     "metadata": {},
     "output_type": "display_data"
    },
    {
     "data": {
      "image/png": "[encoded data removed]",
      "text/plain": [
       "<matplotlib.figure.Figure at 0x7f4f2baf2908>"
      ]
     },
     "metadata": {},
     "output_type": "display_data"
    }
   ],
   "source": [
    "import matplotlib.pyplot as plt\n",
    "# list all data in history\n",
    "print(history.history.keys())\n",
    "# summarize history for accuracy\n",
    "plt.plot(history.history['acc'])\n",
    "plt.plot(history.history['val_acc'])\n",
    "plt.title('model accuracy')\n",
    "plt.ylabel('accuracy')\n",
    "plt.xlabel('epoch')\n",
    "plt.legend(['train', 'eval'], loc='upper left')\n",
    "plt.show()\n",
    "# summarize history for loss\n",
    "plt.plot(history.history['loss'])\n",
    "plt.plot(history.history['val_loss'])\n",
    "plt.title('model loss')\n",
    "plt.ylabel('loss')\n",
    "plt.xlabel('epoch')\n",
    "plt.legend(['train', 'eval'], loc='upper left')\n",
    "plt.show()"
   ]
  },
  {
   "cell_type": "code",
   "execution_count": 12,
   "metadata": {
    "collapsed": false
   },
   "outputs": [
    {
     "name": "stdout",
     "output_type": "stream",
     "text": [
      "400000 20 400000\n",
      "(400000, 20) (400000,)\n",
      "[0.0634697859082371, 0.9797400012612343]\n"
     ]
    }
   ],
   "source": [
    "print(len(x_data), len(x_data[0]), len(y_data))\n",
    "x_data = np.array(x_data)\n",
    "y_data = np.array(y_data)\n",
    "print(x_data.shape, y_data.shape)\n",
    "\n",
    "score = model.evaluate(x_data, y_data, \\\n",
    "                       batch_size=1000, verbose=2)\n",
    "print(score)"
   ]
  },
  {
   "cell_type": "code",
   "execution_count": 13,
   "metadata": {
    "collapsed": false
   },
   "outputs": [
    {
     "name": "stdout",
     "output_type": "stream",
     "text": [
      "             precision    recall  f1-score   support\n",
      "\n",
      "          0       0.98      0.98      0.98    200000\n",
      "          1       0.98      0.98      0.98    200000\n",
      "\n",
      "avg / total       0.98      0.98      0.98    400000\n",
      "\n",
      "Accuracy:  0.97974\n"
     ]
    }
   ],
   "source": [
    "from sklearn.metrics import confusion_matrix, classification_report\n",
    "\n",
    "y_predict = model.predict(x_data)\n",
    "print(classification_report(y_true=y_data, y_pred=np.round(y_predict)))\n",
    "result = [int(y_predict[i] >= 0.50) for i in range(len(y_predict))]\n",
    "#print(len(result), len(y_test))\n",
    "print(\"Accuracy: \", (1.0 * np.sum(np.equal(result, y_data)) / len(y_data)))"
   ]
  },
  {
   "cell_type": "code",
   "execution_count": 14,
   "metadata": {
    "collapsed": false
   },
   "outputs": [
    {
     "data": {
      "image/png": "[encoded data removed]",
      "text/plain": [
       "<matplotlib.figure.Figure at 0x7f4f733f4e10>"
      ]
     },
     "metadata": {},
     "output_type": "display_data"
    }
   ],
   "source": [
    "import matplotlib.pyplot as plt\n",
    "plt.hist(y_predict)\n",
    "plt.show()"
   ]
  },
  {
   "cell_type": "markdown",
   "metadata": {
    "collapsed": true
   },
   "source": [
    "# Attention Layer"
   ]
  },
  {
   "cell_type": "code",
   "execution_count": 19,
   "metadata": {
    "collapsed": false
   },
   "outputs": [],
   "source": [
    "DIM_ENC = 5 # dimension of a one-hot encoded vector (e.g., 4 (sequence) x 4 (structure) = 16)\n",
    "DIM_LSTM1 = 16\n",
    "DIM_LSTM2 = 16\n",
    "DIM_DENSE1 = 256\n",
    "DMI_DENSE2 = 128\n",
    "N_CLASSES = 1"
   ]
  },
  {
   "cell_type": "code",
   "execution_count": 22,
   "metadata": {
    "collapsed": false
   },
   "outputs": [
    {
     "name": "stdout",
     "output_type": "stream",
     "text": [
      "Mask:  Tensor(\"masking_6/Any_1:0\", shape=(?, 20), dtype=bool)\n",
      "Cast:  Tensor(\"soft_attention_3/Cast:0\", shape=(?, 20), dtype=float32)\n",
      "Return PT\n",
      "Vector:  Tensor(\"soft_attention_3/mul_1:0\", shape=(?, 20), dtype=float32)\n",
      "Vector:  Tensor(\"soft_attention_3/ExpandDims:0\", shape=(?, 20, 1), dtype=float32)\n",
      "Object:  Tensor(\"lstm_6/transpose_2:0\", shape=(?, ?, 16), dtype=float32) (None, 20, 16)\n",
      "_________________________________________________________________\n",
      "Layer (type)                 Output Shape              Param #   \n",
      "=================================================================\n",
      "main_input (InputLayer)      (None, 20)                0         \n",
      "_________________________________________________________________\n",
      "embedding (Embedding)        (None, 20, 5)             30        \n",
      "_________________________________________________________________\n",
      "masking_6 (Masking)          (None, 20, 5)             0         \n",
      "_________________________________________________________________\n",
      "lstm_5 (LSTM)                (None, 20, 16)            1408      \n",
      "_________________________________________________________________\n",
      "lstm_6 (LSTM)                (None, 20, 16)            2112      \n",
      "_________________________________________________________________\n",
      "soft_attention_3 (SoftAttent [(None, 320), (None, 20)] 17        \n",
      "_________________________________________________________________\n",
      "dropout_8 (Dropout)          (None, 320)               0         \n",
      "_________________________________________________________________\n",
      "dense_7 (Dense)              (None, 256)               82176     \n",
      "_________________________________________________________________\n",
      "dropout_9 (Dropout)          (None, 256)               0         \n",
      "_________________________________________________________________\n",
      "dense_8 (Dense)              (None, 128)               32896     \n",
      "_________________________________________________________________\n",
      "dense_9 (Dense)              (None, 1)                 129       \n",
      "=================================================================\n",
      "Total params: 118,768\n",
      "Trainable params: 118,768\n",
      "Non-trainable params: 0\n",
      "_________________________________________________________________\n"
     ]
    }
   ],
   "source": [
    "from keras.layers import Input\n",
    "from keras.layers import Embedding\n",
    "from keras.layers import Masking\n",
    "from keras.layers import Reshape\n",
    "from keras.layers import Dense\n",
    "from keras.layers import LSTM\n",
    "from keras.layers import TimeDistributed\n",
    "from keras.layers import RepeatVector\n",
    "from keras.models import Model\n",
    "from deepMiRGene import SoftAttention\n",
    "from custom_recurrents import AttentionDecoder\n",
    "from keras_tqdm import TQDMNotebookCallback\n",
    "\n",
    "input_source = Input(shape=(20,), \\\n",
    "                     dtype='int32', name='main_input')\n",
    "embedding = Embedding(input_dim=vocab_size, \\\n",
    "                      output_dim=embedding_size, \\\n",
    "                      input_length=20, \\\n",
    "                      name='embedding')(input_source)\n",
    "msk = Masking(mask_value=0)(embedding)\n",
    "lstm1 = LSTM(DIM_LSTM1, return_sequences=True, dropout=0.1, recurrent_dropout=0.1)(msk)\n",
    "lstm2 = LSTM(DIM_LSTM2, return_sequences=True, dropout=0.1, recurrent_dropout=0.1)(lstm1)\n",
    "\n",
    "att, pv = SoftAttention(lstm2)(lstm2)\n",
    "\n",
    "do1 = Dropout(0.1)(att)\n",
    "dense1 = Dense(DIM_DENSE1,activation='sigmoid')(do1)\n",
    "do2 = Dropout(0.1)(dense1)\n",
    "dense2 = Dense(DMI_DENSE2,activation='sigmoid')(do2)\n",
    "outputs = Dense(N_CLASSES,activation='sigmoid')(dense2)\n",
    "\n",
    "model = Model(inputs=[input_source], outputs=[outputs])\n",
    "model.compile(loss='binary_crossentropy',\n",
    "              optimizer='adam',\n",
    "              metrics=['accuracy'])\n",
    "\n",
    "model.summary()"
   ]
  },
  {
   "cell_type": "code",
   "execution_count": 23,
   "metadata": {
    "collapsed": false
   },
   "outputs": [
    {
     "name": "stdout",
     "output_type": "stream",
     "text": [
      "Train...\n",
      "Train on 240000 samples, validate on 80000 samples\n",
      "Epoch 1/20\n",
      " - 31s - loss: 0.5165 - acc: 0.7150 - val_loss: 0.3044 - val_acc: 0.8855\n",
      "Epoch 2/20\n",
      " - 28s - loss: 0.3134 - acc: 0.8781 - val_loss: 0.2505 - val_acc: 0.9035\n",
      "Epoch 3/20\n",
      " - 28s - loss: 0.2552 - acc: 0.9001 - val_loss: 0.1895 - val_acc: 0.9391\n",
      "Epoch 4/20\n",
      " - 28s - loss: 0.2116 - acc: 0.9217 - val_loss: 0.1701 - val_acc: 0.9461\n",
      "Epoch 5/20\n",
      " - 28s - loss: 0.1968 - acc: 0.9314 - val_loss: 0.1590 - val_acc: 0.9512\n",
      "Epoch 6/20\n",
      " - 28s - loss: 0.1870 - acc: 0.9362 - val_loss: 0.1530 - val_acc: 0.9519\n",
      "Epoch 7/20\n",
      " - 28s - loss: 0.1792 - acc: 0.9389 - val_loss: 0.1441 - val_acc: 0.9528\n",
      "Epoch 8/20\n",
      " - 28s - loss: 0.1722 - acc: 0.9413 - val_loss: 0.1398 - val_acc: 0.9530\n",
      "Epoch 9/20\n",
      " - 28s - loss: 0.1655 - acc: 0.9432 - val_loss: 0.1328 - val_acc: 0.9563\n",
      "Epoch 10/20\n",
      " - 28s - loss: 0.1587 - acc: 0.9455 - val_loss: 0.1267 - val_acc: 0.9585\n",
      "Epoch 11/20\n",
      " - 28s - loss: 0.1522 - acc: 0.9483 - val_loss: 0.1257 - val_acc: 0.9598\n",
      "Epoch 12/20\n",
      " - 28s - loss: 0.1474 - acc: 0.9496 - val_loss: 0.1187 - val_acc: 0.9619\n",
      "Epoch 13/20\n",
      " - 28s - loss: 0.1416 - acc: 0.9520 - val_loss: 0.1151 - val_acc: 0.9622\n",
      "Epoch 14/20\n",
      " - 28s - loss: 0.1370 - acc: 0.9532 - val_loss: 0.1121 - val_acc: 0.9622\n",
      "Epoch 15/20\n",
      " - 28s - loss: 0.1335 - acc: 0.9543 - val_loss: 0.1079 - val_acc: 0.9645\n",
      "Epoch 16/20\n",
      " - 28s - loss: 0.1299 - acc: 0.9555 - val_loss: 0.1073 - val_acc: 0.9642\n",
      "Epoch 17/20\n",
      " - 28s - loss: 0.1260 - acc: 0.9566 - val_loss: 0.1027 - val_acc: 0.9655\n",
      "Epoch 18/20\n",
      " - 28s - loss: 0.1233 - acc: 0.9581 - val_loss: 0.1018 - val_acc: 0.9672\n",
      "Epoch 19/20\n",
      " - 28s - loss: 0.1204 - acc: 0.9591 - val_loss: 0.0984 - val_acc: 0.9688\n",
      "Epoch 20/20\n",
      " - 28s - loss: 0.1181 - acc: 0.9602 - val_loss: 0.0965 - val_acc: 0.9692\n",
      "\n",
      "[0.10291095664724707, 0.9662750005722046]\n"
     ]
    }
   ],
   "source": [
    "from keras_tqdm import TQDMNotebookCallback\n",
    "print('Train...')\n",
    "\n",
    "history = model.fit(x_train, y_train, \\\n",
    "          validation_data=(x_eval, y_eval), \\\n",
    "          epochs=20, shuffle=True, batch_size=1000, \\\n",
    "           callbacks=[TQDMNotebookCallback()], verbose=2)\n",
    "score = model.evaluate(x_test, y_test, \\\n",
    "                       batch_size=1000, verbose=2)\n",
    "print(score)"
   ]
  },
  {
   "cell_type": "code",
   "execution_count": 24,
   "metadata": {
    "collapsed": false
   },
   "outputs": [
    {
     "name": "stdout",
     "output_type": "stream",
     "text": [
      "dict_keys(['val_loss', 'val_acc', 'loss', 'acc'])\n"
     ]
    },
    {
     "data": {
      "image/png": "[encoded data removed]",
      "text/plain": [
       "<matplotlib.figure.Figure at 0x7f4ce80c29b0>"
      ]
     },
     "metadata": {},
     "output_type": "display_data"
    },
    {
     "data": {
      "image/png": "[encoded data removed]",
      "text/plain": [
       "<matplotlib.figure.Figure at 0x7f4ce817b748>"
      ]
     },
     "metadata": {},
     "output_type": "display_data"
    }
   ],
   "source": [
    "import matplotlib.pyplot as plt\n",
    "# list all data in history\n",
    "print(history.history.keys())\n",
    "# summarize history for accuracy\n",
    "plt.plot(history.history['acc'])\n",
    "plt.plot(history.history['val_acc'])\n",
    "plt.title('model accuracy')\n",
    "plt.ylabel('accuracy')\n",
    "plt.xlabel('epoch')\n",
    "plt.legend(['train', 'eval'], loc='upper left')\n",
    "plt.show()\n",
    "# summarize history for loss\n",
    "plt.plot(history.history['loss'])\n",
    "plt.plot(history.history['val_loss'])\n",
    "plt.title('model loss')\n",
    "plt.ylabel('loss')\n",
    "plt.xlabel('epoch')\n",
    "plt.legend(['train', 'eval'], loc='upper left')\n",
    "plt.show()"
   ]
  },
  {
   "cell_type": "code",
   "execution_count": 25,
   "metadata": {
    "collapsed": false
   },
   "outputs": [
    {
     "name": "stdout",
     "output_type": "stream",
     "text": [
      "             precision    recall  f1-score   support\n",
      "\n",
      "          0       0.96      0.97      0.97    200000\n",
      "          1       0.97      0.96      0.97    200000\n",
      "\n",
      "avg / total       0.97      0.97      0.97    400000\n",
      "\n",
      "Accuracy:  0.9675125\n"
     ]
    }
   ],
   "source": [
    "from sklearn.metrics import confusion_matrix, classification_report\n",
    "\n",
    "y_predict = model.predict(x_data)\n",
    "print(classification_report(y_true=y_data, y_pred=np.round(y_predict)))\n",
    "result = [int(y_predict[i] >= 0.50) for i in range(len(y_predict))]\n",
    "#print(len(result), len(y_test))\n",
    "print(\"Accuracy: \", (1.0 * np.sum(np.equal(result, y_data)) / len(y_data)))"
   ]
  },
  {
   "cell_type": "code",
   "execution_count": 26,
   "metadata": {
    "collapsed": false
   },
   "outputs": [
    {
     "data": {
      "image/png": "[encoded data removed]",
      "text/plain": [
       "<matplotlib.figure.Figure at 0x7f4ce80cd198>"
      ]
     },
     "metadata": {},
     "output_type": "display_data"
    }
   ],
   "source": [
    "import matplotlib.pyplot as plt\n",
    "plt.hist(y_predict)\n",
    "plt.show()"
   ]
  },
  {
   "cell_type": "markdown",
   "metadata": {},
   "source": [
    "# Why Dense Layer Better Than RNN"
   ]
  },
  {
   "cell_type": "code",
   "execution_count": 34,
   "metadata": {
    "collapsed": false
   },
   "outputs": [
    {
     "data": {
      "image/png": "[encoded data removed]",
      "text/plain": [
       "<matplotlib.figure.Figure at 0x7f4c4e1faba8>"
      ]
     },
     "metadata": {},
     "output_type": "display_data"
    }
   ],
   "source": [
    "import pandas\n",
    "import matplotlib.pyplot as plt\n",
    "dataset = pandas.read_csv('international-airline-passengers.csv', usecols=[1], engine='python', skipfooter=3)\n",
    "plt.plot(dataset)\n",
    "plt.show()"
   ]
  },
  {
   "cell_type": "code",
   "execution_count": 39,
   "metadata": {
    "collapsed": false,
    "scrolled": true
   },
   "outputs": [
    {
     "name": "stdout",
     "output_type": "stream",
     "text": [
      "Data:  (90, 5) (90,)\n",
      "_________________________________________________________________\n",
      "Layer (type)                 Output Shape              Param #   \n",
      "=================================================================\n",
      "flatten_4 (Flatten)          (None, 5)                 0         \n",
      "_________________________________________________________________\n",
      "dense_23 (Dense)             (None, 16)                96        \n",
      "_________________________________________________________________\n",
      "dense_24 (Dense)             (None, 1)                 17        \n",
      "=================================================================\n",
      "Total params: 113\n",
      "Trainable params: 113\n",
      "Non-trainable params: 0\n",
      "_________________________________________________________________\n",
      "Train Score: 21.36 RMSE\n",
      "Test Score: 47.19 RMSE\n"
     ]
    },
    {
     "data": {
      "image/png": "[encoded data removed]",
      "text/plain": [
       "<matplotlib.figure.Figure at 0x7f4c4bb50160>"
      ]
     },
     "metadata": {},
     "output_type": "display_data"
    }
   ],
   "source": [
    "# LSTM for international airline passengers problem with regression framing\n",
    "import numpy\n",
    "import matplotlib.pyplot as plt\n",
    "from pandas import read_csv\n",
    "import math\n",
    "from keras.models import Sequential\n",
    "from keras.layers import Dense\n",
    "from keras.layers import Flatten\n",
    "from sklearn.preprocessing import MinMaxScaler\n",
    "from sklearn.metrics import mean_squared_error\n",
    "# convert an array of values into a dataset matrix\n",
    "def create_dataset(dataset, look_back=1):\n",
    "\tdataX, dataY = [], []\n",
    "\tfor i in range(len(dataset)-look_back-1):\n",
    "\t\ta = dataset[i:(i+look_back), 0]\n",
    "\t\tdataX.append(a)\n",
    "\t\tdataY.append(dataset[i + look_back, 0])\n",
    "\treturn numpy.array(dataX), numpy.array(dataY)\n",
    "# fix random seed for reproducibility\n",
    "numpy.random.seed(7)\n",
    "# load the dataset\n",
    "dataframe = read_csv('international-airline-passengers.csv', usecols=[1], engine='python', skipfooter=3)\n",
    "dataset = dataframe.values\n",
    "dataset = dataset.astype('float32')\n",
    "# normalize the dataset\n",
    "scaler = MinMaxScaler(feature_range=(0, 1))\n",
    "dataset = scaler.fit_transform(dataset)\n",
    "# split into train and test sets\n",
    "train_size = int(len(dataset) * 0.67)\n",
    "test_size = len(dataset) - train_size\n",
    "train, test = dataset[0:train_size,:], dataset[train_size:len(dataset),:]\n",
    "# reshape into X=t and Y=t+1\n",
    "look_back = 5\n",
    "trainX, trainY = create_dataset(train, look_back)\n",
    "testX, testY = create_dataset(test, look_back)\n",
    "print(\"Data: \", trainX.shape, trainY.shape)\n",
    "# reshape input to be [samples, time steps, features]\n",
    "trainX = numpy.reshape(trainX, (trainX.shape[0], 1, trainX.shape[1]))\n",
    "testX = numpy.reshape(testX, (testX.shape[0], 1, testX.shape[1]))\n",
    "# create and fit the LSTM network\n",
    "model = Sequential()\n",
    "model.add(Flatten(input_shape=(1, look_back)))\n",
    "model.add(Dense(16))\n",
    "model.add(Dense(1))\n",
    "model.compile(loss='mean_squared_error', optimizer='adam')\n",
    "model.fit(trainX, trainY, epochs=100, batch_size=1, verbose=0)\n",
    "model.summary()\n",
    "# make predictions\n",
    "trainPredict = model.predict(trainX)\n",
    "testPredict = model.predict(testX)\n",
    "# invert predictions\n",
    "trainPredict = scaler.inverse_transform(trainPredict)\n",
    "trainY = scaler.inverse_transform([trainY])\n",
    "testPredict = scaler.inverse_transform(testPredict)\n",
    "testY = scaler.inverse_transform([testY])\n",
    "# calculate root mean squared error\n",
    "trainScore = math.sqrt(mean_squared_error(trainY[0], trainPredict[:,0]))\n",
    "print('Train Score: %.2f RMSE' % (trainScore))\n",
    "testScore = math.sqrt(mean_squared_error(testY[0], testPredict[:,0]))\n",
    "print('Test Score: %.2f RMSE' % (testScore))\n",
    "# shift train predictions for plotting\n",
    "trainPredictPlot = numpy.empty_like(dataset)\n",
    "trainPredictPlot[:, :] = numpy.nan\n",
    "trainPredictPlot[look_back:len(trainPredict)+look_back, :] = trainPredict\n",
    "# shift test predictions for plotting\n",
    "testPredictPlot = numpy.empty_like(dataset)\n",
    "testPredictPlot[:, :] = numpy.nan\n",
    "testPredictPlot[len(trainPredict)+(look_back*2)+1:len(dataset)-1, :] = testPredict\n",
    "# plot baseline and predictions\n",
    "plt.plot(scaler.inverse_transform(dataset))\n",
    "plt.plot(trainPredictPlot)\n",
    "plt.plot(testPredictPlot)\n",
    "plt.show()"
   ]
  },
  {
   "cell_type": "code",
   "execution_count": 40,
   "metadata": {
    "collapsed": false
   },
   "outputs": [
    {
     "name": "stdout",
     "output_type": "stream",
     "text": [
      "Data:  (90, 5) (90,)\n",
      "_________________________________________________________________\n",
      "Layer (type)                 Output Shape              Param #   \n",
      "=================================================================\n",
      "lstm_12 (LSTM)               (None, 4)                 160       \n",
      "_________________________________________________________________\n",
      "dense_25 (Dense)             (None, 1)                 5         \n",
      "=================================================================\n",
      "Total params: 165\n",
      "Trainable params: 165\n",
      "Non-trainable params: 0\n",
      "_________________________________________________________________\n",
      "Train Score: 22.28 RMSE\n",
      "Test Score: 55.89 RMSE\n"
     ]
    },
    {
     "data": {
      "image/png": "[encoded data removed]",
      "text/plain": [
       "<matplotlib.figure.Figure at 0x7f4c4bbee780>"
      ]
     },
     "metadata": {},
     "output_type": "display_data"
    }
   ],
   "source": [
    "# LSTM for international airline passengers problem with regression framing\n",
    "import numpy\n",
    "import matplotlib.pyplot as plt\n",
    "from pandas import read_csv\n",
    "import math\n",
    "from keras.models import Sequential\n",
    "from keras.layers import Dense\n",
    "from keras.layers import LSTM\n",
    "from sklearn.preprocessing import MinMaxScaler\n",
    "from sklearn.metrics import mean_squared_error\n",
    "# convert an array of values into a dataset matrix\n",
    "def create_dataset(dataset, look_back=1):\n",
    "\tdataX, dataY = [], []\n",
    "\tfor i in range(len(dataset)-look_back-1):\n",
    "\t\ta = dataset[i:(i+look_back), 0]\n",
    "\t\tdataX.append(a)\n",
    "\t\tdataY.append(dataset[i + look_back, 0])\n",
    "\treturn numpy.array(dataX), numpy.array(dataY)\n",
    "# fix random seed for reproducibility\n",
    "numpy.random.seed(7)\n",
    "# load the dataset\n",
    "dataframe = read_csv('international-airline-passengers.csv', usecols=[1], engine='python', skipfooter=3)\n",
    "dataset = dataframe.values\n",
    "dataset = dataset.astype('float32')\n",
    "# normalize the dataset\n",
    "scaler = MinMaxScaler(feature_range=(0, 1))\n",
    "dataset = scaler.fit_transform(dataset)\n",
    "# split into train and test sets\n",
    "train_size = int(len(dataset) * 0.67)\n",
    "test_size = len(dataset) - train_size\n",
    "train, test = dataset[0:train_size,:], dataset[train_size:len(dataset),:]\n",
    "# reshape into X=t and Y=t+1\n",
    "look_back = 5\n",
    "trainX, trainY = create_dataset(train, look_back)\n",
    "testX, testY = create_dataset(test, look_back)\n",
    "print(\"Data: \", trainX.shape, trainY.shape)\n",
    "# reshape input to be [samples, time steps, features]\n",
    "trainX = numpy.reshape(trainX, (trainX.shape[0], 1, trainX.shape[1]))\n",
    "testX = numpy.reshape(testX, (testX.shape[0], 1, testX.shape[1]))\n",
    "# create and fit the LSTM network\n",
    "model = Sequential()\n",
    "model.add(LSTM(4, input_shape=(1, look_back)))\n",
    "model.add(Dense(1))\n",
    "model.compile(loss='mean_squared_error', optimizer='adam')\n",
    "model.fit(trainX, trainY, epochs=100, batch_size=1, verbose=0)\n",
    "model.summary()\n",
    "# make predictions\n",
    "trainPredict = model.predict(trainX)\n",
    "testPredict = model.predict(testX)\n",
    "# invert predictions\n",
    "trainPredict = scaler.inverse_transform(trainPredict)\n",
    "trainY = scaler.inverse_transform([trainY])\n",
    "testPredict = scaler.inverse_transform(testPredict)\n",
    "testY = scaler.inverse_transform([testY])\n",
    "# calculate root mean squared error\n",
    "trainScore = math.sqrt(mean_squared_error(trainY[0], trainPredict[:,0]))\n",
    "print('Train Score: %.2f RMSE' % (trainScore))\n",
    "testScore = math.sqrt(mean_squared_error(testY[0], testPredict[:,0]))\n",
    "print('Test Score: %.2f RMSE' % (testScore))\n",
    "# shift train predictions for plotting\n",
    "trainPredictPlot = numpy.empty_like(dataset)\n",
    "trainPredictPlot[:, :] = numpy.nan\n",
    "trainPredictPlot[look_back:len(trainPredict)+look_back, :] = trainPredict\n",
    "# shift test predictions for plotting\n",
    "testPredictPlot = numpy.empty_like(dataset)\n",
    "testPredictPlot[:, :] = numpy.nan\n",
    "testPredictPlot[len(trainPredict)+(look_back*2)+1:len(dataset)-1, :] = testPredict\n",
    "# plot baseline and predictions\n",
    "plt.plot(scaler.inverse_transform(dataset))\n",
    "plt.plot(trainPredictPlot)\n",
    "plt.plot(testPredictPlot)\n",
    "plt.show()"
   ]
  },
  {
   "cell_type": "code",
   "execution_count": null,
   "metadata": {
    "collapsed": true
   },
   "outputs": [],
   "source": []
  }
 ],
 "metadata": {
  "kernelspec": {
   "display_name": "Python 3",
   "language": "python",
   "name": "python3"
  },
  "language_info": {
   "codemirror_mode": {
    "name": "ipython",
    "version": 3
   },
   "file_extension": ".py",
   "mimetype": "text/x-python",
   "name": "python",
   "nbconvert_exporter": "python",
   "pygments_lexer": "ipython3",
   "version": "3.6.0"
  },
  "widgets": {
   "state": {
    "5e074cfc8c814ee2a708bc7fcef92cce": {
     "views": [
      {
       "cell_index": 10
      }
     ]
    },
    "6a9371fa1b1941659b5653632ad35e70": {
     "views": [
      {
       "cell_index": 19
      }
     ]
    }
   },
   "version": "1.2.0"
  }
 },
 "nbformat": 4,
 "nbformat_minor": 2
}
