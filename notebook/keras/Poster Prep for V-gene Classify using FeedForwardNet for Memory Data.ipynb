{
 "cells": [
  {
   "cell_type": "code",
   "execution_count": 1,
   "metadata": {
    "collapsed": false
   },
   "outputs": [
    {
     "name": "stderr",
     "output_type": "stream",
     "text": [
      "Using TensorFlow backend.\n"
     ]
    }
   ],
   "source": [
    "import os, sys\n",
    "import random, h5py\n",
    "import numpy as np\n",
    "import keras\n",
    "from keras.models import Sequential\n",
    "from keras.layers import Embedding\n",
    "from keras.layers import Dense\n",
    "from keras.layers.recurrent import LSTM\n",
    "from keras.layers import Dropout\n",
    "from keras.layers import Activation\n",
    "from keras.optimizers import SGD\n",
    "\n",
    "#Initialize the Program\n",
    "alphabet = \"NACGT.\"\n",
    "vocab_size = 6\n",
    "batch_size = 1000\n",
    "embedding_size = 5\n",
    "time_steps = 101\n",
    "category = 2\n",
    "max_data_size = 100000\n",
    "char_to_int = dict((c, i) for i, c in enumerate(alphabet))\n",
    "int_to_char = dict((i, c) for i, c in enumerate(alphabet))\n"
   ]
  },
  {
   "cell_type": "code",
   "execution_count": 2,
   "metadata": {
    "collapsed": true
   },
   "outputs": [],
   "source": [
    "def reverse_complement(sequence):\n",
    "    retseq = ''\n",
    "    for k in range(len(sequence)-1, -1, -1):\n",
    "        if sequence[k] == 'A':\n",
    "            retseq = retseq + 'T'\n",
    "        elif sequence[k] == 'T':\n",
    "            retseq = retseq + 'A'\n",
    "        elif sequence[k] == 'C':\n",
    "            retseq = retseq + 'G'\n",
    "        elif sequence[k] == 'G':\n",
    "            retseq = retseq + 'C'\n",
    "        else:\n",
    "            retseq = retseq + sequence[k]\n",
    "\n",
    "    \"\"\"\n",
    "    print(\"Revese:\")\n",
    "    print(sequence)\n",
    "    print(retseq)\n",
    "    print()\n",
    "    \"\"\"\n",
    "    return retseq\n"
   ]
  },
  {
   "cell_type": "code",
   "execution_count": 3,
   "metadata": {
    "collapsed": false
   },
   "outputs": [
    {
     "name": "stdout",
     "output_type": "stream",
     "text": [
      "(288774,) 526\n",
      "(288774,) 63\n"
     ]
    }
   ],
   "source": [
    "file_read = open(\"../imgtvgene_sequence_classification/mem.txt\")\n",
    "\n",
    "source_sequence = []\n",
    "max_count = 300000\n",
    "max_source_len = 0\n",
    "\n",
    "vgene_tag = []\n",
    "vgene_dic = {}\n",
    "vgenes = 0\n",
    "\n",
    "count = 0\n",
    "\n",
    "line = file_read.readline()\n",
    "for line in file_read:\n",
    "    split = line.strip().split(\" \")\n",
    "    #print(split)\n",
    "    \n",
    "    source = [char_to_int[x] for x in split[2][1:-1]]\n",
    "    source_sequence.append(source)\n",
    "    if max_source_len < len(source):\n",
    "        max_source_len = len(source)\n",
    "    \n",
    "    vgene_name = split[-1][1:-1].split(\"*\")[0]\n",
    "    #* for Gene /- for Family /No Split for Allele\n",
    "    if not vgene_name in vgene_dic:\n",
    "        vgene_dic[vgene_name] = vgenes\n",
    "        vgenes += 1\n",
    "    vgene_tag.append(vgene_dic[vgene_name])\n",
    "    \n",
    "    count += 1\n",
    "    #print(split[1], vgene_name)\n",
    "    if count == max_count:\n",
    "        break\n",
    "    \n",
    "source_sequence = np.array(source_sequence)\n",
    "vgene_tag = np.array(vgene_tag)\n",
    "\n",
    "print(source_sequence.shape, max_source_len)\n",
    "print(vgene_tag.shape, vgenes)\n"
   ]
  },
  {
   "cell_type": "code",
   "execution_count": 4,
   "metadata": {
    "collapsed": false
   },
   "outputs": [
    {
     "name": "stdout",
     "output_type": "stream",
     "text": [
      "train, eval, test =  (231019, 288773, 346527)\n",
      "(231019, 526) (231019, 63)\n",
      "(57754, 526) (57754, 63)\n",
      "(1, 526) (1, 63)\n"
     ]
    }
   ],
   "source": [
    "from keras.utils import to_categorical\n",
    "from keras.preprocessing.sequence import pad_sequences\n",
    "\n",
    "x_data = pad_sequences(source_sequence, maxlen=max_source_len, value=0)\n",
    "y_data = to_categorical(vgene_tag)\n",
    "\n",
    "train_index = int((len(x_data) / batch_size) * 0.80 * batch_size)\n",
    "eval_index = train_index + int((len(x_data) / batch_size) * 0.20 * batch_size)\n",
    "test_index = eval_index + int((len(x_data) / batch_size) * 0.20 * batch_size)\n",
    "print(\"train, eval, test = \", (train_index, eval_index, test_index))\n",
    "\n",
    "x_train = x_data[0:train_index]\n",
    "y_train = y_data[0:train_index]\n",
    "\n",
    "x_eval = x_data[train_index:eval_index]\n",
    "y_eval = y_data[train_index:eval_index]\n",
    "\n",
    "x_test = x_data[eval_index:test_index]\n",
    "y_test = y_data[eval_index:test_index]\n",
    "\n",
    "print(x_train.shape, y_train.shape)\n",
    "print(x_eval.shape, y_eval.shape)\n",
    "print(x_test.shape, y_test.shape)"
   ]
  },
  {
   "cell_type": "markdown",
   "metadata": {
    "collapsed": true
   },
   "source": [
    "# Deep Network with Dense Layer"
   ]
  },
  {
   "cell_type": "code",
   "execution_count": 19,
   "metadata": {
    "collapsed": false
   },
   "outputs": [
    {
     "name": "stdout",
     "output_type": "stream",
     "text": [
      "_________________________________________________________________\n",
      "Layer (type)                 Output Shape              Param #   \n",
      "=================================================================\n",
      "main_input (InputLayer)      (None, 526)               0         \n",
      "_________________________________________________________________\n",
      "embedding (Embedding)        (None, 526, 5)            30        \n",
      "_________________________________________________________________\n",
      "reshape_7 (Reshape)          (None, 2630)              0         \n",
      "_________________________________________________________________\n",
      "fstlayer (Dense)             (None, 1024)              2694144   \n",
      "_________________________________________________________________\n",
      "dropout_23 (Dropout)         (None, 1024)              0         \n",
      "_________________________________________________________________\n",
      "midlayer (Dense)             (None, 128)               131200    \n",
      "_________________________________________________________________\n",
      "dropout_24 (Dropout)         (None, 128)               0         \n",
      "_________________________________________________________________\n",
      "finlayer (Dense)             (None, 64)                8256      \n",
      "_________________________________________________________________\n",
      "dropout_25 (Dropout)         (None, 64)                0         \n",
      "_________________________________________________________________\n",
      "output (Dense)               (None, 63)                4095      \n",
      "=================================================================\n",
      "Total params: 2,837,725\n",
      "Trainable params: 2,837,725\n",
      "Non-trainable params: 0\n",
      "_________________________________________________________________\n"
     ]
    }
   ],
   "source": [
    "from keras.layers import Input, Embedding\n",
    "from keras.layers import Reshape, Dense\n",
    "from keras.models import Model\n",
    "\n",
    "input_source = Input(shape=(max_source_len,), \\\n",
    "                     dtype='int32', name='main_input')\n",
    "embedding = Embedding(input_dim=vocab_size, \\\n",
    "                      output_dim=embedding_size, \\\n",
    "                      input_length=max_source_len, \\\n",
    "                      name='embedding')(input_source)\n",
    "\n",
    "lstm_layer = LSTM(5, return_sequences=True)(embedding)\n",
    "lstm_layer = Dropout(0.25)(lstm_layer)\n",
    "reshape_layer = Reshape((max_source_len*5,))(embedding)\n",
    "\n",
    "dense_layer_first = Dense(1024, activation='relu', \\\n",
    "                        name='fstlayer')(reshape_layer)\n",
    "dense_layer_first = Dropout(0.25)(dense_layer_first)\n",
    "\n",
    "dense_layer_mid = Dense(128, activation='relu', \\\n",
    "                        name='midlayer')(dense_layer_first)\n",
    "dense_layer_mid = Dropout(0.25)(dense_layer_mid)\n",
    "\n",
    "dense_layer = Dense(64, activation='relu', \\\n",
    "                    name='finlayer')(dense_layer_mid)\n",
    "dense_layer = Dropout(0.25)(dense_layer)\n",
    "\n",
    "dense_output = Dense(vgenes, activation='softmax', \\\n",
    "                     name='output')(dense_layer)\n",
    "\n",
    "model = Model(inputs=[input_source], outputs=[dense_output])\n",
    "model.compile(loss='categorical_crossentropy',\n",
    "              optimizer='adam',\n",
    "              metrics=['accuracy'])\n",
    "\n",
    "model.summary()"
   ]
  },
  {
   "cell_type": "code",
   "execution_count": 20,
   "metadata": {
    "collapsed": false,
    "scrolled": true
   },
   "outputs": [
    {
     "name": "stdout",
     "output_type": "stream",
     "text": [
      "Train...\n",
      "Train on 231019 samples, validate on 57754 samples\n",
      "Epoch 1/50\n",
      " - 25s - loss: 2.0254 - acc: 0.4511 - val_loss: 0.6164 - val_acc: 0.8021\n",
      "Epoch 2/50\n",
      " - 24s - loss: 0.5166 - acc: 0.8322 - val_loss: 0.3048 - val_acc: 0.8864\n",
      "Epoch 3/50\n",
      " - 24s - loss: 0.3000 - acc: 0.9020 - val_loss: 0.2218 - val_acc: 0.9109\n",
      "Epoch 4/50\n",
      " - 25s - loss: 0.2254 - acc: 0.9256 - val_loss: 0.1901 - val_acc: 0.9239\n",
      "Epoch 5/50\n",
      " - 25s - loss: 0.1795 - acc: 0.9402 - val_loss: 0.1629 - val_acc: 0.9361\n",
      "Epoch 6/50\n",
      " - 24s - loss: 0.1471 - acc: 0.9507 - val_loss: 0.1504 - val_acc: 0.9461\n",
      "Epoch 7/50\n",
      " - 25s - loss: 0.1335 - acc: 0.9552 - val_loss: 0.1386 - val_acc: 0.9509\n",
      "Epoch 8/50\n",
      " - 25s - loss: 0.1127 - acc: 0.9618 - val_loss: 0.1371 - val_acc: 0.9528\n",
      "Epoch 9/50\n",
      " - 25s - loss: 0.1049 - acc: 0.9645 - val_loss: 0.1289 - val_acc: 0.9569\n",
      "Epoch 10/50\n",
      " - 25s - loss: 0.1033 - acc: 0.9665 - val_loss: 0.1262 - val_acc: 0.9580\n",
      "Epoch 11/50\n",
      " - 24s - loss: 0.0895 - acc: 0.9701 - val_loss: 0.1405 - val_acc: 0.9550\n",
      "Epoch 12/50\n",
      " - 24s - loss: 0.0852 - acc: 0.9718 - val_loss: 0.1464 - val_acc: 0.9548\n",
      "Epoch 13/50\n",
      " - 24s - loss: 0.0732 - acc: 0.9754 - val_loss: 0.1444 - val_acc: 0.9529\n",
      "Epoch 14/50\n",
      " - 24s - loss: 0.0678 - acc: 0.9770 - val_loss: 0.1321 - val_acc: 0.9597\n",
      "Epoch 15/50\n",
      " - 25s - loss: 0.0659 - acc: 0.9782 - val_loss: 0.1234 - val_acc: 0.9627\n",
      "Epoch 16/50\n",
      " - 25s - loss: 0.0813 - acc: 0.9753 - val_loss: 0.1199 - val_acc: 0.9644\n",
      "Epoch 17/50\n",
      " - 25s - loss: 0.0607 - acc: 0.9795 - val_loss: 0.1268 - val_acc: 0.9622\n",
      "Epoch 18/50\n",
      " - 24s - loss: 0.0560 - acc: 0.9815 - val_loss: 0.1267 - val_acc: 0.9632\n",
      "Epoch 19/50\n",
      " - 24s - loss: 0.0521 - acc: 0.9827 - val_loss: 0.1359 - val_acc: 0.9609\n",
      "Epoch 20/50\n",
      " - 24s - loss: 0.0510 - acc: 0.9832 - val_loss: 0.1226 - val_acc: 0.9659\n",
      "Epoch 21/50\n",
      " - 25s - loss: 0.0548 - acc: 0.9824 - val_loss: 0.1288 - val_acc: 0.9650\n",
      "Epoch 22/50\n",
      " - 25s - loss: 0.0481 - acc: 0.9844 - val_loss: 0.1209 - val_acc: 0.9674\n",
      "Epoch 23/50\n",
      " - 25s - loss: 0.0458 - acc: 0.9854 - val_loss: 0.1317 - val_acc: 0.9651\n",
      "Epoch 24/50\n",
      " - 25s - loss: 0.0480 - acc: 0.9849 - val_loss: 0.1219 - val_acc: 0.9674\n",
      "Epoch 25/50\n",
      " - 24s - loss: 0.0454 - acc: 0.9854 - val_loss: 0.1249 - val_acc: 0.9670\n",
      "Epoch 26/50\n",
      " - 25s - loss: 0.0422 - acc: 0.9865 - val_loss: 0.1341 - val_acc: 0.9654\n",
      "Epoch 27/50\n",
      " - 25s - loss: 0.0515 - acc: 0.9841 - val_loss: 0.1242 - val_acc: 0.9678\n",
      "Epoch 28/50\n",
      " - 24s - loss: 0.0457 - acc: 0.9857 - val_loss: 0.1385 - val_acc: 0.9661\n",
      "Epoch 29/50\n",
      " - 25s - loss: 0.0373 - acc: 0.9880 - val_loss: 0.1295 - val_acc: 0.9685\n",
      "Epoch 30/50\n",
      " - 25s - loss: 0.0358 - acc: 0.9883 - val_loss: 0.1447 - val_acc: 0.9659\n",
      "Epoch 31/50\n",
      " - 25s - loss: 0.0352 - acc: 0.9887 - val_loss: 0.1341 - val_acc: 0.9676\n",
      "Epoch 32/50\n",
      " - 25s - loss: 0.0360 - acc: 0.9883 - val_loss: 0.1597 - val_acc: 0.9619\n",
      "Epoch 33/50\n",
      " - 25s - loss: 0.0393 - acc: 0.9879 - val_loss: 0.1358 - val_acc: 0.9655\n",
      "Epoch 34/50\n",
      " - 24s - loss: 0.0347 - acc: 0.9888 - val_loss: 0.1288 - val_acc: 0.9673\n",
      "Epoch 35/50\n",
      " - 24s - loss: 0.0386 - acc: 0.9883 - val_loss: 0.1341 - val_acc: 0.9685\n",
      "Epoch 36/50\n",
      " - 24s - loss: 0.0339 - acc: 0.9894 - val_loss: 0.1393 - val_acc: 0.9664\n",
      "Epoch 37/50\n",
      " - 24s - loss: 0.0307 - acc: 0.9902 - val_loss: 0.1419 - val_acc: 0.9654\n",
      "Epoch 38/50\n",
      " - 24s - loss: 0.0310 - acc: 0.9898 - val_loss: 0.1318 - val_acc: 0.9683\n",
      "Epoch 39/50\n",
      " - 25s - loss: 0.0304 - acc: 0.9905 - val_loss: 0.1312 - val_acc: 0.9686\n",
      "Epoch 40/50\n",
      " - 24s - loss: 0.0289 - acc: 0.9909 - val_loss: 0.1524 - val_acc: 0.9658\n",
      "Epoch 41/50\n",
      " - 24s - loss: 0.0399 - acc: 0.9882 - val_loss: 0.1363 - val_acc: 0.9682\n",
      "Epoch 42/50\n",
      " - 24s - loss: 0.0327 - acc: 0.9901 - val_loss: 0.1344 - val_acc: 0.9688\n",
      "Epoch 43/50\n",
      " - 24s - loss: 0.0284 - acc: 0.9910 - val_loss: 0.1299 - val_acc: 0.9683\n",
      "Epoch 44/50\n",
      " - 24s - loss: 0.0265 - acc: 0.9914 - val_loss: 0.1394 - val_acc: 0.9687\n",
      "Epoch 45/50\n",
      " - 24s - loss: 0.0282 - acc: 0.9912 - val_loss: 0.1373 - val_acc: 0.9685\n",
      "Epoch 46/50\n",
      " - 25s - loss: 0.0264 - acc: 0.9916 - val_loss: 0.1383 - val_acc: 0.9689\n",
      "Epoch 47/50\n",
      " - 24s - loss: 0.0263 - acc: 0.9918 - val_loss: 0.1351 - val_acc: 0.9692\n",
      "Epoch 48/50\n",
      " - 24s - loss: 0.0251 - acc: 0.9920 - val_loss: 0.1330 - val_acc: 0.9708\n",
      "Epoch 49/50\n",
      " - 24s - loss: 0.0261 - acc: 0.9917 - val_loss: 0.1346 - val_acc: 0.9682\n",
      "Epoch 50/50\n",
      " - 25s - loss: 0.0275 - acc: 0.9914 - val_loss: 0.1349 - val_acc: 0.9696\n",
      "[1.1920928955078125e-07, 1.0]\n"
     ]
    }
   ],
   "source": [
    "from keras_tqdm import TQDMNotebookCallback\n",
    "print('Train...')\n",
    "\n",
    "history = model.fit(x_train, y_train, \\\n",
    "          validation_data=(x_eval, y_eval), \\\n",
    "          epochs=50, shuffle=True, batch_size=1000, \\\n",
    "           callbacks=[TQDMNotebookCallback()], verbose=2)\n",
    "score = model.evaluate(x_test, y_test, \\\n",
    "                       batch_size=1000, verbose=2)\n",
    "print(score)"
   ]
  },
  {
   "cell_type": "code",
   "execution_count": 31,
   "metadata": {
    "collapsed": false
   },
   "outputs": [
    {
     "name": "stdout",
     "output_type": "stream",
     "text": [
      "dict_keys(['val_loss', 'val_acc', 'loss', 'acc'])\n",
      "51 51\n"
     ]
    },
    {
     "data": {
      "image/png": "[encoded data removed]",
      "text/plain": [
       "<matplotlib.figure.Figure at 0x7f0cbcff73c8>"
      ]
     },
     "metadata": {},
     "output_type": "display_data"
    }
   ],
   "source": [
    "import matplotlib.pyplot as plt\n",
    "# list all data in history\n",
    "print(history.history.keys())\n",
    "# summarize history for accuracy\n",
    "train = history.history['acc']\n",
    "valid = history.history['val_acc']\n",
    "\n",
    "x = [0.] + train[1:] + [train[-1]]\n",
    "y = [0.] + valid[:-1] + [valid[-1]]\n",
    "print(len(x), len(y))\n",
    "\n",
    "plt.figure(figsize=(8, 6))\n",
    "plt.plot(x)\n",
    "plt.plot(y)\n",
    "plt.title('model accuracy')\n",
    "plt.ylabel('accuracy')\n",
    "plt.xlabel('epoch')\n",
    "plt.legend(['Train', 'Test'], loc='lower right')\n",
    "plt.show()\n"
   ]
  },
  {
   "cell_type": "code",
   "execution_count": null,
   "metadata": {
    "collapsed": true
   },
   "outputs": [],
   "source": []
  }
 ],
 "metadata": {
  "kernelspec": {
   "display_name": "Python 3",
   "language": "python",
   "name": "python3"
  },
  "language_info": {
   "codemirror_mode": {
    "name": "ipython",
    "version": 3
   },
   "file_extension": ".py",
   "mimetype": "text/x-python",
   "name": "python",
   "nbconvert_exporter": "python",
   "pygments_lexer": "ipython3",
   "version": "3.6.0"
  },
  "widgets": {
   "state": {
    "2838bd71771647eab956e548d4d07d2b": {
     "views": [
      {
       "cell_index": 7
      }
     ]
    },
    "a9de601626214a58b59f966f2c5048c2": {
     "views": [
      {
       "cell_index": 7
      }
     ]
    },
    "f21f49ade4764bbb9694de4b8ec22101": {
     "views": [
      {
       "cell_index": 7
      }
     ]
    }
   },
   "version": "1.2.0"
  }
 },
 "nbformat": 4,
 "nbformat_minor": 2
}
