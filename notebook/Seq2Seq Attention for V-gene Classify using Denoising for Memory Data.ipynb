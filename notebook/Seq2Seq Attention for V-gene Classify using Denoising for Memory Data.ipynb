{
 "cells": [
  {
   "cell_type": "code",
   "execution_count": 1,
   "metadata": {
    "collapsed": false
   },
   "outputs": [
    {
     "name": "stderr",
     "output_type": "stream",
     "text": [
      "Using TensorFlow backend.\n"
     ]
    }
   ],
   "source": [
    "import os, sys\n",
    "import random, h5py\n",
    "import numpy as np\n",
    "import keras\n",
    "from keras.models import Sequential\n",
    "from keras.layers import Embedding\n",
    "from keras.layers import Dense\n",
    "from keras.layers.recurrent import LSTM\n",
    "from keras.layers import Dropout\n",
    "from keras.layers import Activation\n",
    "from keras.optimizers import SGD\n",
    "\n",
    "#Initialize the Program\n",
    "alphabet = \"NACGT.\"\n",
    "vocab_size = 6\n",
    "batch_size = 1000\n",
    "embedding_size = 4\n",
    "time_steps = 101\n",
    "category = 2\n",
    "char_to_int = dict((c, i) for i, c in enumerate(alphabet))\n",
    "int_to_char = dict((i, c) for i, c in enumerate(alphabet))\n"
   ]
  },
  {
   "cell_type": "code",
   "execution_count": 49,
   "metadata": {
    "collapsed": true
   },
   "outputs": [],
   "source": [
    "def reverse_complement(sequence):\n",
    "    retseq = ''\n",
    "    for k in range(len(sequence)-1, -1, -1):\n",
    "        if sequence[k] == 'A':\n",
    "            retseq = retseq + 'T'\n",
    "        elif sequence[k] == 'T':\n",
    "            retseq = retseq + 'A'\n",
    "        elif sequence[k] == 'C':\n",
    "            retseq = retseq + 'G'\n",
    "        elif sequence[k] == 'G':\n",
    "            retseq = retseq + 'C'\n",
    "        else:\n",
    "            retseq = retseq + sequence[k]\n",
    "\n",
    "    \"\"\"\n",
    "    print(\"Revese:\")\n",
    "    print(sequence)\n",
    "    print(retseq)\n",
    "    print()\n",
    "    \"\"\"\n",
    "    return retseq\n"
   ]
  },
  {
   "cell_type": "code",
   "execution_count": 50,
   "metadata": {
    "collapsed": false
   },
   "outputs": [
    {
     "data": {
      "text/plain": [
       "'    \\nsource_sequence = np.array(source_sequence)\\ntarget_sequence = np.array(target_sequence)\\n\\ncluster_tag = np.array(cluster_tag)\\nvgene_tag = np.array(vgene_tag)\\n\\nprint(source_sequence.shape, target_sequence.shape)\\nprint(max_source, max_target)\\nprint()\\nprint(cluster_tag.shape, vgene_tag.shape)\\nprint(classes, vgenes)\\n'"
      ]
     },
     "execution_count": 50,
     "metadata": {},
     "output_type": "execute_result"
    }
   ],
   "source": [
    "file_read = open(\"../imgtvgene_sequence_classification/mem.txt\")\n",
    "\n",
    "source_sequence = []\n",
    "target_sequence = []\n",
    "\n",
    "cluster_tag = []\n",
    "cluster_dic = {}\n",
    "classes = 0\n",
    "\n",
    "vgene_tag = []\n",
    "vgene_dic = {}\n",
    "vgenes = 0\n",
    "\n",
    "count = 0\n",
    "max_count = 200000\n",
    "\n",
    "max_source = 0\n",
    "max_target = 0\n",
    "\n",
    "line = file_read.readline()\n",
    "for line in file_read:\n",
    "    split = line.strip().split(\" \")\n",
    "    #print(split)\n",
    "    \n",
    "    if not split[1] in cluster_dic:\n",
    "        classes += 1\n",
    "        cluster_dic[split[1]] = classes\n",
    "    cluster_tag.append(split[1])\n",
    "    \n",
    "    source = [char_to_int[x] for x in split[2][1:-1]]\n",
    "    source_sequence.append(source)\n",
    "    if max_source < len(source):\n",
    "        max_source = len(source)\n",
    "    \n",
    "    target = [char_to_int[x] for x in split[-2][1:-1]]\n",
    "    target_sequence.append(target)\n",
    "    if max_target < len(target):\n",
    "        max_target = len(target)\n",
    "    \n",
    "    #vgene_name = split[-1][1:-1]#.split(\"*\")[0]\n",
    "    vgene_name = split[-1][1:-1].split(\"*\")[0]\n",
    "    \n",
    "    if not vgene_name in vgene_dic:\n",
    "        vgene_dic[vgene_name] = vgenes\n",
    "        vgenes += 1\n",
    "    vgene_tag.append(vgene_dic[vgene_name])\n",
    "    \n",
    "    count += 1\n",
    "    \n",
    "    #print(split[1], vgene_name)\n",
    "    if count == max_count:\n",
    "        break\n",
    "\"\"\"    \n",
    "source_sequence = np.array(source_sequence)\n",
    "target_sequence = np.array(target_sequence)\n",
    "\n",
    "cluster_tag = np.array(cluster_tag)\n",
    "vgene_tag = np.array(vgene_tag)\n",
    "\n",
    "print(source_sequence.shape, target_sequence.shape)\n",
    "print(max_source, max_target)\n",
    "print()\n",
    "print(cluster_tag.shape, vgene_tag.shape)\n",
    "print(classes, vgenes)\n",
    "\"\"\""
   ]
  },
  {
   "cell_type": "code",
   "execution_count": 51,
   "metadata": {
    "collapsed": false
   },
   "outputs": [
    {
     "data": {
      "image/png": "[encoded data removed]",
      "text/plain": [
       "<matplotlib.figure.Figure at 0x7f8f3136c0f0>"
      ]
     },
     "metadata": {},
     "output_type": "display_data"
    },
    {
     "name": "stdout",
     "output_type": "stream",
     "text": [
      "526 207 62\n",
      "200000 200000\n"
     ]
    }
   ],
   "source": [
    "import matplotlib.pyplot as plt\n",
    "\n",
    "plt.hist(vgene_tag)\n",
    "plt.show()\n",
    "\n",
    "print(max_source, max_target, max(vgene_tag))\n",
    "print(len(source_sequence), len(target_sequence))"
   ]
  },
  {
   "cell_type": "markdown",
   "metadata": {},
   "source": [
    "# Create Positive and Negative Dataset"
   ]
  },
  {
   "cell_type": "code",
   "execution_count": 5,
   "metadata": {
    "collapsed": false
   },
   "outputs": [],
   "source": [
    "for i in range(0, max_count):\n",
    "    randomized = np.random.randint(0, 5, size=len(source_sequence[i]))\n",
    "    source_sequence.append(randomized)\n",
    "    target_sequence.append(target_sequence[i])\n",
    "    "
   ]
  },
  {
   "cell_type": "code",
   "execution_count": 6,
   "metadata": {
    "collapsed": false
   },
   "outputs": [
    {
     "name": "stdout",
     "output_type": "stream",
     "text": [
      "(400000, 526) (400000, 263)\n"
     ]
    }
   ],
   "source": [
    "from keras.utils import to_categorical\n",
    "from keras.preprocessing.sequence import pad_sequences\n",
    "\n",
    "max_source_len = 526\n",
    "max_target_len = int(max_source_len/2)\n",
    "\n",
    "source_sequence = pad_sequences(source_sequence, maxlen=max_source_len, value=0)\n",
    "target_sequence = pad_sequences(target_sequence, maxlen=max_target_len, value=0)\n",
    "\n",
    "print(source_sequence.shape, target_sequence.shape)\n"
   ]
  },
  {
   "cell_type": "code",
   "execution_count": 7,
   "metadata": {
    "collapsed": false
   },
   "outputs": [
    {
     "name": "stdout",
     "output_type": "stream",
     "text": [
      "(400000,) 200000\n"
     ]
    }
   ],
   "source": [
    "shared_data_label = []\n",
    "for i in range(len(source_sequence)):\n",
    "    if i < int(len(source_sequence)/2):\n",
    "        shared_data_label.append(1)\n",
    "    else:\n",
    "        shared_data_label.append(0)\n",
    "shared_data_label = np.array(shared_data_label)\n",
    "print(shared_data_label.shape, np.count_nonzero(shared_data_label))"
   ]
  },
  {
   "cell_type": "markdown",
   "metadata": {
    "collapsed": true
   },
   "source": [
    "# Denoising Sequence"
   ]
  },
  {
   "cell_type": "code",
   "execution_count": 10,
   "metadata": {
    "collapsed": false
   },
   "outputs": [
    {
     "name": "stdout",
     "output_type": "stream",
     "text": [
      "__________________________________________________________________________________________________\n",
      "Layer (type)                    Output Shape         Param #     Connected to                     \n",
      "==================================================================================================\n",
      "input_source (InputLayer)       (None, 526)          0                                            \n",
      "__________________________________________________________________________________________________\n",
      "embedding (Embedding)           multiple             24          input_source[0][0]               \n",
      "__________________________________________________________________________________________________\n",
      "lstm_two_source (LSTM)          (None, 128)          68096       embedding[0][0]                  \n",
      "__________________________________________________________________________________________________\n",
      "lstm_two_target (LSTM)          (None, 128)          68096       embedding[0][0]                  \n",
      "__________________________________________________________________________________________________\n",
      "multiply_2 (Multiply)           (None, 128)          0           lstm_two_source[0][0]            \n",
      "                                                                 lstm_two_target[0][0]            \n",
      "__________________________________________________________________________________________________\n",
      "logistic (Dense)                (None, 1)            129         multiply_2[0][0]                 \n",
      "==================================================================================================\n",
      "Total params: 136,345\n",
      "Trainable params: 136,345\n",
      "Non-trainable params: 0\n",
      "__________________________________________________________________________________________________\n"
     ]
    }
   ],
   "source": [
    "from keras.layers import Input\n",
    "from keras.layers import Embedding\n",
    "from keras.layers import Reshape\n",
    "from keras.layers import Dense\n",
    "from keras.models import Model\n",
    "from keras.layers import Conv1D\n",
    "from keras.layers import MaxPooling1D\n",
    "from keras.layers import UpSampling1D\n",
    "import numpy as np\n",
    "\n",
    "\n",
    "input_source = Input(shape=(max_source_len,), dtype='int32', name='input_source')\n",
    "input_target = Input(shape=(max_target_len,), dtype='int32', name='input_target')\n",
    "#batch_shape=(batch_size, time_steps), \n",
    "\n",
    "embedding_layer = Embedding(input_dim=vocab_size, output_dim=embedding_size, \\\n",
    "                            name=\"embedding\")\n",
    "embed_source = embedding_layer(input_source)\n",
    "\n",
    "#embedding_layer = Embedding(input_dim=vocab_size, output_dim=embedding_size, \\\n",
    "#                            name=\"embedding\")\n",
    "embed_target = embedding_layer(input_target)\n",
    "\n",
    "lstm_layer_source_one = LSTM(units=128, stateful=False, \\\n",
    "                            return_sequences=True, unroll=False, name=\"lstm_one_source\")\n",
    "lstm_one_source = lstm_layer_source_one(embed_source)\n",
    "\n",
    "lstm_layer_target_one = LSTM(units=128, stateful=False, \\\n",
    "                            return_sequences=True, unroll=False, name=\"lstm_one_target\")\n",
    "lstm_one_target = lstm_layer_target_one(embed_target)\n",
    "\n",
    "\n",
    "lstm_layer_source_two = LSTM(units=128, stateful=False, \\\n",
    "                            return_sequences=False, unroll=False, name=\"lstm_two_source\")\n",
    "lstm_two_source = lstm_layer_source_two(embed_source)#(lstm_one_source)\n",
    "\n",
    "lstm_layer_target_two = LSTM(units=128, stateful=False, \\\n",
    "                            return_sequences=False, unroll=False, name=\"lstm_two_target\")\n",
    "lstm_two_target = lstm_layer_target_two(embed_source)#(lstm_one_target)\n",
    "\n",
    "\n",
    "element_wise_product = keras.layers.Multiply()([lstm_two_source, lstm_two_target])\n",
    "dot_product = keras.layers.Dot(axes=1, normalize=True)([lstm_two_source, lstm_two_target])\n",
    "\n",
    "# And add a logistic regression on top\n",
    "predictions = Dense(1, activation='sigmoid', name=\"logistic\")(element_wise_product)\n",
    "\n",
    "# We define a trainable model linking the\n",
    "# tweet inputs to the predictions\n",
    "shared_model = Model(inputs=[input_source, input_target], outputs=predictions)\n",
    "\n",
    "shared_model.compile(optimizer=\"adam\", #optimizer='sgd',\n",
    "              loss=\"binary_crossentropy\", #loss='mean_squared_error',\n",
    "              metrics=['acc'])\n",
    "shared_model.summary()"
   ]
  },
  {
   "cell_type": "code",
   "execution_count": 11,
   "metadata": {
    "collapsed": false
   },
   "outputs": [],
   "source": [
    "from keras.utils import plot_model\n",
    "plot_model(shared_model, to_file=\"model\")"
   ]
  },
  {
   "cell_type": "code",
   "execution_count": 12,
   "metadata": {
    "collapsed": false
   },
   "outputs": [
    {
     "name": "stdout",
     "output_type": "stream",
     "text": [
      "Train...\n",
      "Epoch 1/1\n",
      " - 2214s - loss: 0.3161 - acc: 0.8265\n",
      "\n"
     ]
    }
   ],
   "source": [
    "from keras_tqdm import TQDMNotebookCallback\n",
    "\n",
    "print('Train...')\n",
    "history = shared_model.fit([source_sequence, target_sequence], shared_data_label, \n",
    "        batch_size=batch_size*1, shuffle=True, epochs=1, verbose=2,\n",
    "        callbacks=[TQDMNotebookCallback()])#, validation_data=(x_eval, y_eval))\n"
   ]
  },
  {
   "cell_type": "code",
   "execution_count": 32,
   "metadata": {
    "collapsed": false
   },
   "outputs": [
    {
     "name": "stdout",
     "output_type": "stream",
     "text": [
      "dict_keys(['loss', 'acc'])\n"
     ]
    },
    {
     "data": {
      "image/png": "[encoded data removed]",
      "text/plain": [
       "<matplotlib.figure.Figure at 0x7f9424371128>"
      ]
     },
     "metadata": {},
     "output_type": "display_data"
    }
   ],
   "source": [
    "import matplotlib.pyplot as plt\n",
    "# list all data in history\n",
    "print(history.history.keys())\n",
    "# summarize history for accuracy\n",
    "plt.plot(history.history['acc'])\n",
    "plt.plot(history.history['loss'])\n",
    "plt.title('model accuracy')\n",
    "plt.ylabel('accuracy')\n",
    "plt.xlabel('epoch')\n",
    "plt.legend(['train', 'eval'], loc='upper left')\n",
    "plt.show()"
   ]
  },
  {
   "cell_type": "markdown",
   "metadata": {
    "collapsed": true
   },
   "source": [
    "# Encoded Squence"
   ]
  },
  {
   "cell_type": "code",
   "execution_count": 52,
   "metadata": {
    "collapsed": false
   },
   "outputs": [
    {
     "name": "stdout",
     "output_type": "stream",
     "text": [
      "200000 526\n",
      "200000 63\n"
     ]
    }
   ],
   "source": [
    "file_read = open(\"../imgtvgene_sequence_classification/mem.txt\")\n",
    "\n",
    "source_sequence = []\n",
    "max_count = 200000\n",
    "max_source_len = 0\n",
    "\n",
    "vgene_tag = []\n",
    "vgene_dic = {}\n",
    "vgenes = 0\n",
    "\n",
    "count = 0\n",
    "\n",
    "line = file_read.readline()\n",
    "for line in file_read:\n",
    "    split = line.strip().split(\" \")\n",
    "    #print(split)\n",
    "    \n",
    "    source = [char_to_int[x] for x in split[2][1:-1]]\n",
    "    source_sequence.append(source)\n",
    "    if max_source_len < len(source):\n",
    "        max_source_len = len(source)\n",
    "    \n",
    "    vgene_name = split[-1][1:-1].split(\"*\")[0]\n",
    "    #* for Gene /- for Family /No Split for Allele\n",
    "    if not vgene_name in vgene_dic:\n",
    "        vgene_dic[vgene_name] = vgenes\n",
    "        vgenes += 1\n",
    "    vgene_tag.append(vgene_dic[vgene_name])\n",
    "    \n",
    "    count += 1\n",
    "    #print(split[1], vgene_name)\n",
    "    if count == max_count:\n",
    "        break\n",
    "    \n",
    "print(len(source_sequence), max_source_len)\n",
    "print(len(vgene_tag), vgenes)\n"
   ]
  },
  {
   "cell_type": "code",
   "execution_count": 14,
   "metadata": {
    "collapsed": false
   },
   "outputs": [
    {
     "name": "stdout",
     "output_type": "stream",
     "text": [
      "(200000, 526) (200000, 63) (200000, 263)\n"
     ]
    }
   ],
   "source": [
    "x_data = pad_sequences(source_sequence, maxlen=max_source_len, value=0)\n",
    "y_data = to_categorical(vgene_tag)\n",
    "zeros = np.zeros((len(x_data), int(len(x_data[0])/2)))\n",
    "\n",
    "print(x_data.shape, y_data.shape, zeros.shape)"
   ]
  },
  {
   "cell_type": "code",
   "execution_count": 15,
   "metadata": {
    "collapsed": false
   },
   "outputs": [
    {
     "name": "stdout",
     "output_type": "stream",
     "text": [
      "(200000, 128)\n"
     ]
    }
   ],
   "source": [
    "\n",
    "layer_name = \"lstm_two_source\"\n",
    "intermediate_layer_model = Model(inputs=shared_model.input,\n",
    "                                 outputs=shared_model.get_layer(layer_name).get_output_at(0))\n",
    "intermediate_output = intermediate_layer_model.predict([x_data, zeros])\n",
    "\n",
    "print(intermediate_output.shape)"
   ]
  },
  {
   "cell_type": "markdown",
   "metadata": {
    "collapsed": true
   },
   "source": [
    "# Classifying Sequences"
   ]
  },
  {
   "cell_type": "code",
   "execution_count": 16,
   "metadata": {
    "collapsed": false
   },
   "outputs": [
    {
     "name": "stdout",
     "output_type": "stream",
     "text": [
      "train, eval, test =  (160000, 200000, 240000)\n",
      "(160000, 128) (160000, 63)\n",
      "(40000, 128) (40000, 63)\n",
      "(0, 128) (0, 63)\n"
     ]
    }
   ],
   "source": [
    "from keras.utils import to_categorical\n",
    "from keras.preprocessing.sequence import pad_sequences\n",
    "\n",
    "train_index = int((len(x_data) / batch_size) * 0.80 * batch_size)\n",
    "eval_index = train_index + int((len(x_data) / batch_size) * 0.20 * batch_size)\n",
    "test_index = eval_index + int((len(x_data) / batch_size) * 0.20 * batch_size)\n",
    "print(\"train, eval, test = \", (train_index, eval_index, test_index))\n",
    "\n",
    "x_train = intermediate_output[0:train_index]\n",
    "y_train = y_data[0:train_index]\n",
    "\n",
    "x_eval = intermediate_output[train_index:eval_index]\n",
    "y_eval = y_data[train_index:eval_index]\n",
    "\n",
    "x_test = intermediate_output[eval_index:test_index]\n",
    "y_test = y_data[eval_index:test_index]\n",
    "\n",
    "print(x_train.shape, y_train.shape)\n",
    "print(x_eval.shape, y_eval.shape)\n",
    "print(x_test.shape, y_test.shape)"
   ]
  },
  {
   "cell_type": "code",
   "execution_count": 20,
   "metadata": {
    "collapsed": false
   },
   "outputs": [
    {
     "name": "stdout",
     "output_type": "stream",
     "text": [
      "_________________________________________________________________\n",
      "Layer (type)                 Output Shape              Param #   \n",
      "=================================================================\n",
      "main_input (InputLayer)      (None, 526)               0         \n",
      "_________________________________________________________________\n",
      "fstlayer (Dense)             (None, 2048)              1079296   \n",
      "_________________________________________________________________\n",
      "dropout_5 (Dropout)          (None, 2048)              0         \n",
      "_________________________________________________________________\n",
      "midlayer1 (Dense)            (None, 1024)              2098176   \n",
      "_________________________________________________________________\n",
      "dropout_6 (Dropout)          (None, 1024)              0         \n",
      "_________________________________________________________________\n",
      "midlayer2 (Dense)            (None, 512)               524800    \n",
      "_________________________________________________________________\n",
      "dropout_7 (Dropout)          (None, 512)               0         \n",
      "_________________________________________________________________\n",
      "finlayer (Dense)             (None, 256)               131328    \n",
      "_________________________________________________________________\n",
      "dropout_8 (Dropout)          (None, 256)               0         \n",
      "_________________________________________________________________\n",
      "output (Dense)               (None, 63)                16191     \n",
      "=================================================================\n",
      "Total params: 3,849,791\n",
      "Trainable params: 3,849,791\n",
      "Non-trainable params: 0\n",
      "_________________________________________________________________\n"
     ]
    }
   ],
   "source": [
    "from keras.layers import Input, Embedding\n",
    "from keras.layers import Reshape, Dense\n",
    "from keras.models import Model\n",
    "\n",
    "\n",
    "input_source = Input(shape=(max_source_len,), \\\n",
    "                     dtype='float32', name='main_input')\n",
    "\n",
    "dense_layer_first = Dense(2048, activation='relu', \\\n",
    "                        name='fstlayer')(input_source)\n",
    "dense_layer_first = Dropout(0.25)(dense_layer_first)\n",
    "\n",
    "dense_layer_mid = Dense(1024, activation='relu', \\\n",
    "                        name='midlayer1')(dense_layer_first)\n",
    "dense_layer_mid = Dropout(0.25)(dense_layer_mid)\n",
    "\n",
    "dense_layer_mid = Dense(512, activation='relu', \\\n",
    "                        name='midlayer2')(dense_layer_mid)\n",
    "dense_layer_mid = Dropout(0.25)(dense_layer_mid)\n",
    "\n",
    "dense_layer = Dense(256, activation='relu', \\\n",
    "                    name='finlayer')(dense_layer_mid)\n",
    "dense_layer = Dropout(0.25)(dense_layer)\n",
    "\n",
    "dense_output = Dense(vgenes, activation='softmax', \\\n",
    "                     name='output')(dense_layer)\n",
    "\n",
    "classify_model = Model(inputs=[input_source], outputs=[dense_output])\n",
    "classify_model.compile(loss='categorical_crossentropy',\n",
    "              optimizer='adam',\n",
    "              metrics=['accuracy'])\n",
    "\n",
    "classify_model.summary()"
   ]
  },
  {
   "cell_type": "code",
   "execution_count": null,
   "metadata": {
    "collapsed": false
   },
   "outputs": [
    {
     "name": "stdout",
     "output_type": "stream",
     "text": [
      "Train...\n",
      "Epoch 1/200\n",
      " - 25s - loss: 2.9384 - acc: 0.2206\n",
      "Epoch 2/200\n",
      " - 24s - loss: 1.4070 - acc: 0.5492\n",
      "Epoch 3/200\n",
      " - 24s - loss: 0.9796 - acc: 0.6727\n",
      "Epoch 4/200\n",
      " - 25s - loss: 0.8287 - acc: 0.7232\n",
      "Epoch 5/200\n",
      " - 24s - loss: 0.7331 - acc: 0.7544\n",
      "Epoch 6/200\n",
      " - 24s - loss: 0.6833 - acc: 0.7720\n",
      "Epoch 7/200\n",
      " - 24s - loss: 0.6481 - acc: 0.7845\n",
      "Epoch 8/200\n",
      " - 26s - loss: 0.6204 - acc: 0.7941\n",
      "Epoch 9/200\n",
      " - 27s - loss: 0.6063 - acc: 0.7988\n",
      "Epoch 10/200\n",
      " - 25s - loss: 0.5914 - acc: 0.8032\n",
      "Epoch 11/200\n",
      " - 25s - loss: 0.5708 - acc: 0.8098\n",
      "Epoch 12/200\n",
      " - 25s - loss: 0.5578 - acc: 0.8143\n",
      "Epoch 13/200\n",
      " - 28s - loss: 0.5424 - acc: 0.8201\n",
      "Epoch 14/200\n",
      " - 26s - loss: 0.5375 - acc: 0.8225\n",
      "Epoch 15/200\n",
      " - 25s - loss: 0.5300 - acc: 0.8232\n",
      "Epoch 16/200\n",
      " - 25s - loss: 0.5290 - acc: 0.8246\n",
      "Epoch 17/200\n",
      " - 25s - loss: 0.5116 - acc: 0.8308\n",
      "Epoch 18/200\n",
      " - 26s - loss: 0.5055 - acc: 0.8331\n",
      "Epoch 19/200\n",
      " - 25s - loss: 0.5002 - acc: 0.8339\n",
      "Epoch 20/200\n",
      " - 24s - loss: 0.4837 - acc: 0.8392\n",
      "Epoch 21/200\n",
      " - 26s - loss: 0.4762 - acc: 0.8416\n",
      "Epoch 22/200\n",
      " - 26s - loss: 0.4682 - acc: 0.8440\n",
      "Epoch 23/200\n",
      " - 25s - loss: 0.4596 - acc: 0.8483\n",
      "Epoch 24/200\n",
      " - 26s - loss: 0.4473 - acc: 0.8499\n",
      "Epoch 25/200\n",
      " - 26s - loss: 0.4334 - acc: 0.8551\n",
      "Epoch 26/200\n",
      " - 27s - loss: 0.4373 - acc: 0.8545\n",
      "Epoch 27/200\n",
      " - 26s - loss: 0.4348 - acc: 0.8547\n",
      "Epoch 28/200\n",
      " - 25s - loss: 0.4377 - acc: 0.8545\n",
      "Epoch 29/200\n",
      " - 25s - loss: 0.4296 - acc: 0.8570\n",
      "Epoch 30/200\n",
      " - 25s - loss: 0.4244 - acc: 0.8586\n",
      "Epoch 31/200\n",
      " - 26s - loss: 0.4147 - acc: 0.8620\n",
      "Epoch 32/200\n",
      " - 25s - loss: 0.4045 - acc: 0.8650\n",
      "Epoch 33/200\n",
      " - 25s - loss: 0.4065 - acc: 0.8644\n",
      "Epoch 34/200\n",
      " - 27s - loss: 0.4037 - acc: 0.8651\n",
      "Epoch 35/200\n",
      " - 25s - loss: 0.3940 - acc: 0.8680\n",
      "Epoch 36/200\n",
      " - 25s - loss: 0.3948 - acc: 0.8680\n",
      "Epoch 37/200\n",
      " - 26s - loss: 0.3889 - acc: 0.8697\n",
      "Epoch 38/200\n",
      " - 25s - loss: 0.3929 - acc: 0.8688\n",
      "Epoch 39/200\n",
      " - 26s - loss: 0.3898 - acc: 0.8708\n",
      "Epoch 40/200\n",
      " - 25s - loss: 0.3877 - acc: 0.8703\n",
      "Epoch 41/200\n",
      " - 27s - loss: 0.3862 - acc: 0.8716\n",
      "Epoch 42/200\n",
      " - 26s - loss: 0.3883 - acc: 0.8710\n",
      "Epoch 43/200\n",
      " - 26s - loss: 0.3815 - acc: 0.8721\n",
      "Epoch 44/200\n",
      " - 36s - loss: 0.3791 - acc: 0.8728\n",
      "Epoch 45/200\n",
      " - 25s - loss: 0.3839 - acc: 0.8731\n",
      "Epoch 46/200\n",
      " - 25s - loss: 0.3748 - acc: 0.8752\n",
      "Epoch 47/200\n",
      " - 26s - loss: 0.3688 - acc: 0.8775\n",
      "Epoch 48/200\n",
      " - 27s - loss: 0.3574 - acc: 0.8806\n",
      "Epoch 49/200\n",
      " - 26s - loss: 0.3601 - acc: 0.8798\n",
      "Epoch 50/200\n",
      " - 34s - loss: 0.3608 - acc: 0.8802\n",
      "Epoch 51/200\n",
      " - 27s - loss: 0.3589 - acc: 0.8807\n",
      "Epoch 52/200\n",
      " - 25s - loss: 0.3590 - acc: 0.8803\n",
      "Epoch 53/200\n",
      " - 26s - loss: 0.3556 - acc: 0.8815\n",
      "Epoch 54/200\n",
      " - 26s - loss: 0.3520 - acc: 0.8829\n",
      "Epoch 55/200\n",
      " - 25s - loss: 0.3439 - acc: 0.8844\n",
      "Epoch 56/200\n",
      " - 35s - loss: 0.3493 - acc: 0.8842\n",
      "Epoch 57/200\n",
      " - 27s - loss: 0.3486 - acc: 0.8838\n",
      "Epoch 58/200\n",
      " - 25s - loss: 0.3392 - acc: 0.8864\n",
      "Epoch 59/200\n",
      " - 25s - loss: 0.3444 - acc: 0.8853\n",
      "Epoch 60/200\n",
      " - 26s - loss: 0.3422 - acc: 0.8856\n",
      "Epoch 61/200\n",
      " - 26s - loss: 0.3329 - acc: 0.8883\n",
      "Epoch 62/200\n",
      " - 33s - loss: 0.3337 - acc: 0.8879\n",
      "Epoch 63/200\n",
      " - 29s - loss: 0.3349 - acc: 0.8887\n",
      "Epoch 64/200\n",
      " - 25s - loss: 0.3378 - acc: 0.8879\n",
      "Epoch 65/200\n",
      " - 26s - loss: 0.3310 - acc: 0.8901\n",
      "Epoch 66/200\n",
      " - 26s - loss: 0.3305 - acc: 0.8890\n",
      "Epoch 67/200\n",
      " - 25s - loss: 0.3306 - acc: 0.8893\n",
      "Epoch 68/200\n",
      " - 31s - loss: 0.3317 - acc: 0.8894\n",
      "Epoch 69/200\n",
      " - 26s - loss: 0.3274 - acc: 0.8914\n",
      "Epoch 70/200\n",
      " - 25s - loss: 0.3324 - acc: 0.8899\n",
      "Epoch 71/200\n",
      " - 25s - loss: 0.3261 - acc: 0.8912\n",
      "Epoch 72/200\n",
      " - 25s - loss: 0.3297 - acc: 0.8898\n",
      "Epoch 73/200\n",
      " - 24s - loss: 0.3196 - acc: 0.8941\n",
      "Epoch 74/200\n",
      " - 30s - loss: 0.3205 - acc: 0.8931\n",
      "Epoch 75/200\n",
      " - 26s - loss: 0.3188 - acc: 0.8941\n",
      "Epoch 76/200\n",
      " - 25s - loss: 0.3263 - acc: 0.8915\n",
      "Epoch 77/200\n",
      " - 25s - loss: 0.3234 - acc: 0.8926\n",
      "Epoch 78/200\n",
      " - 26s - loss: 0.3221 - acc: 0.8926\n",
      "Epoch 79/200\n",
      " - 28s - loss: 0.3153 - acc: 0.8947\n",
      "Epoch 80/200\n",
      " - 29s - loss: 0.3193 - acc: 0.8929\n",
      "Epoch 81/200\n",
      " - 27s - loss: 0.3168 - acc: 0.8945\n",
      "Epoch 82/200\n",
      " - 28s - loss: 0.3127 - acc: 0.8956\n"
     ]
    }
   ],
   "source": [
    "from keras_tqdm import TQDMNotebookCallback\n",
    "print('Train...')\n",
    "\n",
    "history = classify_model.fit(x_data, y_data, \\\n",
    "            #validation_data=(x_eval, y_eval), \\\n",
    "            epochs=200, shuffle=True, batch_size=1000, \\\n",
    "            callbacks=[TQDMNotebookCallback()], verbose=2)\n"
   ]
  },
  {
   "cell_type": "markdown",
   "metadata": {
    "collapsed": true
   },
   "source": [
    "# 200 Epochs"
   ]
  },
  {
   "cell_type": "code",
   "execution_count": 23,
   "metadata": {
    "collapsed": false
   },
   "outputs": [
    {
     "name": "stdout",
     "output_type": "stream",
     "text": [
      "dict_keys(['loss', 'acc'])\n"
     ]
    },
    {
     "data": {
      "image/png": "[encoded data removed]",
      "text/plain": [
       "<matplotlib.figure.Figure at 0x7ff10d06d128>"
      ]
     },
     "metadata": {},
     "output_type": "display_data"
    },
    {
     "data": {
      "image/png": "[encoded data removed]",
      "text/plain": [
       "<matplotlib.figure.Figure at 0x7ff10d0392e8>"
      ]
     },
     "metadata": {},
     "output_type": "display_data"
    }
   ],
   "source": [
    "import matplotlib.pyplot as plt\n",
    "# list all data in history\n",
    "print(history.history.keys())\n",
    "# summarize history for accuracy\n",
    "plt.plot(history.history['acc'])\n",
    "#plt.plot(history.history['val_acc'])\n",
    "plt.title('model accuracy')\n",
    "plt.ylabel('accuracy')\n",
    "plt.xlabel('epoch')\n",
    "plt.legend(['train', 'eval'], loc='upper left')\n",
    "plt.show()\n",
    "# summarize history for loss\n",
    "plt.plot(history.history['loss'])\n",
    "#plt.plot(history.history['val_loss'])\n",
    "plt.title('model loss')\n",
    "plt.ylabel('loss')\n",
    "plt.xlabel('epoch')\n",
    "plt.legend(['train', 'eval'], loc='upper left')\n",
    "plt.show()"
   ]
  },
  {
   "cell_type": "markdown",
   "metadata": {
    "collapsed": true
   },
   "source": [
    "# Apply Attention"
   ]
  },
  {
   "cell_type": "code",
   "execution_count": 70,
   "metadata": {
    "collapsed": false
   },
   "outputs": [
    {
     "name": "stdout",
     "output_type": "stream",
     "text": [
      "200000 507\n",
      "200000 56\n"
     ]
    }
   ],
   "source": [
    "file_read = open(\"../imgtvgene_sequence_classification/naive.txt\")\n",
    "\n",
    "source_sequence = []\n",
    "target_sequence = []\n",
    "\n",
    "max_count = 200000\n",
    "max_source_len = 0\n",
    "\n",
    "vgene_tag = []\n",
    "vgene_dic = {}\n",
    "vgenes = 0\n",
    "\n",
    "count = 0\n",
    "\n",
    "line = file_read.readline()\n",
    "for line in file_read:\n",
    "    split = line.strip().split(\" \")\n",
    "    #print(split)\n",
    "    \n",
    "    try:\n",
    "        source = [char_to_int[x] for x in split[2][1:-1]]\n",
    "        if max_source_len < len(source):\n",
    "            max_source_len = len(source)\n",
    "\n",
    "        target = [char_to_int[x] for x in split[3][1:-1] if x in \"NACGT\"]\n",
    "        \n",
    "        assert(len(target) < len(source))\n",
    "    except:\n",
    "        continue\n",
    "        \n",
    "    source_sequence.append(source)\n",
    "    target_sequence.append(target)\n",
    "    \n",
    "    vgene_name = split[-1][1:-1].split(\"*\")[0]\n",
    "    #* for Gene /- for Family /No Split for Allele\n",
    "    if not vgene_name in vgene_dic:\n",
    "        vgene_dic[vgene_name] = vgenes\n",
    "        vgenes += 1\n",
    "    vgene_tag.append(vgene_dic[vgene_name])\n",
    "    \n",
    "    count += 1\n",
    "    #print(split[1], vgene_name)\n",
    "    if count == max_count:\n",
    "        break\n",
    "    \n",
    "print(len(source_sequence), max_source_len)\n",
    "print(len(vgene_tag), vgenes)\n"
   ]
  },
  {
   "cell_type": "code",
   "execution_count": 71,
   "metadata": {
    "collapsed": false
   },
   "outputs": [
    {
     "data": {
      "text/plain": [
       "array([2, 1, 3, 3, 4, 3, 2, 1, 3, 2, 4, 3, 2, 1, 3, 3, 1, 3, 4, 2, 3, 3,\n",
       "       3, 2, 2, 2, 1, 3, 3, 1, 2, 4, 3, 3, 4, 3, 1, 1, 3, 2, 2, 4, 4, 2,\n",
       "       3, 3, 1, 3, 1, 2, 2, 2, 4, 3, 4, 2, 2, 2, 4, 2, 1, 4, 4, 4, 3, 2,\n",
       "       1, 2, 4, 3, 4, 2, 4, 2, 4, 3, 3, 4, 4, 1, 4, 4, 2, 2, 1, 4, 2, 1,\n",
       "       3, 2, 1, 3, 4, 3, 3, 4, 4, 4, 2, 4, 1, 2, 4, 3, 3, 3, 3, 2, 4, 3,\n",
       "       3, 1, 4, 2, 2, 3, 3, 2, 1, 3, 2, 2, 2, 2, 2, 1, 3, 3, 3, 1, 1, 3,\n",
       "       3, 3, 3, 2, 4, 3, 3, 1, 3, 4, 3, 3, 1, 4, 4, 3, 3, 3, 1, 3, 4, 1,\n",
       "       4, 2, 4, 2, 4, 2, 1, 4, 1, 3, 4, 3, 3, 3, 1, 2, 2, 1, 2, 2, 4, 1,\n",
       "       2, 4, 1, 2, 1, 1, 2, 2, 2, 3, 4, 2, 2, 2, 4, 2, 1, 1, 3, 1, 3, 4,\n",
       "       2, 3, 1, 3, 4, 2, 1, 2, 2, 1, 4, 3, 4, 2, 1, 3, 4, 1, 3, 1, 2, 1,\n",
       "       2, 3, 4, 2, 2, 1, 3, 3, 1, 1, 2, 2, 1, 3, 4, 4, 2, 4, 2, 2, 2, 4,\n",
       "       3, 1, 1, 3, 2, 4, 3, 1, 1, 2, 4, 2, 4, 3, 4, 3, 3, 2, 2, 3, 2, 2,\n",
       "       3, 2, 1, 3, 1, 2, 1, 2, 3, 3, 2, 2, 3, 4, 3, 4, 1, 4, 4, 1, 2, 4,\n",
       "       3, 4, 3, 2, 3, 1, 3, 1, 3, 3, 3, 3, 2, 1, 2, 2, 4, 3, 3, 4, 1, 4,\n",
       "       4, 3, 1, 2, 4, 1, 2, 4, 3, 3, 3, 3, 2, 2, 1, 3, 3, 3, 1, 1, 4, 2,\n",
       "       2, 4, 3, 3, 4, 2, 1, 2, 2, 3, 4, 2, 4, 2, 2, 4, 2, 1, 3])"
      ]
     },
     "execution_count": 71,
     "metadata": {},
     "output_type": "execute_result"
    }
   ],
   "source": [
    "np.array(source)"
   ]
  },
  {
   "cell_type": "code",
   "execution_count": 72,
   "metadata": {
    "collapsed": false
   },
   "outputs": [
    {
     "data": {
      "text/plain": [
       "array([2, 1, 3, 3, 4, 3, 2, 1, 3, 2, 4, 3, 2, 1, 3, 3, 1, 3, 4, 2, 3, 3,\n",
       "       3, 2, 2, 2, 1, 3, 3, 1, 2, 4, 3, 3, 4, 3, 1, 1, 3, 2, 2, 4, 4, 2,\n",
       "       3, 3, 1, 3, 1, 2, 2, 2, 4, 3, 4, 2, 2, 2, 4, 2, 1, 2, 2, 4, 3, 2,\n",
       "       1, 2, 4, 3, 4, 2, 4, 2, 4, 3, 3, 4, 4, 1, 2, 4, 2, 2, 1, 4, 2, 1,\n",
       "       3, 2, 1, 3, 4, 3, 3, 4, 4, 1, 2, 4, 1, 2, 4, 3, 3, 3, 3, 2, 4, 3,\n",
       "       3, 1, 4, 2, 2, 3, 3, 2, 1, 3, 2, 2, 2, 2, 2, 1, 3, 3, 3, 1, 1, 3,\n",
       "       3, 3, 3, 2, 4, 3, 3, 1, 3, 4, 3, 3, 1, 4, 4, 3, 3, 3, 1, 3, 4, 1,\n",
       "       4, 2, 4, 1, 4, 2, 1, 4, 1, 3, 4, 3, 3, 3, 1, 3, 2, 1, 2, 2, 4, 1,\n",
       "       2, 4, 1, 2, 1, 1, 2, 2, 2, 3, 4, 2, 2, 2, 4, 2, 1, 1, 3, 1, 3, 4,\n",
       "       2, 3, 1, 3, 4, 2, 1, 2, 2, 1, 4, 1, 4, 2, 1, 3, 4, 1, 3, 1, 2, 1,\n",
       "       2, 3, 4, 2, 2, 1, 1, 3, 1, 1, 2, 2, 1, 3, 4, 4, 2, 4, 2, 2, 2, 4,\n",
       "       3, 1, 1, 3, 2, 4, 3, 1, 3, 2, 4, 2, 4, 3, 4, 3, 1, 2, 2, 3, 2, 2,\n",
       "       3, 2, 1, 3, 1, 2, 1, 2, 3, 3, 2, 2, 3, 4, 3, 4, 1, 4, 4, 1, 2, 4,\n",
       "       3, 4, 3, 2, 3, 1, 3, 1, 3, 1])"
      ]
     },
     "execution_count": 72,
     "metadata": {},
     "output_type": "execute_result"
    }
   ],
   "source": [
    "np.array(target)"
   ]
  },
  {
   "cell_type": "code",
   "execution_count": 73,
   "metadata": {
    "collapsed": false
   },
   "outputs": [
    {
     "name": "stdout",
     "output_type": "stream",
     "text": [
      "200000 200000 200000\n",
      "(200000, 507) (200000, 56) (200000, 507)\n"
     ]
    }
   ],
   "source": [
    "from keras.utils import to_categorical\n",
    "from keras.preprocessing.sequence import pad_sequences\n",
    "\n",
    "source_data = pad_sequences(source_sequence, maxlen=max_source_len, padding='post', value=0)\n",
    "classes = to_categorical(vgene_tag)\n",
    "target_data = pad_sequences(target_sequence, maxlen=max_source_len, padding='post', value=0)\n",
    "\n",
    "print(len(source_sequence), len(vgene_tag), len(target_sequence))\n",
    "print(source_data.shape, classes.shape, target_data.shape)"
   ]
  },
  {
   "cell_type": "code",
   "execution_count": 74,
   "metadata": {
    "collapsed": false
   },
   "outputs": [
    {
     "data": {
      "text/plain": [
       "array([2, 1, 3, 3, 4, 1, 2, 1, 3, 2, 4, 3, 2, 1, 3, 3, 1, 3, 4, 2, 3, 3,\n",
       "       3, 2, 2, 2, 1, 3, 3, 1, 2, 4, 3, 3, 4, 3, 1, 1, 3, 2, 2, 4, 4, 2,\n",
       "       3, 3, 1, 2, 1, 2, 2, 2, 4, 3, 4, 2, 2, 2, 4, 2, 1, 2, 2, 4, 3, 2,\n",
       "       3, 2, 4, 3, 4, 2, 4, 2, 4, 3, 3, 4, 4, 1, 2, 4, 2, 2, 1, 4, 2, 1,\n",
       "       3, 2, 1, 3, 4, 1, 3, 4, 1, 1, 2, 4, 3, 3, 4, 3, 3, 3, 3, 2, 4, 3,\n",
       "       3, 1, 4, 2, 2, 3, 3, 2, 1, 3, 2, 2, 2, 2, 2, 1, 3, 3, 3, 1, 1, 3,\n",
       "       3, 3, 1, 2, 4, 3, 3, 1, 3, 4, 3, 3, 1, 4, 4, 3, 3, 3, 4, 1, 2, 1,\n",
       "       4, 2, 4, 1, 4, 4, 1, 4, 1, 3, 4, 3, 3, 3, 1, 3, 2, 1, 2, 2, 4, 1,\n",
       "       2, 4, 1, 2, 1, 1, 2, 2, 2, 3, 4, 2, 2, 2, 4, 2, 1, 1, 3, 1, 3, 4,\n",
       "       2, 3, 1, 3, 4, 2, 1, 2, 2, 1, 4, 3, 4, 2, 1, 3, 4, 1, 3, 1, 2, 1,\n",
       "       2, 3, 4, 2, 2, 1, 1, 3, 1, 1, 2, 2, 1, 3, 4, 4, 2, 4, 2, 2, 2, 4,\n",
       "       3, 1, 1, 3, 2, 4, 3, 1, 3, 2, 4, 2, 4, 3, 4, 3, 1, 2, 2, 3, 2, 2,\n",
       "       3, 4, 3, 3, 1, 2, 1, 2, 3, 3, 2, 2, 3, 4, 3, 4, 1, 4, 4, 1, 2, 4,\n",
       "       3, 4, 3, 2, 3, 1, 3, 1, 1, 1, 1, 3, 3, 4, 1, 2, 4, 2, 3, 2, 3, 3,\n",
       "       3, 3, 3, 1, 4, 2, 2, 4, 4, 2, 3, 1, 4, 2, 4, 2, 4, 3, 3, 3, 3, 2,\n",
       "       2, 3, 4, 3, 3, 2, 1, 2, 2, 2, 4, 3, 3, 4, 2, 1, 2, 4, 3, 4, 2, 4,\n",
       "       2, 2, 4, 2, 1, 3, 0, 0, 0, 0, 0, 0, 0, 0, 0, 0, 0, 0, 0, 0, 0, 0,\n",
       "       0, 0, 0, 0, 0, 0, 0, 0, 0, 0, 0, 0, 0, 0, 0, 0, 0, 0, 0, 0, 0, 0,\n",
       "       0, 0, 0, 0, 0, 0, 0, 0, 0, 0, 0, 0, 0, 0, 0, 0, 0, 0, 0, 0, 0, 0,\n",
       "       0, 0, 0, 0, 0, 0, 0, 0, 0, 0, 0, 0, 0, 0, 0, 0, 0, 0, 0, 0, 0, 0,\n",
       "       0, 0, 0, 0, 0, 0, 0, 0, 0, 0, 0, 0, 0, 0, 0, 0, 0, 0, 0, 0, 0, 0,\n",
       "       0, 0, 0, 0, 0, 0, 0, 0, 0, 0, 0, 0, 0, 0, 0, 0, 0, 0, 0, 0, 0, 0,\n",
       "       0, 0, 0, 0, 0, 0, 0, 0, 0, 0, 0, 0, 0, 0, 0, 0, 0, 0, 0, 0, 0, 0,\n",
       "       0], dtype=int32)"
      ]
     },
     "execution_count": 74,
     "metadata": {},
     "output_type": "execute_result"
    }
   ],
   "source": [
    "source_data[0]"
   ]
  },
  {
   "cell_type": "code",
   "execution_count": 75,
   "metadata": {
    "collapsed": false
   },
   "outputs": [
    {
     "data": {
      "text/plain": [
       "array([2, 1, 3, 3, 4, 1, 2, 1, 3, 2, 4, 3, 2, 1, 3, 3, 1, 3, 4, 2, 3, 3,\n",
       "       3, 2, 2, 2, 1, 3, 3, 1, 2, 4, 3, 3, 4, 3, 1, 1, 3, 2, 2, 4, 4, 2,\n",
       "       3, 3, 1, 2, 1, 2, 2, 2, 4, 3, 4, 2, 2, 2, 4, 2, 1, 2, 2, 4, 3, 2,\n",
       "       3, 2, 4, 3, 4, 2, 4, 2, 4, 3, 3, 4, 4, 1, 2, 4, 2, 2, 1, 4, 2, 1,\n",
       "       3, 2, 1, 3, 4, 1, 3, 4, 1, 1, 2, 4, 3, 3, 4, 3, 3, 3, 3, 2, 4, 3,\n",
       "       3, 1, 4, 2, 2, 3, 3, 2, 1, 3, 2, 2, 2, 2, 2, 1, 3, 3, 3, 1, 1, 3,\n",
       "       3, 3, 1, 2, 4, 3, 3, 1, 3, 4, 3, 3, 1, 4, 4, 3, 3, 3, 4, 1, 2, 1,\n",
       "       4, 2, 4, 1, 4, 4, 1, 4, 1, 3, 4, 3, 3, 3, 1, 3, 2, 1, 2, 2, 4, 1,\n",
       "       2, 4, 1, 2, 1, 1, 2, 2, 2, 3, 4, 2, 2, 2, 4, 2, 1, 1, 3, 1, 3, 4,\n",
       "       2, 3, 1, 3, 4, 2, 1, 2, 2, 1, 4, 3, 4, 2, 1, 3, 4, 1, 3, 1, 2, 1,\n",
       "       2, 3, 4, 2, 2, 1, 1, 3, 1, 1, 2, 2, 1, 3, 4, 4, 2, 4, 2, 2, 2, 4,\n",
       "       3, 1, 1, 3, 2, 4, 3, 1, 3, 2, 4, 2, 4, 3, 4, 3, 1, 2, 2, 3, 2, 2,\n",
       "       3, 4, 3, 3, 1, 2, 1, 2, 3, 3, 2, 2, 3, 4, 3, 4, 1, 4, 4, 1, 2, 4,\n",
       "       3, 4, 3, 2, 3, 1, 3, 1, 1, 1, 0, 0, 0, 0, 0, 0, 0, 0, 0, 0, 0, 0,\n",
       "       0, 0, 0, 0, 0, 0, 0, 0, 0, 0, 0, 0, 0, 0, 0, 0, 0, 0, 0, 0, 0, 0,\n",
       "       0, 0, 0, 0, 0, 0, 0, 0, 0, 0, 0, 0, 0, 0, 0, 0, 0, 0, 0, 0, 0, 0,\n",
       "       0, 0, 0, 0, 0, 0, 0, 0, 0, 0, 0, 0, 0, 0, 0, 0, 0, 0, 0, 0, 0, 0,\n",
       "       0, 0, 0, 0, 0, 0, 0, 0, 0, 0, 0, 0, 0, 0, 0, 0, 0, 0, 0, 0, 0, 0,\n",
       "       0, 0, 0, 0, 0, 0, 0, 0, 0, 0, 0, 0, 0, 0, 0, 0, 0, 0, 0, 0, 0, 0,\n",
       "       0, 0, 0, 0, 0, 0, 0, 0, 0, 0, 0, 0, 0, 0, 0, 0, 0, 0, 0, 0, 0, 0,\n",
       "       0, 0, 0, 0, 0, 0, 0, 0, 0, 0, 0, 0, 0, 0, 0, 0, 0, 0, 0, 0, 0, 0,\n",
       "       0, 0, 0, 0, 0, 0, 0, 0, 0, 0, 0, 0, 0, 0, 0, 0, 0, 0, 0, 0, 0, 0,\n",
       "       0, 0, 0, 0, 0, 0, 0, 0, 0, 0, 0, 0, 0, 0, 0, 0, 0, 0, 0, 0, 0, 0,\n",
       "       0], dtype=int32)"
      ]
     },
     "execution_count": 75,
     "metadata": {},
     "output_type": "execute_result"
    }
   ],
   "source": [
    "target_data[0]"
   ]
  },
  {
   "cell_type": "code",
   "execution_count": 76,
   "metadata": {
    "collapsed": false
   },
   "outputs": [
    {
     "name": "stdout",
     "output_type": "stream",
     "text": [
      "4 4\n",
      "[[0. 0. 1. 0. 0. 0.]\n",
      " [0. 1. 0. 0. 0. 0.]\n",
      " [0. 0. 0. 1. 0. 0.]\n",
      " ...\n",
      " [1. 0. 0. 0. 0. 0.]\n",
      " [1. 0. 0. 0. 0. 0.]\n",
      " [1. 0. 0. 0. 0. 0.]]\n",
      "[[0. 0. 1. 0. 0. 0.]\n",
      " [0. 1. 0. 0. 0. 0.]\n",
      " [0. 0. 0. 1. 0. 0.]\n",
      " ...\n",
      " [1. 0. 0. 0. 0. 0.]\n",
      " [1. 0. 0. 0. 0. 0.]\n",
      " [1. 0. 0. 0. 0. 0.]]\n"
     ]
    }
   ],
   "source": [
    "def one_hot_encode(sequence, n_unique):\n",
    "    encoding = np.zeros((len(sequence), n_unique))\n",
    "    \n",
    "    for i in range(len(sequence)):\n",
    "        encoding[i][sequence[i]] = 1\n",
    "    \n",
    "    return encoding\n",
    "\n",
    "print(max(source_data[0]), max(target_data[0]))\n",
    "print(one_hot_encode(source_data[0], vocab_size))\n",
    "print(one_hot_encode(target_data[0], vocab_size))"
   ]
  },
  {
   "cell_type": "code",
   "execution_count": 77,
   "metadata": {
    "collapsed": false
   },
   "outputs": [
    {
     "name": "stdout",
     "output_type": "stream",
     "text": [
      "(200000, 507, 5)\n"
     ]
    }
   ],
   "source": [
    "source_encoded = np.array([one_hot_encode(seq, vocab_size-1) for seq in source_data[:]])\n",
    "print(source_encoded.shape)\n",
    "    "
   ]
  },
  {
   "cell_type": "code",
   "execution_count": 78,
   "metadata": {
    "collapsed": false
   },
   "outputs": [
    {
     "data": {
      "text/plain": [
       "array([[0., 0., 1., 0., 0.],\n",
       "       [0., 1., 0., 0., 0.],\n",
       "       [0., 0., 0., 1., 0.],\n",
       "       ...,\n",
       "       [1., 0., 0., 0., 0.],\n",
       "       [1., 0., 0., 0., 0.],\n",
       "       [1., 0., 0., 0., 0.]])"
      ]
     },
     "execution_count": 78,
     "metadata": {},
     "output_type": "execute_result"
    }
   ],
   "source": [
    "source_encoded[0]"
   ]
  },
  {
   "cell_type": "code",
   "execution_count": 79,
   "metadata": {
    "collapsed": false
   },
   "outputs": [
    {
     "name": "stdout",
     "output_type": "stream",
     "text": [
      "(200000, 507, 5)\n"
     ]
    }
   ],
   "source": [
    "target_encoded = np.array([one_hot_encode(seq, vocab_size-1) for seq in target_data[:]])\n",
    "print(target_encoded.shape)\n",
    "    "
   ]
  },
  {
   "cell_type": "code",
   "execution_count": 80,
   "metadata": {
    "collapsed": false
   },
   "outputs": [
    {
     "data": {
      "text/plain": [
       "array([[0., 0., 1., 0., 0.],\n",
       "       [0., 1., 0., 0., 0.],\n",
       "       [0., 0., 0., 1., 0.],\n",
       "       ...,\n",
       "       [1., 0., 0., 0., 0.],\n",
       "       [1., 0., 0., 0., 0.],\n",
       "       [1., 0., 0., 0., 0.]])"
      ]
     },
     "execution_count": 80,
     "metadata": {},
     "output_type": "execute_result"
    }
   ],
   "source": [
    "target_encoded[0]"
   ]
  },
  {
   "cell_type": "code",
   "execution_count": 81,
   "metadata": {
    "collapsed": true
   },
   "outputs": [],
   "source": [
    "# define the encoder-decoder model\n",
    "def baseline_model(n_timesteps_in, n_features):\n",
    "    model = Sequential()\n",
    "    model.add(LSTM(150, input_shape=(n_timesteps_in, n_features)))\n",
    "    model.add(RepeatVector(n_timesteps_in))\n",
    "    model.add(LSTM(150, return_sequences=True))\n",
    "    model.add(TimeDistributed(Dense(n_features, activation='softmax')))\n",
    "    model.compile(loss='categorical_crossentropy', optimizer='adam', metrics=['acc'])\n",
    "    model.summary()\n",
    "    return model\n"
   ]
  },
  {
   "cell_type": "code",
   "execution_count": 88,
   "metadata": {
    "collapsed": false,
    "scrolled": true
   },
   "outputs": [
    {
     "name": "stdout",
     "output_type": "stream",
     "text": [
      "Train...\n",
      "_________________________________________________________________\n",
      "Layer (type)                 Output Shape              Param #   \n",
      "=================================================================\n",
      "lstm_50 (LSTM)               (None, 150)               93600     \n",
      "_________________________________________________________________\n",
      "repeat_vector_16 (RepeatVect (None, 507, 150)          0         \n",
      "_________________________________________________________________\n",
      "lstm_51 (LSTM)               (None, 507, 150)          180600    \n",
      "_________________________________________________________________\n",
      "time_distributed_15 (TimeDis (None, 507, 5)            755       \n",
      "=================================================================\n",
      "Total params: 274,955\n",
      "Trainable params: 274,955\n",
      "Non-trainable params: 0\n",
      "_________________________________________________________________\n",
      "Epoch 1/10\n",
      " - 295s - loss: 1.4697 - acc: 0.4280\n",
      "Epoch 2/10\n",
      " - 289s - loss: 1.4664 - acc: 0.4314\n",
      "Epoch 3/10\n",
      " - 289s - loss: 1.4605 - acc: 0.4344\n",
      "Epoch 4/10\n",
      " - 288s - loss: 1.4715 - acc: 0.4281\n",
      "Epoch 5/10\n",
      " - 289s - loss: 1.4668 - acc: 0.4307\n",
      "Epoch 6/10\n",
      " - 289s - loss: 1.4667 - acc: 0.4314\n",
      "Epoch 7/10\n",
      " - 289s - loss: 1.4658 - acc: 0.4314\n",
      "Epoch 8/10\n",
      " - 289s - loss: 1.4658 - acc: 0.4314\n",
      "Epoch 9/10\n",
      " - 288s - loss: 1.4662 - acc: 0.4314\n",
      "Epoch 10/10\n",
      " - 290s - loss: 1.4661 - acc: 0.4314\n"
     ]
    },
    {
     "data": {
      "text/plain": [
       "<keras.callbacks.History at 0x7fa4779aef60>"
      ]
     },
     "execution_count": 88,
     "metadata": {},
     "output_type": "execute_result"
    }
   ],
   "source": [
    "from random import randint\n",
    "from numpy import array\n",
    "from numpy import argmax\n",
    "from numpy import array_equal\n",
    "from keras.models import Sequential\n",
    "from keras.layers import LSTM\n",
    "from keras.layers import Dense\n",
    "from keras.layers import TimeDistributed\n",
    "from keras.layers import RepeatVector\n",
    "from custom_recurrents import AttentionDecoder\n",
    "from keras_tqdm import TQDMNotebookCallback\n",
    "\n",
    "print('Train...')\n",
    "\n",
    "train_data_size = 10000\n",
    "test_source_len = max_source_len\n",
    "model = baseline_model(test_source_len, vocab_size-1)\n",
    "\n",
    "model.fit(source_encoded[:train_data_size, :test_source_len, :], \\\n",
    "          target_encoded[:train_data_size, :test_source_len, :], epochs=10,\n",
    "          callbacks=[TQDMNotebookCallback()], verbose=2)"
   ]
  },
  {
   "cell_type": "code",
   "execution_count": 85,
   "metadata": {
    "collapsed": true
   },
   "outputs": [],
   "source": [
    "# define the encoder-decoder with attention model\n",
    "def attention_model(n_timesteps_in, n_features):\n",
    "    model = Sequential()\n",
    "    model.add(LSTM(128, input_shape=(n_timesteps_in, n_features), return_sequences=True))\n",
    "    model.add(LSTM(128, return_sequences=True))\n",
    "    model.add(AttentionDecoder(128, n_features))\n",
    "    model.compile(loss='categorical_crossentropy', optimizer='adam', metrics=['acc'])\n",
    "    model.summary()\n",
    "    return model\n"
   ]
  },
  {
   "cell_type": "code",
   "execution_count": 87,
   "metadata": {
    "collapsed": false
   },
   "outputs": [
    {
     "name": "stdout",
     "output_type": "stream",
     "text": [
      "Train...\n",
      "_________________________________________________________________\n",
      "Layer (type)                 Output Shape              Param #   \n",
      "=================================================================\n",
      "lstm_48 (LSTM)               (None, 507, 128)          68608     \n",
      "_________________________________________________________________\n",
      "lstm_49 (LSTM)               (None, 507, 128)          131584    \n",
      "_________________________________________________________________\n",
      "AttentionDecoder (AttentionD (None, 507, 5)            151326    \n",
      "=================================================================\n",
      "Total params: 351,518\n",
      "Trainable params: 351,518\n",
      "Non-trainable params: 0\n",
      "_________________________________________________________________\n",
      "Epoch 1/10\n",
      " - 7108s - loss: 1.0921 - acc: 0.5329\n",
      "Epoch 2/10\n",
      " - 8691s - loss: 0.8611 - acc: 0.5935\n",
      "Epoch 3/10\n",
      " - 4276s - loss: 0.8217 - acc: 0.6074\n",
      "Epoch 4/10\n",
      " - 4267s - loss: 0.7832 - acc: 0.6216\n",
      "Epoch 5/10\n",
      " - 4283s - loss: 0.7716 - acc: 0.6307\n",
      "Epoch 6/10\n",
      " - 4261s - loss: 0.7997 - acc: 0.6237\n",
      "Epoch 7/10\n",
      " - 4294s - loss: 0.7596 - acc: 0.6327\n",
      "Epoch 8/10\n",
      " - 4200s - loss: 0.7529 - acc: 0.6346\n",
      "Epoch 9/10\n",
      " - 4190s - loss: 0.8213 - acc: 0.6196\n",
      "Epoch 10/10\n",
      " - 4189s - loss: 0.8638 - acc: 0.5940\n"
     ]
    },
    {
     "data": {
      "text/plain": [
       "<keras.callbacks.History at 0x7fb28366e358>"
      ]
     },
     "execution_count": 87,
     "metadata": {},
     "output_type": "execute_result"
    }
   ],
   "source": [
    "print('Train...')\n",
    "\n",
    "train_data_size = 10000\n",
    "test_source_len = max_source_len #100\n",
    "model = attention_model(test_source_len, vocab_size-1)\n",
    "\n",
    "model.fit(source_encoded[:train_data_size, :test_source_len, :], \\\n",
    "          target_encoded[:train_data_size, :test_source_len, :], epochs=10,\n",
    "          callbacks=[TQDMNotebookCallback()], verbose=2)"
   ]
  },
  {
   "cell_type": "code",
   "execution_count": 55,
   "metadata": {
    "collapsed": false
   },
   "outputs": [
    {
     "data": {
      "text/plain": [
       "array([[[0., 0., 1., 0., 0., 0.],\n",
       "        [0., 1., 0., 0., 0., 0.],\n",
       "        [0., 0., 0., 1., 0., 0.],\n",
       "        [0., 0., 0., 1., 0., 0.],\n",
       "        [0., 0., 0., 0., 1., 0.],\n",
       "        [0., 1., 0., 0., 0., 0.],\n",
       "        [0., 0., 1., 0., 0., 0.],\n",
       "        [0., 1., 0., 0., 0., 0.],\n",
       "        [0., 0., 0., 1., 0., 0.],\n",
       "        [0., 0., 1., 0., 0., 0.]],\n",
       "\n",
       "       [[0., 0., 1., 0., 0., 0.],\n",
       "        [0., 1., 0., 0., 0., 0.],\n",
       "        [0., 0., 0., 1., 0., 0.],\n",
       "        [0., 0., 0., 1., 0., 0.],\n",
       "        [0., 0., 0., 0., 1., 0.],\n",
       "        [0., 0., 0., 1., 0., 0.],\n",
       "        [0., 0., 1., 0., 0., 0.],\n",
       "        [0., 1., 0., 0., 0., 0.],\n",
       "        [0., 0., 0., 1., 0., 0.],\n",
       "        [0., 0., 1., 0., 0., 0.]],\n",
       "\n",
       "       [[0., 0., 1., 0., 0., 0.],\n",
       "        [0., 1., 0., 0., 0., 0.],\n",
       "        [0., 0., 0., 1., 0., 0.],\n",
       "        [0., 0., 0., 1., 0., 0.],\n",
       "        [0., 0., 0., 0., 1., 0.],\n",
       "        [0., 0., 0., 1., 0., 0.],\n",
       "        [0., 0., 1., 0., 0., 0.],\n",
       "        [0., 1., 0., 0., 0., 0.],\n",
       "        [0., 0., 0., 1., 0., 0.],\n",
       "        [0., 0., 1., 0., 0., 0.]],\n",
       "\n",
       "       [[0., 0., 1., 0., 0., 0.],\n",
       "        [0., 1., 0., 0., 0., 0.],\n",
       "        [0., 0., 0., 1., 0., 0.],\n",
       "        [0., 0., 0., 1., 0., 0.],\n",
       "        [0., 0., 0., 0., 1., 0.],\n",
       "        [0., 0., 0., 1., 0., 0.],\n",
       "        [0., 0., 1., 0., 0., 0.],\n",
       "        [0., 1., 0., 0., 0., 0.],\n",
       "        [0., 0., 0., 1., 0., 0.],\n",
       "        [0., 0., 1., 0., 0., 0.]],\n",
       "\n",
       "       [[0., 0., 1., 0., 0., 0.],\n",
       "        [0., 1., 0., 0., 0., 0.],\n",
       "        [0., 0., 0., 1., 0., 0.],\n",
       "        [0., 0., 0., 1., 0., 0.],\n",
       "        [0., 0., 0., 0., 1., 0.],\n",
       "        [0., 0., 0., 1., 0., 0.],\n",
       "        [0., 0., 1., 0., 0., 0.],\n",
       "        [0., 1., 0., 0., 0., 0.],\n",
       "        [0., 0., 0., 1., 0., 0.],\n",
       "        [0., 0., 1., 0., 0., 0.]],\n",
       "\n",
       "       [[0., 0., 1., 0., 0., 0.],\n",
       "        [0., 1., 0., 0., 0., 0.],\n",
       "        [0., 0., 0., 1., 0., 0.],\n",
       "        [0., 0., 0., 1., 0., 0.],\n",
       "        [0., 0., 0., 0., 1., 0.],\n",
       "        [0., 0., 0., 1., 0., 0.],\n",
       "        [0., 0., 1., 0., 0., 0.],\n",
       "        [0., 1., 0., 0., 0., 0.],\n",
       "        [0., 0., 0., 1., 0., 0.],\n",
       "        [0., 0., 1., 0., 0., 0.]],\n",
       "\n",
       "       [[0., 0., 1., 0., 0., 0.],\n",
       "        [0., 1., 0., 0., 0., 0.],\n",
       "        [0., 0., 0., 1., 0., 0.],\n",
       "        [0., 0., 0., 1., 0., 0.],\n",
       "        [0., 0., 0., 0., 1., 0.],\n",
       "        [0., 0., 0., 1., 0., 0.],\n",
       "        [0., 0., 1., 0., 0., 0.],\n",
       "        [0., 1., 0., 0., 0., 0.],\n",
       "        [0., 0., 0., 1., 0., 0.],\n",
       "        [0., 0., 1., 0., 0., 0.]],\n",
       "\n",
       "       [[0., 0., 1., 0., 0., 0.],\n",
       "        [0., 1., 0., 0., 0., 0.],\n",
       "        [0., 0., 0., 1., 0., 0.],\n",
       "        [0., 0., 0., 1., 0., 0.],\n",
       "        [0., 0., 0., 0., 1., 0.],\n",
       "        [0., 0., 0., 1., 0., 0.],\n",
       "        [0., 0., 1., 0., 0., 0.],\n",
       "        [0., 1., 0., 0., 0., 0.],\n",
       "        [0., 0., 0., 1., 0., 0.],\n",
       "        [0., 0., 1., 0., 0., 0.]],\n",
       "\n",
       "       [[0., 0., 1., 0., 0., 0.],\n",
       "        [0., 1., 0., 0., 0., 0.],\n",
       "        [0., 0., 0., 1., 0., 0.],\n",
       "        [0., 0., 0., 1., 0., 0.],\n",
       "        [0., 0., 0., 0., 1., 0.],\n",
       "        [0., 0., 0., 1., 0., 0.],\n",
       "        [0., 0., 1., 0., 0., 0.],\n",
       "        [0., 1., 0., 0., 0., 0.],\n",
       "        [0., 0., 0., 1., 0., 0.],\n",
       "        [0., 0., 1., 0., 0., 0.]],\n",
       "\n",
       "       [[0., 0., 1., 0., 0., 0.],\n",
       "        [0., 1., 0., 0., 0., 0.],\n",
       "        [0., 0., 0., 1., 0., 0.],\n",
       "        [0., 0., 0., 1., 0., 0.],\n",
       "        [0., 0., 0., 0., 1., 0.],\n",
       "        [0., 0., 0., 1., 0., 0.],\n",
       "        [0., 0., 1., 0., 0., 0.],\n",
       "        [0., 1., 0., 0., 0., 0.],\n",
       "        [0., 0., 0., 1., 0., 0.],\n",
       "        [0., 0., 1., 0., 0., 0.]]])"
      ]
     },
     "execution_count": 55,
     "metadata": {},
     "output_type": "execute_result"
    }
   ],
   "source": [
    "source_encoded[:train_data_size, :test_source_len, :]"
   ]
  },
  {
   "cell_type": "code",
   "execution_count": 56,
   "metadata": {
    "collapsed": false
   },
   "outputs": [
    {
     "data": {
      "text/plain": [
       "array([[[0., 0., 1., 0., 0., 0.],\n",
       "        [0., 1., 0., 0., 0., 0.],\n",
       "        [0., 0., 0., 1., 0., 0.],\n",
       "        [0., 0., 0., 1., 0., 0.],\n",
       "        [0., 0., 0., 0., 1., 0.],\n",
       "        [0., 1., 0., 0., 0., 0.],\n",
       "        [0., 0., 1., 0., 0., 0.],\n",
       "        [0., 1., 0., 0., 0., 0.],\n",
       "        [0., 0., 0., 1., 0., 0.],\n",
       "        [0., 0., 1., 0., 0., 0.]],\n",
       "\n",
       "       [[0., 0., 1., 0., 0., 0.],\n",
       "        [0., 1., 0., 0., 0., 0.],\n",
       "        [0., 0., 0., 1., 0., 0.],\n",
       "        [0., 0., 0., 1., 0., 0.],\n",
       "        [0., 0., 0., 0., 1., 0.],\n",
       "        [0., 0., 0., 1., 0., 0.],\n",
       "        [0., 0., 1., 0., 0., 0.],\n",
       "        [0., 1., 0., 0., 0., 0.],\n",
       "        [0., 0., 0., 1., 0., 0.],\n",
       "        [0., 0., 1., 0., 0., 0.]],\n",
       "\n",
       "       [[0., 0., 1., 0., 0., 0.],\n",
       "        [0., 1., 0., 0., 0., 0.],\n",
       "        [0., 0., 0., 1., 0., 0.],\n",
       "        [0., 0., 0., 1., 0., 0.],\n",
       "        [0., 0., 0., 0., 1., 0.],\n",
       "        [0., 0., 0., 1., 0., 0.],\n",
       "        [0., 0., 1., 0., 0., 0.],\n",
       "        [0., 1., 0., 0., 0., 0.],\n",
       "        [0., 0., 0., 1., 0., 0.],\n",
       "        [0., 0., 1., 0., 0., 0.]],\n",
       "\n",
       "       [[0., 0., 1., 0., 0., 0.],\n",
       "        [0., 1., 0., 0., 0., 0.],\n",
       "        [0., 0., 0., 1., 0., 0.],\n",
       "        [0., 0., 0., 1., 0., 0.],\n",
       "        [0., 0., 0., 0., 1., 0.],\n",
       "        [0., 0., 0., 1., 0., 0.],\n",
       "        [0., 0., 1., 0., 0., 0.],\n",
       "        [0., 1., 0., 0., 0., 0.],\n",
       "        [0., 0., 0., 1., 0., 0.],\n",
       "        [0., 0., 1., 0., 0., 0.]],\n",
       "\n",
       "       [[0., 0., 1., 0., 0., 0.],\n",
       "        [0., 1., 0., 0., 0., 0.],\n",
       "        [0., 0., 0., 1., 0., 0.],\n",
       "        [0., 0., 0., 1., 0., 0.],\n",
       "        [0., 0., 0., 0., 1., 0.],\n",
       "        [0., 0., 0., 1., 0., 0.],\n",
       "        [0., 0., 1., 0., 0., 0.],\n",
       "        [0., 1., 0., 0., 0., 0.],\n",
       "        [0., 0., 0., 1., 0., 0.],\n",
       "        [0., 0., 1., 0., 0., 0.]],\n",
       "\n",
       "       [[0., 0., 1., 0., 0., 0.],\n",
       "        [0., 1., 0., 0., 0., 0.],\n",
       "        [0., 0., 0., 1., 0., 0.],\n",
       "        [0., 0., 0., 1., 0., 0.],\n",
       "        [0., 0., 0., 0., 1., 0.],\n",
       "        [0., 0., 0., 1., 0., 0.],\n",
       "        [0., 0., 1., 0., 0., 0.],\n",
       "        [0., 1., 0., 0., 0., 0.],\n",
       "        [0., 0., 0., 1., 0., 0.],\n",
       "        [0., 0., 1., 0., 0., 0.]],\n",
       "\n",
       "       [[0., 0., 1., 0., 0., 0.],\n",
       "        [0., 1., 0., 0., 0., 0.],\n",
       "        [0., 0., 0., 1., 0., 0.],\n",
       "        [0., 0., 0., 1., 0., 0.],\n",
       "        [0., 0., 0., 0., 1., 0.],\n",
       "        [0., 0., 0., 1., 0., 0.],\n",
       "        [0., 0., 1., 0., 0., 0.],\n",
       "        [0., 1., 0., 0., 0., 0.],\n",
       "        [0., 0., 0., 1., 0., 0.],\n",
       "        [0., 0., 1., 0., 0., 0.]],\n",
       "\n",
       "       [[0., 0., 1., 0., 0., 0.],\n",
       "        [0., 1., 0., 0., 0., 0.],\n",
       "        [0., 0., 0., 1., 0., 0.],\n",
       "        [0., 0., 0., 1., 0., 0.],\n",
       "        [0., 0., 0., 0., 1., 0.],\n",
       "        [0., 0., 0., 1., 0., 0.],\n",
       "        [0., 0., 1., 0., 0., 0.],\n",
       "        [0., 1., 0., 0., 0., 0.],\n",
       "        [0., 0., 0., 1., 0., 0.],\n",
       "        [0., 0., 1., 0., 0., 0.]],\n",
       "\n",
       "       [[0., 0., 1., 0., 0., 0.],\n",
       "        [0., 1., 0., 0., 0., 0.],\n",
       "        [0., 0., 0., 1., 0., 0.],\n",
       "        [0., 0., 0., 1., 0., 0.],\n",
       "        [0., 0., 0., 0., 1., 0.],\n",
       "        [0., 0., 0., 1., 0., 0.],\n",
       "        [0., 0., 1., 0., 0., 0.],\n",
       "        [0., 1., 0., 0., 0., 0.],\n",
       "        [0., 0., 0., 1., 0., 0.],\n",
       "        [0., 0., 1., 0., 0., 0.]],\n",
       "\n",
       "       [[0., 0., 1., 0., 0., 0.],\n",
       "        [0., 1., 0., 0., 0., 0.],\n",
       "        [0., 0., 0., 1., 0., 0.],\n",
       "        [0., 0., 0., 1., 0., 0.],\n",
       "        [0., 0., 0., 0., 1., 0.],\n",
       "        [0., 0., 0., 1., 0., 0.],\n",
       "        [0., 0., 1., 0., 0., 0.],\n",
       "        [0., 1., 0., 0., 0., 0.],\n",
       "        [0., 0., 0., 1., 0., 0.],\n",
       "        [0., 0., 1., 0., 0., 0.]]])"
      ]
     },
     "execution_count": 56,
     "metadata": {},
     "output_type": "execute_result"
    }
   ],
   "source": [
    "target_encoded[:train_data_size, :test_source_len, :]"
   ]
  },
  {
   "cell_type": "code",
   "execution_count": null,
   "metadata": {
    "collapsed": true
   },
   "outputs": [],
   "source": []
  }
 ],
 "metadata": {
  "kernelspec": {
   "display_name": "Python 3",
   "language": "python",
   "name": "python3"
  },
  "language_info": {
   "codemirror_mode": {
    "name": "ipython",
    "version": 3
   },
   "file_extension": ".py",
   "mimetype": "text/x-python",
   "name": "python",
   "nbconvert_exporter": "python",
   "pygments_lexer": "ipython3",
   "version": "3.6.0"
  },
  "widgets": {
   "state": {
    "11e6ce4dd2b542c1b6066d12771be950": {
     "views": [
      {
       "cell_index": 36
      }
     ]
    },
    "146856a4475b4cc2893c78b26d644cca": {
     "views": [
      {
       "cell_index": 38
      }
     ]
    },
    "584e749c25a74721b1da3023ccf883fe": {
     "views": [
      {
       "cell_index": 38
      }
     ]
    }
   },
   "version": "1.2.0"
  }
 },
 "nbformat": 4,
 "nbformat_minor": 2
}
