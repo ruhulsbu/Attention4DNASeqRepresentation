{
 "cells": [
  {
   "cell_type": "code",
   "execution_count": 5,
   "metadata": {},
   "outputs": [
    {
     "name": "stdout",
     "output_type": "stream",
     "text": [
      "Done!\n"
     ]
    }
   ],
   "source": [
    "import os, sys\n",
    "import random\n",
    "import numpy as np\n",
    "\n",
    "import torch\n",
    "import torch.nn as nn\n",
    "import torch.nn.functional as F\n",
    "from torch.autograd import Variable\n",
    "import torch.optim as optim\n",
    "\n",
    "import matplotlib.pyplot as plt\n",
    "%matplotlib inline\n",
    "\n",
    "from util import basic\n",
    "print(\"Done!\")"
   ]
  },
  {
   "cell_type": "code",
   "execution_count": 6,
   "metadata": {},
   "outputs": [],
   "source": [
    "import pandas as pd"
   ]
  },
  {
   "cell_type": "code",
   "execution_count": 4,
   "metadata": {},
   "outputs": [
    {
     "name": "stdout",
     "output_type": "stream",
     "text": [
      "tensor([[[ 0.4273, -0.5860, -1.1210, -2.2975,  0.3159],\n",
      "         [-1.1645,  0.1066, -1.5642,  2.6369,  1.5461],\n",
      "         [-0.8413,  0.7559,  0.2563,  0.6071, -2.2008]],\n",
      "\n",
      "        [[ 0.0217, -1.1420, -1.8345, -0.5267, -0.3057],\n",
      "         [ 0.7530,  1.3931,  1.4808,  0.2028,  0.0197],\n",
      "         [-1.0759, -1.6855,  1.3726,  0.0447, -0.9492]]])\n",
      "torch.Size([2, 3, 5])\n",
      "torch.Size([3, 2, 5])\n",
      "tensor([[[ 0.4273, -0.5860, -1.1210, -2.2975,  0.3159],\n",
      "         [ 0.0217, -1.1420, -1.8345, -0.5267, -0.3057]],\n",
      "\n",
      "        [[-1.1645,  0.1066, -1.5642,  2.6369,  1.5461],\n",
      "         [ 0.7530,  1.3931,  1.4808,  0.2028,  0.0197]],\n",
      "\n",
      "        [[-0.8413,  0.7559,  0.2563,  0.6071, -2.2008],\n",
      "         [-1.0759, -1.6855,  1.3726,  0.0447, -0.9492]]])\n"
     ]
    }
   ],
   "source": [
    "x = torch.randn(2, 3, 5)\n",
    "print(x)\n",
    "print(x.size())\n",
    "y = x.permute(1, 0, 2)\n",
    "print(y.size())\n",
    "print(y)"
   ]
  },
  {
   "cell_type": "code",
   "execution_count": 26,
   "metadata": {},
   "outputs": [],
   "source": [
    "original_pos_data, original_pos_label = basic.preprocess_data(\"/mnt/scratch7/hirak/Attention4DNASeqRepresentation/dataset/gene_range_start_codon.txt\", 1)\n",
    "original_neg_data, original_neg_label = basic.preprocess_data(\"/mnt/scratch7/hirak/Attention4DNASeqRepresentation/dataset/intragenic_start_codon.txt\", 0)"
   ]
  },
  {
   "cell_type": "code",
   "execution_count": 27,
   "metadata": {},
   "outputs": [],
   "source": [
    "#pos_data = dataset.loc[dataset.label == 1].gene.values\n",
    "#pos_label = dataset.loc[dataset.label == 1].label.values"
   ]
  },
  {
   "cell_type": "code",
   "execution_count": 28,
   "metadata": {},
   "outputs": [],
   "source": [
    "#neg_data = dataset.loc[dataset.label == 0].gene.values\n",
    "#neg_label = dataset.loc[dataset.label == 0].label.values"
   ]
  },
  {
   "cell_type": "code",
   "execution_count": 31,
   "metadata": {},
   "outputs": [
    {
     "name": "stdout",
     "output_type": "stream",
     "text": [
      "1527294 2242562\n",
      "1 0\n"
     ]
    }
   ],
   "source": [
    "print(len(original_pos_data), len(original_neg_data))\n",
    "print(original_pos_label[0], original_neg_label[0])"
   ]
  },
  {
   "cell_type": "code",
   "execution_count": 32,
   "metadata": {},
   "outputs": [
    {
     "name": "stdout",
     "output_type": "stream",
     "text": [
      "2000 1000\n",
      "2000 10\n",
      "2000 1000\n"
     ]
    }
   ],
   "source": [
    "data_size = 1000\n",
    "batch_size = 10\n",
    "data_content = original_pos_data[:data_size] + original_neg_data[:data_size]\n",
    "pos_data = None\n",
    "neg_data = None\n",
    "data_label = original_pos_label[:data_size] + original_neg_label[:data_size] \n",
    "pos_label = None\n",
    "neg_label = None\n",
    "print(len(data_content), np.sum(data_label))\n",
    "\n",
    "total_datasize = len(data_content)-len(data_content)%batch_size\n",
    "print(total_datasize, batch_size)\n",
    "rand_index = np.random.permutation(total_datasize)\n",
    "data_content = [data_content[i] for i in rand_index]\n",
    "data_label = [data_label[i] for i in rand_index]\n",
    "print(len(data_content), np.sum(data_label))\n",
    "# '''\n",
    "# for i in range(len(data_label)):\n",
    "#     if data_label[i] == 1:\n",
    "#         data_content[i] = [data_content[i][0] for k in data_content[i]]\n",
    "# '''"
   ]
  },
  {
   "cell_type": "code",
   "execution_count": 33,
   "metadata": {},
   "outputs": [],
   "source": [
    "#data_content[0]"
   ]
  },
  {
   "cell_type": "markdown",
   "metadata": {},
   "source": [
    "## Pytorch Basic Attention model"
   ]
  },
  {
   "cell_type": "code",
   "execution_count": 34,
   "metadata": {},
   "outputs": [
    {
     "data": {
      "text/plain": [
       "(torch.Size([2000, 101]), torch.Size([2000, 1]))"
      ]
     },
     "execution_count": 34,
     "metadata": {},
     "output_type": "execute_result"
    }
   ],
   "source": [
    "X = torch.from_numpy(np.array(data_content).astype(int))\n",
    "Y = torch.from_numpy(np.array(data_label).reshape(len(data_label),1).astype(np.int))\n",
    "X.shape, Y.shape"
   ]
  },
  {
   "cell_type": "code",
   "execution_count": 42,
   "metadata": {},
   "outputs": [],
   "source": [
    "class AttnDecoderRNN(nn.Module):#corrected batch faster\n",
    "    #(self, time_steps, embedding_dim, hidden_dim, vocab_size, tagset_size, mini_batch)\n",
    "    def __init__(self, vocab_size, embedding_dim, \\\n",
    "                 hidden_dim, batch_size=100, debug=1, \\\n",
    "                 tagset_size=1, time_steps=101):\n",
    "        super(AttnDecoderRNN, self).__init__()\n",
    "        self.embedding_dim = embedding_dim\n",
    "        self.time_steps = time_steps\n",
    "        self.hidden_dim = hidden_dim\n",
    "        self.minibatch_size = batch_size\n",
    "        self.dropout_p = 0.25\n",
    "        self.tagset_size = tagset_size\n",
    "        self.hidden = self.init_hidden()\n",
    "        self.debug = debug\n",
    "\n",
    "        self.embedding = nn.Embedding(vocab_size, embedding_dim)\n",
    "        self.lstm_one = nn.LSTM(embedding_dim, hidden_dim, batch_first=True)\n",
    "        self.dropout_one = nn.Dropout(0.25)\n",
    "        self.lstm_two = nn.LSTM(hidden_dim, hidden_dim, batch_first=True)\n",
    "        self.dropout_two = nn.Dropout(0.25)\n",
    "        \n",
    "        self.attn_array = [nn.Linear(hidden_dim, hidden_dim) for i in range(time_steps)]\n",
    "        \"\"\"\n",
    "        self.attn_combine = nn.Linear(hidden_dim, hidden_dim)\n",
    "        self.dropout = nn.Dropout(self.dropout_p)\n",
    "        self.linear = nn.Linear(hidden_dim, 1)\n",
    "        #embedding_dim*time_steps\n",
    "        \"\"\"\n",
    "        \n",
    "        self.hidden2tag_one = nn.Linear(hidden_dim*time_steps, 512)\n",
    "        self.dropout_three = nn.Dropout(0.25)\n",
    "        self.hidden2tag_two = nn.Linear(512, 128)\n",
    "        self.dropout_four = nn.Dropout(0.25)\n",
    "        self.hidden2tag_three = nn.Linear(128, 64)\n",
    "        self.dropout_five = nn.Dropout(0.25)\n",
    "        \n",
    "        self.output = nn.Linear(64, tagset_size)\n",
    "\n",
    "    def forward(self, input):\n",
    "        init_embed = self.embedding(input)\n",
    "        #embedded = init_embed.permute(1, 0, 2)\n",
    "        if self.debug == 1:\n",
    "            print(\"Embedding Shape: \", init_embed.shape)\n",
    "        \n",
    "        lstm_out, self.hidden_one = self.lstm_one(init_embed, self.hidden)\n",
    "        lstm_out = self.dropout_one(lstm_out)\n",
    "        lstm_out, self.hidden_two = self.lstm_two(lstm_out, self.hidden)\n",
    "        lstm_out = self.dropout_two(lstm_out)\n",
    "        #\"\"\"\n",
    "        lstm_permute = lstm_out.permute(1, 0, 2)\n",
    "        if self.debug == 1:\n",
    "            print(\"LSTM Out Shape: \", lstm_permute.shape)\n",
    "        \n",
    "        attention = [self.attn_array[i](lstm_permute[i][:]) \\\n",
    "                     for i in range(self.time_steps)]\n",
    "        attention = torch.stack(attention)\n",
    "        attention = attention.permute(1, 0, 2)\n",
    "        if self.debug == 1:\n",
    "            print(\"Attention Shape: \", attention.shape)\n",
    "        \n",
    "        attn_weights = F.softmax(attention, dim=2)\n",
    "        #attn_weights = attn_weights.view(self.minibatch_size, self.time_steps, 1)\n",
    "        if self.debug == 1:\n",
    "            print(\"Softmax Shape: \", attn_weights.shape)\n",
    "        \"\"\"\n",
    "        attn_weights = torch.stack(\n",
    "            [attn_weights]*self.embedding_dim, 2).view(\n",
    "            self.minibatch_size, self.time_steps, -1)\n",
    "        if self.debug == 1:\n",
    "            print(\"Softmax ReShape: \", attn_weights.shape)\n",
    "        \"\"\"\n",
    "        #attn_applied = init_embed\n",
    "        attn_applied = attn_weights * init_embed\n",
    "        #attn_applied = attn_applied.view(self.minibatch_size, self.time_steps, -1)\n",
    "        #attn_applied = torch.sum(attn_applied, dim=1)\n",
    "        if self.debug == 1:\n",
    "            print(\"Embedding*Attention Shape: \", attn_applied.shape)\n",
    "        \n",
    "        #output = F.relu(attn_applied)\n",
    "        #\"\"\"\n",
    "        \n",
    "        lstm_out = attn_applied.contiguous().view(self.minibatch_size, -1)\n",
    "        #lstm_output = lstm_out.contiguous().view(self.minibatch_size, -1)\n",
    "        if self.debug == 1:\n",
    "            print(\"LSTM Output Shape: \", lstm_out.shape)\n",
    "        \n",
    "        \n",
    "        dense_out = self.hidden2tag_one(lstm_out[:])\n",
    "        dense_out = F.relu(dense_out[:])\n",
    "        dense_out = self.dropout_three(dense_out[:])\n",
    "        \n",
    "        dense_out = self.hidden2tag_two(dense_out[:])\n",
    "        dense_out = F.relu(dense_out[:])\n",
    "        dense_out = self.dropout_four(dense_out[:])\n",
    "        \n",
    "        dense_out = self.hidden2tag_three(dense_out[:])\n",
    "        dense_out = F.relu(dense_out[:])\n",
    "        dense_out = self.dropout_five(dense_out[:])\n",
    "        \n",
    "        tag_space = self.output(dense_out[:])\n",
    "        #print(tag_space.shape)\n",
    "        #tag_scores = F.sigmoid(tag_space)\n",
    "        #tag_scores = F.softmax(tag_space, dim=1)\n",
    "        #print(tag_scores.shape)\n",
    "        return tag_space, attn_applied\n",
    "\n",
    "    def init_hidden(self):\n",
    "        # Before we've done anything, we dont have any hidden state.\n",
    "        # Refer to the Pytorch documentation to see exactly\n",
    "        # why they have this dimensionality.\n",
    "        # The axes semantics are (num_layers, minibatch_size, hidden_dim)\n",
    "        return (torch.zeros(1, self.minibatch_size, self.hidden_dim),\n",
    "                torch.zeros(1, self.minibatch_size, self.hidden_dim))"
   ]
  },
  {
   "cell_type": "code",
   "execution_count": 43,
   "metadata": {},
   "outputs": [
    {
     "name": "stdout",
     "output_type": "stream",
     "text": [
      "AttnDecoderRNN(\n",
      "  (embedding): Embedding(5, 16)\n",
      "  (lstm_one): LSTM(16, 16, batch_first=True)\n",
      "  (dropout_one): Dropout(p=0.25)\n",
      "  (lstm_two): LSTM(16, 16, batch_first=True)\n",
      "  (dropout_two): Dropout(p=0.25)\n",
      "  (hidden2tag_one): Linear(in_features=1616, out_features=512, bias=True)\n",
      "  (dropout_three): Dropout(p=0.25)\n",
      "  (hidden2tag_two): Linear(in_features=512, out_features=128, bias=True)\n",
      "  (dropout_four): Dropout(p=0.25)\n",
      "  (hidden2tag_three): Linear(in_features=128, out_features=64, bias=True)\n",
      "  (dropout_five): Dropout(p=0.25)\n",
      "  (output): Linear(in_features=64, out_features=1, bias=True)\n",
      ")\n"
     ]
    }
   ],
   "source": [
    "model = AttnDecoderRNN(5, 16, 16)\n",
    "print(model)\n",
    "optimizer = optim.Adam(model.parameters(), lr=0.001)\n",
    "criterion = nn.BCEWithLogitsLoss()"
   ]
  },
  {
   "cell_type": "code",
   "execution_count": 44,
   "metadata": {},
   "outputs": [
    {
     "name": "stdout",
     "output_type": "stream",
     "text": [
      "torch.Size([100, 101])\n",
      "Embedding Shape:  torch.Size([100, 101, 16])\n",
      "LSTM Out Shape:  torch.Size([101, 100, 16])\n",
      "Attention Shape:  torch.Size([100, 101, 16])\n",
      "Softmax Shape:  torch.Size([100, 101, 16])\n",
      "Embedding*Attention Shape:  torch.Size([100, 101, 16])\n",
      "LSTM Output Shape:  torch.Size([100, 1616])\n",
      "torch.Size([100, 1]) torch.Size([100, 101, 16])\n"
     ]
    }
   ],
   "source": [
    "print(X[:100].shape)\n",
    "with torch.no_grad():\n",
    "    output, attn_weights = model(X[:100])\n",
    "    print(output.shape, attn_weights.shape)"
   ]
  },
  {
   "cell_type": "code",
   "execution_count": 45,
   "metadata": {},
   "outputs": [],
   "source": [
    "def weighted_binary_cross_entropy(output, target, weights=None):\n",
    "        \n",
    "    if weights is not None:\n",
    "        assert len(weights) == 2\n",
    "        \n",
    "        output = torch.clamp(output,min=1e-8,max=1-1e-8) \n",
    "        #loss =  pos_weight * (target * torch.log(output)) + \\\n",
    "        #        neg_weight * ((1 - target) * torch.log(1 - output))\n",
    "        loss = weights[1] * (target * torch.log(output)) + \\\n",
    "               weights[0] * ((1 - target) * torch.log(1 - output))\n",
    "    else:\n",
    "        loss = target * torch.log(output) + (1 - target) * torch.log(1 - output)\n",
    "\n",
    "    return torch.neg(torch.mean(loss))"
   ]
  },
  {
   "cell_type": "code",
   "execution_count": 46,
   "metadata": {},
   "outputs": [],
   "source": [
    "import torch.nn.functional as F\n",
    "\n",
    "def binary_accuracy(preds, y):\n",
    "    \"\"\"\n",
    "    Returns accuracy per batch, i.e. if you get 8/10 right, this returns 0.8, NOT 8\n",
    "    \"\"\"\n",
    "\n",
    "    #round predictions to the closest integer\n",
    "    rounded_preds = torch.round(F.sigmoid(preds))\n",
    "    correct = (rounded_preds == y).float() #convert into float for division \n",
    "    acc = correct.sum()/len(correct)\n",
    "    \n",
    "    return acc"
   ]
  },
  {
   "cell_type": "code",
   "execution_count": 47,
   "metadata": {
    "scrolled": true
   },
   "outputs": [
    {
     "name": "stdout",
     "output_type": "stream",
     "text": [
      "AttnDecoderRNN(\n",
      "  (embedding): Embedding(5, 16)\n",
      "  (lstm_one): LSTM(16, 16, batch_first=True)\n",
      "  (dropout_one): Dropout(p=0.25)\n",
      "  (lstm_two): LSTM(16, 16, batch_first=True)\n",
      "  (dropout_two): Dropout(p=0.25)\n",
      "  (hidden2tag_one): Linear(in_features=1616, out_features=512, bias=True)\n",
      "  (dropout_three): Dropout(p=0.25)\n",
      "  (hidden2tag_two): Linear(in_features=512, out_features=128, bias=True)\n",
      "  (dropout_four): Dropout(p=0.25)\n",
      "  (hidden2tag_three): Linear(in_features=128, out_features=64, bias=True)\n",
      "  (dropout_five): Dropout(p=0.25)\n",
      "  (output): Linear(in_features=64, out_features=1, bias=True)\n",
      ")\n"
     ]
    },
    {
     "data": {
      "application/vnd.jupyter.widget-view+json": {
       "model_id": "d800af089f0549dcbcb55cf9bbf05bf7",
       "version_major": 2,
       "version_minor": 0
      },
      "text/plain": [
       "HBox(children=(IntProgress(value=0, max=40), HTML(value='')))"
      ]
     },
     "metadata": {},
     "output_type": "display_data"
    },
    {
     "name": "stderr",
     "output_type": "stream",
     "text": [
      "/home/hirak/miniconda2/envs/pytorch/lib/python3.7/site-packages/torch/nn/functional.py:1006: UserWarning: nn.functional.sigmoid is deprecated. Use torch.sigmoid instead.\n",
      "  warnings.warn(\"nn.functional.sigmoid is deprecated. Use torch.sigmoid instead.\")\n"
     ]
    },
    {
     "name": "stdout",
     "output_type": "stream",
     "text": [
      "Epoch 1/40, Loss: 83.142, Accuracy: 0.798\n",
      "Epoch 2/40, Loss: 44.911, Accuracy: 0.907\n",
      "Epoch 3/40, Loss: 36.505, Accuracy: 0.932\n",
      "Epoch 4/40, Loss: 31.329, Accuracy: 0.935\n",
      "Epoch 5/40, Loss: 23.465, Accuracy: 0.956\n",
      "Epoch 6/40, Loss: 16.480, Accuracy: 0.969\n",
      "Epoch 7/40, Loss: 15.927, Accuracy: 0.971\n",
      "Epoch 8/40, Loss: 8.794, Accuracy: 0.984\n",
      "Epoch 9/40, Loss: 8.798, Accuracy: 0.981\n",
      "Epoch 10/40, Loss: 3.127, Accuracy: 0.993\n",
      "Epoch 11/40, Loss: 5.358, Accuracy: 0.991\n",
      "Epoch 12/40, Loss: 4.445, Accuracy: 0.993\n",
      "Epoch 13/40, Loss: 4.742, Accuracy: 0.991\n",
      "Epoch 14/40, Loss: 3.639, Accuracy: 0.994\n",
      "Epoch 15/40, Loss: 0.582, Accuracy: 0.999\n",
      "Epoch 16/40, Loss: 1.536, Accuracy: 0.998\n",
      "Epoch 17/40, Loss: 1.852, Accuracy: 0.995\n",
      "Epoch 18/40, Loss: 3.896, Accuracy: 0.996\n"
     ]
    },
    {
     "ename": "KeyboardInterrupt",
     "evalue": "",
     "output_type": "error",
     "traceback": [
      "\u001b[0;31m---------------------------------------------------------------------------\u001b[0m",
      "\u001b[0;31mKeyboardInterrupt\u001b[0m                         Traceback (most recent call last)",
      "\u001b[0;32m<ipython-input-47-51f2e2eabd57>\u001b[0m in \u001b[0;36m<module>\u001b[0;34m()\u001b[0m\n\u001b[1;32m     49\u001b[0m         \u001b[0mtotal_acc\u001b[0m \u001b[0;34m+=\u001b[0m \u001b[0macc\u001b[0m\u001b[0;34m\u001b[0m\u001b[0m\n\u001b[1;32m     50\u001b[0m \u001b[0;34m\u001b[0m\u001b[0m\n\u001b[0;32m---> 51\u001b[0;31m         \u001b[0mloss\u001b[0m\u001b[0;34m.\u001b[0m\u001b[0mbackward\u001b[0m\u001b[0;34m(\u001b[0m\u001b[0;34m)\u001b[0m\u001b[0;34m\u001b[0m\u001b[0m\n\u001b[0m\u001b[1;32m     52\u001b[0m         \u001b[0moptimizer\u001b[0m\u001b[0;34m.\u001b[0m\u001b[0mstep\u001b[0m\u001b[0;34m(\u001b[0m\u001b[0;34m)\u001b[0m\u001b[0;34m\u001b[0m\u001b[0m\n\u001b[1;32m     53\u001b[0m \u001b[0;34m\u001b[0m\u001b[0m\n",
      "\u001b[0;32m~/miniconda2/envs/pytorch/lib/python3.7/site-packages/torch/tensor.py\u001b[0m in \u001b[0;36mbackward\u001b[0;34m(self, gradient, retain_graph, create_graph)\u001b[0m\n\u001b[1;32m     91\u001b[0m                 \u001b[0mproducts\u001b[0m\u001b[0;34m.\u001b[0m \u001b[0mDefaults\u001b[0m \u001b[0mto\u001b[0m\u001b[0;31m \u001b[0m\u001b[0;31m`\u001b[0m\u001b[0;31m`\u001b[0m\u001b[0;32mFalse\u001b[0m\u001b[0;31m`\u001b[0m\u001b[0;31m`\u001b[0m\u001b[0;34m.\u001b[0m\u001b[0;34m\u001b[0m\u001b[0m\n\u001b[1;32m     92\u001b[0m         \"\"\"\n\u001b[0;32m---> 93\u001b[0;31m         \u001b[0mtorch\u001b[0m\u001b[0;34m.\u001b[0m\u001b[0mautograd\u001b[0m\u001b[0;34m.\u001b[0m\u001b[0mbackward\u001b[0m\u001b[0;34m(\u001b[0m\u001b[0mself\u001b[0m\u001b[0;34m,\u001b[0m \u001b[0mgradient\u001b[0m\u001b[0;34m,\u001b[0m \u001b[0mretain_graph\u001b[0m\u001b[0;34m,\u001b[0m \u001b[0mcreate_graph\u001b[0m\u001b[0;34m)\u001b[0m\u001b[0;34m\u001b[0m\u001b[0m\n\u001b[0m\u001b[1;32m     94\u001b[0m \u001b[0;34m\u001b[0m\u001b[0m\n\u001b[1;32m     95\u001b[0m     \u001b[0;32mdef\u001b[0m \u001b[0mregister_hook\u001b[0m\u001b[0;34m(\u001b[0m\u001b[0mself\u001b[0m\u001b[0;34m,\u001b[0m \u001b[0mhook\u001b[0m\u001b[0;34m)\u001b[0m\u001b[0;34m:\u001b[0m\u001b[0;34m\u001b[0m\u001b[0m\n",
      "\u001b[0;32m~/miniconda2/envs/pytorch/lib/python3.7/site-packages/torch/autograd/__init__.py\u001b[0m in \u001b[0;36mbackward\u001b[0;34m(tensors, grad_tensors, retain_graph, create_graph, grad_variables)\u001b[0m\n\u001b[1;32m     88\u001b[0m     Variable._execution_engine.run_backward(\n\u001b[1;32m     89\u001b[0m         \u001b[0mtensors\u001b[0m\u001b[0;34m,\u001b[0m \u001b[0mgrad_tensors\u001b[0m\u001b[0;34m,\u001b[0m \u001b[0mretain_graph\u001b[0m\u001b[0;34m,\u001b[0m \u001b[0mcreate_graph\u001b[0m\u001b[0;34m,\u001b[0m\u001b[0;34m\u001b[0m\u001b[0m\n\u001b[0;32m---> 90\u001b[0;31m         allow_unreachable=True)  # allow_unreachable flag\n\u001b[0m\u001b[1;32m     91\u001b[0m \u001b[0;34m\u001b[0m\u001b[0m\n\u001b[1;32m     92\u001b[0m \u001b[0;34m\u001b[0m\u001b[0m\n",
      "\u001b[0;31mKeyboardInterrupt\u001b[0m: "
     ]
    }
   ],
   "source": [
    "from tqdm import tqdm_notebook as tqdm\n",
    "losses = []\n",
    "accuracies = []\n",
    "#batch_size = 10\n",
    "model = AttnDecoderRNN(5, 16, 16, batch_size=batch_size, debug=0)\n",
    "print(model)\n",
    "optimizer = optim.Adam(model.parameters(), lr=0.001)\n",
    "criterion = nn.BCEWithLogitsLoss()\n",
    "\n",
    "num_epochs = 40\n",
    "for epoch in tqdm(range(num_epochs)):  # again, normally you would NOT do 300 epochs, it is toy data\n",
    "    total_loss = 0\n",
    "    total_acc = 0\n",
    "    \n",
    "    for index in range(0, len(X), batch_size):\n",
    "        sentence = X[index : index+batch_size]#.reshape(len(X[0]))\n",
    "        tags = Y[index : index+batch_size]#.reshape(len(Y[0]))\n",
    "        #print(sentence.shape, tags.shape)\n",
    "        # Step 1. Remember that Pytorch accumulates gradients.\n",
    "        # We need to clear them out before each instance\n",
    "        model.zero_grad()\n",
    "\n",
    "        # Also, we need to clear out the hidden state of the LSTM,\n",
    "        # detaching it from its history on the last instance.\n",
    "        model.hidden = model.init_hidden()\n",
    "\n",
    "        # Step 2. Get our inputs ready for the network, that is, turn them into\n",
    "        # Tensors of word indices.\n",
    "        # sentence_in = prepare_sequence(sentence, word_to_ix)\n",
    "        #targets = prepare_sequence(tags, tag_to_ix)\n",
    "        targets = tags.float().flatten()\n",
    "\n",
    "        # Step 3. Run our forward pass.\n",
    "        tag_scores, attn_weight = model(sentence)\n",
    "        tag_scores = tag_scores.flatten()\n",
    "        #print(targets.shape, tag_scores.shape)\n",
    "        \n",
    "        #neg_weight = batch_size / (batch_size-np.sum(data_label[index : index+batch_size]))\n",
    "        #pos_weight = batch_size / np.sum(data_label[index : index+batch_size])\n",
    "        #weights = torch.FloatTensor([neg_weight, pos_weight])\n",
    "        \n",
    "        # Step 4. Compute the loss, gradients, and update the parameters by\n",
    "        #  calling optimizer.step()\n",
    "        loss = criterion(tag_scores, targets)\n",
    "        #loss = weighted_binary_cross_entropy(tag_scores, targets, weights=weights)\n",
    "        total_loss += loss.data.numpy()\n",
    "        \n",
    "        acc = binary_accuracy(tag_scores, targets)\n",
    "        total_acc += acc\n",
    "        \n",
    "        loss.backward()\n",
    "        optimizer.step()\n",
    "        \n",
    "        #print(\"Epoch {}/{}, Loss: {:.3f}, Accuracy: {:.3f}\".format(epoch+1,num_epochs, loss.data[0], correct/x.shape[0]))\n",
    "        \n",
    "    losses.append(total_loss)\n",
    "    accuracies.append(total_acc/(len(X)/batch_size))\n",
    "    \n",
    "    #total_loss.backward()\n",
    "    #opt.step()\n",
    "    \n",
    "    #print(epoch, total_loss)#, total_acc)\n",
    "    print(\"Epoch {}/{}, Loss: {:.3f}, Accuracy: {:.3f}\".format(epoch+1,num_epochs, losses[-1], accuracies[-1]))\n",
    "        \n",
    "    \n",
    "        "
   ]
  },
  {
   "cell_type": "code",
   "execution_count": 16,
   "metadata": {},
   "outputs": [
    {
     "data": {
      "image/png": "[encoded data removed]",
      "text/plain": [
       "<matplotlib.figure.Figure at 0x7fb14a7679e8>"
      ]
     },
     "metadata": {},
     "output_type": "display_data"
    },
    {
     "data": {
      "image/png": "[encoded data removed]",
      "text/plain": [
       "<matplotlib.figure.Figure at 0x7fb14a2facc0>"
      ]
     },
     "metadata": {},
     "output_type": "display_data"
    }
   ],
   "source": [
    "plt.title(\"Loss\")\n",
    "plt.plot(losses)\n",
    "plt.show()\n",
    "plt.title(\"Accuracies\")\n",
    "plt.plot(accuracies)\n",
    "plt.show()"
   ]
  }
 ],
 "metadata": {
  "kernelspec": {
   "display_name": "Python 3",
   "language": "python",
   "name": "python3"
  },
  "language_info": {
   "codemirror_mode": {
    "name": "ipython",
    "version": 3
   },
   "file_extension": ".py",
   "mimetype": "text/x-python",
   "name": "python",
   "nbconvert_exporter": "python",
   "pygments_lexer": "ipython3",
   "version": "3.7.0"
  }
 },
 "nbformat": 4,
 "nbformat_minor": 2
}
