{
 "cells": [
  {
   "cell_type": "code",
   "execution_count": 19,
   "metadata": {
    "collapsed": false
   },
   "outputs": [],
   "source": [
    "import os, sys\n",
    "import random\n",
    "import numpy as np\n",
    "\n",
    "import torch\n",
    "import torch.nn as nn\n",
    "import torch.nn.functional as F\n",
    "from torch.autograd import Variable\n",
    "import torch.optim as optim\n",
    "\n",
    "import matplotlib.pyplot as plt\n",
    "%matplotlib inline\n",
    "\n",
    "from util import basic\n"
   ]
  },
  {
   "cell_type": "code",
   "execution_count": 20,
   "metadata": {
    "collapsed": false
   },
   "outputs": [],
   "source": [
    "pos_data, pos_label = basic.preprocess_data(\"/home/moamin/sequence_annotation_seawulf/gene_range_start_codon.txt\", 1)\n",
    "neg_data, neg_label = basic.preprocess_data(\"/home/moamin/sequence_annotation_seawulf/intragenic_start_codon.txt\", 0)"
   ]
  },
  {
   "cell_type": "code",
   "execution_count": 21,
   "metadata": {
    "collapsed": false
   },
   "outputs": [
    {
     "name": "stdout",
     "output_type": "stream",
     "text": [
      "8385 13683\n",
      "1 0\n"
     ]
    }
   ],
   "source": [
    "print(len(pos_data), len(neg_data))\n",
    "print(pos_label[0], neg_label[0])\n",
    "data_size = 5000\n",
    "batch_size = 1000"
   ]
  },
  {
   "cell_type": "code",
   "execution_count": 4,
   "metadata": {
    "collapsed": false
   },
   "outputs": [
    {
     "name": "stdout",
     "output_type": "stream",
     "text": [
      "10000 5000\n",
      "10000 5000\n"
     ]
    },
    {
     "data": {
      "text/plain": [
       "'\\nfor i in range(len(data_label)):\\n    if data_label[i] == 1:\\n        data_content[i] = [data_content[i][0] for k in data_content[i]]\\n'"
      ]
     },
     "execution_count": 4,
     "metadata": {},
     "output_type": "execute_result"
    }
   ],
   "source": [
    "data_content = pos_data[:data_size] + neg_data[:data_size]\n",
    "data_label = pos_label[:data_size] + neg_label[:data_size] \n",
    "print(len(data_content), np.sum(data_label))\n",
    "\n",
    "rand_index = np.random.permutation(len(data_content))\n",
    "data_content = [data_content[i] for i in rand_index]\n",
    "data_label = [data_label[i] for i in rand_index]\n",
    "print(len(data_content), np.sum(data_label))\n",
    "'''\n",
    "for i in range(len(data_label)):\n",
    "    if data_label[i] == 1:\n",
    "        data_content[i] = [data_content[i][0] for k in data_content[i]]\n",
    "'''"
   ]
  },
  {
   "cell_type": "code",
   "execution_count": 5,
   "metadata": {
    "collapsed": false
   },
   "outputs": [
    {
     "data": {
      "text/plain": [
       "array([['4', '2', '2', ..., '1', '1', '2'],\n",
       "       ['1', '1', '1', ..., '1', '3', '3'],\n",
       "       ['2', '4', '3', ..., '2', '2', '1'],\n",
       "       ...,\n",
       "       ['2', '1', '3', ..., '3', '4', '2'],\n",
       "       ['1', '1', '1', ..., '1', '4', '3'],\n",
       "       ['4', '2', '1', ..., '4', '4', '3']], dtype='<U1')"
      ]
     },
     "execution_count": 5,
     "metadata": {},
     "output_type": "execute_result"
    }
   ],
   "source": [
    "np.array(data_content)"
   ]
  },
  {
   "cell_type": "code",
   "execution_count": 6,
   "metadata": {
    "collapsed": false
   },
   "outputs": [
    {
     "data": {
      "text/plain": [
       "array([1, 0, 1, ..., 1, 0, 1])"
      ]
     },
     "execution_count": 6,
     "metadata": {},
     "output_type": "execute_result"
    }
   ],
   "source": [
    "np.array(data_label)"
   ]
  },
  {
   "cell_type": "markdown",
   "metadata": {},
   "source": [
    "## Pytorch base line model"
   ]
  },
  {
   "cell_type": "code",
   "execution_count": 7,
   "metadata": {
    "collapsed": false
   },
   "outputs": [
    {
     "data": {
      "text/plain": [
       "(torch.Size([10000, 101]), torch.Size([10000, 1]))"
      ]
     },
     "execution_count": 7,
     "metadata": {},
     "output_type": "execute_result"
    }
   ],
   "source": [
    "X = torch.from_numpy(np.array(data_content).astype(int))\n",
    "Y = torch.from_numpy(np.array(data_label).reshape(len(data_label),1).astype(int))\n",
    "X.shape, Y.shape"
   ]
  },
  {
   "cell_type": "code",
   "execution_count": 8,
   "metadata": {
    "collapsed": false
   },
   "outputs": [],
   "source": [
    "class LSTMTagger(nn.Module):\n",
    "\n",
    "    def __init__(self, time_steps, embedding_dim, hidden_dim, vocab_size, tagset_size, mini_batch):\n",
    "        super(LSTMTagger, self).__init__()\n",
    "        self.time_steps = time_steps\n",
    "        self.hidden_dim = hidden_dim\n",
    "        self.mini_batch = mini_batch\n",
    "        self.hidden = self.init_hidden()\n",
    "        \n",
    "        self.word_embeddings = nn.Embedding(vocab_size, embedding_dim)\n",
    "\n",
    "        # The LSTM takes word embeddings as inputs, and outputs hidden states\n",
    "        # with dimensionality hidden_dim.\n",
    "        self.lstm_one = nn.LSTM(embedding_dim, hidden_dim, batch_first=True)\n",
    "        self.dropout_one = nn.Dropout(0.25)\n",
    "        self.lstm_two = nn.LSTM(hidden_dim, hidden_dim, batch_first=True)\n",
    "        self.dropout_two = nn.Dropout(0.25)\n",
    "\n",
    "        # The linear layer that maps from hidden state space to tag space\n",
    "        #self.hidden2tag = nn.Linear(hidden_dim, tagset_size)\n",
    "        self.hidden2tag_one = nn.Linear(hidden_dim*time_steps, 512)\n",
    "        self.dropout_three = nn.Dropout(0.25)\n",
    "        self.hidden2tag_two = nn.Linear(512, 128)\n",
    "        self.dropout_four = nn.Dropout(0.25)\n",
    "        self.hidden2tag_three = nn.Linear(128, 64)\n",
    "        self.dropout_five = nn.Dropout(0.25)\n",
    "        \n",
    "        self.output = nn.Linear(64, tagset_size)\n",
    "\n",
    "    def init_hidden(self):\n",
    "        # Before we've done anything, we dont have any hidden state.\n",
    "        # Refer to the Pytorch documentation to see exactly\n",
    "        # why they have this dimensionality.\n",
    "        # The axes semantics are (num_layers, minibatch_size, hidden_dim)\n",
    "        return (torch.zeros(1, self.mini_batch, self.hidden_dim),\n",
    "                torch.zeros(1, self.mini_batch, self.hidden_dim))\n",
    "        \n",
    "    def forward(self, sentence):\n",
    "        embeds = self.word_embeddings(sentence)#.view(len(sentence), self.mini_batch, -1)\n",
    "        lstm_out, self.hidden_one = self.lstm_one(embeds, self.hidden)\n",
    "        lstm_out = self.dropout_one(lstm_out)\n",
    "        lstm_out, self.hidden_two = self.lstm_two(lstm_out, self.hidden)\n",
    "        lstm_out = self.dropout_two(lstm_out)\n",
    "        \n",
    "        #print(lstm_out.shape)\n",
    "        #print(self.hidden)\n",
    "        \n",
    "        #print(lstm_out[:, -1].shape)\n",
    "        #tag_space = self.hidden2tag(lstm_out[:, -1])\n",
    "        \n",
    "        lstm_out = lstm_out.contiguous().view(self.mini_batch, -1)\n",
    "        #print(lstm_out.shape)\n",
    "        \n",
    "        \n",
    "        dense_out = self.hidden2tag_one(lstm_out[:])\n",
    "        dense_out = F.relu(dense_out[:])\n",
    "        dense_out = self.dropout_three(dense_out[:])\n",
    "        \n",
    "        dense_out = self.hidden2tag_two(dense_out[:])\n",
    "        dense_out = F.relu(dense_out[:])\n",
    "        dense_out = self.dropout_four(dense_out[:])\n",
    "        \n",
    "        dense_out = self.hidden2tag_three(dense_out[:])\n",
    "        dense_out = F.relu(dense_out[:])\n",
    "        dense_out = self.dropout_five(dense_out[:])\n",
    "        \n",
    "        tag_space = self.output(dense_out[:])\n",
    "        #print(tag_space.shape)\n",
    "        #tag_scores = F.sigmoid(tag_space)\n",
    "        #tag_scores = F.softmax(tag_space, dim=1)\n",
    "        #print(tag_scores.shape)\n",
    "        return tag_space\n"
   ]
  },
  {
   "cell_type": "code",
   "execution_count": 9,
   "metadata": {
    "collapsed": false
   },
   "outputs": [
    {
     "name": "stdout",
     "output_type": "stream",
     "text": [
      "LSTMTagger(\n",
      "  (word_embeddings): Embedding(5, 16)\n",
      "  (lstm_one): LSTM(16, 16, batch_first=True)\n",
      "  (dropout_one): Dropout(p=0.25)\n",
      "  (lstm_two): LSTM(16, 16, batch_first=True)\n",
      "  (dropout_two): Dropout(p=0.25)\n",
      "  (hidden2tag_one): Linear(in_features=1616, out_features=512, bias=True)\n",
      "  (dropout_three): Dropout(p=0.25)\n",
      "  (hidden2tag_two): Linear(in_features=512, out_features=128, bias=True)\n",
      "  (dropout_four): Dropout(p=0.25)\n",
      "  (hidden2tag_three): Linear(in_features=128, out_features=64, bias=True)\n",
      "  (dropout_five): Dropout(p=0.25)\n",
      "  (output): Linear(in_features=64, out_features=1, bias=True)\n",
      ")\n"
     ]
    }
   ],
   "source": [
    "model = LSTMTagger(101, 16, 16, 5, 1, batch_size)\n",
    "print(model)\n",
    "optimizer = optim.Adam(model.parameters(), lr=0.001)\n",
    "criterion = nn.BCEWithLogitsLoss()"
   ]
  },
  {
   "cell_type": "code",
   "execution_count": 10,
   "metadata": {
    "collapsed": true
   },
   "outputs": [],
   "source": [
    "import torch.nn.functional as F\n",
    "\n",
    "def binary_accuracy(preds, y):\n",
    "    \"\"\"\n",
    "    Returns accuracy per batch, i.e. if you get 8/10 right, this returns 0.8, NOT 8\n",
    "    \"\"\"\n",
    "\n",
    "    #round predictions to the closest integer\n",
    "    rounded_preds = torch.round(F.sigmoid(preds))\n",
    "    correct = (rounded_preds == y).float() #convert into float for division \n",
    "    acc = correct.sum()/len(correct)\n",
    "    return acc"
   ]
  },
  {
   "cell_type": "code",
   "execution_count": 11,
   "metadata": {
    "collapsed": false,
    "scrolled": true
   },
   "outputs": [
    {
     "name": "stderr",
     "output_type": "stream",
     "text": [
      "Widget Javascript not detected.  It may not be installed properly. Did you enable the widgetsnbextension? If not, then run \"jupyter nbextension enable --py --sys-prefix widgetsnbextension\"\n"
     ]
    },
    {
     "name": "stdout",
     "output_type": "stream",
     "text": [
      "0 6.905844330787659\n",
      "1 6.276926755905151\n",
      "2 4.5275969207286835\n",
      "3 3.816814213991165\n",
      "4 3.4273089468479156\n",
      "5 3.1447725892066956\n",
      "6 2.886026829481125\n",
      "7 2.6899381577968597\n",
      "8 2.4794205725193024\n",
      "9 2.356536343693733\n",
      "\n"
     ]
    }
   ],
   "source": [
    "from tqdm import tqdm_notebook as tqdm\n",
    "losses = []\n",
    "accuracies = []\n",
    "\n",
    "for epoch in tqdm(range(10)):  # again, normally you would NOT do 300 epochs, it is toy data\n",
    "    total_loss = 0\n",
    "    total_acc = 0\n",
    "    \n",
    "    for index in range(0, len(X), batch_size):\n",
    "        sentence = X[index : index+batch_size]\n",
    "        tags = Y[index : index+batch_size]\n",
    "        # Step 1. Remember that Pytorch accumulates gradients.\n",
    "        # We need to clear them out before each instance\n",
    "        model.zero_grad()\n",
    "\n",
    "        # Also, we need to clear out the hidden state of the LSTM,\n",
    "        # detaching it from its history on the last instance.\n",
    "        model.hidden = model.init_hidden()\n",
    "\n",
    "        # Step 2. Get our inputs ready for the network, that is, turn them into\n",
    "        # Tensors of word indices.\n",
    "        # sentence_in = prepare_sequence(sentence, word_to_ix)\n",
    "        #targets = prepare_sequence(tags, tag_to_ix)\n",
    "        targets = tags.float().flatten()\n",
    "\n",
    "        # Step 3. Run our forward pass.\n",
    "        tag_scores = model(sentence).flatten()\n",
    "        #print(targets.shape, tag_scores.shape)\n",
    "        \n",
    "\n",
    "        # Step 4. Compute the loss, gradients, and update the parameters by\n",
    "        #  calling optimizer.step()\n",
    "        loss = criterion(tag_scores, targets)\n",
    "        total_loss += loss.data.numpy()\n",
    "        \n",
    "        #acc = binary_accuracy(tag_scores, targets)\n",
    "        #total_acc += acc\n",
    "        \n",
    "        loss.backward()\n",
    "        optimizer.step()\n",
    "        \n",
    "    #total_loss.backward()\n",
    "    #opt.step()\n",
    "    print(epoch, total_loss)#, total_acc)\n",
    "        \n",
    "    losses.append(total_loss/len(X))\n",
    "    #accuracies.append(total_acc/(len(X)/batch_size))\n",
    "        "
   ]
  },
  {
   "cell_type": "code",
   "execution_count": 12,
   "metadata": {
    "collapsed": false
   },
   "outputs": [
    {
     "data": {
      "text/plain": [
       "[<matplotlib.lines.Line2D at 0x7f813c16ab38>]"
      ]
     },
     "execution_count": 12,
     "metadata": {},
     "output_type": "execute_result"
    },
    {
     "data": {
      "image/png": "[encoded data removed]",
      "text/plain": [
       "<matplotlib.figure.Figure at 0x7f813c5fe1d0>"
      ]
     },
     "metadata": {},
     "output_type": "display_data"
    }
   ],
   "source": [
    "plt.title(\"Loss\")\n",
    "plt.plot(losses)\n",
    "#plt.title(\"Accuracies\")\n",
    "#plt.plot(accuracies)"
   ]
  },
  {
   "cell_type": "code",
   "execution_count": null,
   "metadata": {
    "collapsed": true
   },
   "outputs": [],
   "source": []
  },
  {
   "cell_type": "markdown",
   "metadata": {
    "collapsed": true
   },
   "source": [
    "# Keras Implementation"
   ]
  },
  {
   "cell_type": "code",
   "execution_count": 22,
   "metadata": {
    "collapsed": false
   },
   "outputs": [],
   "source": [
    "import os, sys\n",
    "import random, h5py\n",
    "import numpy as np\n",
    "import keras\n",
    "from keras.models import Sequential\n",
    "from keras.layers import Embedding\n",
    "from keras.layers import Dense\n",
    "from keras.layers.recurrent import LSTM\n",
    "from keras.layers import Dropout\n",
    "from keras.layers import Activation\n",
    "from keras.optimizers import SGD\n",
    "\n",
    "#Initialize the Program\n",
    "alphabet = \"NACGT.\"\n",
    "vocab_size = 6\n",
    "embedding_size = 4\n",
    "time_steps = 101\n",
    "category = 2\n",
    "char_to_int = dict((c, i) for i, c in enumerate(alphabet))\n",
    "int_to_char = dict((i, c) for i, c in enumerate(alphabet))\n"
   ]
  },
  {
   "cell_type": "code",
   "execution_count": 24,
   "metadata": {
    "collapsed": false
   },
   "outputs": [
    {
     "name": "stdout",
     "output_type": "stream",
     "text": [
      "10000 5000\n"
     ]
    }
   ],
   "source": [
    "data_content = pos_data[:data_size] + neg_data[:data_size]\n",
    "data_label = pos_label[:data_size] + neg_label[:data_size] \n",
    "print(len(data_content), np.sum(data_label))"
   ]
  },
  {
   "cell_type": "code",
   "execution_count": 25,
   "metadata": {
    "collapsed": false
   },
   "outputs": [
    {
     "name": "stdout",
     "output_type": "stream",
     "text": [
      "_________________________________________________________________\n",
      "Layer (type)                 Output Shape              Param #   \n",
      "=================================================================\n",
      "main_input (InputLayer)      (None, 101)               0         \n",
      "_________________________________________________________________\n",
      "embedding (Embedding)        (None, 101, 5)            30        \n",
      "_________________________________________________________________\n",
      "lstm_3 (LSTM)                (None, 101, 16)           1408      \n",
      "_________________________________________________________________\n",
      "dropout_6 (Dropout)          (None, 101, 16)           0         \n",
      "_________________________________________________________________\n",
      "lstm_4 (LSTM)                (None, 101, 16)           2112      \n",
      "_________________________________________________________________\n",
      "dropout_7 (Dropout)          (None, 101, 16)           0         \n",
      "_________________________________________________________________\n",
      "reshape_2 (Reshape)          (None, 1616)              0         \n",
      "_________________________________________________________________\n",
      "fstlayer (Dense)             (None, 512)               827904    \n",
      "_________________________________________________________________\n",
      "dropout_8 (Dropout)          (None, 512)               0         \n",
      "_________________________________________________________________\n",
      "midlayer (Dense)             (None, 128)               65664     \n",
      "_________________________________________________________________\n",
      "dropout_9 (Dropout)          (None, 128)               0         \n",
      "_________________________________________________________________\n",
      "finlayer (Dense)             (None, 64)                8256      \n",
      "_________________________________________________________________\n",
      "dropout_10 (Dropout)         (None, 64)                0         \n",
      "_________________________________________________________________\n",
      "output (Dense)               (None, 1)                 65        \n",
      "=================================================================\n",
      "Total params: 905,439\n",
      "Trainable params: 905,439\n",
      "Non-trainable params: 0\n",
      "_________________________________________________________________\n"
     ]
    }
   ],
   "source": [
    "from keras.layers import Input, Embedding\n",
    "from keras.layers import Reshape, Dense\n",
    "from keras.models import Model\n",
    "\n",
    "max_source_len = len(data_content[0])\n",
    "embedding_size = 5\n",
    "lstm_unit = 16\n",
    "\n",
    "input_source = Input(shape=(max_source_len,), \\\n",
    "                     dtype='int32', name='main_input')\n",
    "embedding = Embedding(input_dim=vocab_size, \\\n",
    "                      output_dim=embedding_size, \\\n",
    "                      input_length=max_source_len, \\\n",
    "                      name='embedding')(input_source)\n",
    "\n",
    "lstm_layer = LSTM(lstm_unit, return_sequences=True)(embedding)\n",
    "lstm_layer = Dropout(0.25)(lstm_layer)\n",
    "lstm_layer = LSTM(lstm_unit, return_sequences=True)(lstm_layer)\n",
    "lstm_layer = Dropout(0.25)(lstm_layer)\n",
    "\n",
    "reshape_layer = Reshape((max_source_len*lstm_unit,))(lstm_layer)\n",
    "\n",
    "dense_layer_first = Dense(512, activation='relu', \\\n",
    "                        name='fstlayer')(reshape_layer)\n",
    "dense_layer_first = Dropout(0.25)(dense_layer_first)\n",
    "\n",
    "dense_layer_mid = Dense(128, activation='relu', \\\n",
    "                        name='midlayer')(dense_layer_first)\n",
    "dense_layer_mid = Dropout(0.25)(dense_layer_mid)\n",
    "\n",
    "dense_layer = Dense(64, activation='relu', \\\n",
    "                    name='finlayer')(dense_layer_mid)\n",
    "dense_layer = Dropout(0.25)(dense_layer)\n",
    "\n",
    "dense_output = Dense(1, activation='sigmoid', \\\n",
    "                     name='output')(dense_layer)\n",
    "\n",
    "model = Model(inputs=[input_source], outputs=[dense_output])\n",
    "model.compile(loss='binary_crossentropy',\n",
    "              optimizer='adam',\n",
    "              metrics=['accuracy'])\n",
    "\n",
    "model.summary()"
   ]
  },
  {
   "cell_type": "code",
   "execution_count": 26,
   "metadata": {
    "collapsed": false
   },
   "outputs": [
    {
     "name": "stdout",
     "output_type": "stream",
     "text": [
      "Train...\n",
      "Train on 8000 samples, validate on 2000 samples\n",
      "Epoch 1/10\n",
      " - 6s - loss: 0.6758 - acc: 0.6120 - val_loss: 1.0434 - val_acc: 0.0000e+00\n",
      "Epoch 2/10\n",
      " - 4s - loss: 0.6385 - acc: 0.6249 - val_loss: 0.9676 - val_acc: 0.0060\n",
      "Epoch 3/10\n",
      " - 4s - loss: 0.5454 - acc: 0.7128 - val_loss: 1.0900 - val_acc: 0.5095\n",
      "Epoch 4/10\n",
      " - 4s - loss: 0.4675 - acc: 0.7959 - val_loss: 0.9244 - val_acc: 0.6725\n",
      "Epoch 5/10\n",
      " - 4s - loss: 0.4214 - acc: 0.8144 - val_loss: 1.1974 - val_acc: 0.4945\n",
      "Epoch 6/10\n",
      " - 4s - loss: 0.3991 - acc: 0.8260 - val_loss: 1.0667 - val_acc: 0.5820\n",
      "Epoch 7/10\n",
      " - 4s - loss: 0.3722 - acc: 0.8382 - val_loss: 0.8856 - val_acc: 0.6405\n",
      "Epoch 8/10\n",
      " - 4s - loss: 0.3584 - acc: 0.8502 - val_loss: 0.9297 - val_acc: 0.6275\n",
      "Epoch 9/10\n",
      " - 4s - loss: 0.3418 - acc: 0.8556 - val_loss: 0.7261 - val_acc: 0.6980\n",
      "Epoch 10/10\n",
      " - 4s - loss: 0.3289 - acc: 0.8607 - val_loss: 0.8224 - val_acc: 0.6885\n",
      "\n"
     ]
    }
   ],
   "source": [
    "from keras_tqdm import TQDMNotebookCallback\n",
    "print('Train...')\n",
    "\n",
    "history = model.fit(np.array(data_content), np.array(data_label), \\\n",
    "          validation_split=0.2, shuffle=True, \\\n",
    "          epochs=10, batch_size=batch_size, verbose=2, \\\n",
    "           callbacks=[TQDMNotebookCallback()])\n"
   ]
  },
  {
   "cell_type": "code",
   "execution_count": 27,
   "metadata": {
    "collapsed": false
   },
   "outputs": [
    {
     "name": "stdout",
     "output_type": "stream",
     "text": [
      "dict_keys(['val_loss', 'val_acc', 'loss', 'acc'])\n",
      "11 11\n"
     ]
    },
    {
     "data": {
      "image/png": "[encoded data removed]",
      "text/plain": [
       "<matplotlib.figure.Figure at 0x7f80b06dac50>"
      ]
     },
     "metadata": {},
     "output_type": "display_data"
    }
   ],
   "source": [
    "import matplotlib.pyplot as plt\n",
    "# list all data in history\n",
    "print(history.history.keys())\n",
    "# summarize history for accuracy\n",
    "train = history.history['acc']\n",
    "valid = history.history['val_acc']\n",
    "\n",
    "x = [0.] + train[1:] + [train[-1]]\n",
    "y = [0.] + valid[:-1] + [valid[-1]]\n",
    "print(len(x), len(y))\n",
    "\n",
    "plt.figure(figsize=(8, 6))\n",
    "plt.plot(x)\n",
    "plt.plot(y)\n",
    "plt.title('model accuracy')\n",
    "plt.ylabel('accuracy')\n",
    "plt.xlabel('epoch')\n",
    "plt.legend(['Train', 'Test'], loc='lower right')\n",
    "plt.show()\n"
   ]
  },
  {
   "cell_type": "code",
   "execution_count": 28,
   "metadata": {
    "collapsed": false
   },
   "outputs": [
    {
     "name": "stdout",
     "output_type": "stream",
     "text": [
      "dict_keys(['val_loss', 'val_acc', 'loss', 'acc'])\n",
      "11 11\n"
     ]
    },
    {
     "data": {
      "image/png": "[encoded data removed]",
      "text/plain": [
       "<matplotlib.figure.Figure at 0x7f7d2d2f0b70>"
      ]
     },
     "metadata": {},
     "output_type": "display_data"
    }
   ],
   "source": [
    "import matplotlib.pyplot as plt\n",
    "# list all data in history\n",
    "print(history.history.keys())\n",
    "# summarize history for accuracy\n",
    "train = history.history['loss']\n",
    "valid = history.history['val_loss']\n",
    "\n",
    "x = [0.] + train[1:] + [train[-1]]\n",
    "y = [0.] + valid[:-1] + [valid[-1]]\n",
    "print(len(x), len(y))\n",
    "\n",
    "plt.figure(figsize=(8, 6))\n",
    "plt.plot(x)\n",
    "plt.plot(y)\n",
    "plt.title('model loss')\n",
    "plt.ylabel('accuracy')\n",
    "plt.xlabel('epoch')\n",
    "plt.legend(['Train', 'Test'], loc='lower right')\n",
    "plt.show()\n"
   ]
  },
  {
   "cell_type": "code",
   "execution_count": null,
   "metadata": {
    "collapsed": true
   },
   "outputs": [],
   "source": []
  },
  {
   "cell_type": "code",
   "execution_count": null,
   "metadata": {
    "collapsed": true
   },
   "outputs": [],
   "source": []
  }
 ],
 "metadata": {
  "kernelspec": {
   "display_name": "Python 3",
   "language": "python",
   "name": "python3"
  },
  "language_info": {
   "codemirror_mode": {
    "name": "ipython",
    "version": 3
   },
   "file_extension": ".py",
   "mimetype": "text/x-python",
   "name": "python",
   "nbconvert_exporter": "python",
   "pygments_lexer": "ipython3",
   "version": "3.6.0"
  },
  "widgets": {
   "state": {
    "4ee5b12d5fe34bd2ad388d8b9b1645bc": {
     "views": [
      {
       "cell_index": 18
      }
     ]
    },
    "4fd8b287e6a3487d9397a83eb626d693": {
     "views": [
      {
       "cell_index": 11
      }
     ]
    }
   },
   "version": "1.2.0"
  }
 },
 "nbformat": 4,
 "nbformat_minor": 2
}
