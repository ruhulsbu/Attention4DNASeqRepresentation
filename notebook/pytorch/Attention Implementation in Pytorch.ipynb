{
 "cells": [
  {
   "cell_type": "code",
   "execution_count": 1,
   "metadata": {
    "collapsed": false
   },
   "outputs": [
    {
     "name": "stdout",
     "output_type": "stream",
     "text": [
      "Done!\n"
     ]
    }
   ],
   "source": [
    "import os, sys\n",
    "import random\n",
    "import numpy as np\n",
    "\n",
    "import torch\n",
    "import torch.nn as nn\n",
    "import torch.nn.functional as F\n",
    "from torch.autograd import Variable\n",
    "import torch.optim as optim\n",
    "\n",
    "import matplotlib.pyplot as plt\n",
    "%matplotlib inline\n",
    "\n",
    "from util import basic\n",
    "print(\"Done!\")"
   ]
  },
  {
   "cell_type": "code",
   "execution_count": 2,
   "metadata": {
    "collapsed": false
   },
   "outputs": [
    {
     "name": "stdout",
     "output_type": "stream",
     "text": [
      "tensor([[[-1.4861,  1.3218, -0.2568, -1.5280,  0.0404],\n",
      "         [-1.2438, -0.2885,  1.7713, -0.4244, -1.2039],\n",
      "         [-1.3489,  0.1201,  0.5053,  0.8893,  0.9696]],\n",
      "\n",
      "        [[-0.0717,  0.3544, -1.2678,  1.2160, -0.1850],\n",
      "         [ 0.4024, -0.0243,  0.6407, -0.8886, -0.7330],\n",
      "         [ 0.4374,  0.0229,  0.1646,  0.2713,  0.3625]]])\n",
      "torch.Size([2, 3, 5])\n",
      "torch.Size([3, 2, 5])\n",
      "tensor([[[-1.4861,  1.3218, -0.2568, -1.5280,  0.0404],\n",
      "         [-0.0717,  0.3544, -1.2678,  1.2160, -0.1850]],\n",
      "\n",
      "        [[-1.2438, -0.2885,  1.7713, -0.4244, -1.2039],\n",
      "         [ 0.4024, -0.0243,  0.6407, -0.8886, -0.7330]],\n",
      "\n",
      "        [[-1.3489,  0.1201,  0.5053,  0.8893,  0.9696],\n",
      "         [ 0.4374,  0.0229,  0.1646,  0.2713,  0.3625]]])\n"
     ]
    }
   ],
   "source": [
    "x = torch.randn(2, 3, 5)\n",
    "print(x)\n",
    "print(x.size())\n",
    "y = x.permute(1, 0, 2)\n",
    "print(y.size())\n",
    "print(y)"
   ]
  },
  {
   "cell_type": "code",
   "execution_count": 3,
   "metadata": {
    "collapsed": true
   },
   "outputs": [],
   "source": [
    "pos_data, pos_label = basic.preprocess_data(\"/home/moamin/sequence_annotation_seawulf/gene_range_start_codon.txt\", 1)\n",
    "neg_data, neg_label = basic.preprocess_data(\"/home/moamin/sequence_annotation_seawulf/intragenic_start_codon.txt\", 0)"
   ]
  },
  {
   "cell_type": "raw",
   "metadata": {
    "collapsed": true
   },
   "source": [
    "pos_data, pos_label = basic.preprocess_data(\"/home/moamin/sequence_annotation_seawulf/February_13_Start_Stop_LogReg_Final/gene_range_start_codon.txt\", 1)\n",
    "neg_data_one, neg_label_one = basic.preprocess_data(\"/home/moamin/sequence_annotation_seawulf/February_13_Start_Stop_LogReg_Final/intragenic_start_codon.txt\", 0)\n",
    "neg_data_two, neg_label_two = basic.preprocess_data(\"/home/moamin/sequence_annotation_seawulf/February_13_Start_Stop_LogReg_Final/coding_start_codon.txt\", 0)\n",
    "neg_data = neg_data_one + neg_data_two\n",
    "neg_label = neg_label_one + neg_label_two"
   ]
  },
  {
   "cell_type": "code",
   "execution_count": 4,
   "metadata": {
    "collapsed": false
   },
   "outputs": [
    {
     "name": "stdout",
     "output_type": "stream",
     "text": [
      "8385 13683\n",
      "1 0\n"
     ]
    }
   ],
   "source": [
    "print(len(pos_data), len(neg_data))\n",
    "print(pos_label[0], neg_label[0])"
   ]
  },
  {
   "cell_type": "code",
   "execution_count": 5,
   "metadata": {
    "collapsed": true
   },
   "outputs": [],
   "source": [
    "neg_data_one = None\n",
    "neg_data_two = None\n",
    "neg_label_one = None\n",
    "neg_label_two = None"
   ]
  },
  {
   "cell_type": "code",
   "execution_count": 6,
   "metadata": {
    "collapsed": false
   },
   "outputs": [
    {
     "name": "stdout",
     "output_type": "stream",
     "text": [
      "22068 8385\n",
      "22000 1000\n",
      "22000 8385\n"
     ]
    },
    {
     "data": {
      "text/plain": [
       "'\\nfor i in range(len(data_label)):\\n    if data_label[i] == 1:\\n        data_content[i] = [data_content[i][0] for k in data_content[i]]\\n'"
      ]
     },
     "execution_count": 6,
     "metadata": {},
     "output_type": "execute_result"
    }
   ],
   "source": [
    "data_size = 100000\n",
    "batch_size = 1000\n",
    "data_content = pos_data[:data_size] + neg_data[:data_size]\n",
    "pos_data = None\n",
    "neg_data = None\n",
    "data_label = pos_label[:data_size] + neg_label[:data_size] \n",
    "pos_label = None\n",
    "neg_label = None\n",
    "print(len(data_content), np.sum(data_label))\n",
    "\n",
    "total_datasize = len(data_content)-len(data_content)%batch_size\n",
    "print(total_datasize, batch_size)\n",
    "rand_index = np.random.permutation(total_datasize)\n",
    "data_content = [data_content[i] for i in rand_index]\n",
    "data_label = [data_label[i] for i in rand_index]\n",
    "print(len(data_content), np.sum(data_label))\n",
    "'''\n",
    "for i in range(len(data_label)):\n",
    "    if data_label[i] == 1:\n",
    "        data_content[i] = [data_content[i][0] for k in data_content[i]]\n",
    "'''"
   ]
  },
  {
   "cell_type": "raw",
   "metadata": {
    "collapsed": false
   },
   "source": [
    "np.array(data_content)"
   ]
  },
  {
   "cell_type": "raw",
   "metadata": {
    "collapsed": false,
    "scrolled": true
   },
   "source": [
    "np.array(data_label)"
   ]
  },
  {
   "cell_type": "markdown",
   "metadata": {},
   "source": [
    "## Pytorch Basic Attention model"
   ]
  },
  {
   "cell_type": "code",
   "execution_count": 7,
   "metadata": {
    "collapsed": false
   },
   "outputs": [
    {
     "data": {
      "text/plain": [
       "(torch.Size([22000, 101]), torch.Size([22000, 1]))"
      ]
     },
     "execution_count": 7,
     "metadata": {},
     "output_type": "execute_result"
    }
   ],
   "source": [
    "X = torch.from_numpy(np.array(data_content).astype(int))\n",
    "Y = torch.from_numpy(np.array(data_label).reshape(len(data_label),1).astype(int))\n",
    "X.shape, Y.shape"
   ]
  },
  {
   "cell_type": "code",
   "execution_count": null,
   "metadata": {
    "collapsed": true
   },
   "outputs": [],
   "source": []
  },
  {
   "cell_type": "markdown",
   "metadata": {
    "collapsed": false
   },
   "source": [
    "class AttnDecoderRNN(nn.Module):#corrected batch faster\n",
    "    #(self, time_steps, embedding_dim, hidden_dim, vocab_size, tagset_size, mini_batch)\n",
    "    def __init__(self, vocab_size, embedding_dim, \\\n",
    "                 hidden_dim, batch_size=100, debug=1, \\\n",
    "                 tagset_size=1, time_steps=101):\n",
    "        super(AttnDecoderRNN, self).__init__()\n",
    "        self.embedding_dim = embedding_dim\n",
    "        self.time_steps = time_steps\n",
    "        self.hidden_dim = hidden_dim\n",
    "        self.minibatch_size = batch_size\n",
    "        self.dropout_p = 0.25\n",
    "        self.tagset_size = tagset_size\n",
    "        self.hidden = self.init_hidden()\n",
    "        self.debug = debug\n",
    "\n",
    "        self.embedding = nn.Embedding(vocab_size, embedding_dim)\n",
    "        self.lstm_one = nn.GRU(embedding_dim, hidden_dim)\n",
    "        self.dropout_one = nn.Dropout(0.25)\n",
    "        self.lstm_two = nn.GRU(hidden_dim, hidden_dim)\n",
    "        self.dropout_two = nn.Dropout(0.25)\n",
    "        \n",
    "        \n",
    "        self.attn_array = [nn.Linear(hidden_dim, 1) for i in range(time_steps)]\n",
    "        self.attn_combine = nn.Linear(hidden_dim, hidden_dim)\n",
    "        self.dropout = nn.Dropout(self.dropout_p)\n",
    "        self.linear = nn.Linear(hidden_dim, 1)\n",
    "        #embedding_dim*time_steps\n",
    "\n",
    "    def forward(self, input):\n",
    "        init_embed = self.embedding(input)\n",
    "        #embedded = init_embed.permute(1, 0, 2)\n",
    "        if self.debug == 1:\n",
    "            print(\"Embedding Shape: \", init_embed.shape)\n",
    "        \n",
    "        lstm_out, self.hidden_one = self.lstm_one(init_embed, self.hidden)\n",
    "        lstm_out = self.dropout_one(lstm_out)\n",
    "        lstm_out, self.hidden_two = self.lstm_two(lstm_out, self.hidden)\n",
    "        lstm_out = self.dropout_two(lstm_out)\n",
    "        \"\"\"\n",
    "        lstm_permute = lstm_out.permute(1, 0, 2)\n",
    "        if self.debug == 1:\n",
    "            print(\"LSTM Out Shape: \", lstm_permute.shape)\n",
    "        \n",
    "        attention = [self.attn_array[i](lstm_permute[i][:]) \\\n",
    "                     for i in range(self.time_steps)]\n",
    "        attention = torch.stack(attention)\n",
    "        attention = attention.view(self.time_steps, -1).permute(1, 0)\n",
    "        if self.debug == 1:\n",
    "            print(\"Attention Shape: \", attention.shape)\n",
    "        \n",
    "        attn_weights = F.softmax(attention, dim=1)\n",
    "        attn_weights = attn_weights.view(self.minibatch_size, self.time_steps, 1)\n",
    "        if self.debug == 1:\n",
    "            print(\"Softmax Shape: \", attn_weights.shape)\n",
    "        \n",
    "        attn_weights = torch.stack(\n",
    "            [attn_weights]*self.embedding_dim, 2).view(\n",
    "            self.minibatch_size, self.time_steps, -1)\n",
    "        if self.debug == 1:\n",
    "            print(\"Softmax ReShape: \", attn_weights.shape)\n",
    "        \n",
    "        #attn_applied = init_embed\n",
    "        attn_applied = attn_weights * init_embed\n",
    "        attn_applied = attn_applied.view(self.minibatch_size, self.time_steps, -1)\n",
    "        attn_applied = torch.sum(attn_applied, dim=1)\n",
    "        if self.debug == 1:\n",
    "            print(\"Embedding*Attention Shape: \", attn_applied.shape)\n",
    "        \n",
    "        #output = F.relu(attn_applied)\n",
    "        \"\"\"\n",
    "        output = F.relu(lstm_out[:, -1])\n",
    "        if self.debug == 1:\n",
    "            print(\"GRU Last Output Shape: \", output.shape)\n",
    "        output = self.linear(output)\n",
    "        #output.contiguous.view(1, -1)\n",
    "        #.contiguous().view(self.mini_batch, -1)\n",
    "        return output, attn_weights.view(self.minibatch_size, self.time_steps, -1)\n",
    "\n",
    "    def init_hidden(self):\n",
    "        return torch.zeros(1, self.time_steps, self.hidden_dim)"
   ]
  },
  {
   "cell_type": "code",
   "execution_count": null,
   "metadata": {
    "collapsed": true
   },
   "outputs": [],
   "source": []
  },
  {
   "cell_type": "raw",
   "metadata": {
    "collapsed": true
   },
   "source": [
    "class AttnDecoderRNN(nn.Module):#corrected batch faster\n",
    "    #(self, time_steps, embedding_dim, hidden_dim, vocab_size, tagset_size, mini_batch)\n",
    "    def __init__(self, vocab_size, embedding_dim, \\\n",
    "                 hidden_dim, batch_size=100, debug=1, \\\n",
    "                 tagset_size=1, time_steps=101):\n",
    "        super(AttnDecoderRNN, self).__init__()\n",
    "        self.embedding_dim = embedding_dim\n",
    "        self.time_steps = time_steps\n",
    "        self.hidden_dim = hidden_dim\n",
    "        self.minibatch_size = batch_size\n",
    "        self.dropout_p = 0.25\n",
    "        self.tagset_size = tagset_size\n",
    "        self.hidden = self.init_hidden()\n",
    "        self.debug = debug\n",
    "\n",
    "        self.embedding = nn.Embedding(vocab_size, embedding_dim)\n",
    "        self.lstm_one = nn.LSTM(embedding_dim, hidden_dim, batch_first=True)\n",
    "        self.dropout_one = nn.Dropout(0.25)\n",
    "        self.lstm_two = nn.LSTM(hidden_dim, hidden_dim, batch_first=True)\n",
    "        self.dropout_two = nn.Dropout(0.25)\n",
    "        \n",
    "        self.attn_array = [nn.Linear(hidden_dim, 1) for i in range(time_steps)]\n",
    "        \"\"\"\n",
    "        self.attn_combine = nn.Linear(hidden_dim, hidden_dim)\n",
    "        self.dropout = nn.Dropout(self.dropout_p)\n",
    "        self.linear = nn.Linear(hidden_dim, 1)\n",
    "        #embedding_dim*time_steps\n",
    "        \"\"\"\n",
    "        \n",
    "        self.hidden2tag_one = nn.Linear(hidden_dim*time_steps, 512)\n",
    "        self.dropout_three = nn.Dropout(0.25)\n",
    "        self.hidden2tag_two = nn.Linear(512, 128)\n",
    "        self.dropout_four = nn.Dropout(0.25)\n",
    "        self.hidden2tag_three = nn.Linear(128, 64)\n",
    "        self.dropout_five = nn.Dropout(0.25)\n",
    "        \n",
    "        self.output = nn.Linear(64, tagset_size)\n",
    "\n",
    "    def forward(self, input):\n",
    "        init_embed = self.embedding(input)\n",
    "        #embedded = init_embed.permute(1, 0, 2)\n",
    "        if self.debug == 1:\n",
    "            print(\"Embedding Shape: \", init_embed.shape)\n",
    "        \n",
    "        lstm_out, self.hidden_one = self.lstm_one(init_embed, self.hidden)\n",
    "        lstm_out = self.dropout_one(lstm_out)\n",
    "        lstm_out, self.hidden_two = self.lstm_two(lstm_out, self.hidden)\n",
    "        lstm_out = self.dropout_two(lstm_out)\n",
    "        #\"\"\"\n",
    "        lstm_permute = lstm_out.permute(1, 0, 2)\n",
    "        if self.debug == 1:\n",
    "            print(\"LSTM Out Shape: \", lstm_permute.shape)\n",
    "        \n",
    "        attention = [self.attn_array[i](lstm_permute[i][:]) \\\n",
    "                     for i in range(self.time_steps)]\n",
    "        attention = torch.stack(attention)\n",
    "        attention = attention.view(self.time_steps, -1).permute(1, 0)\n",
    "        if self.debug == 1:\n",
    "            print(\"Attention Shape: \", attention.shape)\n",
    "        \n",
    "        attn_weights = F.softmax(attention, dim=1)\n",
    "        attn_weights = attn_weights.view(self.minibatch_size, self.time_steps, 1)\n",
    "        if self.debug == 1:\n",
    "            print(\"Softmax Shape: \", attn_weights.shape)\n",
    "        \n",
    "        attn_weights = torch.stack(\n",
    "            [attn_weights]*self.embedding_dim, 2).view(\n",
    "            self.minibatch_size, self.time_steps, -1)\n",
    "        if self.debug == 1:\n",
    "            print(\"Softmax ReShape: \", attn_weights.shape)\n",
    "        \n",
    "        #attn_applied = init_embed\n",
    "        attn_applied = attn_weights * init_embed\n",
    "        #attn_applied = attn_applied.view(self.minibatch_size, self.time_steps, -1)\n",
    "        #attn_applied = torch.sum(attn_applied, dim=1)\n",
    "        if self.debug == 1:\n",
    "            print(\"Embedding*Attention Shape: \", attn_applied.shape)\n",
    "        \n",
    "        #output = F.relu(attn_applied)\n",
    "        #\"\"\"\n",
    "        \n",
    "        lstm_out = attn_applied.contiguous().view(self.minibatch_size, -1)\n",
    "        #lstm_output = lstm_out.contiguous().view(self.minibatch_size, -1)\n",
    "        if self.debug == 1:\n",
    "            print(\"LSTM Output Shape: \", lstm_out.shape)\n",
    "        \n",
    "        \n",
    "        dense_out = self.hidden2tag_one(lstm_out[:])\n",
    "        dense_out = F.relu(dense_out[:])\n",
    "        dense_out = self.dropout_three(dense_out[:])\n",
    "        \n",
    "        dense_out = self.hidden2tag_two(dense_out[:])\n",
    "        dense_out = F.relu(dense_out[:])\n",
    "        dense_out = self.dropout_four(dense_out[:])\n",
    "        \n",
    "        dense_out = self.hidden2tag_three(dense_out[:])\n",
    "        dense_out = F.relu(dense_out[:])\n",
    "        dense_out = self.dropout_five(dense_out[:])\n",
    "        \n",
    "        tag_space = self.output(dense_out[:])\n",
    "        #print(tag_space.shape)\n",
    "        #tag_scores = F.sigmoid(tag_space)\n",
    "        #tag_scores = F.softmax(tag_space, dim=1)\n",
    "        #print(tag_scores.shape)\n",
    "        return tag_space, np.array([0.0]) #attn_weights.view(self.minibatch_size, self.time_steps, -1)\n",
    "\n",
    "    def init_hidden(self):\n",
    "        # Before we've done anything, we dont have any hidden state.\n",
    "        # Refer to the Pytorch documentation to see exactly\n",
    "        # why they have this dimensionality.\n",
    "        # The axes semantics are (num_layers, minibatch_size, hidden_dim)\n",
    "        return (torch.zeros(1, self.minibatch_size, self.hidden_dim),\n",
    "                torch.zeros(1, self.minibatch_size, self.hidden_dim))"
   ]
  },
  {
   "cell_type": "code",
   "execution_count": 14,
   "metadata": {
    "collapsed": true
   },
   "outputs": [],
   "source": [
    "class AttnDecoderRNN(nn.Module):#corrected batch faster\n",
    "    #(self, time_steps, embedding_dim, hidden_dim, vocab_size, tagset_size, mini_batch)\n",
    "    def __init__(self, vocab_size, embedding_dim, \\\n",
    "                 hidden_dim, batch_size=100, debug=1, \\\n",
    "                 tagset_size=1, time_steps=101):\n",
    "        super(AttnDecoderRNN, self).__init__()\n",
    "        self.embedding_dim = embedding_dim\n",
    "        self.time_steps = time_steps\n",
    "        self.hidden_dim = hidden_dim\n",
    "        self.minibatch_size = batch_size\n",
    "        self.dropout_p = 0.25\n",
    "        self.tagset_size = tagset_size\n",
    "        self.hidden = self.init_hidden()\n",
    "        self.debug = debug\n",
    "\n",
    "        self.embedding = nn.Embedding(vocab_size, embedding_dim)\n",
    "        self.lstm_one = nn.LSTM(embedding_dim, hidden_dim, batch_first=True)\n",
    "        self.dropout_one = nn.Dropout(0.25)\n",
    "        self.lstm_two = nn.LSTM(hidden_dim, hidden_dim, batch_first=True)\n",
    "        self.dropout_two = nn.Dropout(0.25)\n",
    "        \n",
    "        self.attn_array = [nn.Linear(hidden_dim, hidden_dim) for i in range(time_steps)]\n",
    "        \"\"\"\n",
    "        self.attn_combine = nn.Linear(hidden_dim, hidden_dim)\n",
    "        self.dropout = nn.Dropout(self.dropout_p)\n",
    "        self.linear = nn.Linear(hidden_dim, 1)\n",
    "        #embedding_dim*time_steps\n",
    "        \"\"\"\n",
    "        \n",
    "        self.hidden2tag_one = nn.Linear(hidden_dim*time_steps, 512)\n",
    "        self.dropout_three = nn.Dropout(0.25)\n",
    "        self.hidden2tag_two = nn.Linear(512, 128)\n",
    "        self.dropout_four = nn.Dropout(0.25)\n",
    "        self.hidden2tag_three = nn.Linear(128, 64)\n",
    "        self.dropout_five = nn.Dropout(0.25)\n",
    "        \n",
    "        self.output = nn.Linear(64, tagset_size)\n",
    "\n",
    "    def forward(self, input):\n",
    "        init_embed = self.embedding(input)\n",
    "        #embedded = init_embed.permute(1, 0, 2)\n",
    "        if self.debug == 1:\n",
    "            print(\"Embedding Shape: \", init_embed.shape)\n",
    "        \n",
    "        lstm_out, self.hidden_one = self.lstm_one(init_embed, self.hidden)\n",
    "        lstm_out = self.dropout_one(lstm_out)\n",
    "        lstm_out, self.hidden_two = self.lstm_two(lstm_out, self.hidden)\n",
    "        lstm_out = self.dropout_two(lstm_out)\n",
    "        #\"\"\"\n",
    "        lstm_permute = lstm_out.permute(1, 0, 2)\n",
    "        if self.debug == 1:\n",
    "            print(\"LSTM Out Shape: \", lstm_permute.shape)\n",
    "        \n",
    "        attention = [self.attn_array[i](lstm_permute[i][:]) \\\n",
    "                     for i in range(self.time_steps)]\n",
    "        attention = torch.stack(attention)\n",
    "        attention = attention.permute(1, 0, 2)\n",
    "        if self.debug == 1:\n",
    "            print(\"Attention Shape: \", attention.shape)\n",
    "        \n",
    "        attn_weights = F.softmax(attention, dim=2)\n",
    "        #attn_weights = attn_weights.view(self.minibatch_size, self.time_steps, 1)\n",
    "        if self.debug == 1:\n",
    "            print(\"Softmax Shape: \", attn_weights.shape)\n",
    "        \"\"\"\n",
    "        attn_weights = torch.stack(\n",
    "            [attn_weights]*self.embedding_dim, 2).view(\n",
    "            self.minibatch_size, self.time_steps, -1)\n",
    "        if self.debug == 1:\n",
    "            print(\"Softmax ReShape: \", attn_weights.shape)\n",
    "        \"\"\"\n",
    "        #attn_applied = init_embed\n",
    "        attn_applied = attn_weights * init_embed\n",
    "        #attn_applied = attn_applied.view(self.minibatch_size, self.time_steps, -1)\n",
    "        #attn_applied = torch.sum(attn_applied, dim=1)\n",
    "        if self.debug == 1:\n",
    "            print(\"Embedding*Attention Shape: \", attn_applied.shape)\n",
    "        \n",
    "        #output = F.relu(attn_applied)\n",
    "        #\"\"\"\n",
    "        \n",
    "        lstm_out = attn_applied.contiguous().view(self.minibatch_size, -1)\n",
    "        #lstm_output = lstm_out.contiguous().view(self.minibatch_size, -1)\n",
    "        if self.debug == 1:\n",
    "            print(\"LSTM Output Shape: \", lstm_out.shape)\n",
    "        \n",
    "        \n",
    "        dense_out = self.hidden2tag_one(lstm_out[:])\n",
    "        dense_out = F.relu(dense_out[:])\n",
    "        dense_out = self.dropout_three(dense_out[:])\n",
    "        \n",
    "        dense_out = self.hidden2tag_two(dense_out[:])\n",
    "        dense_out = F.relu(dense_out[:])\n",
    "        dense_out = self.dropout_four(dense_out[:])\n",
    "        \n",
    "        dense_out = self.hidden2tag_three(dense_out[:])\n",
    "        dense_out = F.relu(dense_out[:])\n",
    "        dense_out = self.dropout_five(dense_out[:])\n",
    "        \n",
    "        tag_space = self.output(dense_out[:])\n",
    "        #print(tag_space.shape)\n",
    "        #tag_scores = F.sigmoid(tag_space)\n",
    "        #tag_scores = F.softmax(tag_space, dim=1)\n",
    "        #print(tag_scores.shape)\n",
    "        return tag_space, np.array([0.0]) #attn_weights.view(self.minibatch_size, self.time_steps, -1)\n",
    "\n",
    "    def init_hidden(self):\n",
    "        # Before we've done anything, we dont have any hidden state.\n",
    "        # Refer to the Pytorch documentation to see exactly\n",
    "        # why they have this dimensionality.\n",
    "        # The axes semantics are (num_layers, minibatch_size, hidden_dim)\n",
    "        return (torch.zeros(1, self.minibatch_size, self.hidden_dim),\n",
    "                torch.zeros(1, self.minibatch_size, self.hidden_dim))"
   ]
  },
  {
   "cell_type": "code",
   "execution_count": 15,
   "metadata": {
    "collapsed": false
   },
   "outputs": [
    {
     "name": "stdout",
     "output_type": "stream",
     "text": [
      "AttnDecoderRNN(\n",
      "  (embedding): Embedding(5, 16)\n",
      "  (lstm_one): LSTM(16, 16, batch_first=True)\n",
      "  (dropout_one): Dropout(p=0.25)\n",
      "  (lstm_two): LSTM(16, 16, batch_first=True)\n",
      "  (dropout_two): Dropout(p=0.25)\n",
      "  (hidden2tag_one): Linear(in_features=1616, out_features=512, bias=True)\n",
      "  (dropout_three): Dropout(p=0.25)\n",
      "  (hidden2tag_two): Linear(in_features=512, out_features=128, bias=True)\n",
      "  (dropout_four): Dropout(p=0.25)\n",
      "  (hidden2tag_three): Linear(in_features=128, out_features=64, bias=True)\n",
      "  (dropout_five): Dropout(p=0.25)\n",
      "  (output): Linear(in_features=64, out_features=1, bias=True)\n",
      ")\n"
     ]
    }
   ],
   "source": [
    "model = AttnDecoderRNN(5, 16, 16)\n",
    "print(model)\n",
    "optimizer = optim.Adam(model.parameters(), lr=0.001)\n",
    "criterion = nn.BCEWithLogitsLoss()"
   ]
  },
  {
   "cell_type": "code",
   "execution_count": 16,
   "metadata": {
    "collapsed": false
   },
   "outputs": [
    {
     "name": "stdout",
     "output_type": "stream",
     "text": [
      "torch.Size([100, 101])\n",
      "Embedding Shape:  torch.Size([100, 101, 16])\n",
      "LSTM Out Shape:  torch.Size([101, 100, 16])\n",
      "Attention Shape:  torch.Size([100, 101, 16])\n",
      "Softmax Shape:  torch.Size([100, 101, 16])\n",
      "Embedding*Attention Shape:  torch.Size([100, 101, 16])\n",
      "LSTM Output Shape:  torch.Size([100, 1616])\n",
      "torch.Size([100, 1]) (1,)\n"
     ]
    }
   ],
   "source": [
    "print(X[:100].shape)\n",
    "with torch.no_grad():\n",
    "    output, attn_weights = model(X[:100])\n",
    "    print(output.shape, attn_weights.shape)"
   ]
  },
  {
   "cell_type": "code",
   "execution_count": 17,
   "metadata": {
    "collapsed": true
   },
   "outputs": [],
   "source": [
    "def weighted_binary_cross_entropy(output, target, weights=None):\n",
    "        \n",
    "    if weights is not None:\n",
    "        assert len(weights) == 2\n",
    "        \n",
    "        output = torch.clamp(output,min=1e-8,max=1-1e-8) \n",
    "        #loss =  pos_weight * (target * torch.log(output)) + \\\n",
    "        #        neg_weight * ((1 - target) * torch.log(1 - output))\n",
    "        loss = weights[1] * (target * torch.log(output)) + \\\n",
    "               weights[0] * ((1 - target) * torch.log(1 - output))\n",
    "    else:\n",
    "        loss = target * torch.log(output) + (1 - target) * torch.log(1 - output)\n",
    "\n",
    "    return torch.neg(torch.mean(loss))"
   ]
  },
  {
   "cell_type": "code",
   "execution_count": 18,
   "metadata": {
    "collapsed": true
   },
   "outputs": [],
   "source": [
    "import torch.nn.functional as F\n",
    "\n",
    "def binary_accuracy(preds, y):\n",
    "    \"\"\"\n",
    "    Returns accuracy per batch, i.e. if you get 8/10 right, this returns 0.8, NOT 8\n",
    "    \"\"\"\n",
    "\n",
    "    #round predictions to the closest integer\n",
    "    rounded_preds = torch.round(F.sigmoid(preds))\n",
    "    correct = (rounded_preds == y).float() #convert into float for division \n",
    "    acc = correct.sum()/len(correct)\n",
    "    \n",
    "    return acc"
   ]
  },
  {
   "cell_type": "code",
   "execution_count": null,
   "metadata": {
    "collapsed": false,
    "scrolled": true
   },
   "outputs": [],
   "source": [
    "from tqdm import tqdm_notebook as tqdm\n",
    "losses = []\n",
    "accuracies = []\n",
    "#batch_size = 10\n",
    "model = AttnDecoderRNN(5, 16, 16, batch_size=batch_size, debug=0)\n",
    "print(model)\n",
    "optimizer = optim.Adam(model.parameters(), lr=0.001)\n",
    "criterion = nn.BCEWithLogitsLoss()\n",
    "\n",
    "num_epochs = 10\n",
    "for epoch in tqdm(range(num_epochs)):  # again, normally you would NOT do 300 epochs, it is toy data\n",
    "    total_loss = 0\n",
    "    total_acc = 0\n",
    "    \n",
    "    for index in range(0, len(X), batch_size):\n",
    "        sentence = X[index : index+batch_size]#.reshape(len(X[0]))\n",
    "        tags = Y[index : index+batch_size]#.reshape(len(Y[0]))\n",
    "        #print(sentence.shape, tags.shape)\n",
    "        # Step 1. Remember that Pytorch accumulates gradients.\n",
    "        # We need to clear them out before each instance\n",
    "        model.zero_grad()\n",
    "\n",
    "        # Also, we need to clear out the hidden state of the LSTM,\n",
    "        # detaching it from its history on the last instance.\n",
    "        model.hidden = model.init_hidden()\n",
    "\n",
    "        # Step 2. Get our inputs ready for the network, that is, turn them into\n",
    "        # Tensors of word indices.\n",
    "        # sentence_in = prepare_sequence(sentence, word_to_ix)\n",
    "        #targets = prepare_sequence(tags, tag_to_ix)\n",
    "        targets = tags.float().flatten()\n",
    "\n",
    "        # Step 3. Run our forward pass.\n",
    "        tag_scores, attn_weight = model(sentence)\n",
    "        tag_scores = tag_scores.flatten()\n",
    "        #print(targets.shape, tag_scores.shape)\n",
    "        \n",
    "        #neg_weight = batch_size / (batch_size-np.sum(data_label[index : index+batch_size]))\n",
    "        #pos_weight = batch_size / np.sum(data_label[index : index+batch_size])\n",
    "        #weights = torch.FloatTensor([neg_weight, pos_weight])\n",
    "        \n",
    "        # Step 4. Compute the loss, gradients, and update the parameters by\n",
    "        #  calling optimizer.step()\n",
    "        loss = criterion(tag_scores, targets)\n",
    "        #loss = weighted_binary_cross_entropy(tag_scores, targets, weights=weights)\n",
    "        total_loss += loss.data.numpy()\n",
    "        \n",
    "        acc = binary_accuracy(tag_scores, targets)\n",
    "        total_acc += acc\n",
    "        \n",
    "        loss.backward()\n",
    "        optimizer.step()\n",
    "        \n",
    "        #print(\"Epoch {}/{}, Loss: {:.3f}, Accuracy: {:.3f}\".format(epoch+1,num_epochs, loss.data[0], correct/x.shape[0]))\n",
    "        \n",
    "    losses.append(total_loss)\n",
    "    accuracies.append(total_acc/(len(X)/batch_size))\n",
    "    \n",
    "    #total_loss.backward()\n",
    "    #opt.step()\n",
    "    \n",
    "    #print(epoch, total_loss)#, total_acc)\n",
    "    print(\"Epoch {}/{}, Loss: {:.3f}, Accuracy: {:.3f}\".format(epoch+1,num_epochs, losses[-1], accuracies[-1]))\n",
    "        \n",
    "    \n",
    "        "
   ]
  },
  {
   "cell_type": "code",
   "execution_count": null,
   "metadata": {
    "collapsed": true
   },
   "outputs": [],
   "source": []
  },
  {
   "cell_type": "code",
   "execution_count": 14,
   "metadata": {
    "collapsed": false
   },
   "outputs": [
    {
     "data": {
      "text/plain": [
       "[<matplotlib.lines.Line2D at 0x7f291ccbf4a8>]"
      ]
     },
     "execution_count": 14,
     "metadata": {},
     "output_type": "execute_result"
    },
    {
     "data": {
      "image/png": "[encoded data removed]",
      "text/plain": [
       "<matplotlib.figure.Figure at 0x7f292c9ff518>"
      ]
     },
     "metadata": {},
     "output_type": "display_data"
    }
   ],
   "source": [
    "plt.title(\"Loss\")\n",
    "plt.plot(losses)"
   ]
  },
  {
   "cell_type": "code",
   "execution_count": 15,
   "metadata": {
    "collapsed": false
   },
   "outputs": [
    {
     "data": {
      "text/plain": [
       "[<matplotlib.lines.Line2D at 0x7f291cc17400>]"
      ]
     },
     "execution_count": 15,
     "metadata": {},
     "output_type": "execute_result"
    },
    {
     "data": {
      "image/png": "[encoded data removed]",
      "text/plain": [
       "<matplotlib.figure.Figure at 0x7f295c4d76a0>"
      ]
     },
     "metadata": {},
     "output_type": "display_data"
    }
   ],
   "source": [
    "plt.title(\"Accuracies\")\n",
    "plt.plot(accuracies)"
   ]
  },
  {
   "cell_type": "markdown",
   "metadata": {},
   "source": [
    "# PyTorch Implementation"
   ]
  },
  {
   "cell_type": "code",
   "execution_count": 27,
   "metadata": {
    "collapsed": false
   },
   "outputs": [],
   "source": [
    "class LSTMTagger(nn.Module):\n",
    "\n",
    "    def __init__(self, time_steps, embedding_dim, hidden_dim, vocab_size, tagset_size, mini_batch):\n",
    "        super(LSTMTagger, self).__init__()\n",
    "        self.time_steps = time_steps\n",
    "        self.hidden_dim = hidden_dim\n",
    "        self.mini_batch = mini_batch\n",
    "        self.hidden = self.init_hidden()\n",
    "        \n",
    "        self.word_embeddings = nn.Embedding(vocab_size, embedding_dim)\n",
    "\n",
    "        # The LSTM takes word embeddings as inputs, and outputs hidden states\n",
    "        # with dimensionality hidden_dim.\n",
    "        self.lstm_one = nn.LSTM(embedding_dim, hidden_dim, batch_first=True)\n",
    "        self.dropout_one = nn.Dropout(0.25)\n",
    "        self.lstm_two = nn.LSTM(hidden_dim, hidden_dim, batch_first=True)\n",
    "        self.dropout_two = nn.Dropout(0.25)\n",
    "        self.lstm_three = nn.LSTM(hidden_dim, hidden_dim, batch_first=True)\n",
    "        self.dropout_ext = nn.Dropout(0.25)\n",
    "\n",
    "        # The linear layer that maps from hidden state space to tag space\n",
    "        #self.hidden2tag = nn.Linear(hidden_dim, tagset_size)\n",
    "        self.hidden2tag_one = nn.Linear(hidden_dim*time_steps, 512)\n",
    "        self.dropout_three = nn.Dropout(0.25)\n",
    "        self.hidden2tag_two = nn.Linear(512, 128)\n",
    "        self.dropout_four = nn.Dropout(0.25)\n",
    "        self.hidden2tag_three = nn.Linear(128, 64)\n",
    "        self.dropout_five = nn.Dropout(0.25)\n",
    "        \n",
    "        self.output = nn.Linear(64, tagset_size)\n",
    "\n",
    "    def init_hidden(self):\n",
    "        # Before we've done anything, we dont have any hidden state.\n",
    "        # Refer to the Pytorch documentation to see exactly\n",
    "        # why they have this dimensionality.\n",
    "        # The axes semantics are (num_layers, minibatch_size, hidden_dim)\n",
    "        return (torch.zeros(1, self.mini_batch, self.hidden_dim),\n",
    "                torch.zeros(1, self.mini_batch, self.hidden_dim))\n",
    "        \n",
    "    def forward(self, sentence):\n",
    "        embeds = self.word_embeddings(sentence)#.view(len(sentence), self.mini_batch, -1)\n",
    "        lstm_out, self.hidden_one = self.lstm_one(embeds, self.hidden)\n",
    "        lstm_out = self.dropout_one(lstm_out)\n",
    "        lstm_out, self.hidden_two = self.lstm_two(lstm_out, self.hidden)\n",
    "        lstm_out = self.dropout_two(lstm_out)\n",
    "        lstm_out, self.hidden_three = self.lstm_three(lstm_out, self.hidden)\n",
    "        lstm_out = self.dropout_ext(lstm_out)\n",
    "        \n",
    "        #print(lstm_out.shape)\n",
    "        #print(self.hidden)\n",
    "        \n",
    "        #print(lstm_out[:, -1].shape)\n",
    "        #tag_space = self.hidden2tag(lstm_out[:, -1])\n",
    "        \n",
    "        lstm_out = lstm_out.contiguous().view(self.mini_batch, -1)\n",
    "        #print(lstm_out.shape)\n",
    "        \n",
    "        \n",
    "        dense_out = self.hidden2tag_one(lstm_out[:])\n",
    "        dense_out = F.relu(dense_out[:])\n",
    "        dense_out = self.dropout_three(dense_out[:])\n",
    "        \n",
    "        dense_out = self.hidden2tag_two(dense_out[:])\n",
    "        dense_out = F.relu(dense_out[:])\n",
    "        dense_out = self.dropout_four(dense_out[:])\n",
    "        \n",
    "        dense_out = self.hidden2tag_three(dense_out[:])\n",
    "        dense_out = F.relu(dense_out[:])\n",
    "        dense_out = self.dropout_five(dense_out[:])\n",
    "        \n",
    "        tag_space = self.output(dense_out[:])\n",
    "        #print(tag_space.shape)\n",
    "        #tag_scores = F.sigmoid(tag_space)\n",
    "        #tag_scores = F.softmax(tag_space, dim=1)\n",
    "        #print(tag_scores.shape)\n",
    "        return tag_space\n"
   ]
  },
  {
   "cell_type": "code",
   "execution_count": 28,
   "metadata": {
    "collapsed": false
   },
   "outputs": [
    {
     "name": "stdout",
     "output_type": "stream",
     "text": [
      "LSTMTagger(\n",
      "  (word_embeddings): Embedding(5, 16)\n",
      "  (lstm_one): LSTM(16, 16, batch_first=True)\n",
      "  (dropout_one): Dropout(p=0.25)\n",
      "  (lstm_two): LSTM(16, 16, batch_first=True)\n",
      "  (dropout_two): Dropout(p=0.25)\n",
      "  (lstm_three): LSTM(16, 16, batch_first=True)\n",
      "  (dropout_ext): Dropout(p=0.25)\n",
      "  (hidden2tag_one): Linear(in_features=1616, out_features=512, bias=True)\n",
      "  (dropout_three): Dropout(p=0.25)\n",
      "  (hidden2tag_two): Linear(in_features=512, out_features=128, bias=True)\n",
      "  (dropout_four): Dropout(p=0.25)\n",
      "  (hidden2tag_three): Linear(in_features=128, out_features=64, bias=True)\n",
      "  (dropout_five): Dropout(p=0.25)\n",
      "  (output): Linear(in_features=64, out_features=1, bias=True)\n",
      ")\n"
     ]
    }
   ],
   "source": [
    "#batch_size=10\n",
    "model = LSTMTagger(101, 16, 16, 5, 1, batch_size)\n",
    "print(model)\n",
    "optimizer = optim.Adam(model.parameters(), lr=0.001)\n",
    "criterion = nn.BCEWithLogitsLoss()"
   ]
  },
  {
   "cell_type": "code",
   "execution_count": null,
   "metadata": {
    "collapsed": false,
    "scrolled": true
   },
   "outputs": [
    {
     "name": "stdout",
     "output_type": "stream",
     "text": [
      "\n"
     ]
    },
    {
     "name": "stderr",
     "output_type": "stream",
     "text": [
      "Exception in thread Thread-8:\n",
      "Traceback (most recent call last):\n",
      "  File \"/home/moamin/anaconda3/lib/python3.6/threading.py\", line 916, in _bootstrap_inner\n",
      "    self.run()\n",
      "  File \"/home/moamin/anaconda3/lib/python3.6/site-packages/tqdm/_tqdm.py\", line 144, in run\n",
      "    for instance in self.tqdm_cls._instances:\n",
      "  File \"/home/moamin/anaconda3/lib/python3.6/_weakrefset.py\", line 60, in __iter__\n",
      "    for itemref in self.data:\n",
      "RuntimeError: Set changed size during iteration\n",
      "\n"
     ]
    },
    {
     "name": "stdout",
     "output_type": "stream",
     "text": [
      "0 11.100687265396118\n"
     ]
    }
   ],
   "source": [
    "from tqdm import tqdm_notebook as tqdm\n",
    "losses = []\n",
    "accuracies = []\n",
    "\n",
    "num_epochs = 100\n",
    "for epoch in tqdm(range(num_epochs)):  # again, normally you would NOT do 300 epochs, it is toy data\n",
    "    total_loss = 0\n",
    "    total_acc = 0\n",
    "    \n",
    "    for index in range(0, len(X), batch_size):\n",
    "        sentence = X[index : index+batch_size]\n",
    "        tags = Y[index : index+batch_size]\n",
    "        # Step 1. Remember that Pytorch accumulates gradients.\n",
    "        # We need to clear them out before each instance\n",
    "        model.zero_grad()\n",
    "\n",
    "        # Also, we need to clear out the hidden state of the LSTM,\n",
    "        # detaching it from its history on the last instance.\n",
    "        model.hidden = model.init_hidden()\n",
    "\n",
    "        # Step 2. Get our inputs ready for the network, that is, turn them into\n",
    "        # Tensors of word indices.\n",
    "        # sentence_in = prepare_sequence(sentence, word_to_ix)\n",
    "        #targets = prepare_sequence(tags, tag_to_ix)\n",
    "        targets = tags.float().flatten()\n",
    "\n",
    "        # Step 3. Run our forward pass.\n",
    "        tag_scores = model(sentence).flatten()\n",
    "        #print(targets.shape, tag_scores.shape)\n",
    "        \n",
    "\n",
    "        # Step 4. Compute the loss, gradients, and update the parameters by\n",
    "        #  calling optimizer.step()\n",
    "        loss = criterion(tag_scores, targets)\n",
    "        total_loss += loss.data.numpy()\n",
    "        \n",
    "        acc = binary_accuracy(tag_scores, targets)\n",
    "        total_acc += acc\n",
    "        \n",
    "        loss.backward()\n",
    "        optimizer.step()\n",
    "        \n",
    "    #total_loss.backward()\n",
    "    #opt.step()\n",
    "    print(epoch, total_loss)#, total_acc)\n",
    "        \n",
    "    losses.append(total_loss)\n",
    "    accuracies.append(total_acc/(len(X)/batch_size))\n",
    "    print(\"Epoch {}/{}, Loss: {:.3f}, Accuracy: {:.3f}\".format(epoch+1,num_epochs, losses[-1], accuracies[-1]))"
   ]
  },
  {
   "cell_type": "code",
   "execution_count": 31,
   "metadata": {
    "collapsed": false
   },
   "outputs": [
    {
     "data": {
      "text/plain": [
       "[<matplotlib.lines.Line2D at 0x7f65a6a41dd8>]"
      ]
     },
     "execution_count": 31,
     "metadata": {},
     "output_type": "execute_result"
    },
    {
     "data": {
      "image/png": "[encoded data removed]",
      "text/plain": [
       "<matplotlib.figure.Figure at 0x7f65a6bda278>"
      ]
     },
     "metadata": {},
     "output_type": "display_data"
    }
   ],
   "source": [
    "plt.title(\"Loss\")\n",
    "plt.plot(losses)\n",
    "#plt.title(\"Accuracies\")\n",
    "#plt.plot(accuracies)"
   ]
  },
  {
   "cell_type": "code",
   "execution_count": 18,
   "metadata": {
    "collapsed": false
   },
   "outputs": [
    {
     "data": {
      "text/plain": [
       "[<matplotlib.lines.Line2D at 0x7f65ad847128>]"
      ]
     },
     "execution_count": 18,
     "metadata": {},
     "output_type": "execute_result"
    },
    {
     "data": {
      "image/png": "[encoded data removed]",
      "text/plain": [
       "<matplotlib.figure.Figure at 0x7f65b5033fd0>"
      ]
     },
     "metadata": {},
     "output_type": "display_data"
    }
   ],
   "source": [
    "plt.title(\"Loss\")\n",
    "plt.plot(losses)\n",
    "#plt.title(\"Accuracies\")\n",
    "#plt.plot(accuracies)"
   ]
  },
  {
   "cell_type": "code",
   "execution_count": 32,
   "metadata": {
    "collapsed": false,
    "scrolled": true
   },
   "outputs": [
    {
     "data": {
      "text/plain": [
       "[11.100687265396118,\n",
       " 11.095890700817108,\n",
       " 10.96497768163681,\n",
       " 9.668683111667633,\n",
       " 8.149406015872955,\n",
       " 7.236953169107437,\n",
       " 6.610208809375763,\n",
       " 5.981498092412949,\n",
       " 5.231552541255951,\n",
       " 4.60196316242218,\n",
       " 4.170289516448975,\n",
       " 4.012968719005585,\n",
       " 3.7484533488750458,\n",
       " 3.5157000720500946,\n",
       " 3.3427623957395554,\n",
       " 3.1321596652269363,\n",
       " 2.9427405446767807,\n",
       " 2.750689595937729,\n",
       " 2.5547225922346115,\n",
       " 2.4243712425231934,\n",
       " 2.3002425730228424,\n",
       " 2.15893068164587,\n",
       " 1.911567136645317,\n",
       " 1.8634995371103287,\n",
       " 1.7210814356803894,\n",
       " 1.655352622270584,\n",
       " 1.465872310101986,\n",
       " 1.3951639011502266,\n",
       " 1.2576934322714806,\n",
       " 1.1325387135148048,\n",
       " 1.0862048268318176,\n",
       " 1.0873188860714436,\n",
       " 0.9818375296890736,\n",
       " 0.9005854316055775,\n",
       " 0.8616155833005905,\n",
       " 0.8575032353401184,\n",
       " 0.7270991429686546,\n",
       " 0.7134395875036716,\n",
       " 0.7612649835646152,\n",
       " 0.6367644388228655,\n",
       " 0.6397175397723913,\n",
       " 0.5643814895302057,\n",
       " 0.5867228917777538,\n",
       " 0.5334191713482141,\n",
       " 0.6043227463960648,\n",
       " 0.40233638789504766,\n",
       " 0.5211794339120388,\n",
       " 0.5766727589070797,\n",
       " 0.5066723600029945,\n",
       " 0.5141095276921988,\n",
       " 0.5431314650923014,\n",
       " 0.5182639081031084,\n",
       " 0.5901963878422976,\n",
       " 0.5515661798417568,\n",
       " 0.5253863772377372,\n",
       " 0.44929538667201996,\n",
       " 0.4484946811571717,\n",
       " 0.39792367815971375,\n",
       " 0.403668412938714,\n",
       " 0.36341946944594383,\n",
       " 0.31223072903230786,\n",
       " 0.24540245719254017,\n",
       " 0.2912184055894613,\n",
       " 0.2937344005331397,\n",
       " 0.25826069340109825,\n",
       " 0.29652621503919363,\n",
       " 0.23518779361620545,\n",
       " 0.22863990906625986,\n",
       " 0.2533846781589091,\n",
       " 0.19480147026479244,\n",
       " 0.2851592283695936,\n",
       " 0.2296266625635326,\n",
       " 0.19619964202865958,\n",
       " 0.24407319445163012,\n",
       " 0.21473674243316054,\n",
       " 0.1778474496677518,\n",
       " 0.1963276593014598,\n",
       " 0.24773623887449503,\n",
       " 0.2316081910394132,\n",
       " 0.20583082735538483,\n",
       " 0.20694011682644486,\n",
       " 0.18886627350002527,\n",
       " 0.21423258213326335,\n",
       " 0.18100045481696725,\n",
       " 0.20694596599787474,\n",
       " 0.2071357574313879,\n",
       " 0.1685829854104668,\n",
       " 0.18430912867188454,\n",
       " 0.15550547745078802,\n",
       " 0.17693157540634274,\n",
       " 0.16142364079132676,\n",
       " 0.19337830180302262,\n",
       " 0.1927032694220543,\n",
       " 0.17420092271640897,\n",
       " 0.17398912087082863,\n",
       " 0.15968569088727236,\n",
       " 0.1376387793570757,\n",
       " 0.1570693973917514,\n",
       " 0.12764013605192304,\n",
       " 0.13792432425543666]"
      ]
     },
     "execution_count": 32,
     "metadata": {},
     "output_type": "execute_result"
    }
   ],
   "source": [
    "losses"
   ]
  },
  {
   "cell_type": "markdown",
   "metadata": {
    "collapsed": true
   },
   "source": [
    "# Keras Implementation"
   ]
  },
  {
   "cell_type": "code",
   "execution_count": 19,
   "metadata": {
    "collapsed": false
   },
   "outputs": [
    {
     "name": "stderr",
     "output_type": "stream",
     "text": [
      "Using TensorFlow backend.\n"
     ]
    }
   ],
   "source": [
    "import os, sys\n",
    "import random, h5py\n",
    "import numpy as np\n",
    "import keras\n",
    "from keras.models import Sequential\n",
    "from keras.layers import Embedding\n",
    "from keras.layers import Dense\n",
    "from keras.layers.recurrent import LSTM\n",
    "from keras.layers import Dropout\n",
    "from keras.layers import Activation\n",
    "from keras.optimizers import SGD\n",
    "\n",
    "#Initialize the Program\n",
    "alphabet = \"NACGT.\"\n",
    "vocab_size = 6\n",
    "embedding_size = 16\n",
    "time_steps = 101\n",
    "category = 2\n",
    "char_to_int = dict((c, i) for i, c in enumerate(alphabet))\n",
    "int_to_char = dict((i, c) for i, c in enumerate(alphabet))\n"
   ]
  },
  {
   "cell_type": "code",
   "execution_count": 20,
   "metadata": {
    "collapsed": false
   },
   "outputs": [
    {
     "name": "stdout",
     "output_type": "stream",
     "text": [
      "10000 5000\n"
     ]
    }
   ],
   "source": [
    "data_content = pos_data[:data_size] + neg_data[:data_size]\n",
    "data_label = pos_label[:data_size] + neg_label[:data_size] \n",
    "print(len(data_content), np.sum(data_label))"
   ]
  },
  {
   "cell_type": "code",
   "execution_count": 21,
   "metadata": {
    "collapsed": false
   },
   "outputs": [
    {
     "name": "stdout",
     "output_type": "stream",
     "text": [
      "_________________________________________________________________\n",
      "Layer (type)                 Output Shape              Param #   \n",
      "=================================================================\n",
      "main_input (InputLayer)      (None, 101)               0         \n",
      "_________________________________________________________________\n",
      "embedding (Embedding)        (None, 101, 5)            30        \n",
      "_________________________________________________________________\n",
      "lstm_1 (LSTM)                (None, 101, 16)           1408      \n",
      "_________________________________________________________________\n",
      "dropout_1 (Dropout)          (None, 101, 16)           0         \n",
      "_________________________________________________________________\n",
      "lstm_2 (LSTM)                (None, 101, 16)           2112      \n",
      "_________________________________________________________________\n",
      "dropout_2 (Dropout)          (None, 101, 16)           0         \n",
      "_________________________________________________________________\n",
      "reshape_1 (Reshape)          (None, 1616)              0         \n",
      "_________________________________________________________________\n",
      "fstlayer (Dense)             (None, 512)               827904    \n",
      "_________________________________________________________________\n",
      "dropout_3 (Dropout)          (None, 512)               0         \n",
      "_________________________________________________________________\n",
      "midlayer (Dense)             (None, 128)               65664     \n",
      "_________________________________________________________________\n",
      "dropout_4 (Dropout)          (None, 128)               0         \n",
      "_________________________________________________________________\n",
      "finlayer (Dense)             (None, 64)                8256      \n",
      "_________________________________________________________________\n",
      "dropout_5 (Dropout)          (None, 64)                0         \n",
      "_________________________________________________________________\n",
      "output (Dense)               (None, 1)                 65        \n",
      "=================================================================\n",
      "Total params: 905,439\n",
      "Trainable params: 905,439\n",
      "Non-trainable params: 0\n",
      "_________________________________________________________________\n"
     ]
    }
   ],
   "source": [
    "from keras.layers import Input, Embedding\n",
    "from keras.layers import Reshape, Dense\n",
    "from keras.models import Model\n",
    "\n",
    "max_source_len = len(data_content[0])\n",
    "embedding_size = 5\n",
    "lstm_unit = 16\n",
    "\n",
    "input_source = Input(shape=(max_source_len,), \\\n",
    "                     dtype='int32', name='main_input')\n",
    "embedding = Embedding(input_dim=vocab_size, \\\n",
    "                      output_dim=embedding_size, \\\n",
    "                      input_length=max_source_len, \\\n",
    "                      name='embedding')(input_source)\n",
    "\n",
    "lstm_layer = LSTM(lstm_unit, return_sequences=True)(embedding)\n",
    "lstm_layer = Dropout(0.25)(lstm_layer)\n",
    "lstm_layer = LSTM(lstm_unit, return_sequences=True)(lstm_layer)\n",
    "lstm_layer = Dropout(0.25)(lstm_layer)\n",
    "\n",
    "reshape_layer = Reshape((max_source_len*lstm_unit,))(lstm_layer)\n",
    "\n",
    "dense_layer_first = Dense(512, activation='relu', \\\n",
    "                        name='fstlayer')(reshape_layer)\n",
    "dense_layer_first = Dropout(0.25)(dense_layer_first)\n",
    "\n",
    "dense_layer_mid = Dense(128, activation='relu', \\\n",
    "                        name='midlayer')(dense_layer_first)\n",
    "dense_layer_mid = Dropout(0.25)(dense_layer_mid)\n",
    "\n",
    "dense_layer = Dense(64, activation='relu', \\\n",
    "                    name='finlayer')(dense_layer_mid)\n",
    "dense_layer = Dropout(0.25)(dense_layer)\n",
    "\n",
    "dense_output = Dense(1, activation='sigmoid', \\\n",
    "                     name='output')(dense_layer)\n",
    "\n",
    "model = Model(inputs=[input_source], outputs=[dense_output])\n",
    "model.compile(loss='binary_crossentropy',\n",
    "              optimizer='adam',\n",
    "              metrics=['accuracy'])\n",
    "\n",
    "model.summary()"
   ]
  },
  {
   "cell_type": "code",
   "execution_count": 22,
   "metadata": {
    "collapsed": false
   },
   "outputs": [
    {
     "name": "stdout",
     "output_type": "stream",
     "text": [
      "Train...\n",
      "Train on 8000 samples, validate on 2000 samples\n",
      "Epoch 1/10\n",
      " - 6s - loss: 0.6812 - acc: 0.5975 - val_loss: 1.0847 - val_acc: 0.0000e+00\n",
      "Epoch 2/10\n",
      " - 4s - loss: 0.6619 - acc: 0.6250 - val_loss: 0.9511 - val_acc: 0.0000e+00\n",
      "Epoch 3/10\n",
      " - 5s - loss: 0.6540 - acc: 0.6250 - val_loss: 0.9358 - val_acc: 0.0000e+00\n",
      "Epoch 4/10\n",
      " - 8s - loss: 0.6201 - acc: 0.6250 - val_loss: 0.9504 - val_acc: 0.0000e+00\n",
      "Epoch 5/10\n",
      " - 16s - loss: 0.5274 - acc: 0.6495 - val_loss: 1.1071 - val_acc: 0.5910\n",
      "Epoch 6/10\n",
      " - 11s - loss: 0.4708 - acc: 0.8007 - val_loss: 1.2556 - val_acc: 0.6575\n",
      "Epoch 7/10\n",
      " - 4s - loss: 0.4174 - acc: 0.8199 - val_loss: 1.2292 - val_acc: 0.5610\n",
      "Epoch 8/10\n",
      " - 4s - loss: 0.3759 - acc: 0.8341 - val_loss: 0.8218 - val_acc: 0.6830\n",
      "Epoch 9/10\n",
      " - 4s - loss: 0.3545 - acc: 0.8454 - val_loss: 0.8676 - val_acc: 0.6530\n",
      "Epoch 10/10\n",
      " - 4s - loss: 0.3355 - acc: 0.8582 - val_loss: 0.8335 - val_acc: 0.6675\n",
      "\n"
     ]
    }
   ],
   "source": [
    "from keras_tqdm import TQDMNotebookCallback\n",
    "print('Train...')\n",
    "\n",
    "history = model.fit(np.array(data_content), np.array(data_label), \\\n",
    "          validation_split=0.2, shuffle=True, \\\n",
    "          epochs=10, batch_size=batch_size, verbose=2, \\\n",
    "           callbacks=[TQDMNotebookCallback()])\n"
   ]
  },
  {
   "cell_type": "code",
   "execution_count": 23,
   "metadata": {
    "collapsed": false
   },
   "outputs": [
    {
     "name": "stdout",
     "output_type": "stream",
     "text": [
      "dict_keys(['val_loss', 'val_acc', 'loss', 'acc'])\n",
      "11 11\n"
     ]
    },
    {
     "data": {
      "image/png": "[encoded data removed]",
      "text/plain": [
       "<matplotlib.figure.Figure at 0x7f90919bd518>"
      ]
     },
     "metadata": {},
     "output_type": "display_data"
    }
   ],
   "source": [
    "import matplotlib.pyplot as plt\n",
    "# list all data in history\n",
    "print(history.history.keys())\n",
    "# summarize history for accuracy\n",
    "train = history.history['acc']\n",
    "valid = history.history['val_acc']\n",
    "\n",
    "x = [0.] + train[1:] + [train[-1]]\n",
    "y = [0.] + valid[:-1] + [valid[-1]]\n",
    "print(len(x), len(y))\n",
    "\n",
    "plt.figure(figsize=(8, 6))\n",
    "plt.plot(x)\n",
    "plt.plot(y)\n",
    "plt.title('model accuracy')\n",
    "plt.ylabel('accuracy')\n",
    "plt.xlabel('epoch')\n",
    "plt.legend(['Train', 'Test'], loc='lower right')\n",
    "plt.show()\n"
   ]
  },
  {
   "cell_type": "code",
   "execution_count": 25,
   "metadata": {
    "collapsed": false
   },
   "outputs": [
    {
     "name": "stdout",
     "output_type": "stream",
     "text": [
      "dict_keys(['val_loss', 'val_acc', 'loss', 'acc'])\n",
      "11 11\n"
     ]
    },
    {
     "data": {
      "image/png": "[encoded data removed]",
      "text/plain": [
       "<matplotlib.figure.Figure at 0x7f9039d0f1d0>"
      ]
     },
     "metadata": {},
     "output_type": "display_data"
    }
   ],
   "source": [
    "import matplotlib.pyplot as plt\n",
    "# list all data in history\n",
    "print(history.history.keys())\n",
    "# summarize history for accuracy\n",
    "train = history.history['loss']\n",
    "valid = history.history['val_loss']\n",
    "\n",
    "x = [0.] + train[1:] + [train[-1]]\n",
    "y = [0.] + valid[:-1] + [valid[-1]]\n",
    "print(len(x), len(y))\n",
    "\n",
    "plt.figure(figsize=(8, 6))\n",
    "plt.plot(train)\n",
    "plt.plot(valid)\n",
    "plt.title('model loss')\n",
    "plt.ylabel('loss')\n",
    "plt.xlabel('epoch')\n",
    "plt.legend(['Train', 'Test'], loc='lower right')\n",
    "plt.show()\n"
   ]
  },
  {
   "cell_type": "code",
   "execution_count": null,
   "metadata": {
    "collapsed": true
   },
   "outputs": [],
   "source": []
  },
  {
   "cell_type": "code",
   "execution_count": null,
   "metadata": {
    "collapsed": true
   },
   "outputs": [],
   "source": []
  }
 ],
 "metadata": {
  "kernelspec": {
   "display_name": "Python 3",
   "language": "python",
   "name": "python3"
  },
  "language_info": {
   "codemirror_mode": {
    "name": "ipython",
    "version": 3
   },
   "file_extension": ".py",
   "mimetype": "text/x-python",
   "name": "python",
   "nbconvert_exporter": "python",
   "pygments_lexer": "ipython3",
   "version": "3.6.0"
  }
 },
 "nbformat": 4,
 "nbformat_minor": 2
}
