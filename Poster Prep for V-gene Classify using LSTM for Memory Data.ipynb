{
 "cells": [
  {
   "cell_type": "code",
   "execution_count": 1,
   "metadata": {
    "collapsed": false
   },
   "outputs": [
    {
     "name": "stderr",
     "output_type": "stream",
     "text": [
      "Using TensorFlow backend.\n"
     ]
    }
   ],
   "source": [
    "import os, sys\n",
    "import random, h5py\n",
    "import numpy as np\n",
    "import keras\n",
    "from keras.models import Sequential\n",
    "from keras.layers import Embedding\n",
    "from keras.layers import Dense\n",
    "from keras.layers.recurrent import LSTM\n",
    "from keras.layers import Dropout\n",
    "from keras.layers import Activation\n",
    "from keras.optimizers import SGD\n",
    "\n",
    "#Initialize the Program\n",
    "alphabet = \"NACGT.\"\n",
    "vocab_size = 6\n",
    "batch_size = 1000\n",
    "embedding_size = 4\n",
    "time_steps = 101\n",
    "category = 2\n",
    "char_to_int = dict((c, i) for i, c in enumerate(alphabet))\n",
    "int_to_char = dict((i, c) for i, c in enumerate(alphabet))\n"
   ]
  },
  {
   "cell_type": "code",
   "execution_count": 2,
   "metadata": {
    "collapsed": true
   },
   "outputs": [],
   "source": [
    "def reverse_complement(sequence):\n",
    "    retseq = ''\n",
    "    for k in range(len(sequence)-1, -1, -1):\n",
    "        if sequence[k] == 'A':\n",
    "            retseq = retseq + 'T'\n",
    "        elif sequence[k] == 'T':\n",
    "            retseq = retseq + 'A'\n",
    "        elif sequence[k] == 'C':\n",
    "            retseq = retseq + 'G'\n",
    "        elif sequence[k] == 'G':\n",
    "            retseq = retseq + 'C'\n",
    "        else:\n",
    "            retseq = retseq + sequence[k]\n",
    "\n",
    "    \"\"\"\n",
    "    print(\"Revese:\")\n",
    "    print(sequence)\n",
    "    print(retseq)\n",
    "    print()\n",
    "    \"\"\"\n",
    "    return retseq\n"
   ]
  },
  {
   "cell_type": "code",
   "execution_count": 3,
   "metadata": {
    "collapsed": false
   },
   "outputs": [
    {
     "name": "stdout",
     "output_type": "stream",
     "text": [
      "(288774,) 526\n",
      "(288774,) 63\n"
     ]
    }
   ],
   "source": [
    "file_read = open(\"../imgtvgene_sequence_classification/mem.txt\")\n",
    "\n",
    "source_sequence = []\n",
    "max_count = 300000\n",
    "max_source_len = 0\n",
    "\n",
    "vgene_tag = []\n",
    "vgene_dic = {}\n",
    "vgenes = 0\n",
    "\n",
    "count = 0\n",
    "\n",
    "line = file_read.readline()\n",
    "for line in file_read:\n",
    "    split = line.strip().split(\" \")\n",
    "    #print(split)\n",
    "    \n",
    "    source = [char_to_int[x] for x in split[2][1:-1]]\n",
    "    source_sequence.append(source)\n",
    "    if max_source_len < len(source):\n",
    "        max_source_len = len(source)\n",
    "    \n",
    "    vgene_name = split[-1][1:-1].split(\"*\")[0]\n",
    "    if not vgene_name in vgene_dic:\n",
    "        vgene_dic[vgene_name] = vgenes\n",
    "        vgenes += 1\n",
    "    vgene_tag.append(vgene_dic[vgene_name])\n",
    "    \n",
    "    count += 1\n",
    "    #print(split[1], vgene_name)\n",
    "    if count == max_count:\n",
    "        break\n",
    "    \n",
    "source_sequence = np.array(source_sequence)\n",
    "vgene_tag = np.array(vgene_tag)\n",
    "\n",
    "print(source_sequence.shape, max_source_len)\n",
    "print(vgene_tag.shape, vgenes)\n"
   ]
  },
  {
   "cell_type": "code",
   "execution_count": 4,
   "metadata": {
    "collapsed": false
   },
   "outputs": [
    {
     "name": "stdout",
     "output_type": "stream",
     "text": [
      "train, eval, test =  (231019, 288773, 346527)\n",
      "(231019, 526) (231019, 63)\n",
      "(57754, 526) (57754, 63)\n",
      "(1, 526) (1, 63)\n"
     ]
    }
   ],
   "source": [
    "from keras.utils import to_categorical\n",
    "from keras.preprocessing.sequence import pad_sequences\n",
    "\n",
    "x_data = pad_sequences(source_sequence, maxlen=max_source_len, value=0)\n",
    "y_data = to_categorical(vgene_tag)\n",
    "\n",
    "train_index = int((len(x_data) / batch_size) * 0.80 * batch_size)\n",
    "eval_index = train_index + int((len(x_data) / batch_size) * 0.20 * batch_size)\n",
    "test_index = eval_index + int((len(x_data) / batch_size) * 0.20 * batch_size)\n",
    "print(\"train, eval, test = \", (train_index, eval_index, test_index))\n",
    "\n",
    "x_train = x_data[0:train_index]\n",
    "y_train = y_data[0:train_index]\n",
    "\n",
    "x_eval = x_data[train_index:eval_index]\n",
    "y_eval = y_data[train_index:eval_index]\n",
    "\n",
    "x_test = x_data[eval_index:test_index]\n",
    "y_test = y_data[eval_index:test_index]\n",
    "\n",
    "print(x_train.shape, y_train.shape)\n",
    "print(x_eval.shape, y_eval.shape)\n",
    "print(x_test.shape, y_test.shape)"
   ]
  },
  {
   "cell_type": "markdown",
   "metadata": {},
   "source": [
    "# Deep Network with LSTM Layer"
   ]
  },
  {
   "cell_type": "code",
   "execution_count": 13,
   "metadata": {
    "collapsed": false
   },
   "outputs": [
    {
     "name": "stdout",
     "output_type": "stream",
     "text": [
      "_________________________________________________________________\n",
      "Layer (type)                 Output Shape              Param #   \n",
      "=================================================================\n",
      "main_input (InputLayer)      (None, 526)               0         \n",
      "_________________________________________________________________\n",
      "embedding (Embedding)        (None, 526, 5)            30        \n",
      "_________________________________________________________________\n",
      "lstm_9 (LSTM)                (None, 526, 16)           1408      \n",
      "_________________________________________________________________\n",
      "dropout_21 (Dropout)         (None, 526, 16)           0         \n",
      "_________________________________________________________________\n",
      "lstm_10 (LSTM)               (None, 526, 16)           2112      \n",
      "_________________________________________________________________\n",
      "dropout_22 (Dropout)         (None, 526, 16)           0         \n",
      "_________________________________________________________________\n",
      "reshape_5 (Reshape)          (None, 8416)              0         \n",
      "_________________________________________________________________\n",
      "fstlayer (Dense)             (None, 512)               4309504   \n",
      "_________________________________________________________________\n",
      "dropout_23 (Dropout)         (None, 512)               0         \n",
      "_________________________________________________________________\n",
      "midlayer (Dense)             (None, 128)               65664     \n",
      "_________________________________________________________________\n",
      "dropout_24 (Dropout)         (None, 128)               0         \n",
      "_________________________________________________________________\n",
      "finlayer (Dense)             (None, 64)                8256      \n",
      "_________________________________________________________________\n",
      "dropout_25 (Dropout)         (None, 64)                0         \n",
      "_________________________________________________________________\n",
      "output (Dense)               (None, 63)                4095      \n",
      "=================================================================\n",
      "Total params: 4,391,069\n",
      "Trainable params: 4,391,069\n",
      "Non-trainable params: 0\n",
      "_________________________________________________________________\n"
     ]
    }
   ],
   "source": [
    "from keras.layers import Input, Embedding\n",
    "from keras.layers import Reshape, Dense\n",
    "from keras.models import Model\n",
    "\n",
    "embedding_size = 5\n",
    "lstm_unit = 16\n",
    "\n",
    "input_source = Input(shape=(max_source_len,), \\\n",
    "                     dtype='int32', name='main_input')\n",
    "embedding = Embedding(input_dim=vocab_size, \\\n",
    "                      output_dim=embedding_size, \\\n",
    "                      input_length=max_source_len, \\\n",
    "                      name='embedding')(input_source)\n",
    "\n",
    "lstm_layer = LSTM(lstm_unit, return_sequences=True)(embedding)\n",
    "lstm_layer = Dropout(0.25)(lstm_layer)\n",
    "lstm_layer = LSTM(lstm_unit, return_sequences=True)(lstm_layer)\n",
    "lstm_layer = Dropout(0.25)(lstm_layer)\n",
    "\n",
    "reshape_layer = Reshape((max_source_len*lstm_unit,))(lstm_layer)\n",
    "\n",
    "dense_layer_first = Dense(512, activation='relu', \\\n",
    "                        name='fstlayer')(reshape_layer)\n",
    "dense_layer_first = Dropout(0.25)(dense_layer_first)\n",
    "\n",
    "dense_layer_mid = Dense(128, activation='relu', \\\n",
    "                        name='midlayer')(dense_layer_first)\n",
    "dense_layer_mid = Dropout(0.25)(dense_layer_mid)\n",
    "\n",
    "dense_layer = Dense(64, activation='relu', \\\n",
    "                    name='finlayer')(dense_layer_mid)\n",
    "dense_layer = Dropout(0.25)(dense_layer)\n",
    "\n",
    "dense_output = Dense(vgenes, activation='softmax', \\\n",
    "                     name='output')(dense_layer)\n",
    "\n",
    "model = Model(inputs=[input_source], outputs=[dense_output])\n",
    "model.compile(loss='categorical_crossentropy',\n",
    "              optimizer='adam',\n",
    "              metrics=['accuracy'])\n",
    "\n",
    "model.summary()"
   ]
  },
  {
   "cell_type": "code",
   "execution_count": 14,
   "metadata": {
    "collapsed": false,
    "scrolled": true
   },
   "outputs": [
    {
     "name": "stdout",
     "output_type": "stream",
     "text": [
      "Train...\n",
      "\n",
      "Train on 231019 samples, validate on 57754 samples\n",
      "Epoch 1/50\n",
      " - 419s - loss: 2.5320 - acc: 0.3312 - val_loss: 0.8796 - val_acc: 0.7127\n",
      "Epoch 2/50\n",
      " - 694s - loss: 0.8172 - acc: 0.7460 - val_loss: 0.4420 - val_acc: 0.8413\n",
      "Epoch 3/50\n",
      " - 934s - loss: 0.5572 - acc: 0.8245 - val_loss: 0.3514 - val_acc: 0.8673\n",
      "Epoch 4/50\n",
      " - 1228s - loss: 0.4336 - acc: 0.8626 - val_loss: 0.2792 - val_acc: 0.8887\n",
      "Epoch 5/50\n",
      " - 1485s - loss: 0.3566 - acc: 0.8866 - val_loss: 0.2270 - val_acc: 0.9120\n",
      "Epoch 6/50\n",
      " - 734s - loss: 0.3129 - acc: 0.9004 - val_loss: 0.2229 - val_acc: 0.9115\n",
      "Epoch 7/50\n",
      " - 425s - loss: 0.2894 - acc: 0.9076 - val_loss: 0.2023 - val_acc: 0.9204\n",
      "Epoch 8/50\n",
      " - 435s - loss: 0.2651 - acc: 0.9148 - val_loss: 0.1878 - val_acc: 0.9253\n",
      "Epoch 9/50\n",
      " - 427s - loss: 0.2374 - acc: 0.9239 - val_loss: 0.1615 - val_acc: 0.9380\n",
      "Epoch 10/50\n",
      " - 422s - loss: 0.2231 - acc: 0.9285 - val_loss: 0.1564 - val_acc: 0.9404\n",
      "Epoch 11/50\n",
      " - 418s - loss: 0.2057 - acc: 0.9339 - val_loss: 0.1561 - val_acc: 0.9403\n",
      "Epoch 12/50\n",
      " - 436s - loss: 0.2006 - acc: 0.9363 - val_loss: 0.1467 - val_acc: 0.9442\n",
      "Epoch 13/50\n",
      " - 443s - loss: 0.1873 - acc: 0.9394 - val_loss: 0.1414 - val_acc: 0.9444\n",
      "Epoch 14/50\n",
      " - 891s - loss: 0.1831 - acc: 0.9412 - val_loss: 0.1469 - val_acc: 0.9429\n",
      "Epoch 15/50\n",
      " - 887s - loss: 0.1752 - acc: 0.9440 - val_loss: 0.1420 - val_acc: 0.9436\n",
      "Epoch 16/50\n",
      " - 907s - loss: 0.1655 - acc: 0.9465 - val_loss: 0.1345 - val_acc: 0.9495\n",
      "Epoch 17/50\n",
      " - 809s - loss: 0.1627 - acc: 0.9469 - val_loss: 0.1334 - val_acc: 0.9491\n",
      "Epoch 18/50\n",
      " - 816s - loss: 0.1509 - acc: 0.9508 - val_loss: 0.1267 - val_acc: 0.9501\n",
      "Epoch 19/50\n",
      " - 808s - loss: 0.1474 - acc: 0.9523 - val_loss: 0.1227 - val_acc: 0.9563\n",
      "Epoch 20/50\n",
      " - 820s - loss: 0.1426 - acc: 0.9531 - val_loss: 0.1220 - val_acc: 0.9516\n",
      "Epoch 21/50\n",
      " - 753s - loss: 0.1379 - acc: 0.9552 - val_loss: 0.1161 - val_acc: 0.9588\n",
      "Epoch 22/50\n",
      " - 736s - loss: 0.1371 - acc: 0.9554 - val_loss: 0.1184 - val_acc: 0.9569\n",
      "Epoch 23/50\n",
      " - 754s - loss: 0.1269 - acc: 0.9585 - val_loss: 0.1112 - val_acc: 0.9620\n",
      "Epoch 24/50\n",
      " - 745s - loss: 0.1233 - acc: 0.9595 - val_loss: 0.1325 - val_acc: 0.9528\n",
      "Epoch 25/50\n",
      " - 739s - loss: 0.1213 - acc: 0.9602 - val_loss: 0.1047 - val_acc: 0.9646\n",
      "Epoch 26/50\n",
      " - 769s - loss: 0.1183 - acc: 0.9612 - val_loss: 0.1132 - val_acc: 0.9607\n",
      "Epoch 27/50\n",
      " - 852s - loss: 0.1122 - acc: 0.9631 - val_loss: 0.1060 - val_acc: 0.9636\n",
      "Epoch 28/50\n",
      " - 788s - loss: 0.1080 - acc: 0.9645 - val_loss: 0.1023 - val_acc: 0.9656\n",
      "Epoch 29/50\n",
      " - 733s - loss: 0.1049 - acc: 0.9652 - val_loss: 0.1013 - val_acc: 0.9662\n",
      "Epoch 30/50\n",
      " - 793s - loss: 0.1031 - acc: 0.9663 - val_loss: 0.0992 - val_acc: 0.9676\n",
      "Epoch 31/50\n",
      " - 940s - loss: 0.0998 - acc: 0.9668 - val_loss: 0.0962 - val_acc: 0.9679\n",
      "Epoch 32/50\n",
      " - 936s - loss: 0.0968 - acc: 0.9682 - val_loss: 0.0947 - val_acc: 0.9689\n",
      "Epoch 33/50\n",
      " - 4438s - loss: 0.0937 - acc: 0.9688 - val_loss: 0.0959 - val_acc: 0.9684\n",
      "Epoch 34/50\n",
      " - 3649s - loss: 0.0927 - acc: 0.9693 - val_loss: 0.0945 - val_acc: 0.9699\n",
      "Epoch 35/50\n",
      " - 3505s - loss: 0.0903 - acc: 0.9704 - val_loss: 0.0995 - val_acc: 0.9672\n",
      "Epoch 36/50\n",
      " - 3373s - loss: 0.0905 - acc: 0.9703 - val_loss: 0.0910 - val_acc: 0.9707\n",
      "Epoch 37/50\n",
      " - 3318s - loss: 0.0854 - acc: 0.9720 - val_loss: 0.0925 - val_acc: 0.9701\n",
      "Epoch 38/50\n",
      " - 3149s - loss: 0.0824 - acc: 0.9725 - val_loss: 0.0943 - val_acc: 0.9692\n",
      "Epoch 39/50\n",
      " - 3109s - loss: 0.0823 - acc: 0.9729 - val_loss: 0.0887 - val_acc: 0.9710\n",
      "Epoch 40/50\n",
      " - 3118s - loss: 0.0800 - acc: 0.9734 - val_loss: 0.0957 - val_acc: 0.9698\n",
      "Epoch 41/50\n",
      " - 3094s - loss: 0.0797 - acc: 0.9736 - val_loss: 0.0918 - val_acc: 0.9712\n",
      "Epoch 42/50\n",
      " - 3132s - loss: 0.0787 - acc: 0.9740 - val_loss: 0.0945 - val_acc: 0.9701\n",
      "Epoch 43/50\n",
      " - 3116s - loss: 0.0758 - acc: 0.9747 - val_loss: 0.0891 - val_acc: 0.9718\n",
      "Epoch 44/50\n",
      " - 2930s - loss: 0.0733 - acc: 0.9758 - val_loss: 0.0934 - val_acc: 0.9701\n",
      "Epoch 45/50\n",
      " - 2765s - loss: 0.0731 - acc: 0.9761 - val_loss: 0.0871 - val_acc: 0.9723\n",
      "Epoch 46/50\n",
      " - 2750s - loss: 0.0721 - acc: 0.9763 - val_loss: 0.0869 - val_acc: 0.9732\n",
      "Epoch 47/50\n",
      " - 2631s - loss: 0.0678 - acc: 0.9775 - val_loss: 0.0908 - val_acc: 0.9725\n",
      "Epoch 48/50\n",
      " - 2679s - loss: 0.0681 - acc: 0.9773 - val_loss: 0.0928 - val_acc: 0.9718\n",
      "Epoch 49/50\n",
      " - 2734s - loss: 0.0660 - acc: 0.9782 - val_loss: 0.0938 - val_acc: 0.9720\n",
      "Epoch 50/50\n",
      " - 2584s - loss: 0.0691 - acc: 0.9773 - val_loss: 0.0867 - val_acc: 0.9742\n",
      "[1.0728841743912199e-06, 1.0]\n"
     ]
    }
   ],
   "source": [
    "from keras_tqdm import TQDMNotebookCallback\n",
    "print('Train...')\n",
    "\n",
    "history = model.fit(x_train, y_train, \\\n",
    "          validation_data=(x_eval, y_eval), \\\n",
    "          epochs=50, shuffle=True, batch_size=1000, \\\n",
    "           callbacks=[TQDMNotebookCallback()], verbose=2)\n",
    "score = model.evaluate(x_test, y_test, \\\n",
    "                       batch_size=1000, verbose=2)\n",
    "print(score)"
   ]
  },
  {
   "cell_type": "code",
   "execution_count": 15,
   "metadata": {
    "collapsed": false
   },
   "outputs": [
    {
     "name": "stdout",
     "output_type": "stream",
     "text": [
      "dict_keys(['val_loss', 'val_acc', 'loss', 'acc'])\n",
      "51 51\n"
     ]
    },
    {
     "data": {
      "image/png": "[encoded data removed]",
      "text/plain": [
       "<matplotlib.figure.Figure at 0x7fd599d8d0b8>"
      ]
     },
     "metadata": {},
     "output_type": "display_data"
    }
   ],
   "source": [
    "import matplotlib.pyplot as plt\n",
    "# list all data in history\n",
    "print(history.history.keys())\n",
    "# summarize history for accuracy\n",
    "train = history.history['acc']\n",
    "valid = history.history['val_acc']\n",
    "\n",
    "x = [0.] + train[1:] + [train[-1]]\n",
    "y = [0.] + valid[:-1] + [valid[-1]]\n",
    "print(len(x), len(y))\n",
    "\n",
    "plt.figure(figsize=(8, 6))\n",
    "plt.plot(x)\n",
    "plt.plot(y)\n",
    "plt.title('model accuracy')\n",
    "plt.ylabel('accuracy')\n",
    "plt.xlabel('epoch')\n",
    "plt.legend(['Train', 'Test'], loc='lower right')\n",
    "plt.show()\n"
   ]
  },
  {
   "cell_type": "code",
   "execution_count": null,
   "metadata": {
    "collapsed": true
   },
   "outputs": [],
   "source": []
  }
 ],
 "metadata": {
  "kernelspec": {
   "display_name": "Python 3",
   "language": "python",
   "name": "python3"
  },
  "language_info": {
   "codemirror_mode": {
    "name": "ipython",
    "version": 3
   },
   "file_extension": ".py",
   "mimetype": "text/x-python",
   "name": "python",
   "nbconvert_exporter": "python",
   "pygments_lexer": "ipython3",
   "version": "3.6.0"
  },
  "widgets": {
   "state": {
    "451702fa00274f7888d097e2675754a4": {
     "views": [
      {
       "cell_index": 7
      }
     ]
    },
    "8b57fdeb30a94494ae2e5be37fef362e": {
     "views": [
      {
       "cell_index": 7
      }
     ]
    },
    "ec4a4cd67b2c4fbb83de5dac871d0599": {
     "views": [
      {
       "cell_index": 7
      }
     ]
    }
   },
   "version": "1.2.0"
  }
 },
 "nbformat": 4,
 "nbformat_minor": 2
}
