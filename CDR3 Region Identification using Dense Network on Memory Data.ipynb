{
 "cells": [
  {
   "cell_type": "code",
   "execution_count": 1,
   "metadata": {
    "collapsed": false
   },
   "outputs": [
    {
     "name": "stderr",
     "output_type": "stream",
     "text": [
      "Using TensorFlow backend.\n"
     ]
    }
   ],
   "source": [
    "import os, sys\n",
    "import random, h5py\n",
    "import numpy as np\n",
    "import keras\n",
    "from keras.models import Sequential\n",
    "from keras.layers import Embedding\n",
    "from keras.layers import Dense\n",
    "from keras.layers import Dropout\n",
    "from keras.layers import Activation\n",
    "from keras.optimizers import SGD\n",
    "\n",
    "#Initialize the Program\n",
    "alphabet = \"NACGT.\"\n",
    "vocab_size = 6\n",
    "batch_size = 1000\n",
    "embedding_size = 5\n",
    "time_steps = 101\n",
    "category = 2\n",
    "\n",
    "char_to_int = dict((c, i) for i, c in enumerate(alphabet))\n",
    "int_to_char = dict((i, c) for i, c in enumerate(alphabet))\n"
   ]
  },
  {
   "cell_type": "code",
   "execution_count": 2,
   "metadata": {
    "collapsed": true
   },
   "outputs": [],
   "source": [
    "def reverse_complement(sequence):\n",
    "    retseq = ''\n",
    "    for k in range(len(sequence)-1, -1, -1):\n",
    "        if sequence[k] == 'A':\n",
    "            retseq = retseq + 'T'\n",
    "        elif sequence[k] == 'T':\n",
    "            retseq = retseq + 'A'\n",
    "        elif sequence[k] == 'C':\n",
    "            retseq = retseq + 'G'\n",
    "        elif sequence[k] == 'G':\n",
    "            retseq = retseq + 'C'\n",
    "        else:\n",
    "            retseq = retseq + sequence[k]\n",
    "\n",
    "    \"\"\"\n",
    "    print(\"Revese:\")\n",
    "    print(sequence)\n",
    "    print(retseq)\n",
    "    print()\n",
    "    \"\"\"\n",
    "    return retseq\n"
   ]
  },
  {
   "cell_type": "code",
   "execution_count": 3,
   "metadata": {
    "collapsed": false
   },
   "outputs": [
    {
     "name": "stdout",
     "output_type": "stream",
     "text": [
      "(100000,) (100000,)\n",
      "526 201\n",
      "\n",
      "(100000,) (100000,)\n",
      "73112 7\n"
     ]
    }
   ],
   "source": [
    "file_read = open(\"../imgtvgene_sequence_classification/mem.txt\")\n",
    "\n",
    "given_sequence = []\n",
    "given_cdr3 = []\n",
    "\n",
    "source_sequence = []\n",
    "target_sequence = []\n",
    "\n",
    "cluster_tag = []\n",
    "cluster_dic = {}\n",
    "classes = 0\n",
    "\n",
    "vgene_tag = []\n",
    "vgene_dic = {}\n",
    "vgenes = 0\n",
    "\n",
    "count = 0\n",
    "max_count = 100000\n",
    "\n",
    "max_source = 0\n",
    "max_target = 0\n",
    "\n",
    "line = file_read.readline()\n",
    "for line in file_read:\n",
    "    split = line.strip().split(\" \")\n",
    "    #print(split)\n",
    "    \n",
    "    given_sequence.append(split[2][1:-1])\n",
    "    given_cdr3.append(split[-2][1:-1])\n",
    "    \n",
    "    if not split[1] in cluster_dic:\n",
    "        classes += 1\n",
    "        cluster_dic[split[1]] = classes\n",
    "    cluster_tag.append(split[1])\n",
    "    \n",
    "    source = [char_to_int[x] for x in split[2][1:-1]]\n",
    "    source_sequence.append(source)\n",
    "    if max_source < len(source):\n",
    "        max_source = len(source)\n",
    "    \n",
    "    target = [char_to_int[x] for x in split[-2][1:-1]]\n",
    "    target_sequence.append(target)\n",
    "    if max_target < len(target):\n",
    "        max_target = len(target)\n",
    "    \n",
    "    vgene_name = split[-1][1:-1].split(\"-\")[0]\n",
    "    if not vgene_name in vgene_dic:\n",
    "        vgene_dic[vgene_name] = vgenes\n",
    "        vgenes += 1\n",
    "    vgene_tag.append(vgene_dic[vgene_name])\n",
    "    \n",
    "    count += 1\n",
    "    \n",
    "    #print(split[1], vgene_name)\n",
    "    if count == max_count:\n",
    "        break\n",
    "    \n",
    "source_sequence = np.array(source_sequence)\n",
    "target_sequence = np.array(target_sequence)\n",
    "\n",
    "cluster_tag = np.array(cluster_tag)\n",
    "vgene_tag = np.array(vgene_tag)\n",
    "\n",
    "print(source_sequence.shape, target_sequence.shape)\n",
    "print(max_source, max_target)\n",
    "print()\n",
    "print(cluster_tag.shape, vgene_tag.shape)\n",
    "print(classes, vgenes)\n"
   ]
  },
  {
   "cell_type": "markdown",
   "metadata": {},
   "source": [
    "# CDR3 Region Identifcation"
   ]
  },
  {
   "cell_type": "code",
   "execution_count": 4,
   "metadata": {
    "collapsed": false
   },
   "outputs": [],
   "source": [
    "x_data = []\n",
    "y_data = []\n",
    "seq_length = 20\n",
    "for k in range(max_count):\n",
    "    st_ind = given_sequence[k].find(given_cdr3[k])\n",
    "    for i in range(st_ind, st_ind+len(given_cdr3[k])):\n",
    "    \n",
    "        #random_ind = np.random.randint(low=0, high=st_ind-10, size=None)\n",
    "        #while True:\n",
    "        random_ind = np.random.randint(low=0, \\\n",
    "                                       high=len(given_sequence[k]), \\\n",
    "                                       size=None)\n",
    "\n",
    "        if not (random_ind < st_ind or \\\n",
    "                random_ind >= st_ind+len(given_cdr3[k])):\n",
    "                continue\n",
    "\n",
    "        x_data.append(source_sequence[k][i-seq_length:i+seq_length])\n",
    "        y_data.append(1)\n",
    "        \n",
    "        x_data.append(source_sequence[k][random_ind:random_ind+2*seq_length])\n",
    "        y_data.append(0)\n",
    "    \n",
    "x_data = np.array(x_data)\n",
    "y_data = np.array(y_data)"
   ]
  },
  {
   "cell_type": "code",
   "execution_count": 5,
   "metadata": {
    "collapsed": false
   },
   "outputs": [
    {
     "name": "stdout",
     "output_type": "stream",
     "text": [
      "train, eval, test =  (4731314, 6308418, 7885522)\n",
      "(4731314, 40) (4731314,)\n",
      "(1577104, 40) (1577104,)\n",
      "(1577104, 40) (1577104,)\n"
     ]
    }
   ],
   "source": [
    "from keras.utils import to_categorical\n",
    "from keras.preprocessing.sequence import pad_sequences\n",
    "\n",
    "x_data = pad_sequences(x_data, maxlen=2*seq_length, value=0)\n",
    "\n",
    "train_index = int((len(x_data) / batch_size) * 0.60 * batch_size)\n",
    "eval_index = train_index + int((len(x_data) / batch_size) * 0.20 * batch_size)\n",
    "test_index = eval_index + int((len(x_data) / batch_size) * 0.20 * batch_size)\n",
    "print(\"train, eval, test = \", (train_index, eval_index, test_index))\n",
    "\n",
    "x_train = x_data[0:train_index]\n",
    "y_train = y_data[0:train_index]\n",
    "\n",
    "x_eval = x_data[train_index:eval_index]\n",
    "y_eval = y_data[train_index:eval_index]\n",
    "\n",
    "x_test = x_data[eval_index:test_index]\n",
    "y_test = y_data[eval_index:test_index]\n",
    "\n",
    "print(x_train.shape, y_train.shape)\n",
    "print(x_eval.shape, y_eval.shape)\n",
    "print(x_test.shape, y_test.shape)"
   ]
  },
  {
   "cell_type": "code",
   "execution_count": 6,
   "metadata": {
    "collapsed": false
   },
   "outputs": [
    {
     "name": "stdout",
     "output_type": "stream",
     "text": [
      "[1 2 1 2 1 3 2 2 1 2 1 4 1 4 4 1 2 4 3 4 3 2 1 4 3 3 3 3 3 4 2 4 3 4 2 2 2\n",
      " 1 3 4] 1\n",
      "[1 2 1 4 4 4 4 4 4 2 3 1 1 4 3 1 2 3 1 3 1 1 1 4 2 2 4 1 2 1 3 2 1 2 1 4 2\n",
      " 4 2 4] 0\n"
     ]
    }
   ],
   "source": [
    "print(x_train[0], y_train[0])\n",
    "print(x_train[1], y_train[1])"
   ]
  },
  {
   "cell_type": "code",
   "execution_count": 7,
   "metadata": {
    "collapsed": false
   },
   "outputs": [
    {
     "name": "stdout",
     "output_type": "stream",
     "text": [
      "_________________________________________________________________\n",
      "Layer (type)                 Output Shape              Param #   \n",
      "=================================================================\n",
      "main_input (InputLayer)      (None, 40)                0         \n",
      "_________________________________________________________________\n",
      "embedding (Embedding)        (None, 40, 5)             30        \n",
      "_________________________________________________________________\n",
      "reshape_1 (Reshape)          (None, 200)               0         \n",
      "_________________________________________________________________\n",
      "fstlayer (Dense)             (None, 64)                12864     \n",
      "_________________________________________________________________\n",
      "dropout_1 (Dropout)          (None, 64)                0         \n",
      "_________________________________________________________________\n",
      "midlayer (Dense)             (None, 32)                2080      \n",
      "_________________________________________________________________\n",
      "dropout_2 (Dropout)          (None, 32)                0         \n",
      "_________________________________________________________________\n",
      "finlayer (Dense)             (None, 16)                528       \n",
      "_________________________________________________________________\n",
      "dropout_3 (Dropout)          (None, 16)                0         \n",
      "_________________________________________________________________\n",
      "output (Dense)               (None, 1)                 17        \n",
      "=================================================================\n",
      "Total params: 15,519\n",
      "Trainable params: 15,519\n",
      "Non-trainable params: 0\n",
      "_________________________________________________________________\n"
     ]
    }
   ],
   "source": [
    "from keras.layers import Input, Embedding\n",
    "from keras.layers import Reshape, Dense\n",
    "from keras.models import Model\n",
    "\n",
    "input_source = Input(shape=(2*seq_length,), \\\n",
    "                     dtype='int32', name='main_input')\n",
    "embedding = Embedding(input_dim=vocab_size, \\\n",
    "                      output_dim=embedding_size, \\\n",
    "                      input_length=2*seq_length, \\\n",
    "                      name='embedding')(input_source)\n",
    "\n",
    "reshape_layer = Reshape((2*seq_length*embedding_size,))(embedding)\n",
    "\n",
    "dense_layer_first = Dense(64, activation='relu', \\\n",
    "                        name='fstlayer')(reshape_layer)\n",
    "dense_layer_first = Dropout(0.25)(dense_layer_first)\n",
    "\n",
    "dense_layer_mid = Dense(32, activation='relu', \\\n",
    "                        name='midlayer')(dense_layer_first)\n",
    "dense_layer_mid = Dropout(0.25)(dense_layer_mid)\n",
    "\n",
    "dense_layer = Dense(16, activation='relu', \\\n",
    "                    name='finlayer')(dense_layer_mid)\n",
    "dense_layer = Dropout(0.25)(dense_layer)\n",
    "\n",
    "dense_output = Dense(1, activation='sigmoid', \\\n",
    "                     name='output')(dense_layer)#reshape_layer\n",
    "\n",
    "model = Model(inputs=[input_source], outputs=[dense_output])\n",
    "model.compile(loss='binary_crossentropy',\n",
    "              optimizer='adam',\n",
    "              metrics=['accuracy'])\n",
    "\n",
    "model.summary()"
   ]
  },
  {
   "cell_type": "code",
   "execution_count": 8,
   "metadata": {
    "collapsed": false,
    "scrolled": true
   },
   "outputs": [
    {
     "name": "stdout",
     "output_type": "stream",
     "text": [
      "Train...\n",
      "Train on 4731314 samples, validate on 1577104 samples\n",
      "Epoch 1/20\n",
      " - 52s - loss: 0.2246 - acc: 0.9182 - val_loss: 0.1515 - val_acc: 0.9485\n",
      "Epoch 2/20\n",
      " - 54s - loss: 0.1818 - acc: 0.9376 - val_loss: 0.1462 - val_acc: 0.9506\n",
      "Epoch 3/20\n",
      " - 53s - loss: 0.1773 - acc: 0.9393 - val_loss: 0.1441 - val_acc: 0.9515\n",
      "Epoch 4/20\n",
      " - 54s - loss: 0.1754 - acc: 0.9400 - val_loss: 0.1431 - val_acc: 0.9518\n",
      "Epoch 5/20\n",
      " - 53s - loss: 0.1737 - acc: 0.9406 - val_loss: 0.1432 - val_acc: 0.9517\n",
      "Epoch 6/20\n",
      " - 54s - loss: 0.1730 - acc: 0.9409 - val_loss: 0.1426 - val_acc: 0.9517\n",
      "Epoch 7/20\n",
      " - 55s - loss: 0.1724 - acc: 0.9410 - val_loss: 0.1411 - val_acc: 0.9528\n",
      "Epoch 8/20\n",
      " - 55s - loss: 0.1719 - acc: 0.9413 - val_loss: 0.1411 - val_acc: 0.9527\n",
      "Epoch 9/20\n",
      " - 55s - loss: 0.1715 - acc: 0.9414 - val_loss: 0.1412 - val_acc: 0.9525\n",
      "Epoch 10/20\n",
      " - 54s - loss: 0.1712 - acc: 0.9414 - val_loss: 0.1407 - val_acc: 0.9526\n",
      "Epoch 11/20\n",
      " - 55s - loss: 0.1711 - acc: 0.9416 - val_loss: 0.1409 - val_acc: 0.9527\n",
      "Epoch 12/20\n",
      " - 54s - loss: 0.1706 - acc: 0.9419 - val_loss: 0.1414 - val_acc: 0.9522\n",
      "Epoch 13/20\n",
      " - 53s - loss: 0.1705 - acc: 0.9417 - val_loss: 0.1407 - val_acc: 0.9527\n",
      "Epoch 14/20\n",
      " - 54s - loss: 0.1703 - acc: 0.9419 - val_loss: 0.1397 - val_acc: 0.9530\n",
      "Epoch 15/20\n",
      " - 55s - loss: 0.1702 - acc: 0.9420 - val_loss: 0.1401 - val_acc: 0.9530\n",
      "Epoch 16/20\n",
      " - 54s - loss: 0.1700 - acc: 0.9420 - val_loss: 0.1401 - val_acc: 0.9528\n",
      "Epoch 17/20\n",
      " - 54s - loss: 0.1698 - acc: 0.9421 - val_loss: 0.1410 - val_acc: 0.9523\n",
      "Epoch 18/20\n",
      " - 54s - loss: 0.1695 - acc: 0.9421 - val_loss: 0.1400 - val_acc: 0.9530\n",
      "Epoch 19/20\n",
      " - 54s - loss: 0.1693 - acc: 0.9423 - val_loss: 0.1405 - val_acc: 0.9526\n",
      "Epoch 20/20\n",
      " - 55s - loss: 0.1689 - acc: 0.9423 - val_loss: 0.1400 - val_acc: 0.9530\n",
      "\n",
      "[0.1399700561531668, 0.952979638040405]\n"
     ]
    }
   ],
   "source": [
    "from keras_tqdm import TQDMNotebookCallback\n",
    "print('Train...')\n",
    "\n",
    "history = model.fit(x_train, y_train, \\\n",
    "          validation_data=(x_eval, y_eval), \\\n",
    "          epochs=20, shuffle=True, batch_size=1000, \\\n",
    "           callbacks=[TQDMNotebookCallback()], verbose=2)\n",
    "score = model.evaluate(x_test, y_test, \\\n",
    "                       batch_size=1000, verbose=2)\n",
    "print(score)"
   ]
  },
  {
   "cell_type": "code",
   "execution_count": 9,
   "metadata": {
    "collapsed": false
   },
   "outputs": [
    {
     "name": "stdout",
     "output_type": "stream",
     "text": [
      "dict_keys(['val_loss', 'val_acc', 'loss', 'acc'])\n"
     ]
    },
    {
     "data": {
      "image/png": "[encoded data removed]",
      "text/plain": [
       "<matplotlib.figure.Figure at 0x7f14fde88940>"
      ]
     },
     "metadata": {},
     "output_type": "display_data"
    },
    {
     "data": {
      "image/png": "[encoded data removed]",
      "text/plain": [
       "<matplotlib.figure.Figure at 0x7f14fa949d30>"
      ]
     },
     "metadata": {},
     "output_type": "display_data"
    }
   ],
   "source": [
    "import matplotlib.pyplot as plt\n",
    "# list all data in history\n",
    "print(history.history.keys())\n",
    "# summarize history for accuracy\n",
    "plt.plot(history.history['acc'])\n",
    "plt.plot(history.history['val_acc'])\n",
    "plt.title('model accuracy')\n",
    "plt.ylabel('accuracy')\n",
    "plt.xlabel('epoch')\n",
    "plt.legend(['train', 'eval'], loc='upper left')\n",
    "plt.show()\n",
    "# summarize history for loss\n",
    "plt.plot(history.history['loss'])\n",
    "plt.plot(history.history['val_loss'])\n",
    "plt.title('model loss')\n",
    "plt.ylabel('loss')\n",
    "plt.xlabel('epoch')\n",
    "plt.legend(['train', 'eval'], loc='upper left')\n",
    "plt.show()"
   ]
  },
  {
   "cell_type": "code",
   "execution_count": 10,
   "metadata": {
    "collapsed": false
   },
   "outputs": [
    {
     "name": "stdout",
     "output_type": "stream",
     "text": [
      "             precision    recall  f1-score   support\n",
      "\n",
      "          0       0.98      0.93      0.95   3942762\n",
      "          1       0.93      0.98      0.96   3942762\n",
      "\n",
      "avg / total       0.96      0.95      0.95   7885524\n",
      "\n",
      "Accuracy:  0.9543644785051697\n"
     ]
    }
   ],
   "source": [
    "from sklearn.metrics import confusion_matrix, classification_report\n",
    "\n",
    "y_predict = model.predict(x_data)\n",
    "print(classification_report(y_true=y_data, y_pred=np.round(y_predict)))\n",
    "result = [int(y_predict[i] >= 0.50) for i in range(len(y_predict))]\n",
    "#print(len(result), len(y_test))\n",
    "print(\"Accuracy: \", (1.0 * np.sum(np.equal(result, y_data)) / len(y_data)))"
   ]
  },
  {
   "cell_type": "code",
   "execution_count": 11,
   "metadata": {
    "collapsed": false
   },
   "outputs": [
    {
     "data": {
      "image/png": "[encoded data removed]",
      "text/plain": [
       "<matplotlib.figure.Figure at 0x7f1500132438>"
      ]
     },
     "metadata": {},
     "output_type": "display_data"
    }
   ],
   "source": [
    "import matplotlib.pyplot as plt\n",
    "plt.hist(y_predict)\n",
    "plt.show()"
   ]
  },
  {
   "cell_type": "code",
   "execution_count": null,
   "metadata": {
    "collapsed": true
   },
   "outputs": [],
   "source": []
  }
 ],
 "metadata": {
  "kernelspec": {
   "display_name": "Python 3",
   "language": "python",
   "name": "python3"
  },
  "language_info": {
   "codemirror_mode": {
    "name": "ipython",
    "version": 3
   },
   "file_extension": ".py",
   "mimetype": "text/x-python",
   "name": "python",
   "nbconvert_exporter": "python",
   "pygments_lexer": "ipython3",
   "version": "3.6.0"
  }
 },
 "nbformat": 4,
 "nbformat_minor": 2
}
